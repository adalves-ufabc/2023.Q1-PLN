{
  "nbformat": 4,
  "nbformat_minor": 0,
  "metadata": {
    "colab": {
      "provenance": [],
      "authorship_tag": "ABX9TyOabiLT5KtrIty1xF8ncV2V",
      "include_colab_link": true
    },
    "kernelspec": {
      "name": "python3",
      "display_name": "Python 3"
    }
  },
  "cells": [
    {
      "cell_type": "markdown",
      "metadata": {
        "id": "view-in-github",
        "colab_type": "text"
      },
      "source": [
        "<a href=\"https://colab.research.google.com/github/adalves-ufabc/2023.Q1-PLN/blob/main/2023_Q1_PLN_Notebook_12.ipynb\" target=\"_parent\"><img src=\"https://colab.research.google.com/assets/colab-badge.svg\" alt=\"Open In Colab\"/></a>"
      ]
    },
    {
      "cell_type": "markdown",
      "metadata": {
        "id": "Y6QILOdpOjwv"
      },
      "source": [
        "# **Processamento de Linguagem Natural [2023.Q1]**\n",
        "Prof. Alexandre Donizeti Alves"
      ]
    },
    {
      "cell_type": "markdown",
      "metadata": {
        "id": "nmK05FgcOzL2"
      },
      "source": [
        "## **Reconhecimento de Entidades Nomeadas**\n",
        "---\n",
        "\n"
      ]
    },
    {
      "cell_type": "markdown",
      "source": [
        "**Reconhecimento de Entidades Nomeadas** (*Named Entity Recognition* - `NER`) é uma técnica de PLN que consiste em identificar e extrair informações de entidades nomeadas em um texto. Entidades nomeadas são palavras ou frases que se referem a objetos específicos do mundo real, como pessoas, locais, organizações, datas, números, entre outros.\n",
        "\n",
        "O objetivo do `NER` é identificar e classificar essas entidades em categorias predefinidas, como pessoas, locais e organizações, permitindo uma melhor compreensão do conteúdo do texto e facilitando a análise de informações."
      ],
      "metadata": {
        "id": "YKeqSx2qOxPW"
      }
    },
    {
      "cell_type": "markdown",
      "source": [
        "O reconhecimento de entidades nomeadas é uma técnica muito útil em várias aplicações de PLN, incluindo:\n",
        "\n",
        "   * Extração de informações em documentos: o NER pode ser usado para identificar e extrair informações importantes, como datas, nomes de pessoas, locais, organizações e números em documentos, como artigos de jornal, relatórios financeiros, contratos e patentes.\n",
        "\n",
        "   * Análise de sentimentos em mídias sociais: o NER pode ajudar a identificar as entidades nomeadas relevantes em postagens de mídias sociais, como nomes de produtos, empresas, marcas, lugares, personalidades e eventos, permitindo uma melhor análise de sentimentos e tendências.\n",
        "\n",
        "   * Classificação de tópicos: o NER pode ser usado para identificar as entidades nomeadas em textos e classificá-los em categorias relevantes, como política, esportes, negócios, tecnologia e entretenimento.\n",
        "\n",
        "   * Identificação de fraudes em transações financeiras: o NER pode ser usado para identificar e extrair informações importantes em transações financeiras, como números de cartões de crédito, datas, nomes de pessoas e locais, ajudando a detectar fraudes e atividades suspeitas.\n",
        "\n",
        "   * Respostas automatizadas em chatbots: o NER pode ser usado para identificar as entidades nomeadas em perguntas feitas por usuários em chatbots, permitindo respostas mais precisas e personalizadas.\n",
        "\n",
        "   * Identificação de informações de saúde em registros médicos: o NER pode ser usado para identificar entidades nomeadas em registros médicos, como diagnósticos, tratamentos, medicamentos e sintomas, ajudando na análise de grandes quantidades de dados de saúde.\n",
        "\n",
        "   * Identificação de entidades em linguagem técnica: o NER pode ser usado para identificar entidades nomeadas em linguagem técnica, como termos científicos ou jargões em áreas específicas, como biologia, química, tecnologia da informação e direito.\n",
        "\n",
        "   * Melhoria de ferramentas de pesquisa: o NER pode ser usado para melhorar a precisão das ferramentas de pesquisa, permitindo a identificação de entidades nomeadas relevantes em consultas de pesquisa e fornecendo resultados mais relevantes e precisos.\n",
        "\n",
        "Essas são apenas algumas das muitas aplicações do NER em PLN. O NER é uma técnica versátil e amplamente utilizada em várias áreas, e sua importância tende a crescer à medida que mais dados são gerados e mais informações precisam ser extraídas e analisadas. A técnica utiliza algoritmos de aprendizado de máquina para identificar as entidades nomeadas, e pode ser treinada em diferentes domínios para melhorar a precisão e o desempenho."
      ],
      "metadata": {
        "id": "zEmS5AZRRVGx"
      }
    },
    {
      "cell_type": "markdown",
      "source": [
        "Existem várias vantagens em usar o reconhecimento de entidades nomeadas em tarefas de PLN. Algumas das principais vantagens são:\n",
        "\n",
        "   * Melhora a precisão e eficiência do PLN: o NER ajuda a identificar e extrair entidades nomeadas de um texto, permitindo que outras tarefas de PLN, como a análise de sentimento e classificação de texto, sejam realizadas com maior precisão e eficiência.\n",
        "\n",
        "   * Reduz erros humanos e tempo de processamento: o NER automatiza a tarefa de identificação de entidades nomeadas, reduzindo a necessidade de intervenção manual e o tempo necessário para realizar a tarefa.\n",
        "\n",
        "   * Permite a análise de grandes volumes de dados: o NER pode ser usado para analisar grandes volumes de dados de texto e identificar entidades nomeadas relevantes, permitindo uma análise mais rápida e eficiente de grandes conjuntos de dados.\n",
        "\n",
        "   * Ajuda a identificar informações relevantes: o NER ajuda a identificar entidades nomeadas relevantes em um texto, permitindo que informações importantes sejam identificadas e extraídas com maior precisão e facilidade.\n",
        "\n",
        "   * Melhora a personalização de conteúdo: o NER ajuda a identificar entidades nomeadas em um texto, permitindo que o conteúdo seja personalizado com base nas informações extraídas, melhorando a experiência do usuário e aumentando o engajamento."
      ],
      "metadata": {
        "id": "PglFfwOFS2N1"
      }
    },
    {
      "cell_type": "markdown",
      "source": [
        "Embora o reconhecimento de entidades nomeadas ofereça muitas vantagens, também apresenta alguns desafios e problemas. Alguns dos principais problemas associados ao NER são:\n",
        "\n",
        "   * Ambiguidade: alguns termos ou palavras podem ter mais de um significado, o que pode tornar difícil para os sistemas de NER determinar qual é o significado correto e a entidade nomeada relevante.\n",
        "\n",
        "   * Variações na escrita: os nomes de entidades podem ser escritos de várias maneiras diferentes, como abreviações, sinônimos ou erros de digitação, o que pode dificultar a identificação precisa da entidade nomeada.\n",
        "\n",
        "   * Tamanho do conjunto de dados: a eficácia do NER depende do tamanho e qualidade do conjunto de dados usados para treinar o modelo de aprendizado de máquina. Conjuntos de dados pequenos ou desequilibrados podem levar a resultados imprecisos.\n",
        "\n",
        "   * Idioma e contexto: o NER é altamente dependente do idioma e do contexto em que é aplicado. Modelos treinados em um idioma ou contexto podem não funcionar bem em outros idiomas ou contextos diferentes.\n",
        "\n",
        "   * Nomes de entidades desconhecidas: os modelos de NER podem não reconhecer nomes de entidades que não foram previamente encontrados nos dados de treinamento, o que pode levar a falsos negativos ou resultados imprecisos.\n",
        "\n",
        "   * Limitações de tecnologia: as técnicas de NER atuais têm limitações e podem não ser capazes de identificar todas as entidades nomeadas relevantes ou podem identificar erroneamente entidades que não são relevantes."
      ],
      "metadata": {
        "id": "-6ByAvezTbk8"
      }
    },
    {
      "cell_type": "markdown",
      "source": [
        "**POS Tagging**"
      ],
      "metadata": {
        "id": "4aDsLXqvcBws"
      }
    },
    {
      "cell_type": "markdown",
      "source": [
        "**Part-Of-Sspeech Tagging** (**POS Tagging**) é o processo de rotular (etiquetar) cada palavra em um texto com sua classe gramatical. Essas classes gramaticais incluem substantivos, verbos, adjetivos, advérbios etc. O POS Tagging é um passo importante em muitas tarefas de PLN, incluindo análise de sentimento, tradução automática, reconhecimento de fala, entre outras.\n",
        "\n"
      ],
      "metadata": {
        "id": "jwhlAp6vcDus"
      }
    },
    {
      "cell_type": "markdown",
      "source": [
        "\n",
        "\n",
        "O pacote `NLTK` possui uma função `pos_tag` que pode ser usada para realizar o POS tagging em um texto. Essa função usa modelos estatísticos treinados em grandes conjuntos de dados para atribuir as etiquetas POS às palavras."
      ],
      "metadata": {
        "id": "1XEo_WlgdazM"
      }
    },
    {
      "cell_type": "markdown",
      "source": [
        "Atualmente, a função `pos_tag` do `NLTK` suporta apenas inglês e russo (ou seja, lang='eng' ou lang='rus')."
      ],
      "metadata": {
        "id": "MttgGjryeD7a"
      }
    },
    {
      "cell_type": "code",
      "source": [
        "import nltk\n",
        "\n",
        "nltk.download('punkt')\n",
        "nltk.download('averaged_perceptron_tagger')"
      ],
      "metadata": {
        "colab": {
          "base_uri": "https://localhost:8080/"
        },
        "id": "hpe2qzvjfbYX",
        "outputId": "9a145779-b8d0-4273-c27f-b0e923f5f030"
      },
      "execution_count": null,
      "outputs": [
        {
          "output_type": "stream",
          "name": "stderr",
          "text": [
            "[nltk_data] Downloading package punkt to /root/nltk_data...\n",
            "[nltk_data]   Unzipping tokenizers/punkt.zip.\n",
            "[nltk_data] Downloading package averaged_perceptron_tagger to\n",
            "[nltk_data]     /root/nltk_data...\n",
            "[nltk_data]   Unzipping taggers/averaged_perceptron_tagger.zip.\n"
          ]
        },
        {
          "output_type": "execute_result",
          "data": {
            "text/plain": [
              "True"
            ]
          },
          "metadata": {},
          "execution_count": 1
        }
      ]
    },
    {
      "cell_type": "code",
      "source": [
        "import nltk\n",
        "\n",
        "# Sample English text\n",
        "text = \"This is a sample sentence.\"\n",
        "\n",
        "# Tokenize the text into words\n",
        "words = nltk.word_tokenize(text)\n",
        "\n",
        "# Perform POS tagging on the words\n",
        "tags = nltk.pos_tag(words)\n",
        "\n",
        "print(tags)"
      ],
      "metadata": {
        "colab": {
          "base_uri": "https://localhost:8080/"
        },
        "id": "EMv_dzk5di6r",
        "outputId": "3241eb28-9e9c-4b6a-80a1-bdebd333e048"
      },
      "execution_count": null,
      "outputs": [
        {
          "output_type": "stream",
          "name": "stdout",
          "text": [
            "[('This', 'DT'), ('is', 'VBZ'), ('a', 'DT'), ('sample', 'JJ'), ('sentence', 'NN'), ('.', '.')]\n"
          ]
        }
      ]
    },
    {
      "cell_type": "code",
      "source": [
        "import nltk\n",
        "\n",
        "nltk.download('tagsets')"
      ],
      "metadata": {
        "colab": {
          "base_uri": "https://localhost:8080/"
        },
        "id": "GbnZgHqdAXgv",
        "outputId": "2f0ba1cf-4087-4f23-a58b-dbc4cb47ed13"
      },
      "execution_count": null,
      "outputs": [
        {
          "output_type": "stream",
          "name": "stderr",
          "text": [
            "[nltk_data] Downloading package tagsets to /root/nltk_data...\n",
            "[nltk_data]   Unzipping help/tagsets.zip.\n"
          ]
        },
        {
          "output_type": "execute_result",
          "data": {
            "text/plain": [
              "True"
            ]
          },
          "metadata": {},
          "execution_count": 3
        }
      ]
    },
    {
      "cell_type": "code",
      "source": [
        "nltk.help.upenn_tagset('DT')"
      ],
      "metadata": {
        "colab": {
          "base_uri": "https://localhost:8080/"
        },
        "id": "u_tTfqnLfVvk",
        "outputId": "bf64bb0a-b934-4331-cff5-e8027868c00f"
      },
      "execution_count": null,
      "outputs": [
        {
          "output_type": "stream",
          "name": "stdout",
          "text": [
            "DT: determiner\n",
            "    all an another any both del each either every half la many much nary\n",
            "    neither no some such that the them these this those\n"
          ]
        }
      ]
    },
    {
      "cell_type": "markdown",
      "source": [
        "Aqui está um exemplo de código que recebe uma lista de títulos de artigos em inglês, faz a análise de POS tagging com a biblioteca `NLTK` e identifica quais as tags mais frequentes e as palavras mais frequentes associadas a tag mais identificada:"
      ],
      "metadata": {
        "id": "D0wJOsWZrJSr"
      }
    },
    {
      "cell_type": "code",
      "source": [
        "import nltk\n",
        "from collections import Counter\n",
        "\n",
        "article_titles = [\n",
        "    'The benefits of using Python for data science',\n",
        "    'How machine learning is changing the world',\n",
        "    'Using Deep Learning to Analyze Financial Data'\n",
        "    'Exploring the possibilities of deep learning in computer vision',\n",
        "    'The importance of data visualization in business analytics'\n",
        "]\n",
        "\n",
        "# Realizando POS tagging em cada título\n",
        "tagged_words = []\n",
        "for title in article_titles:\n",
        "    words = nltk.word_tokenize(title)\n",
        "    tagged_words += nltk.pos_tag(words)\n",
        "\n",
        "# Contando a frequência de cada POS tag e palavra\n",
        "tag_counts = Counter(tag for word, tag in tagged_words)\n",
        "word_counts = Counter(word.lower() for word, tag in tagged_words)\n",
        "\n",
        "# Encontrando o POS tag mais comum e sua frequência\n",
        "most_common_tag, most_common_tag_count = tag_counts.most_common(1)[0]\n",
        "\n",
        "# Encontrando as palavras mais comuns associadas ao POS tag mais comum\n",
        "most_common_words = [word for word, count in word_counts.items() if nltk.pos_tag([word])[0][1] == most_common_tag]"
      ],
      "metadata": {
        "id": "Szr4YMZHpKux"
      },
      "execution_count": null,
      "outputs": []
    },
    {
      "cell_type": "code",
      "source": [
        "# frequência de cada POS tag encontrado nos títulos de artigos\n",
        "print(\"Quantidade de cada POS tag encontrado:\")\n",
        "for tag, count in tag_counts.most_common():\n",
        "    print(f\"{tag}: {count}\")"
      ],
      "metadata": {
        "id": "pnETgwg6p_ip",
        "colab": {
          "base_uri": "https://localhost:8080/"
        },
        "outputId": "713b347b-472a-48ea-a8a8-d327fc3121d4"
      },
      "execution_count": null,
      "outputs": [
        {
          "output_type": "stream",
          "name": "stdout",
          "text": [
            "Quantidade de cada POS tag encontrado:\n",
            "NN: 10\n",
            "IN: 6\n",
            "NNS: 5\n",
            "NNP: 5\n",
            "DT: 4\n",
            "VBG: 4\n",
            "WRB: 1\n",
            "VBZ: 1\n",
            "TO: 1\n",
            "JJ: 1\n"
          ]
        }
      ]
    },
    {
      "cell_type": "code",
      "source": [
        "# POS tag mais comum e sua frequência\n",
        "print(f\"O POS tag mais comum é {most_common_tag}, aparecendo {most_common_tag_count} vezes.\")"
      ],
      "metadata": {
        "colab": {
          "base_uri": "https://localhost:8080/"
        },
        "id": "rCxJ6u5iqRz8",
        "outputId": "17cf91ef-0b19-4332-e214-109fb3b5de1b"
      },
      "execution_count": null,
      "outputs": [
        {
          "output_type": "stream",
          "name": "stdout",
          "text": [
            "O POS tag mais comum é NN, aparecendo 10 vezes.\n"
          ]
        }
      ]
    },
    {
      "cell_type": "code",
      "source": [
        "# Palavras mais comuns que aparecem com esse POS tag mais comum\n",
        "print(\"As 3 palavras mais comuns associadas ao POS tag mais comum:\")\n",
        "for word, count in Counter(most_common_words).most_common(3):\n",
        "    print(f\"{word}: {count}\")"
      ],
      "metadata": {
        "colab": {
          "base_uri": "https://localhost:8080/"
        },
        "id": "bTqa2pxZqWQv",
        "outputId": "47ad43cf-a5d0-4aff-abc1-c3bd77b1394b"
      },
      "execution_count": null,
      "outputs": [
        {
          "output_type": "stream",
          "name": "stdout",
          "text": [
            "As 3 palavras mais comuns associadas ao POS tag mais comum:\n",
            "python: 1\n",
            "science: 1\n",
            "machine: 1\n"
          ]
        }
      ]
    },
    {
      "cell_type": "markdown",
      "source": [
        "![image.png](data:image/png;base64,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)"
      ],
      "metadata": {
        "id": "EKPqT-co_tm2"
      }
    },
    {
      "cell_type": "markdown",
      "source": [
        "**NLTK**"
      ],
      "metadata": {
        "id": "EWJ0tl-sUXGH"
      }
    },
    {
      "cell_type": "code",
      "source": [
        "import nltk\n",
        "\n",
        "nltk.download('punkt')\n",
        "nltk.download('averaged_perceptron_tagger')\n",
        "nltk.download('maxent_ne_chunker')\n",
        "nltk.download('words')"
      ],
      "metadata": {
        "colab": {
          "base_uri": "https://localhost:8080/"
        },
        "id": "Fq50D0_eWrJG",
        "outputId": "f33059f7-e443-47a4-aef5-d2d351b3fa8d"
      },
      "execution_count": null,
      "outputs": [
        {
          "output_type": "stream",
          "name": "stderr",
          "text": [
            "[nltk_data] Downloading package punkt to /root/nltk_data...\n",
            "[nltk_data]   Package punkt is already up-to-date!\n",
            "[nltk_data] Downloading package averaged_perceptron_tagger to\n",
            "[nltk_data]     /root/nltk_data...\n",
            "[nltk_data]   Package averaged_perceptron_tagger is already up-to-\n",
            "[nltk_data]       date!\n",
            "[nltk_data] Downloading package maxent_ne_chunker to\n",
            "[nltk_data]     /root/nltk_data...\n",
            "[nltk_data]   Unzipping chunkers/maxent_ne_chunker.zip.\n",
            "[nltk_data] Downloading package words to /root/nltk_data...\n",
            "[nltk_data]   Unzipping corpora/words.zip.\n"
          ]
        },
        {
          "output_type": "execute_result",
          "data": {
            "text/plain": [
              "True"
            ]
          },
          "metadata": {},
          "execution_count": 9
        }
      ]
    },
    {
      "cell_type": "markdown",
      "source": [
        "No contexto de Reconhecimento de Entidades Nomeadas, o **chunking** é usado para identificar as entidades nomeadas no texto e agrupá-las em `\"chunks\"` (pedaços) que correspondem a nomes de pessoas, organizações, locais etc.\n",
        "\n",
        "O pacote `NLTK` fornece uma função chamada `ne_chunk` que realiza o processo de chunking para identificar as entidades nomeadas em um texto."
      ],
      "metadata": {
        "id": "5lP-TN4iBrAx"
      }
    },
    {
      "cell_type": "code",
      "source": [
        "import nltk\n",
        "from nltk.tokenize import word_tokenize\n",
        "from nltk import pos_tag, ne_chunk\n",
        "\n",
        "# Texto para análise\n",
        "texto = \"Barack Obama was born in Hawaii.\"\n",
        "\n",
        "# Tokenizar o texto em palavras\n",
        "palavras = word_tokenize(texto)\n",
        "\n",
        "# Identificar as entidades nomeadas\n",
        "entidades = ne_chunk(pos_tag(palavras))\n",
        "\n",
        "# Iterar pelas entidades nomeadas encontradas\n",
        "for chunk in entidades:\n",
        "    # Verificar se a etiqueta da entidade não é vazia\n",
        "    if hasattr(chunk, 'label'):\n",
        "        # Imprimir o tipo de entidade e o nome da entidade\n",
        "        print(chunk.label(), ' '.join(c[0] for c in chunk.leaves()))"
      ],
      "metadata": {
        "colab": {
          "base_uri": "https://localhost:8080/"
        },
        "id": "EDm1rF8nawAd",
        "outputId": "fc55d89f-cf2a-476e-929b-1f6bbfece410"
      },
      "execution_count": null,
      "outputs": [
        {
          "output_type": "stream",
          "name": "stdout",
          "text": [
            "PERSON Barack\n",
            "PERSON Obama\n",
            "GPE Hawaii\n"
          ]
        }
      ]
    },
    {
      "cell_type": "markdown",
      "source": [
        "O `svgling` é uma biblioteca utilizada para visualizar árvores sintáticas em formato `SVG` (*Scalable Vector Graphics*)."
      ],
      "metadata": {
        "id": "YRJ1fgB0X0MG"
      }
    },
    {
      "cell_type": "code",
      "source": [
        "!pip install svgling"
      ],
      "metadata": {
        "colab": {
          "base_uri": "https://localhost:8080/"
        },
        "id": "9wnVM43zXrV7",
        "outputId": "6dfd5ac7-84ae-48c2-c11e-d9b4c4982cca"
      },
      "execution_count": null,
      "outputs": [
        {
          "output_type": "stream",
          "name": "stdout",
          "text": [
            "Looking in indexes: https://pypi.org/simple, https://us-python.pkg.dev/colab-wheels/public/simple/\n",
            "Requirement already satisfied: svgling in /usr/local/lib/python3.9/dist-packages (0.3.1)\n",
            "Requirement already satisfied: svgwrite in /usr/local/lib/python3.9/dist-packages (from svgling) (1.4.3)\n"
          ]
        }
      ]
    },
    {
      "cell_type": "code",
      "source": [
        "entidades"
      ],
      "metadata": {
        "colab": {
          "base_uri": "https://localhost:8080/",
          "height": 189
        },
        "id": "GN6HT370a_Zr",
        "outputId": "ea4f8b9e-0407-496b-e1cf-b60e61a30b2a"
      },
      "execution_count": null,
      "outputs": [
        {
          "output_type": "execute_result",
          "data": {
            "text/plain": [
              "Tree('S', [Tree('PERSON', [('Barack', 'NNP')]), Tree('PERSON', [('Obama', 'NNP')]), ('was', 'VBD'), ('born', 'VBN'), ('in', 'IN'), Tree('GPE', [('Hawaii', 'NNP')]), ('.', '.')])"
            ],
            "image/svg+xml": "<svg baseProfile=\"full\" height=\"168px\" preserveAspectRatio=\"xMidYMid meet\" style=\"font-family: times, serif; font-weight:normal; font-style: normal; font-size: 16px;\" version=\"1.1\" viewBox=\"0,0,336.0,168.0\" width=\"336px\" xmlns=\"http://www.w3.org/2000/svg\" xmlns:ev=\"http://www.w3.org/2001/xml-events\" xmlns:xlink=\"http://www.w3.org/1999/xlink\"><defs /><svg width=\"100%\" x=\"0\" y=\"0em\"><defs /><text text-anchor=\"middle\" x=\"50%\" y=\"1em\">S</text></svg><svg width=\"19.0476%\" x=\"0%\" y=\"3em\"><defs /><svg width=\"100%\" x=\"0\" y=\"0em\"><defs /><text text-anchor=\"middle\" x=\"50%\" y=\"1em\">PERSON</text></svg><svg width=\"100%\" x=\"0%\" y=\"3em\"><defs /><svg width=\"100%\" x=\"0\" y=\"0em\"><defs /><text text-anchor=\"middle\" x=\"50%\" y=\"1em\">Barack</text></svg><svg width=\"100%\" x=\"0%\" y=\"3em\"><defs /><svg width=\"100%\" x=\"0\" y=\"0em\"><defs /><text text-anchor=\"middle\" x=\"50%\" y=\"1em\">NNP</text></svg></svg><line stroke=\"black\" x1=\"50%\" x2=\"50%\" y1=\"1.2em\" y2=\"3em\" /></svg><line stroke=\"black\" x1=\"50%\" x2=\"50%\" y1=\"1.2em\" y2=\"3em\" /></svg><line stroke=\"black\" x1=\"50%\" x2=\"9.52381%\" y1=\"1.2em\" y2=\"3em\" /><svg width=\"19.0476%\" x=\"19.0476%\" y=\"3em\"><defs /><svg width=\"100%\" x=\"0\" y=\"0em\"><defs /><text text-anchor=\"middle\" x=\"50%\" y=\"1em\">PERSON</text></svg><svg width=\"100%\" x=\"0%\" y=\"3em\"><defs /><svg width=\"100%\" x=\"0\" y=\"0em\"><defs /><text text-anchor=\"middle\" x=\"50%\" y=\"1em\">Obama</text></svg><svg width=\"100%\" x=\"0%\" y=\"3em\"><defs /><svg width=\"100%\" x=\"0\" y=\"0em\"><defs /><text text-anchor=\"middle\" x=\"50%\" y=\"1em\">NNP</text></svg></svg><line stroke=\"black\" x1=\"50%\" x2=\"50%\" y1=\"1.2em\" y2=\"3em\" /></svg><line stroke=\"black\" x1=\"50%\" x2=\"50%\" y1=\"1.2em\" y2=\"3em\" /></svg><line stroke=\"black\" x1=\"50%\" x2=\"28.5714%\" y1=\"1.2em\" y2=\"3em\" /><svg width=\"11.9048%\" x=\"38.0952%\" y=\"3em\"><defs /><svg width=\"100%\" x=\"0\" y=\"0em\"><defs /><text text-anchor=\"middle\" x=\"50%\" y=\"1em\">was</text></svg><svg width=\"100%\" x=\"0%\" y=\"3em\"><defs /><svg width=\"100%\" x=\"0\" y=\"0em\"><defs /><text text-anchor=\"middle\" x=\"50%\" y=\"1em\">VBD</text></svg></svg><line stroke=\"black\" x1=\"50%\" x2=\"50%\" y1=\"1.2em\" y2=\"3em\" /></svg><line stroke=\"black\" x1=\"50%\" x2=\"44.0476%\" y1=\"1.2em\" y2=\"3em\" /><svg width=\"14.2857%\" x=\"50%\" y=\"3em\"><defs /><svg width=\"100%\" x=\"0\" y=\"0em\"><defs /><text text-anchor=\"middle\" x=\"50%\" y=\"1em\">born</text></svg><svg width=\"100%\" x=\"0%\" y=\"3em\"><defs /><svg width=\"100%\" x=\"0\" y=\"0em\"><defs /><text text-anchor=\"middle\" x=\"50%\" y=\"1em\">VBN</text></svg></svg><line stroke=\"black\" x1=\"50%\" x2=\"50%\" y1=\"1.2em\" y2=\"3em\" /></svg><line stroke=\"black\" x1=\"50%\" x2=\"57.1429%\" y1=\"1.2em\" y2=\"3em\" /><svg width=\"9.52381%\" x=\"64.2857%\" y=\"3em\"><defs /><svg width=\"100%\" x=\"0\" y=\"0em\"><defs /><text text-anchor=\"middle\" x=\"50%\" y=\"1em\">in</text></svg><svg width=\"100%\" x=\"0%\" y=\"3em\"><defs /><svg width=\"100%\" x=\"0\" y=\"0em\"><defs /><text text-anchor=\"middle\" x=\"50%\" y=\"1em\">IN</text></svg></svg><line stroke=\"black\" x1=\"50%\" x2=\"50%\" y1=\"1.2em\" y2=\"3em\" /></svg><line stroke=\"black\" x1=\"50%\" x2=\"69.0476%\" y1=\"1.2em\" y2=\"3em\" /><svg width=\"19.0476%\" x=\"73.8095%\" y=\"3em\"><defs /><svg width=\"100%\" x=\"0\" y=\"0em\"><defs /><text text-anchor=\"middle\" x=\"50%\" y=\"1em\">GPE</text></svg><svg width=\"100%\" x=\"0%\" y=\"3em\"><defs /><svg width=\"100%\" x=\"0\" y=\"0em\"><defs /><text text-anchor=\"middle\" x=\"50%\" y=\"1em\">Hawaii</text></svg><svg width=\"100%\" x=\"0%\" y=\"3em\"><defs /><svg width=\"100%\" x=\"0\" y=\"0em\"><defs /><text text-anchor=\"middle\" x=\"50%\" y=\"1em\">NNP</text></svg></svg><line stroke=\"black\" x1=\"50%\" x2=\"50%\" y1=\"1.2em\" y2=\"3em\" /></svg><line stroke=\"black\" x1=\"50%\" x2=\"50%\" y1=\"1.2em\" y2=\"3em\" /></svg><line stroke=\"black\" x1=\"50%\" x2=\"83.3333%\" y1=\"1.2em\" y2=\"3em\" /><svg width=\"7.14286%\" x=\"92.8571%\" y=\"3em\"><defs /><svg width=\"100%\" x=\"0\" y=\"0em\"><defs /><text text-anchor=\"middle\" x=\"50%\" y=\"1em\">.</text></svg><svg width=\"100%\" x=\"0%\" y=\"3em\"><defs /><svg width=\"100%\" x=\"0\" y=\"0em\"><defs /><text text-anchor=\"middle\" x=\"50%\" y=\"1em\">.</text></svg></svg><line stroke=\"black\" x1=\"50%\" x2=\"50%\" y1=\"1.2em\" y2=\"3em\" /></svg><line stroke=\"black\" x1=\"50%\" x2=\"96.4286%\" y1=\"1.2em\" y2=\"3em\" /></svg>"
          },
          "metadata": {},
          "execution_count": 13
        }
      ]
    },
    {
      "cell_type": "markdown",
      "source": [
        "Aqui está outro exemplo de como usar o NER com o `NLTK` para identificar nomes de pessoas em um texto:"
      ],
      "metadata": {
        "id": "T_1eKA95t4X3"
      }
    },
    {
      "cell_type": "code",
      "source": [
        "import nltk\n",
        "\n",
        "# Definindo o texto\n",
        "text = \"President Joe Biden and Vice President Kamala Harris attend a meeting at the White House.\"\n",
        "\n",
        "# Tokenização do texto\n",
        "tokens = nltk.word_tokenize(text)\n",
        "\n",
        "# Identificação das entidades nomeadas\n",
        "entities = nltk.ne_chunk(nltk.pos_tag(tokens))\n",
        "\n",
        "# Identificando nomes de pessoas\n",
        "person_names = []\n",
        "for subtree in entities.subtrees():\n",
        "    if subtree.label() == 'PERSON':\n",
        "        person_name = ' '.join(word for word, pos in subtree.leaves())\n",
        "        person_names.append(person_name)\n",
        "\n",
        "# Exibindo os nomes de pessoas encontrados\n",
        "print(person_names)"
      ],
      "metadata": {
        "colab": {
          "base_uri": "https://localhost:8080/"
        },
        "id": "-5qLQMBWtKD4",
        "outputId": "396013cd-284b-4e78-9523-9490ea82a36a"
      },
      "execution_count": null,
      "outputs": [
        {
          "output_type": "stream",
          "name": "stdout",
          "text": [
            "['Joe Biden', 'Kamala Harris']\n"
          ]
        }
      ]
    },
    {
      "cell_type": "code",
      "source": [
        "entities"
      ],
      "metadata": {
        "colab": {
          "base_uri": "https://localhost:8080/",
          "height": 189
        },
        "id": "r31g51_-H05m",
        "outputId": "75c87509-1974-4739-c7b9-713dad1c1fc5"
      },
      "execution_count": null,
      "outputs": [
        {
          "output_type": "execute_result",
          "data": {
            "text/plain": [
              "Tree('S', [('President', 'NNP'), Tree('PERSON', [('Joe', 'NNP'), ('Biden', 'NNP')]), ('and', 'CC'), ('Vice', 'NNP'), ('President', 'NNP'), Tree('PERSON', [('Kamala', 'NNP'), ('Harris', 'NNP')]), ('attend', 'VBP'), ('a', 'DT'), ('meeting', 'NN'), ('at', 'IN'), ('the', 'DT'), Tree('FACILITY', [('White', 'NNP'), ('House', 'NNP')]), ('.', '.')])"
            ],
            "image/svg+xml": "<svg baseProfile=\"full\" height=\"168px\" preserveAspectRatio=\"xMidYMid meet\" style=\"font-family: times, serif; font-weight:normal; font-style: normal; font-size: 16px;\" version=\"1.1\" viewBox=\"0,0,864.0,168.0\" width=\"864px\" xmlns=\"http://www.w3.org/2000/svg\" xmlns:ev=\"http://www.w3.org/2001/xml-events\" xmlns:xlink=\"http://www.w3.org/1999/xlink\"><defs /><svg width=\"100%\" x=\"0\" y=\"0em\"><defs /><text text-anchor=\"middle\" x=\"50%\" y=\"1em\">S</text></svg><svg width=\"10.1852%\" x=\"0%\" y=\"3em\"><defs /><svg width=\"100%\" x=\"0\" y=\"0em\"><defs /><text text-anchor=\"middle\" x=\"50%\" y=\"1em\">President</text></svg><svg width=\"100%\" x=\"0%\" y=\"3em\"><defs /><svg width=\"100%\" x=\"0\" y=\"0em\"><defs /><text text-anchor=\"middle\" x=\"50%\" y=\"1em\">NNP</text></svg></svg><line stroke=\"black\" x1=\"50%\" x2=\"50%\" y1=\"1.2em\" y2=\"3em\" /></svg><line stroke=\"black\" x1=\"50%\" x2=\"5.09259%\" y1=\"1.2em\" y2=\"3em\" /><svg width=\"11.1111%\" x=\"10.1852%\" y=\"3em\"><defs /><svg width=\"100%\" x=\"0\" y=\"0em\"><defs /><text text-anchor=\"middle\" x=\"50%\" y=\"1em\">PERSON</text></svg><svg width=\"41.6667%\" x=\"0%\" y=\"3em\"><defs /><svg width=\"100%\" x=\"0\" y=\"0em\"><defs /><text text-anchor=\"middle\" x=\"50%\" y=\"1em\">Joe</text></svg><svg width=\"100%\" x=\"0%\" y=\"3em\"><defs /><svg width=\"100%\" x=\"0\" y=\"0em\"><defs /><text text-anchor=\"middle\" x=\"50%\" y=\"1em\">NNP</text></svg></svg><line stroke=\"black\" x1=\"50%\" x2=\"50%\" y1=\"1.2em\" y2=\"3em\" /></svg><line stroke=\"black\" x1=\"50%\" x2=\"20.8333%\" y1=\"1.2em\" y2=\"3em\" /><svg width=\"58.3333%\" x=\"41.6667%\" y=\"3em\"><defs /><svg width=\"100%\" x=\"0\" y=\"0em\"><defs /><text text-anchor=\"middle\" x=\"50%\" y=\"1em\">Biden</text></svg><svg width=\"100%\" x=\"0%\" y=\"3em\"><defs /><svg width=\"100%\" x=\"0\" y=\"0em\"><defs /><text text-anchor=\"middle\" x=\"50%\" y=\"1em\">NNP</text></svg></svg><line stroke=\"black\" x1=\"50%\" x2=\"50%\" y1=\"1.2em\" y2=\"3em\" /></svg><line stroke=\"black\" x1=\"50%\" x2=\"70.8333%\" y1=\"1.2em\" y2=\"3em\" /></svg><line stroke=\"black\" x1=\"50%\" x2=\"15.7407%\" y1=\"1.2em\" y2=\"3em\" /><svg width=\"4.62963%\" x=\"21.2963%\" y=\"3em\"><defs /><svg width=\"100%\" x=\"0\" y=\"0em\"><defs /><text text-anchor=\"middle\" x=\"50%\" y=\"1em\">and</text></svg><svg width=\"100%\" x=\"0%\" y=\"3em\"><defs /><svg width=\"100%\" x=\"0\" y=\"0em\"><defs /><text text-anchor=\"middle\" x=\"50%\" y=\"1em\">CC</text></svg></svg><line stroke=\"black\" x1=\"50%\" x2=\"50%\" y1=\"1.2em\" y2=\"3em\" /></svg><line stroke=\"black\" x1=\"50%\" x2=\"23.6111%\" y1=\"1.2em\" y2=\"3em\" /><svg width=\"5.55556%\" x=\"25.9259%\" y=\"3em\"><defs /><svg width=\"100%\" x=\"0\" y=\"0em\"><defs /><text text-anchor=\"middle\" x=\"50%\" y=\"1em\">Vice</text></svg><svg width=\"100%\" x=\"0%\" y=\"3em\"><defs /><svg width=\"100%\" x=\"0\" y=\"0em\"><defs /><text text-anchor=\"middle\" x=\"50%\" y=\"1em\">NNP</text></svg></svg><line stroke=\"black\" x1=\"50%\" x2=\"50%\" y1=\"1.2em\" y2=\"3em\" /></svg><line stroke=\"black\" x1=\"50%\" x2=\"28.7037%\" y1=\"1.2em\" y2=\"3em\" /><svg width=\"10.1852%\" x=\"31.4815%\" y=\"3em\"><defs /><svg width=\"100%\" x=\"0\" y=\"0em\"><defs /><text text-anchor=\"middle\" x=\"50%\" y=\"1em\">President</text></svg><svg width=\"100%\" x=\"0%\" y=\"3em\"><defs /><svg width=\"100%\" x=\"0\" y=\"0em\"><defs /><text text-anchor=\"middle\" x=\"50%\" y=\"1em\">NNP</text></svg></svg><line stroke=\"black\" x1=\"50%\" x2=\"50%\" y1=\"1.2em\" y2=\"3em\" /></svg><line stroke=\"black\" x1=\"50%\" x2=\"36.5741%\" y1=\"1.2em\" y2=\"3em\" /><svg width=\"14.8148%\" x=\"41.6667%\" y=\"3em\"><defs /><svg width=\"100%\" x=\"0\" y=\"0em\"><defs /><text text-anchor=\"middle\" x=\"50%\" y=\"1em\">PERSON</text></svg><svg width=\"50%\" x=\"0%\" y=\"3em\"><defs /><svg width=\"100%\" x=\"0\" y=\"0em\"><defs /><text text-anchor=\"middle\" x=\"50%\" y=\"1em\">Kamala</text></svg><svg width=\"100%\" x=\"0%\" y=\"3em\"><defs /><svg width=\"100%\" x=\"0\" y=\"0em\"><defs /><text text-anchor=\"middle\" x=\"50%\" y=\"1em\">NNP</text></svg></svg><line stroke=\"black\" x1=\"50%\" x2=\"50%\" y1=\"1.2em\" y2=\"3em\" /></svg><line stroke=\"black\" x1=\"50%\" x2=\"25%\" y1=\"1.2em\" y2=\"3em\" /><svg width=\"50%\" x=\"50%\" y=\"3em\"><defs /><svg width=\"100%\" x=\"0\" y=\"0em\"><defs /><text text-anchor=\"middle\" x=\"50%\" y=\"1em\">Harris</text></svg><svg width=\"100%\" x=\"0%\" y=\"3em\"><defs /><svg width=\"100%\" x=\"0\" y=\"0em\"><defs /><text text-anchor=\"middle\" x=\"50%\" y=\"1em\">NNP</text></svg></svg><line stroke=\"black\" x1=\"50%\" x2=\"50%\" y1=\"1.2em\" y2=\"3em\" /></svg><line stroke=\"black\" x1=\"50%\" x2=\"75%\" y1=\"1.2em\" y2=\"3em\" /></svg><line stroke=\"black\" x1=\"50%\" x2=\"49.0741%\" y1=\"1.2em\" y2=\"3em\" /><svg width=\"7.40741%\" x=\"56.4815%\" y=\"3em\"><defs /><svg width=\"100%\" x=\"0\" y=\"0em\"><defs /><text text-anchor=\"middle\" x=\"50%\" y=\"1em\">attend</text></svg><svg width=\"100%\" x=\"0%\" y=\"3em\"><defs /><svg width=\"100%\" x=\"0\" y=\"0em\"><defs /><text text-anchor=\"middle\" x=\"50%\" y=\"1em\">VBP</text></svg></svg><line stroke=\"black\" x1=\"50%\" x2=\"50%\" y1=\"1.2em\" y2=\"3em\" /></svg><line stroke=\"black\" x1=\"50%\" x2=\"60.1852%\" y1=\"1.2em\" y2=\"3em\" /><svg width=\"3.7037%\" x=\"63.8889%\" y=\"3em\"><defs /><svg width=\"100%\" x=\"0\" y=\"0em\"><defs /><text text-anchor=\"middle\" x=\"50%\" y=\"1em\">a</text></svg><svg width=\"100%\" x=\"0%\" y=\"3em\"><defs /><svg width=\"100%\" x=\"0\" y=\"0em\"><defs /><text text-anchor=\"middle\" x=\"50%\" y=\"1em\">DT</text></svg></svg><line stroke=\"black\" x1=\"50%\" x2=\"50%\" y1=\"1.2em\" y2=\"3em\" /></svg><line stroke=\"black\" x1=\"50%\" x2=\"65.7407%\" y1=\"1.2em\" y2=\"3em\" /><svg width=\"8.33333%\" x=\"67.5926%\" y=\"3em\"><defs /><svg width=\"100%\" x=\"0\" y=\"0em\"><defs /><text text-anchor=\"middle\" x=\"50%\" y=\"1em\">meeting</text></svg><svg width=\"100%\" x=\"0%\" y=\"3em\"><defs /><svg width=\"100%\" x=\"0\" y=\"0em\"><defs /><text text-anchor=\"middle\" x=\"50%\" y=\"1em\">NN</text></svg></svg><line stroke=\"black\" x1=\"50%\" x2=\"50%\" y1=\"1.2em\" y2=\"3em\" /></svg><line stroke=\"black\" x1=\"50%\" x2=\"71.7593%\" y1=\"1.2em\" y2=\"3em\" /><svg width=\"3.7037%\" x=\"75.9259%\" y=\"3em\"><defs /><svg width=\"100%\" x=\"0\" y=\"0em\"><defs /><text text-anchor=\"middle\" x=\"50%\" y=\"1em\">at</text></svg><svg width=\"100%\" x=\"0%\" y=\"3em\"><defs /><svg width=\"100%\" x=\"0\" y=\"0em\"><defs /><text text-anchor=\"middle\" x=\"50%\" y=\"1em\">IN</text></svg></svg><line stroke=\"black\" x1=\"50%\" x2=\"50%\" y1=\"1.2em\" y2=\"3em\" /></svg><line stroke=\"black\" x1=\"50%\" x2=\"77.7778%\" y1=\"1.2em\" y2=\"3em\" /><svg width=\"4.62963%\" x=\"79.6296%\" y=\"3em\"><defs /><svg width=\"100%\" x=\"0\" y=\"0em\"><defs /><text text-anchor=\"middle\" x=\"50%\" y=\"1em\">the</text></svg><svg width=\"100%\" x=\"0%\" y=\"3em\"><defs /><svg width=\"100%\" x=\"0\" y=\"0em\"><defs /><text text-anchor=\"middle\" x=\"50%\" y=\"1em\">DT</text></svg></svg><line stroke=\"black\" x1=\"50%\" x2=\"50%\" y1=\"1.2em\" y2=\"3em\" /></svg><line stroke=\"black\" x1=\"50%\" x2=\"81.9444%\" y1=\"1.2em\" y2=\"3em\" /><svg width=\"12.963%\" x=\"84.2593%\" y=\"3em\"><defs /><svg width=\"100%\" x=\"0\" y=\"0em\"><defs /><text text-anchor=\"middle\" x=\"50%\" y=\"1em\">FACILITY</text></svg><svg width=\"50%\" x=\"0%\" y=\"3em\"><defs /><svg width=\"100%\" x=\"0\" y=\"0em\"><defs /><text text-anchor=\"middle\" x=\"50%\" y=\"1em\">White</text></svg><svg width=\"100%\" x=\"0%\" y=\"3em\"><defs /><svg width=\"100%\" x=\"0\" y=\"0em\"><defs /><text text-anchor=\"middle\" x=\"50%\" y=\"1em\">NNP</text></svg></svg><line stroke=\"black\" x1=\"50%\" x2=\"50%\" y1=\"1.2em\" y2=\"3em\" /></svg><line stroke=\"black\" x1=\"50%\" x2=\"25%\" y1=\"1.2em\" y2=\"3em\" /><svg width=\"50%\" x=\"50%\" y=\"3em\"><defs /><svg width=\"100%\" x=\"0\" y=\"0em\"><defs /><text text-anchor=\"middle\" x=\"50%\" y=\"1em\">House</text></svg><svg width=\"100%\" x=\"0%\" y=\"3em\"><defs /><svg width=\"100%\" x=\"0\" y=\"0em\"><defs /><text text-anchor=\"middle\" x=\"50%\" y=\"1em\">NNP</text></svg></svg><line stroke=\"black\" x1=\"50%\" x2=\"50%\" y1=\"1.2em\" y2=\"3em\" /></svg><line stroke=\"black\" x1=\"50%\" x2=\"75%\" y1=\"1.2em\" y2=\"3em\" /></svg><line stroke=\"black\" x1=\"50%\" x2=\"90.7407%\" y1=\"1.2em\" y2=\"3em\" /><svg width=\"2.77778%\" x=\"97.2222%\" y=\"3em\"><defs /><svg width=\"100%\" x=\"0\" y=\"0em\"><defs /><text text-anchor=\"middle\" x=\"50%\" y=\"1em\">.</text></svg><svg width=\"100%\" x=\"0%\" y=\"3em\"><defs /><svg width=\"100%\" x=\"0\" y=\"0em\"><defs /><text text-anchor=\"middle\" x=\"50%\" y=\"1em\">.</text></svg></svg><line stroke=\"black\" x1=\"50%\" x2=\"50%\" y1=\"1.2em\" y2=\"3em\" /></svg><line stroke=\"black\" x1=\"50%\" x2=\"98.6111%\" y1=\"1.2em\" y2=\"3em\" /></svg>"
          },
          "metadata": {},
          "execution_count": 15
        }
      ]
    },
    {
      "cell_type": "markdown",
      "source": [
        "Nesse exemplo, usamos o NER para identificar nomes de pessoas no texto. Primeiro, fazemos a tokenização do texto usando `word_tokenize()`. Em seguida, fazemos o tagging de partes do discurso usando a função `pos_tag()`. Depois, usamos o NER com `ne_chunk()` e percorremos as subárvores do resultado para identificar as entidades com a label `PERSON`. Por fim, juntamos as palavras de cada subárvore para formar o nome completo da pessoa e exibimos os nomes encontrados."
      ],
      "metadata": {
        "id": "mlP0TBwEuBoH"
      }
    },
    {
      "cell_type": "markdown",
      "source": [
        "Aqui está outro exemplo de como usar o NER com o `NLTK` para identificar os tipos de entidades que mais aparecem e as palavras mais comuns em um ou mais tipo de entidade:"
      ],
      "metadata": {
        "id": "E0uY9iQS6paz"
      }
    },
    {
      "cell_type": "code",
      "source": [
        "import nltk\n",
        "from collections import Counter\n",
        "\n",
        "def get_tipo_entidade(arvore):\n",
        "    \"\"\"\n",
        "    Obtém o tipo de entidade para uma subárvore de árvore de análise sintática\n",
        "    \"\"\"\n",
        "    return arvore.label()\n",
        "\n",
        "def get_entidades(texto):\n",
        "    \"\"\"\n",
        "    Retorna uma lista de entidades nomeadas em um texto\n",
        "    \"\"\"\n",
        "    entidades = []\n",
        "    for sent in nltk.sent_tokenize(texto):\n",
        "        for chunk in nltk.ne_chunk(nltk.pos_tag(nltk.word_tokenize(sent))):\n",
        "            if hasattr(chunk, 'label'):\n",
        "                entidades.append((' '.join(c[0] for c in chunk), get_tipo_entidade(chunk)))\n",
        "    return entidades\n",
        "\n",
        "def obter_palavras_por_tipo(*tipos, n=5):\n",
        "    \"\"\"\n",
        "    Retorna as palavras que mais aparecem para um ou mais tipos de entidades em uma lista de frases.\n",
        "    \"\"\"\n",
        "    result = {}\n",
        "    for tipo in tipos:\n",
        "        all_entities = []\n",
        "        for frase in frases:\n",
        "            entities = []\n",
        "            for sent in nltk.sent_tokenize(frase):\n",
        "                for chunk in nltk.ne_chunk(nltk.pos_tag(nltk.word_tokenize(sent))):\n",
        "                    if hasattr(chunk, 'label') and chunk.label() == tipo:\n",
        "                        entities.append(' '.join(c[0] for c in chunk))\n",
        "            all_entities.extend(entities)\n",
        "        counted_entities = Counter(all_entities)\n",
        "        result[tipo] = counted_entities.most_common(n)\n",
        "    return result"
      ],
      "metadata": {
        "id": "tWvpIUzM0uLR"
      },
      "execution_count": null,
      "outputs": []
    },
    {
      "cell_type": "code",
      "source": [
        "# Frases com nomes de políticos americanos\n",
        "frases = [\n",
        "    \"President Joe Biden and Vice President Kamala Harris attend a meeting at the White House.\",\n",
        "    \"Former President Barack Obama spoke at a virtual fundraiser for Joe Biden's campaign.\"\n",
        "]"
      ],
      "metadata": {
        "id": "rsczftx92raZ"
      },
      "execution_count": null,
      "outputs": []
    },
    {
      "cell_type": "code",
      "source": [
        "# Obtem todas as entidades de todas as frases\n",
        "entidades = []\n",
        "for frase in frases:\n",
        "    entidades.extend(get_entidades(frase))\n",
        "\n",
        "entidades"
      ],
      "metadata": {
        "colab": {
          "base_uri": "https://localhost:8080/"
        },
        "id": "yZU8FxzZ14jh",
        "outputId": "1cf717da-1a35-4009-d397-37dd746bec51"
      },
      "execution_count": null,
      "outputs": [
        {
          "output_type": "execute_result",
          "data": {
            "text/plain": [
              "[('Joe Biden', 'PERSON'),\n",
              " ('Kamala Harris', 'PERSON'),\n",
              " ('White House', 'FACILITY'),\n",
              " ('Barack Obama', 'PERSON'),\n",
              " ('Joe Biden', 'PERSON')]"
            ]
          },
          "metadata": {},
          "execution_count": 18
        }
      ]
    },
    {
      "cell_type": "code",
      "source": [
        "# Conta o número de ocorrências de cada tipo de entidade\n",
        "ocorrencias_entidades = Counter(entidade[1] for entidade in entidades)\n",
        "\n",
        "# Imprime o resultado\n",
        "print(\"Número de ocorrências de cada tipo de entidade:\")\n",
        "for tipo, n in ocorrencias_entidades.items():\n",
        "    print(f\"{tipo}: {n}\")"
      ],
      "metadata": {
        "colab": {
          "base_uri": "https://localhost:8080/"
        },
        "id": "HizxlEdv21lK",
        "outputId": "c924453a-50a1-4444-e04d-602b184ab0c1"
      },
      "execution_count": null,
      "outputs": [
        {
          "output_type": "stream",
          "name": "stdout",
          "text": [
            "Número de ocorrências de cada tipo de entidade:\n",
            "PERSON: 4\n",
            "FACILITY: 1\n"
          ]
        }
      ]
    },
    {
      "cell_type": "code",
      "source": [
        "# Palavras mais frequentes para os tipos 'PERSON' (pessoa) e 'FACILITY' (instalação)\n",
        "result = obter_palavras_por_tipo('PERSON', 'FACILITY', n=2)\n",
        "print(result)"
      ],
      "metadata": {
        "colab": {
          "base_uri": "https://localhost:8080/"
        },
        "id": "Lx430F_c4IEg",
        "outputId": "f074a897-5877-4f00-f905-83be225e89d1"
      },
      "execution_count": null,
      "outputs": [
        {
          "output_type": "stream",
          "name": "stdout",
          "text": [
            "{'PERSON': [('Joe Biden', 2), ('Kamala Harris', 1)], 'FACILITY': [('White House', 1)]}\n"
          ]
        }
      ]
    },
    {
      "cell_type": "markdown",
      "source": [
        "**spaCy**"
      ],
      "metadata": {
        "id": "C6UAHR5tr0tL"
      }
    },
    {
      "cell_type": "markdown",
      "source": [
        "![image.png](data:image/png;base64,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)"
      ],
      "metadata": {
        "id": "QhMpg1RJyK4B"
      }
    },
    {
      "cell_type": "markdown",
      "source": [
        "Aqui está um exemplo simples de código que usa o `spaCy` para identificar as entidades nomeadas em uma frase em inglês:"
      ],
      "metadata": {
        "id": "xyq4yOu_yr-8"
      }
    },
    {
      "cell_type": "code",
      "source": [
        "import spacy\n",
        "\n",
        "# Carregue um modelo de linguagem pré-treinado do spaCy\n",
        "nlp = spacy.load(\"en_core_web_sm\")\n",
        "\n",
        "# Frase de entrada para identificação de entidades nomeadas\n",
        "doc = nlp(\"John lives in New York and works for Google.\")\n",
        "\n",
        "# Iterar pelas entidades identificadas na frase\n",
        "for ent in doc.ents:\n",
        "    print(ent.text, ent.label_)"
      ],
      "metadata": {
        "colab": {
          "base_uri": "https://localhost:8080/"
        },
        "id": "tXaRLmBsyXI7",
        "outputId": "bf15c038-d5d6-4c37-ef02-15e0dc591201"
      },
      "execution_count": null,
      "outputs": [
        {
          "output_type": "stream",
          "name": "stdout",
          "text": [
            "John PERSON\n",
            "New York GPE\n",
            "Google ORG\n"
          ]
        }
      ]
    },
    {
      "cell_type": "markdown",
      "source": [
        "**`POS tagging`**"
      ],
      "metadata": {
        "id": "tNGfhQmEzpwc"
      }
    },
    {
      "cell_type": "code",
      "source": [
        "import spacy\n",
        "\n",
        "# Carregue um modelo de linguagem pré-treinado do spaCy\n",
        "nlp = spacy.load(\"en_core_web_sm\")\n",
        "\n",
        "# Frase de entrada para POS tagging\n",
        "doc = nlp(\"John lives in New York and works for Google.\")\n",
        "\n",
        "# Iterar pelas palavras identificadas na frase\n",
        "for token in doc:\n",
        "    print(token.text, token.pos_)"
      ],
      "metadata": {
        "colab": {
          "base_uri": "https://localhost:8080/"
        },
        "id": "a-dyFDCxzbk0",
        "outputId": "82c106ab-8bed-43bc-ccf3-499af75d4e91"
      },
      "execution_count": null,
      "outputs": [
        {
          "output_type": "stream",
          "name": "stdout",
          "text": [
            "John PROPN\n",
            "lives VERB\n",
            "in ADP\n",
            "New PROPN\n",
            "York PROPN\n",
            "and CCONJ\n",
            "works VERB\n",
            "for ADP\n",
            "Google PROPN\n",
            ". PUNCT\n"
          ]
        }
      ]
    },
    {
      "cell_type": "markdown",
      "source": [
        "**`Lematização`**"
      ],
      "metadata": {
        "id": "AO9WbSG-01Xz"
      }
    },
    {
      "cell_type": "code",
      "source": [
        "import spacy\n",
        "\n",
        "# Carregue um modelo de linguagem pré-treinado do spaCy\n",
        "nlp = spacy.load(\"en_core_web_sm\")\n",
        "\n",
        "# Frase de entrada para lematização\n",
        "doc = nlp(\"John lives in New York and works for Google.\")\n",
        "\n",
        "# Iterar pelas palavras na frase e imprimir seus lemas\n",
        "for token in doc:\n",
        "    print(token.text, \"->\", token.lemma_)"
      ],
      "metadata": {
        "colab": {
          "base_uri": "https://localhost:8080/"
        },
        "id": "uMYqxpQD0mPJ",
        "outputId": "84c13e9d-ba58-406e-9af8-0015a46f34a5"
      },
      "execution_count": null,
      "outputs": [
        {
          "output_type": "stream",
          "name": "stdout",
          "text": [
            "John -> John\n",
            "lives -> live\n",
            "in -> in\n",
            "New -> New\n",
            "York -> York\n",
            "and -> and\n",
            "works -> work\n",
            "for -> for\n",
            "Google -> Google\n",
            ". -> .\n"
          ]
        }
      ]
    },
    {
      "cell_type": "markdown",
      "source": [
        "**`Visualização`**"
      ],
      "metadata": {
        "id": "2Ga3Q33I2JXl"
      }
    },
    {
      "cell_type": "markdown",
      "source": [
        "`spaCy` também fornece recursos para visualizar as entidades nomeadas e as análises sintáticas de um texto. Aqui está um exemplo de como visualizar as entidades nomeadas em um texto:"
      ],
      "metadata": {
        "id": "orjiifg21Bbp"
      }
    },
    {
      "cell_type": "code",
      "source": [
        "import spacy\n",
        "from spacy import displacy\n",
        "\n",
        "# Carregue um modelo de linguagem pré-treinado do spaCy\n",
        "nlp = spacy.load(\"en_core_web_sm\")\n",
        "\n",
        "# Texto de entrada para visualização de entidades nomeadas\n",
        "text = \"John lives in New York and works for Google.\"\n",
        "\n",
        "# Processar o texto com o modelo carregado\n",
        "doc = nlp(text)\n",
        "\n",
        "# Renderizar as entidades nomeadas em um gráfico\n",
        "displacy.render(doc, style=\"ent\", jupyter=True)"
      ],
      "metadata": {
        "colab": {
          "base_uri": "https://localhost:8080/",
          "height": 52
        },
        "id": "8pM3n3JD1JRe",
        "outputId": "cda19208-eb4a-4604-ad4b-8c0d380e0fc4"
      },
      "execution_count": null,
      "outputs": [
        {
          "output_type": "display_data",
          "data": {
            "text/plain": [
              "<IPython.core.display.HTML object>"
            ],
            "text/html": [
              "<span class=\"tex2jax_ignore\"><div class=\"entities\" style=\"line-height: 2.5; direction: ltr\">\n",
              "<mark class=\"entity\" style=\"background: #aa9cfc; padding: 0.45em 0.6em; margin: 0 0.25em; line-height: 1; border-radius: 0.35em;\">\n",
              "    John\n",
              "    <span style=\"font-size: 0.8em; font-weight: bold; line-height: 1; border-radius: 0.35em; vertical-align: middle; margin-left: 0.5rem\">PERSON</span>\n",
              "</mark>\n",
              " lives in \n",
              "<mark class=\"entity\" style=\"background: #feca74; padding: 0.45em 0.6em; margin: 0 0.25em; line-height: 1; border-radius: 0.35em;\">\n",
              "    New York\n",
              "    <span style=\"font-size: 0.8em; font-weight: bold; line-height: 1; border-radius: 0.35em; vertical-align: middle; margin-left: 0.5rem\">GPE</span>\n",
              "</mark>\n",
              " and works for \n",
              "<mark class=\"entity\" style=\"background: #7aecec; padding: 0.45em 0.6em; margin: 0 0.25em; line-height: 1; border-radius: 0.35em;\">\n",
              "    Google\n",
              "    <span style=\"font-size: 0.8em; font-weight: bold; line-height: 1; border-radius: 0.35em; vertical-align: middle; margin-left: 0.5rem\">ORG</span>\n",
              "</mark>\n",
              ".</div></span>"
            ]
          },
          "metadata": {}
        }
      ]
    },
    {
      "cell_type": "markdown",
      "source": [
        "**`Número de Entidades`**"
      ],
      "metadata": {
        "id": "3-sI_hjV2NCy"
      }
    },
    {
      "cell_type": "markdown",
      "source": [
        "Para saber o número de entidades nomeadas encontradas em um texto pelo `spaCy`, você pode iterar pelo objeto `doc.ents` e contar o número de entidades encontradas. Aqui está um exemplo:"
      ],
      "metadata": {
        "id": "O3IiO1IY1wrS"
      }
    },
    {
      "cell_type": "code",
      "source": [
        "import spacy\n",
        "\n",
        "# Carregue um modelo de linguagem pré-treinado do spaCy\n",
        "nlp = spacy.load(\"en_core_web_sm\")\n",
        "\n",
        "# Texto de entrada para identificar as entidades nomeadas\n",
        "text = \"John lives in New York and works for Google.\"\n",
        "\n",
        "# Processar o texto com o modelo carregado\n",
        "doc = nlp(text)\n",
        "\n",
        "# Contar o número de entidades nomeadas encontradas\n",
        "num_entities = len(doc.ents)\n",
        "\n",
        "print(\"Número de entidades encontradas:\", num_entities)"
      ],
      "metadata": {
        "colab": {
          "base_uri": "https://localhost:8080/"
        },
        "id": "nOGvPdpA1mJM",
        "outputId": "8eb9c1e7-f533-4aca-bf82-d182ca0608b3"
      },
      "execution_count": null,
      "outputs": [
        {
          "output_type": "stream",
          "name": "stdout",
          "text": [
            "Número de entidades encontradas: 3\n"
          ]
        }
      ]
    },
    {
      "cell_type": "markdown",
      "source": [
        "**`Atributos Adicionais`**"
      ],
      "metadata": {
        "id": "cRy9xL642Tdb"
      }
    },
    {
      "cell_type": "markdown",
      "source": [
        "Aqui está um exemplo que usa outros atributos das entidades encontradas pelo `spaCy` para mostrar informações adicionais sobre elas:"
      ],
      "metadata": {
        "id": "MsuiwDw42XEq"
      }
    },
    {
      "cell_type": "code",
      "source": [
        "import spacy\n",
        "\n",
        "# Carregue um modelo de linguagem pré-treinado do spaCy\n",
        "nlp = spacy.load(\"en_core_web_sm\")\n",
        "\n",
        "# Texto de entrada para identificar as entidades nomeadas\n",
        "text = \"John lives in New York and works for Google.\"\n",
        "\n",
        "# Processar o texto com o modelo carregado\n",
        "doc = nlp(text)\n",
        "\n",
        "# Iterar pelas entidades nomeadas encontradas e imprimir informações adicionais\n",
        "for ent in doc.ents:\n",
        "    print(ent.text, ent.label_, ent.start_char, ent.end_char, ent.start, ent.end, spacy.explain(ent.label_))"
      ],
      "metadata": {
        "colab": {
          "base_uri": "https://localhost:8080/"
        },
        "id": "afCVU3tC2anR",
        "outputId": "aeef46fe-cb69-4915-ef5c-07763348d14c"
      },
      "execution_count": null,
      "outputs": [
        {
          "output_type": "stream",
          "name": "stdout",
          "text": [
            "John PERSON 0 4 0 1 People, including fictional\n",
            "New York GPE 14 22 3 5 Countries, cities, states\n",
            "Google ORG 37 43 8 9 Companies, agencies, institutions, etc.\n"
          ]
        }
      ]
    },
    {
      "cell_type": "markdown",
      "source": [
        "**`Argumento colors`**"
      ],
      "metadata": {
        "id": "okk97Nv73Egc"
      }
    },
    {
      "cell_type": "markdown",
      "source": [
        "Você pode passar uma lista de tipos de entidade que deseja visualizar no `spaCy` usando o argumento `colors` do método `displacy.render()`. Aqui está um exemplo:"
      ],
      "metadata": {
        "id": "MUZ2fGxh2_2D"
      }
    },
    {
      "cell_type": "code",
      "source": [
        "import spacy\n",
        "from spacy import displacy\n",
        "\n",
        "# Carregue um modelo de linguagem pré-treinado do spaCy\n",
        "nlp = spacy.load(\"en_core_web_sm\")\n",
        "\n",
        "# Texto de entrada para identificar as entidades nomeadas\n",
        "text = \"Barack Obama was born in Hawaii and served as the 44th President of the United States from 2009 to 2017.\"\n",
        "\n",
        "# Processar o texto com o modelo carregado\n",
        "doc = nlp(text)\n",
        "\n",
        "# Definir os tipos de entidade que deseja visualizar\n",
        "entity_colors = {\"PERSON\": \"yellow\", \"GPE\": \"green\"}\n",
        "\n",
        "# Renderizar o gráfico de dependência com as entidades destacadas\n",
        "displacy.render(doc, style=\"ent\", jupyter=True, options={\"colors\": entity_colors})"
      ],
      "metadata": {
        "colab": {
          "base_uri": "https://localhost:8080/",
          "height": 52
        },
        "id": "jDaDZxBJ2z7h",
        "outputId": "9c1f4d48-0487-4d5c-8dd3-8e61a9616b5d"
      },
      "execution_count": null,
      "outputs": [
        {
          "output_type": "display_data",
          "data": {
            "text/plain": [
              "<IPython.core.display.HTML object>"
            ],
            "text/html": [
              "<span class=\"tex2jax_ignore\"><div class=\"entities\" style=\"line-height: 2.5; direction: ltr\">\n",
              "<mark class=\"entity\" style=\"background: yellow; padding: 0.45em 0.6em; margin: 0 0.25em; line-height: 1; border-radius: 0.35em;\">\n",
              "    Barack Obama\n",
              "    <span style=\"font-size: 0.8em; font-weight: bold; line-height: 1; border-radius: 0.35em; vertical-align: middle; margin-left: 0.5rem\">PERSON</span>\n",
              "</mark>\n",
              " was born in \n",
              "<mark class=\"entity\" style=\"background: green; padding: 0.45em 0.6em; margin: 0 0.25em; line-height: 1; border-radius: 0.35em;\">\n",
              "    Hawaii\n",
              "    <span style=\"font-size: 0.8em; font-weight: bold; line-height: 1; border-radius: 0.35em; vertical-align: middle; margin-left: 0.5rem\">GPE</span>\n",
              "</mark>\n",
              " and served as the \n",
              "<mark class=\"entity\" style=\"background: #e4e7d2; padding: 0.45em 0.6em; margin: 0 0.25em; line-height: 1; border-radius: 0.35em;\">\n",
              "    44th\n",
              "    <span style=\"font-size: 0.8em; font-weight: bold; line-height: 1; border-radius: 0.35em; vertical-align: middle; margin-left: 0.5rem\">ORDINAL</span>\n",
              "</mark>\n",
              " President of \n",
              "<mark class=\"entity\" style=\"background: green; padding: 0.45em 0.6em; margin: 0 0.25em; line-height: 1; border-radius: 0.35em;\">\n",
              "    the United States\n",
              "    <span style=\"font-size: 0.8em; font-weight: bold; line-height: 1; border-radius: 0.35em; vertical-align: middle; margin-left: 0.5rem\">GPE</span>\n",
              "</mark>\n",
              " from \n",
              "<mark class=\"entity\" style=\"background: #bfe1d9; padding: 0.45em 0.6em; margin: 0 0.25em; line-height: 1; border-radius: 0.35em;\">\n",
              "    2009\n",
              "    <span style=\"font-size: 0.8em; font-weight: bold; line-height: 1; border-radius: 0.35em; vertical-align: middle; margin-left: 0.5rem\">DATE</span>\n",
              "</mark>\n",
              " to \n",
              "<mark class=\"entity\" style=\"background: #bfe1d9; padding: 0.45em 0.6em; margin: 0 0.25em; line-height: 1; border-radius: 0.35em;\">\n",
              "    2017\n",
              "    <span style=\"font-size: 0.8em; font-weight: bold; line-height: 1; border-radius: 0.35em; vertical-align: middle; margin-left: 0.5rem\">DATE</span>\n",
              "</mark>\n",
              ".</div></span>"
            ]
          },
          "metadata": {}
        }
      ]
    },
    {
      "cell_type": "markdown",
      "source": [
        "**`Filtrar as entidades`**"
      ],
      "metadata": {
        "id": "dV3m_C_84MTQ"
      }
    },
    {
      "cell_type": "markdown",
      "source": [
        "Para visualizar apenas um tipo específico de entidade, você pode usar a opção `ents` do método `displacy.render()` para filtrar as entidades que deseja visualizar. Aqui está um exemplo:"
      ],
      "metadata": {
        "id": "kcQrAIpT4GPm"
      }
    },
    {
      "cell_type": "code",
      "source": [
        "import spacy\n",
        "from spacy import displacy\n",
        "\n",
        "# Carregue um modelo de linguagem pré-treinado do spaCy\n",
        "nlp = spacy.load(\"en_core_web_sm\")\n",
        "\n",
        "# Texto de entrada para identificar as entidades nomeadas\n",
        "text = \"Barack Obama was born in Hawaii and served as the 44th President of the United States from 2009 to 2017.\"\n",
        "\n",
        "# Processar o texto com o modelo carregado\n",
        "doc = nlp(text)\n",
        "\n",
        "# Definir os tipos de entidade que deseja visualizar\n",
        "entity_types = [\"PERSON\", \"GPE\"]\n",
        "\n",
        "# Filtrar as entidades para visualizar apenas as dos tipos especificados\n",
        "selected_entities = [ent for ent in doc.ents if ent.label_ in entity_types]\n",
        "\n",
        "# Renderizar o gráfico de dependência com as entidades destacadas\n",
        "displacy.render(selected_entities, style=\"ent\", jupyter=True)"
      ],
      "metadata": {
        "colab": {
          "base_uri": "https://localhost:8080/",
          "height": 122
        },
        "id": "aAYK1dBF3hX9",
        "outputId": "41ff7c2e-a15b-4b6a-b901-e2f1f31d79ec"
      },
      "execution_count": null,
      "outputs": [
        {
          "output_type": "display_data",
          "data": {
            "text/plain": [
              "<IPython.core.display.HTML object>"
            ],
            "text/html": [
              "<span class=\"tex2jax_ignore\"><div class=\"entities\" style=\"line-height: 2.5; direction: ltr\">\n",
              "<mark class=\"entity\" style=\"background: #aa9cfc; padding: 0.45em 0.6em; margin: 0 0.25em; line-height: 1; border-radius: 0.35em;\">\n",
              "    Barack Obama\n",
              "    <span style=\"font-size: 0.8em; font-weight: bold; line-height: 1; border-radius: 0.35em; vertical-align: middle; margin-left: 0.5rem\">PERSON</span>\n",
              "</mark>\n",
              " </div>\n",
              "\n",
              "<div class=\"entities\" style=\"line-height: 2.5; direction: ltr\">\n",
              "<mark class=\"entity\" style=\"background: #feca74; padding: 0.45em 0.6em; margin: 0 0.25em; line-height: 1; border-radius: 0.35em;\">\n",
              "    Hawaii\n",
              "    <span style=\"font-size: 0.8em; font-weight: bold; line-height: 1; border-radius: 0.35em; vertical-align: middle; margin-left: 0.5rem\">GPE</span>\n",
              "</mark>\n",
              " </div>\n",
              "\n",
              "<div class=\"entities\" style=\"line-height: 2.5; direction: ltr\">\n",
              "<mark class=\"entity\" style=\"background: #feca74; padding: 0.45em 0.6em; margin: 0 0.25em; line-height: 1; border-radius: 0.35em;\">\n",
              "    the United States\n",
              "    <span style=\"font-size: 0.8em; font-weight: bold; line-height: 1; border-radius: 0.35em; vertical-align: middle; margin-left: 0.5rem\">GPE</span>\n",
              "</mark>\n",
              " </div></span>"
            ]
          },
          "metadata": {}
        }
      ]
    },
    {
      "cell_type": "code",
      "source": [
        "options = {'ents': ['PERSON', 'GPE']}\n",
        "\n",
        "displacy.render(doc, jupyter=True, style='ent', options=options)"
      ],
      "metadata": {
        "colab": {
          "base_uri": "https://localhost:8080/",
          "height": 52
        },
        "id": "jGi6EMwP3ydl",
        "outputId": "ed4d2577-10e4-4af8-e266-fcd4fdf939b1"
      },
      "execution_count": null,
      "outputs": [
        {
          "output_type": "display_data",
          "data": {
            "text/plain": [
              "<IPython.core.display.HTML object>"
            ],
            "text/html": [
              "<span class=\"tex2jax_ignore\"><div class=\"entities\" style=\"line-height: 2.5; direction: ltr\">\n",
              "<mark class=\"entity\" style=\"background: #aa9cfc; padding: 0.45em 0.6em; margin: 0 0.25em; line-height: 1; border-radius: 0.35em;\">\n",
              "    Barack Obama\n",
              "    <span style=\"font-size: 0.8em; font-weight: bold; line-height: 1; border-radius: 0.35em; vertical-align: middle; margin-left: 0.5rem\">PERSON</span>\n",
              "</mark>\n",
              " was born in \n",
              "<mark class=\"entity\" style=\"background: #feca74; padding: 0.45em 0.6em; margin: 0 0.25em; line-height: 1; border-radius: 0.35em;\">\n",
              "    Hawaii\n",
              "    <span style=\"font-size: 0.8em; font-weight: bold; line-height: 1; border-radius: 0.35em; vertical-align: middle; margin-left: 0.5rem\">GPE</span>\n",
              "</mark>\n",
              " and served as the 44th President of \n",
              "<mark class=\"entity\" style=\"background: #feca74; padding: 0.45em 0.6em; margin: 0 0.25em; line-height: 1; border-radius: 0.35em;\">\n",
              "    the United States\n",
              "    <span style=\"font-size: 0.8em; font-weight: bold; line-height: 1; border-radius: 0.35em; vertical-align: middle; margin-left: 0.5rem\">GPE</span>\n",
              "</mark>\n",
              " from 2009 to 2017.</div></span>"
            ]
          },
          "metadata": {}
        }
      ]
    },
    {
      "cell_type": "markdown",
      "source": [
        "Você também pode passar opções de cor de fundo e gradiente:"
      ],
      "metadata": {
        "id": "KceQcmP74pST"
      }
    },
    {
      "cell_type": "code",
      "source": [
        "colors = {'PERSON': 'linear-gradient(90deg, #aa9cde, #dc9ce7)', 'GPE': 'radial-gradient(white, red)'}\n",
        "options = {'ents': ['PERSON', 'GPE'], 'colors':colors}\n",
        "\n",
        "displacy.render(doc, jupyter=True, style='ent', options=options)"
      ],
      "metadata": {
        "colab": {
          "base_uri": "https://localhost:8080/",
          "height": 52
        },
        "id": "vZqw7ZTj4as8",
        "outputId": "070229d5-5fb8-4eb0-cae1-b41f356bed51"
      },
      "execution_count": null,
      "outputs": [
        {
          "output_type": "display_data",
          "data": {
            "text/plain": [
              "<IPython.core.display.HTML object>"
            ],
            "text/html": [
              "<span class=\"tex2jax_ignore\"><div class=\"entities\" style=\"line-height: 2.5; direction: ltr\">\n",
              "<mark class=\"entity\" style=\"background: linear-gradient(90deg, #aa9cde, #dc9ce7); padding: 0.45em 0.6em; margin: 0 0.25em; line-height: 1; border-radius: 0.35em;\">\n",
              "    Barack Obama\n",
              "    <span style=\"font-size: 0.8em; font-weight: bold; line-height: 1; border-radius: 0.35em; vertical-align: middle; margin-left: 0.5rem\">PERSON</span>\n",
              "</mark>\n",
              " was born in \n",
              "<mark class=\"entity\" style=\"background: radial-gradient(white, red); padding: 0.45em 0.6em; margin: 0 0.25em; line-height: 1; border-radius: 0.35em;\">\n",
              "    Hawaii\n",
              "    <span style=\"font-size: 0.8em; font-weight: bold; line-height: 1; border-radius: 0.35em; vertical-align: middle; margin-left: 0.5rem\">GPE</span>\n",
              "</mark>\n",
              " and served as the 44th President of \n",
              "<mark class=\"entity\" style=\"background: radial-gradient(white, red); padding: 0.45em 0.6em; margin: 0 0.25em; line-height: 1; border-radius: 0.35em;\">\n",
              "    the United States\n",
              "    <span style=\"font-size: 0.8em; font-weight: bold; line-height: 1; border-radius: 0.35em; vertical-align: middle; margin-left: 0.5rem\">GPE</span>\n",
              "</mark>\n",
              " from 2009 to 2017.</div></span>"
            ]
          },
          "metadata": {}
        }
      ]
    },
    {
      "cell_type": "markdown",
      "source": [
        "**`Português`**"
      ],
      "metadata": {
        "id": "NiPhPrMEVTjg"
      }
    },
    {
      "cell_type": "markdown",
      "source": [
        "Aqui está um exemplo de código para reconhecimento de entidades nomeadas usando o `spaCy` com um modelo pré-treinado em português :"
      ],
      "metadata": {
        "id": "bEXF_SEmVYIz"
      }
    },
    {
      "cell_type": "code",
      "source": [
        "!python -m spacy download pt_core_news_lg"
      ],
      "metadata": {
        "colab": {
          "base_uri": "https://localhost:8080/"
        },
        "id": "HmUsKgFAVYnv",
        "outputId": "78744cea-7d28-449c-e0c7-b40ab927e34f"
      },
      "execution_count": null,
      "outputs": [
        {
          "output_type": "stream",
          "name": "stdout",
          "text": [
            "2023-04-18 11:11:07.573768: I tensorflow/core/platform/cpu_feature_guard.cc:182] This TensorFlow binary is optimized to use available CPU instructions in performance-critical operations.\n",
            "To enable the following instructions: AVX2 FMA, in other operations, rebuild TensorFlow with the appropriate compiler flags.\n",
            "2023-04-18 11:11:10.667271: W tensorflow/compiler/tf2tensorrt/utils/py_utils.cc:38] TF-TRT Warning: Could not find TensorRT\n",
            "Looking in indexes: https://pypi.org/simple, https://us-python.pkg.dev/colab-wheels/public/simple/\n",
            "Collecting pt-core-news-lg==3.5.0\n",
            "  Downloading https://github.com/explosion/spacy-models/releases/download/pt_core_news_lg-3.5.0/pt_core_news_lg-3.5.0-py3-none-any.whl (568.2 MB)\n",
            "\u001b[2K     \u001b[90m━━━━━━━━━━━━━━━━━━━━━━━━━━━━━━━━━━━━━━━\u001b[0m \u001b[32m568.2/568.2 MB\u001b[0m \u001b[31m1.8 MB/s\u001b[0m eta \u001b[36m0:00:00\u001b[0m\n",
            "\u001b[?25hRequirement already satisfied: spacy<3.6.0,>=3.5.0 in /usr/local/lib/python3.9/dist-packages (from pt-core-news-lg==3.5.0) (3.5.1)\n",
            "Requirement already satisfied: spacy-loggers<2.0.0,>=1.0.0 in /usr/local/lib/python3.9/dist-packages (from spacy<3.6.0,>=3.5.0->pt-core-news-lg==3.5.0) (1.0.4)\n",
            "Requirement already satisfied: srsly<3.0.0,>=2.4.3 in /usr/local/lib/python3.9/dist-packages (from spacy<3.6.0,>=3.5.0->pt-core-news-lg==3.5.0) (2.4.6)\n",
            "Requirement already satisfied: spacy-legacy<3.1.0,>=3.0.11 in /usr/local/lib/python3.9/dist-packages (from spacy<3.6.0,>=3.5.0->pt-core-news-lg==3.5.0) (3.0.12)\n",
            "Requirement already satisfied: jinja2 in /usr/local/lib/python3.9/dist-packages (from spacy<3.6.0,>=3.5.0->pt-core-news-lg==3.5.0) (3.1.2)\n",
            "Requirement already satisfied: smart-open<7.0.0,>=5.2.1 in /usr/local/lib/python3.9/dist-packages (from spacy<3.6.0,>=3.5.0->pt-core-news-lg==3.5.0) (6.3.0)\n",
            "Requirement already satisfied: setuptools in /usr/local/lib/python3.9/dist-packages (from spacy<3.6.0,>=3.5.0->pt-core-news-lg==3.5.0) (67.6.1)\n",
            "Requirement already satisfied: preshed<3.1.0,>=3.0.2 in /usr/local/lib/python3.9/dist-packages (from spacy<3.6.0,>=3.5.0->pt-core-news-lg==3.5.0) (3.0.8)\n",
            "Requirement already satisfied: wasabi<1.2.0,>=0.9.1 in /usr/local/lib/python3.9/dist-packages (from spacy<3.6.0,>=3.5.0->pt-core-news-lg==3.5.0) (1.1.1)\n",
            "Requirement already satisfied: murmurhash<1.1.0,>=0.28.0 in /usr/local/lib/python3.9/dist-packages (from spacy<3.6.0,>=3.5.0->pt-core-news-lg==3.5.0) (1.0.9)\n",
            "Requirement already satisfied: langcodes<4.0.0,>=3.2.0 in /usr/local/lib/python3.9/dist-packages (from spacy<3.6.0,>=3.5.0->pt-core-news-lg==3.5.0) (3.3.0)\n",
            "Requirement already satisfied: catalogue<2.1.0,>=2.0.6 in /usr/local/lib/python3.9/dist-packages (from spacy<3.6.0,>=3.5.0->pt-core-news-lg==3.5.0) (2.0.8)\n",
            "Requirement already satisfied: typer<0.8.0,>=0.3.0 in /usr/local/lib/python3.9/dist-packages (from spacy<3.6.0,>=3.5.0->pt-core-news-lg==3.5.0) (0.7.0)\n",
            "Requirement already satisfied: tqdm<5.0.0,>=4.38.0 in /usr/local/lib/python3.9/dist-packages (from spacy<3.6.0,>=3.5.0->pt-core-news-lg==3.5.0) (4.65.0)\n",
            "Requirement already satisfied: cymem<2.1.0,>=2.0.2 in /usr/local/lib/python3.9/dist-packages (from spacy<3.6.0,>=3.5.0->pt-core-news-lg==3.5.0) (2.0.7)\n",
            "Requirement already satisfied: numpy>=1.15.0 in /usr/local/lib/python3.9/dist-packages (from spacy<3.6.0,>=3.5.0->pt-core-news-lg==3.5.0) (1.22.4)\n",
            "Requirement already satisfied: pathy>=0.10.0 in /usr/local/lib/python3.9/dist-packages (from spacy<3.6.0,>=3.5.0->pt-core-news-lg==3.5.0) (0.10.1)\n",
            "Requirement already satisfied: thinc<8.2.0,>=8.1.8 in /usr/local/lib/python3.9/dist-packages (from spacy<3.6.0,>=3.5.0->pt-core-news-lg==3.5.0) (8.1.9)\n",
            "Requirement already satisfied: packaging>=20.0 in /usr/local/lib/python3.9/dist-packages (from spacy<3.6.0,>=3.5.0->pt-core-news-lg==3.5.0) (23.0)\n",
            "Requirement already satisfied: pydantic!=1.8,!=1.8.1,<1.11.0,>=1.7.4 in /usr/local/lib/python3.9/dist-packages (from spacy<3.6.0,>=3.5.0->pt-core-news-lg==3.5.0) (1.10.7)\n",
            "Requirement already satisfied: requests<3.0.0,>=2.13.0 in /usr/local/lib/python3.9/dist-packages (from spacy<3.6.0,>=3.5.0->pt-core-news-lg==3.5.0) (2.27.1)\n",
            "Requirement already satisfied: typing-extensions>=4.2.0 in /usr/local/lib/python3.9/dist-packages (from pydantic!=1.8,!=1.8.1,<1.11.0,>=1.7.4->spacy<3.6.0,>=3.5.0->pt-core-news-lg==3.5.0) (4.5.0)\n",
            "Requirement already satisfied: certifi>=2017.4.17 in /usr/local/lib/python3.9/dist-packages (from requests<3.0.0,>=2.13.0->spacy<3.6.0,>=3.5.0->pt-core-news-lg==3.5.0) (2022.12.7)\n",
            "Requirement already satisfied: idna<4,>=2.5 in /usr/local/lib/python3.9/dist-packages (from requests<3.0.0,>=2.13.0->spacy<3.6.0,>=3.5.0->pt-core-news-lg==3.5.0) (3.4)\n",
            "Requirement already satisfied: urllib3<1.27,>=1.21.1 in /usr/local/lib/python3.9/dist-packages (from requests<3.0.0,>=2.13.0->spacy<3.6.0,>=3.5.0->pt-core-news-lg==3.5.0) (1.26.15)\n",
            "Requirement already satisfied: charset-normalizer~=2.0.0 in /usr/local/lib/python3.9/dist-packages (from requests<3.0.0,>=2.13.0->spacy<3.6.0,>=3.5.0->pt-core-news-lg==3.5.0) (2.0.12)\n",
            "Requirement already satisfied: blis<0.8.0,>=0.7.8 in /usr/local/lib/python3.9/dist-packages (from thinc<8.2.0,>=8.1.8->spacy<3.6.0,>=3.5.0->pt-core-news-lg==3.5.0) (0.7.9)\n",
            "Requirement already satisfied: confection<1.0.0,>=0.0.1 in /usr/local/lib/python3.9/dist-packages (from thinc<8.2.0,>=8.1.8->spacy<3.6.0,>=3.5.0->pt-core-news-lg==3.5.0) (0.0.4)\n",
            "Requirement already satisfied: click<9.0.0,>=7.1.1 in /usr/local/lib/python3.9/dist-packages (from typer<0.8.0,>=0.3.0->spacy<3.6.0,>=3.5.0->pt-core-news-lg==3.5.0) (8.1.3)\n",
            "Requirement already satisfied: MarkupSafe>=2.0 in /usr/local/lib/python3.9/dist-packages (from jinja2->spacy<3.6.0,>=3.5.0->pt-core-news-lg==3.5.0) (2.1.2)\n",
            "Installing collected packages: pt-core-news-lg\n",
            "Successfully installed pt-core-news-lg-3.5.0\n",
            "\u001b[38;5;2m✔ Download and installation successful\u001b[0m\n",
            "You can now load the package via spacy.load('pt_core_news_lg')\n"
          ]
        }
      ]
    },
    {
      "cell_type": "code",
      "source": [
        "import spacy\n",
        "\n",
        "# Carregando o modelo pré-treinado em português\n",
        "nlp = spacy.load(\"pt_core_news_lg\")\n",
        "\n",
        "# Texto de exemplo\n",
        "texto = \"O Brasil é um país localizado na América do Sul. A capital do Brasil é Brasília.\"\n",
        "\n",
        "# Processando o texto com o modelo pré-treinado\n",
        "doc = nlp(texto)\n",
        "\n",
        "# Iterando sobre as entidades nomeadas encontradas no texto\n",
        "for entidade in doc.ents:\n",
        "    print(entidade.text, entidade.label_)"
      ],
      "metadata": {
        "colab": {
          "base_uri": "https://localhost:8080/"
        },
        "id": "DoyZWIKNVa9D",
        "outputId": "e48213cd-3cee-436f-ed78-540bf90f1cd5"
      },
      "execution_count": null,
      "outputs": [
        {
          "output_type": "stream",
          "name": "stdout",
          "text": [
            "Brasil LOC\n",
            "América do Sul LOC\n",
            "Brasil LOC\n",
            "Brasília LOC\n"
          ]
        }
      ]
    },
    {
      "cell_type": "code",
      "source": [
        "from spacy import displacy\n",
        "\n",
        "# Renderizar as entidades nomeadas em um gráfico\n",
        "displacy.render(doc, style=\"ent\", jupyter=True)"
      ],
      "metadata": {
        "colab": {
          "base_uri": "https://localhost:8080/",
          "height": 52
        },
        "id": "ejtI2whJV6iK",
        "outputId": "4565b0ff-2e0e-4696-a6e0-efc60df882f8"
      },
      "execution_count": null,
      "outputs": [
        {
          "output_type": "display_data",
          "data": {
            "text/plain": [
              "<IPython.core.display.HTML object>"
            ],
            "text/html": [
              "<span class=\"tex2jax_ignore\"><div class=\"entities\" style=\"line-height: 2.5; direction: ltr\">O \n",
              "<mark class=\"entity\" style=\"background: #ff9561; padding: 0.45em 0.6em; margin: 0 0.25em; line-height: 1; border-radius: 0.35em;\">\n",
              "    Brasil\n",
              "    <span style=\"font-size: 0.8em; font-weight: bold; line-height: 1; border-radius: 0.35em; vertical-align: middle; margin-left: 0.5rem\">LOC</span>\n",
              "</mark>\n",
              " é um país localizado na \n",
              "<mark class=\"entity\" style=\"background: #ff9561; padding: 0.45em 0.6em; margin: 0 0.25em; line-height: 1; border-radius: 0.35em;\">\n",
              "    América do Sul\n",
              "    <span style=\"font-size: 0.8em; font-weight: bold; line-height: 1; border-radius: 0.35em; vertical-align: middle; margin-left: 0.5rem\">LOC</span>\n",
              "</mark>\n",
              ". A capital do \n",
              "<mark class=\"entity\" style=\"background: #ff9561; padding: 0.45em 0.6em; margin: 0 0.25em; line-height: 1; border-radius: 0.35em;\">\n",
              "    Brasil\n",
              "    <span style=\"font-size: 0.8em; font-weight: bold; line-height: 1; border-radius: 0.35em; vertical-align: middle; margin-left: 0.5rem\">LOC</span>\n",
              "</mark>\n",
              " é \n",
              "<mark class=\"entity\" style=\"background: #ff9561; padding: 0.45em 0.6em; margin: 0 0.25em; line-height: 1; border-radius: 0.35em;\">\n",
              "    Brasília\n",
              "    <span style=\"font-size: 0.8em; font-weight: bold; line-height: 1; border-radius: 0.35em; vertical-align: middle; margin-left: 0.5rem\">LOC</span>\n",
              "</mark>\n",
              ".</div></span>"
            ]
          },
          "metadata": {}
        }
      ]
    },
    {
      "cell_type": "code",
      "source": [
        "doc = nlp(\"Eu moro em São Paulo e trabalho na empresa Google.\")\n",
        "\n",
        "displacy.render(doc, style=\"ent\", jupyter=True)"
      ],
      "metadata": {
        "colab": {
          "base_uri": "https://localhost:8080/",
          "height": 52
        },
        "id": "X4bGaHrkXepO",
        "outputId": "a238c07d-d769-46c7-c41c-71a6523a3550"
      },
      "execution_count": null,
      "outputs": [
        {
          "output_type": "display_data",
          "data": {
            "text/plain": [
              "<IPython.core.display.HTML object>"
            ],
            "text/html": [
              "<span class=\"tex2jax_ignore\"><div class=\"entities\" style=\"line-height: 2.5; direction: ltr\">Eu moro em \n",
              "<mark class=\"entity\" style=\"background: #ff9561; padding: 0.45em 0.6em; margin: 0 0.25em; line-height: 1; border-radius: 0.35em;\">\n",
              "    São Paulo\n",
              "    <span style=\"font-size: 0.8em; font-weight: bold; line-height: 1; border-radius: 0.35em; vertical-align: middle; margin-left: 0.5rem\">LOC</span>\n",
              "</mark>\n",
              " e trabalho na empresa \n",
              "<mark class=\"entity\" style=\"background: #7aecec; padding: 0.45em 0.6em; margin: 0 0.25em; line-height: 1; border-radius: 0.35em;\">\n",
              "    Google\n",
              "    <span style=\"font-size: 0.8em; font-weight: bold; line-height: 1; border-radius: 0.35em; vertical-align: middle; margin-left: 0.5rem\">ORG</span>\n",
              "</mark>\n",
              ".</div></span>"
            ]
          },
          "metadata": {}
        }
      ]
    },
    {
      "cell_type": "markdown",
      "source": [
        "Se você está se perguntando qual poderia ser o significado do rótulo retornado, podemos usar o código abaixo:"
      ],
      "metadata": {
        "id": "pgw5gyUeW8fm"
      }
    },
    {
      "cell_type": "code",
      "source": [
        "spacy.explain('LOC'), spacy.explain('ORG'), spacy.explain('GPE') "
      ],
      "metadata": {
        "colab": {
          "base_uri": "https://localhost:8080/"
        },
        "id": "gWw_b-I6Wxdn",
        "outputId": "e1d812c2-ac1d-4184-fb92-dacbb00ead19"
      },
      "execution_count": null,
      "outputs": [
        {
          "output_type": "execute_result",
          "data": {
            "text/plain": [
              "('Non-GPE locations, mountain ranges, bodies of water',\n",
              " 'Companies, agencies, institutions, etc.',\n",
              " 'Countries, cities, states')"
            ]
          },
          "metadata": {},
          "execution_count": 12
        }
      ]
    },
    {
      "cell_type": "markdown",
      "source": [
        "**`Adicionando uma nova Entidade`**"
      ],
      "metadata": {
        "id": "MVnzZALiZ_ZJ"
      }
    },
    {
      "cell_type": "code",
      "source": [
        "import spacy\n",
        "from spacy.tokens import Span\n",
        "from spacy import displacy\n",
        "\n",
        "nlp = spacy.load(\"pt_core_news_lg\")\n",
        "\n",
        "# texto de exemplo\n",
        "text = \"Come-se pizza de melhor qualidade em São Paulo do que no Rio de Janeiro\"\n",
        "\n",
        "doc = nlp(text)\n",
        "\n",
        "# exibe todas as entidades do documento\n",
        "for ent in doc.ents:\n",
        "    print(ent.text, ent.label_)"
      ],
      "metadata": {
        "colab": {
          "base_uri": "https://localhost:8080/"
        },
        "id": "PhQmUB0Neh-l",
        "outputId": "34c3ebae-4836-4bdb-b24a-05af9ff04022"
      },
      "execution_count": null,
      "outputs": [
        {
          "output_type": "stream",
          "name": "stdout",
          "text": [
            "São Paulo LOC\n",
            "Rio de Janeiro LOC\n"
          ]
        }
      ]
    },
    {
      "cell_type": "code",
      "source": [
        "# cria uma nova entidade\n",
        "new_ent = Span(doc, 1, 2, label=\"COMIDA\")\n",
        "\n",
        "# adiciona a nova entidade à lista de entidades existentes\n",
        "doc_ents = list(doc.ents) + [new_ent]\n",
        "\n",
        "# define a lista de entidades atualizada no documento\n",
        "doc.ents = doc_ents\n",
        "\n",
        "# exibe todas as entidades no documento, incluindo a nova entidade criada\n",
        "for ent in doc.ents:\n",
        "    print(ent.text, ent.label_)"
      ],
      "metadata": {
        "colab": {
          "base_uri": "https://localhost:8080/"
        },
        "id": "FsZofhP-gnop",
        "outputId": "6233fc51-d540-4cad-ccf5-b95a5d70fc18"
      },
      "execution_count": null,
      "outputs": [
        {
          "output_type": "stream",
          "name": "stdout",
          "text": [
            "pizza COMIDA\n",
            "São Paulo LOC\n",
            "Rio de Janeiro LOC\n"
          ]
        }
      ]
    },
    {
      "cell_type": "code",
      "source": [
        "# exibe a visualização das entidades usando displacy\n",
        "displacy.render(doc, style=\"ent\", jupyter=True)"
      ],
      "metadata": {
        "colab": {
          "base_uri": "https://localhost:8080/",
          "height": 52
        },
        "id": "AQO3lEhxhAzr",
        "outputId": "1443069d-82bf-464f-8bbb-795b3f6d956b"
      },
      "execution_count": null,
      "outputs": [
        {
          "output_type": "display_data",
          "data": {
            "text/plain": [
              "<IPython.core.display.HTML object>"
            ],
            "text/html": [
              "<span class=\"tex2jax_ignore\"><div class=\"entities\" style=\"line-height: 2.5; direction: ltr\">Come-se \n",
              "<mark class=\"entity\" style=\"background: #ddd; padding: 0.45em 0.6em; margin: 0 0.25em; line-height: 1; border-radius: 0.35em;\">\n",
              "    pizza\n",
              "    <span style=\"font-size: 0.8em; font-weight: bold; line-height: 1; border-radius: 0.35em; vertical-align: middle; margin-left: 0.5rem\">COMIDA</span>\n",
              "</mark>\n",
              " de melhor qualidade em \n",
              "<mark class=\"entity\" style=\"background: #ff9561; padding: 0.45em 0.6em; margin: 0 0.25em; line-height: 1; border-radius: 0.35em;\">\n",
              "    São Paulo\n",
              "    <span style=\"font-size: 0.8em; font-weight: bold; line-height: 1; border-radius: 0.35em; vertical-align: middle; margin-left: 0.5rem\">LOC</span>\n",
              "</mark>\n",
              " do que no \n",
              "<mark class=\"entity\" style=\"background: #ff9561; padding: 0.45em 0.6em; margin: 0 0.25em; line-height: 1; border-radius: 0.35em;\">\n",
              "    Rio de Janeiro\n",
              "    <span style=\"font-size: 0.8em; font-weight: bold; line-height: 1; border-radius: 0.35em; vertical-align: middle; margin-left: 0.5rem\">LOC</span>\n",
              "</mark>\n",
              "</div></span>"
            ]
          },
          "metadata": {}
        }
      ]
    },
    {
      "cell_type": "code",
      "source": [
        "doc = nlp(\"A melhor pizza do mundo é a de São Paulo.\")\n",
        "\n",
        "displacy.render(doc, style=\"ent\", jupyter=True)"
      ],
      "metadata": {
        "colab": {
          "base_uri": "https://localhost:8080/",
          "height": 52
        },
        "id": "DZEgV6M0fLSk",
        "outputId": "78e2fdf5-d6b4-4ece-9cf4-55611061ed22"
      },
      "execution_count": null,
      "outputs": [
        {
          "output_type": "display_data",
          "data": {
            "text/plain": [
              "<IPython.core.display.HTML object>"
            ],
            "text/html": [
              "<span class=\"tex2jax_ignore\"><div class=\"entities\" style=\"line-height: 2.5; direction: ltr\">A melhor pizza do mundo é a \n",
              "<mark class=\"entity\" style=\"background: #ff9561; padding: 0.45em 0.6em; margin: 0 0.25em; line-height: 1; border-radius: 0.35em;\">\n",
              "    de São Paulo\n",
              "    <span style=\"font-size: 0.8em; font-weight: bold; line-height: 1; border-radius: 0.35em; vertical-align: middle; margin-left: 0.5rem\">LOC</span>\n",
              "</mark>\n",
              ".</div></span>"
            ]
          },
          "metadata": {}
        }
      ]
    },
    {
      "cell_type": "code",
      "source": [
        "import spacy\n",
        "from spacy.tokens import Span\n",
        "\n",
        "nlp = spacy.load(\"pt_core_news_lg\")\n",
        "\n",
        "# texto de exemplo\n",
        "text = \"Come-se pizza de melhor qualidade em São Paulo do que no Rio de Janeiro\"\n",
        "\n",
        "doc = nlp(text)\n",
        "\n",
        "# exibe todas as entidades do documento\n",
        "for ent in doc.ents:\n",
        "    print(ent.text, ent.label_)"
      ],
      "metadata": {
        "colab": {
          "base_uri": "https://localhost:8080/"
        },
        "id": "zKwbTVYZaEng",
        "outputId": "f512c993-3f56-47ef-f596-218a54ebc7a8"
      },
      "execution_count": null,
      "outputs": [
        {
          "output_type": "stream",
          "name": "stdout",
          "text": [
            "São Paulo LOC\n",
            "Rio de Janeiro LOC\n"
          ]
        }
      ]
    },
    {
      "cell_type": "code",
      "source": [
        "# cria uma nova entidade \n",
        "new_ent = Span(doc, 1, 2, label=\"COMIDA\")\n",
        "doc.set_ents([new_ent], default='unmodified')\n",
        "\n",
        "displacy.render(doc, style=\"ent\", jupyter=True)"
      ],
      "metadata": {
        "colab": {
          "base_uri": "https://localhost:8080/",
          "height": 52
        },
        "id": "P9IxgF90hNDP",
        "outputId": "01a61743-0ae7-47f0-8978-5034a007a71d"
      },
      "execution_count": null,
      "outputs": [
        {
          "output_type": "display_data",
          "data": {
            "text/plain": [
              "<IPython.core.display.HTML object>"
            ],
            "text/html": [
              "<span class=\"tex2jax_ignore\"><div class=\"entities\" style=\"line-height: 2.5; direction: ltr\">Come-se \n",
              "<mark class=\"entity\" style=\"background: #ddd; padding: 0.45em 0.6em; margin: 0 0.25em; line-height: 1; border-radius: 0.35em;\">\n",
              "    pizza\n",
              "    <span style=\"font-size: 0.8em; font-weight: bold; line-height: 1; border-radius: 0.35em; vertical-align: middle; margin-left: 0.5rem\">COMIDA</span>\n",
              "</mark>\n",
              " de melhor qualidade em \n",
              "<mark class=\"entity\" style=\"background: #ff9561; padding: 0.45em 0.6em; margin: 0 0.25em; line-height: 1; border-radius: 0.35em;\">\n",
              "    São Paulo\n",
              "    <span style=\"font-size: 0.8em; font-weight: bold; line-height: 1; border-radius: 0.35em; vertical-align: middle; margin-left: 0.5rem\">LOC</span>\n",
              "</mark>\n",
              " do que no \n",
              "<mark class=\"entity\" style=\"background: #ff9561; padding: 0.45em 0.6em; margin: 0 0.25em; line-height: 1; border-radius: 0.35em;\">\n",
              "    Rio de Janeiro\n",
              "    <span style=\"font-size: 0.8em; font-weight: bold; line-height: 1; border-radius: 0.35em; vertical-align: middle; margin-left: 0.5rem\">LOC</span>\n",
              "</mark>\n",
              "</div></span>"
            ]
          },
          "metadata": {}
        }
      ]
    },
    {
      "cell_type": "code",
      "source": [
        "doc = nlp(\"A melhor pizza do mundo é a de São Paulo.\")\n",
        "\n",
        "displacy.render(doc, style=\"ent\", jupyter=True)"
      ],
      "metadata": {
        "colab": {
          "base_uri": "https://localhost:8080/",
          "height": 52
        },
        "id": "EIJ5giYfeKx2",
        "outputId": "efa48cbd-33cd-4878-bd8d-bbcbe251ee7f"
      },
      "execution_count": null,
      "outputs": [
        {
          "output_type": "display_data",
          "data": {
            "text/plain": [
              "<IPython.core.display.HTML object>"
            ],
            "text/html": [
              "<span class=\"tex2jax_ignore\"><div class=\"entities\" style=\"line-height: 2.5; direction: ltr\">A melhor pizza do mundo é a \n",
              "<mark class=\"entity\" style=\"background: #ff9561; padding: 0.45em 0.6em; margin: 0 0.25em; line-height: 1; border-radius: 0.35em;\">\n",
              "    de São Paulo\n",
              "    <span style=\"font-size: 0.8em; font-weight: bold; line-height: 1; border-radius: 0.35em; vertical-align: middle; margin-left: 0.5rem\">LOC</span>\n",
              "</mark>\n",
              ".</div></span>"
            ]
          },
          "metadata": {}
        }
      ]
    },
    {
      "cell_type": "markdown",
      "source": [
        "> https://demos.explosion.ai/displacy-ent\n",
        "\n",
        "![image.png](data:image/png;base64,iVBORw0KGgoAAAANSUhEUgAAAbUAAADiCAYAAADJVlkmAAAgAElEQVR4Xux9B3wc1bX+p+27Wq206r1YxSruDXdcKabZhEBIILRA/gkhySMJeXl5CeEFEl56hxRIeBASaiB0Y3DvXZYtS7Z6LyutpC3a/v/OrORCcAHsgM3MD2N5NTv33jMz9zvlO+fERHhAPVQJqBJQJaBKQJXAeSCBmDMFaqFQGBpNDAacg0iwx8PR24/KympMmlQBe2L8eSAqdQmqBFQJqBJQJfBRl8AZAzWvZxh/f/JFuD0e3HnXLXjrzfV46Lf/h+uuvxLXXHc59u+rQXl5MbQ67UddJur8VAmoElAloErgHJXABwa1A/sPKUsvryjGC8+/jmeffgX3//AeHD7ciL4+J5YsnYc9u6owMDCEFZ+49BwVkzptVQKqBFQJqBI4FyTwgUHtJz/6PdwuN267/XoEAgF4aLGlpibBGhcLs9mkyOCXP38EMy6YhJmzpqC2th7JyYlISrKfC/JR56hKQJWAKgEI9SAmJuZDkUTAH4DeoP9Qxj4XB/3AoNba0qG4GQW0rlpx8bvKQOJsbo8XB/bXou5QI4wmIz557eWItVrORZmpc1YloErgYyKB6j17EZeZD29/N8IRE8aW5kRXLvS6YzCus60T8VTWzUbD8ZIRHt5pgGEkHMCh6kPo6vdh3IQy2G1Rg+Dgrh1odeswfmwe0lKPNwROBrTdLU2oru/CuMnjkGSzoK66Bi2t3bClZWLKhEKC9LtPKxIOI0ajiS7x9KaOod5O7Ktpg8VqxfCQCwWl+UhLTjoih6OiiqB6zz4MBHSYNq0cusgwtm47iDKu19nZjowxBdAdL9b39ZR9IFDbRbeixMkCgSBMBCq9XqZ04uO1V1crRJLOzh7cdPM1JJAkvK9Jq19SJaBKQJXA2ZZAJODG/z7wEEqmzURmkgF7uQHPXjoXuqAbLd1u5GXEQxeXglB/O1745xos/uQKTC20o6bJyXP8GBzsRc9gCFNnTCGwGE86XQ9B8xmGbsxpBZg0rgAdjc2II+Fu39YdGDDGIjQYxrKLp8LjD0KvI+iEY+Aa7IfeFo/+ti5k5mWhq70byZnZGF+eh3889iS8xgRcevki2K0mPPfUS0hLz0DY1w+3zo54XQBmawL6u9rgjWhgMJqQnZmGrtZ22NNTCeIOaG0pBMAiaEkAPNnRuGsTXthQj4Q4A0JhI8aVp8I1FEB6bi7Crj40dPajdPxklOQZ8bMfPYEpc+dh3uxyaIN9uO/eh1EwYSbSY72wZRci2N8HU2IS9AEf/GEdzDoP2nq9yBtTiLGFmaejH+B9g5pYaH99/Hl85e7PKYB2OkeQ4Ldhw3bk5WWjYMyIxnM6X1TPUSWgSkCVwL9ZAge3bsCzL2+GNSMTSdxoy/MTsa/yEDwBLWbMHofNL72MokVXItR2GB39Llx90yeQ6OnEP7e1QTfUD1eQCnxfBBcunodJZSff70J+H6rIFu/t7kZtQxsKy8ZB6+5EoyOEfIKUp3UQY4ss+M0ja5CXEEbGhEnwtTagwx9GekYpxiZ7sHpPD8pL83DVJdPwzN9fxWDYgJSUDKy4YhZe/OdbmDNrBgbbduP+P6zDwskFGHSHkJ5ugSE2Dl6NEZVvbMS1X7kR+99YiUBcHMLaeFy9fDFslpO7Pht2bcb2lgDiwi7UNTmIB35UTJyKg/u2w6PNxqwKK3oiGZiWGcJzr21FLENTRZNm44JSM55/eRtcPQ50cC3D1iwU2A2I0Zkw0HoQnTEpyE6wIj42AkNyHq64ZBYM2lO7gN83qD3/7Ksw0tS+7Iol7+lRE5P58KEGbNm0C0suno+MjNT39H31ZFUCqgRUCZx1CUTC2LZxC+x5ZdAONGNbdTvMkRDi09KgDfkw6AdS4w1oaeuDTm9EnDkG6UUlKMu2YdXb29DROYjycbloqO9EyfjxmHAKUBseGsBegppzwA0trabQ8DBMdOeZjXpYk1PQXt+KwjGJqNx1GGG9AenZqWjbf4DgY0d2VhFKM4A31u1HYXkZZk7MwdbNlaintecJm3DrTVdg67pNTLMaQlxKEiwGLVqaWxEXl0yXphEGixVDIQ16qutgSCDIGc2w6Py0sIaxdMkcWmAnN1q66w5ia3UXZaAlUIaRlqRBr4OWF3kTnr4+NLUQpKcvxPQcA3YeqMOhA7XInzwPF83Jxqbt9SjOSsL6dVtooaXAy/VPnjQGlfub6Ir0Izm3EGFHK/oiVixZOAMm/VkEtYd+8xjmzJuOCRPL39PzVVV5EH978gW4XB7cett1mDi54j19Xz1ZlYAqAVUCZ18CEYSC4SMpSMFgkC41N2x0CWoQomtxGDZbLNyDQ9CZzDDoYuD2+mGNNcNPQPKHAItJx32O58VbT2u6QVprg24/Eu20nNwuaAwWGPXR+JbX64VOZ2CI52hKlGuIYxs4Nj+THGGPywVjrBVizIQDfriGg4g1G6DR6ZR/9zoGkJSWAk4Vg1xLHC0mELxJgVFihHKNIYaH4hJsGHa7EdHqYTa9I0b4biuhodLvcEBjolVFV6ccQ5SLNc6K7atXo6bDg4svW4LUBBM8jLmR9UKLS0NlgPNiDE8zEsNDOIghbxBxsdFrjAb1BsmcN1liuc6oLE51vG9L7WGSQ5ZcNB9FxfmnGuO430v8rbamnv7dFNjtNmi1at7aexKgerIqAVUCqgRUCZxQAu8b1B767WO4cMEs5qeVvCfxOhz9WLd2K5Jpmk6dPgEWi/k9fV89WZWAKgFVAqoEVAmcSAInBLWnX6rFwbp+mOh/pYVIP6sWN1w9FqlJURq+kESSSdu8+NIL35N0JZetpbkdHWTqlI8robUWLaG1YVs7Vm9sYZxOtdzek0DVk1UJqBJQJfAxk4DXF8KE0mSsuLTwX1Z+QlD76r1r8TZBxhprIKhFlLSMH35rNhbNjrJ4ag7W4aUX38TXv/n/TlucHrcXr7y8CgaDAVdcuRQa+lVHj2//aBNeWdUAi1lNMjxtgaonqhJQJaBK4GMogUGXD5cvGYMHvzXn9EHtmw9swNotbQS1KMi43AFce0Ux7r5jivJvYTH+/Kd/xAUzJ2PO3OmnJdY1qzdjcGCQQVYXSkuLMW3GBOV7DucwPn/PW+ghY0Z/msHA0xpQPUmVgCoBVQKqBM47CQy5/LhkYT7u+9rM9w9q/kAYKYlm/O4HC5GWEnVBtra0s5rI47jtjusxZkzuSQXX2tqhkEJeZwK25LVdetkiJJBlI8ezrxzCz/+4Gya6Hj+sUjTn3V1XF6RKQJWAKoFzUAJhGkzhkJQlE0am5l0Trs8IqIls3J4APr2iFHfdMvGIqCr3VjMT/mUsWjQHCxfP/hcR9pEYIpVEKvcewM23fUoBPwEuw0gts95+L77y3bVoZnKh0XjyiiTn4P1Rp6xKQJWAKgFVAqchASnL5WcuhI7eOpuV1UnYzmxgyA8N8eKdHrwzBmohoqfkMnz/G7Mwexqz/UaOdtY9e/651+Ab9qG0vAh5+TksrcI8BOZH5Bdk477v/kyp2L9g4Wxc+6krjlveD3+zHf9cWY/YU2Stn4ZM1FNUCagSUCWgSuAclIAAWpB5gRMrkjFnWhbsCUaFoNjSPoRV65vQzrJkxmNy9M4YqImsfETSJLuJvsxZmFiefJz46uuaUVV1EG10NbqGPMhlPTLpp9bU2Aqfz6+UxtLrjxJB/vjXKvzlmWoYDRoFLNVDlYAqAVUCqgQ+fhIQXJk7PRM3fKKMPA4TcSYI6U5gkOonBLY/ECvau1xKorkcZxTU5IJeZqonM772ldsmYxFLnbzXQyb0yN/345mXDymT1J5GPa/3OoZ6vioBVQKqBFQJfPQlEKCFlpxowtc+P50VRxxoZTeBjMxU7Nt7EM7+AVy6bB7q28J49O+VivEj4aszDmqjFpuO1aKXLczHNZcVoyA3Svo42SH+0s07O/HXFw5iX3UvS7DoVAvtVEJTf69KQJWAKoHzWAJiJE0dn4q7Pz8Dq97cCIeDXQ4YuiotK0Idm01Pmz4eEY0JD/xyq2JQiRF0VkBNZCwxtmGfWG0WzJqajimcWHF+PNmRscw307ENQQQDrPwp5mMNE7k37WhH5cFetqoJK4CmHqoEVAmoElAl8PGWgIf1HqdPTMOXPzeVJRQbcai2gdWqZqK3t1/pwbn04nmsW+nBD36zjTUwzzKojd4KCfANM8NbCk4mxBsV0odYcRL8E1+poKpz0Kf05THSR6rGzz7eD7G6elUCqgRUCYxKIBBgC5xUK77xhelw9nXj0UeewYwZk5Ri0mVlxSgqymbFqRa6H/crX1EKL5+JPLXTuQVSeUSsM/l7tDNsNNcgRmFDnkYD2NMZRj1HlYAqAVUCqgTOIwlIHvTFC/JxxeIcdHZ0E7SGSTTMRGpKAtv4DOHhJ9hKp3ng7BFFziNZqktRJaBKQJWAKoEPWQJKKUbaQnOmZ2HR3DykJpvpavSjrrEfb6xt5t9OhQk5evzbLLUPWS7q8KoEVAmoElAlcI5KQCqJCN9CSjNKLzpx+Al4SQhLwlbHHiqonaM3WZ22KgFVAqoEPm4SEAKiAJxkLkvo6t04GCqofdyeCnW9qgRUCagSOI8loILaeXxz1aWpElAloErg4yYBFdQ+bndcXa8qAVUCqgTOYwmcc6DmZ86bhjlvSvUs5gGcrCpkiDlyQQYUje/Sh016vgmjRsqqnCidQH4v5436bYWF80Hy6GQcqZwiHmGpaalcf6TJqjxjJ5uL/D7qSz7xfEefU5nn6LVk/kePU3939FyRq5SokYCsnnmF0fmdx2+CujRVAqoEzgsJnDugJnszkSwnx4YhFq90uIPsjn1iUJON3Z4Ui0RTDBo73MrmPLopS0JfDHPjBOy8rHqiZZdtSf5+t0OuI9/VcSwBiA/S002CnJkZcWA9FTR3eJSSLnJNLUFDWigIwEku37GHzDUcOQqCkuQnwK4l40f3LnOW+ck15TqyJhkzmuw+CuKn99yyswNS02IRqw2joc0zUlft9L6rnqVKQJWAKoEPSwLnBqhxn/d4/IixmHD//Rdiz3M1GDMtE9vXHMTru/tg4KatZ/FjbueKdSGwIH8vv24irixgMcxf7MCgP6xs8gJs2QUpuPOz45Acp0fr4U78+vH96BoIwWrRKZaUgEyQ9NEJkwrwlRvy8MCDGxBOScRd1xTjZz/djCYBVI4muRExBAsfz5Xryh9piaDn52JJCt1UDqGchvkLR38I99w9B6kGF/7753sRn2zBnV+eiSITC0Fzvjs3NOGxl+ugIWV1xBBlxnwarBov9rcF8J0vTsaqlTVwxBgx1OBAU/+wklkvgCsJinod12cy4ztfmYqda2vw15XtuPX2GcjW+uCPs6JxVz2eX9epgLgAnWAiMQ96/iDy0tN6lPULkA+HNbj9jmkotgyjzWuEq6UTf3qhiSXMpFkrlLUHCbgCfiJ7wqYyhxjORdarGnUf1iutjqtK4OMtgXMC1ALcecvK0jBlXBKWLs3Hiw/vRmpFKnZta4DbYEFFtgXbd7ZDb4tFeWECzLoIVq1rwuSFpbi2xIyvP1SJ2bNzoPMPY9WmLnzz2xfC2N2Dv67uwm03VmDbusPo7Pdj47ZOTCRY+vtc2LynF3PmV+AX/zUBm1YdxFNbHfjmrRPwjXveRsbEDIxJ1GH1pjboE6y4oMyOSCiE7j4fMtMs2Lq9BW0DYSydnwtD0I+Va1sQmxKPWax/uWxJAdob2/Gtn+6GPd2GH/14CepfrMKbh5wYGuD3cxOQyfqYEc51EwH7S1+ah/IkLx74bRVmzsmC0+XDlcvHofr1arxZ44R/wIPqZg9msofdgco2NPX48dWvL0CpdgBf/U01HvrxQqx7hSVkklLQfagBNQ4NZo5PxqGDnRgI6JFui8HhnmGUF8Sjclc3KmZkISs2Bi9zzld9ejImmH2o7GKps94BDMKAVJsWgeEA1qxvRXpxCsblWrB+UzMVDgumViTBT+Vj3dY2DAc+mKv24/1aqqtXJaBK4P1K4CMPaj5uoCUTc3DvnZNw8EAPJkxJw5O/3Ylx8/PQ2DSES5cW0iTy4vU3DsGckYT55TYc7g0hPuTB1qZhTE/W46ntDnxiaQ5ys+Owcn075s1KwR9/uwUvb+lDnFWP/MJUPPC1aXjyr5W4ckU5Xn12F/72dheWLKrAlz+TgT4XLRiPB3GxRjz0aDUuu7oY+RlWNFW14YBHj89emIIOTwxSLRF0uSLor+nCIb8eiyfGI2I2Ydv6RmQUpULnG0ZKph0N+5vx7V/thT0tDvfdvwjpLg/anB68+kYNLrl2BlLDPhjizagkaJsyczEu3Y+fPlqDq68uREfbAGbMKUTt24ew16PDJeVmPLfJgRsvzcI9965H+2AQZZNyce9tJXjhrXZcMjcd3/3BFtx42yx01ddjwgXlKEgCtmxhcz0PFYK0EB7f2osvX1OCv/yhCktH1la9oxkdOhNK9EEMGS1wdXajuisGN1xbBnuAPYxebMUN1xSh30VrjU1ed7X48KnF2fgbuyz8Y1UTxEg9kUv3/T6s6vdUCagSUCVwKgl85EHNNRTA8msm4ualKbjlWxtx3w8WYcdTVZhEi2f/gV52005Fss2A7sNd6NOaoel34PGdbvzuyxXYVN1P1xuwozOAsmwD0nOTcGAf+/EUJaFuYy3+8GobPvvpCuzlBj95XhGWzUxBe7MT3/vxFnQMhbFgQQVuvcSCnz/Tjp9+bw48Tb149MVmzJ2XiaBGh6RhD7b1hlFuYQfWLhMW5WvwerUbt0xKhdNshcE/gDaCnc4Qg6kFZnzre5sw97JJyDG5cPeDOxVL7YcPLsK+v+/Ba9V98AyHcP/3F2LVn/cicXwO8qx92N2ZjGnJffj6nxvwxE8W4KUX9mHq5ZOw/tfr8VZPBA8/cCHMdB9uXXMAv3q2Purq1BrwnW/Ox+zSWKx5vQrf/0sD/ve+pWjcX4247GwUZ5gQYaPWgx10xSb48cyOPtxx+Ri89UYzJsxME/8pLM5B7OPc82L8CNri0dNQh+e2B3Dv7WX41UPbkTtrLL6+LA2vbetFvlWHFoJbijmEb/xoG4wmg9oH71Rvnvp7VQKqBM6KBD7yoBZgl9O0/BT895emIuLxIT0rFo/9bjemEdT2VHaipDwd48fEo25PCzojRiyekoTuoRDaajuwj4Azn+6xBp8eUwrNMFrNeHvlQWxpDeFbN5Wiz+mH3RTBvYyZIT0d/3f/LPz9sa345fONjJXFYNacMnzusjjc/u2tuPbGGVg+0YKX1vbgsmW5GPSE4WpyYLczggqrG2u7TZidHYN19V5clReLt5vpJpybin6C8ptv1qF8xhiUZxlhpQW2Z1s9vv9wFeJT4/DdexcgaWCI7ko/9tKFOmtJEdY/X4OkskxkWp1YW6vH3dfmEkxrsHBeLtbQmiuaU4GJ5mF86yfbsfT66fgCweWur67EzmYvLEYNXO4ArrhmMr5xfQH+6zursKF2GN//5gLUE9R0qRmYPzEZAboTn9/YjU+vKMYwzaoYWoubdzmxcEkW3H6gt7YLtX4tcjUsRUOAHhxwILe0ABNTNNi0qxPb6Rq9fHkRAp4AqivbMUQ38Lh0Le5/aA+Di2q38rPytqoXVSWgSuCUEvjIg5qsQGp+pZI1OCYzFm5u2J2dLtjsZvQ53LDExyLTrkNlTR9uu2MmSqwh/OWFQ6it74cxzoJkcww6nAEUj7GTdRhGW8cQmtrdKChMQn6qCTW1vWjr9SK3LAcP/eck3HvfGuxq8ijMyDh+Pz1Ji8MNg9DS+sjLsKC1zYW8AjviCB6OXg/cdLMJQ3AgEMPPgMHhCJKMMTjU5kZpaQqs/J00PYXBiIqSBGk0h25+r7XLAx0JFjk5CUi3GxSyS3vbIEIaLQb7vdCZDTBqQ2hljKy8JBGuQS9iSArp73UhrDOiJCcWu/d04aobpuGiUj3u/O+NCOn1CkFFiB5mqwl5XJ9Ur/aHaHFlx8NN8AzQiivKsaKFFmk744hjCxMRZ9ZgaMiPNsolv8iOWK69p9uNYUk9iCFrkiAV5t9Wul+tJLEY9WDn2W4Yk6wozrKg5pCDbBgj4sk0bW53qdz/U7526gmqBFQJnC0JnBOgFgW2EIIkjAhlXc9NV3LQhKUYJv0uwGS0GDL6ll1SDL3bhefeamEjUu68ZOTxNIX6Lt8XVqTkXMkf/8j1hLknJI/yKbm4YIwJT794CF5E2YvCWJRrR9mLUWaljB0QhiAvJixCYRAqP48wCfmRMqaBTMSjOWkcIxJW2IGSNibMQ+kvJz8LPT80kkumUO+Fij/ydzRHLEZhUcpYo7+TAf1BydczYPllJfB39eKVrd0wHVPYU+Ti59yFpShzlLloeA1hiMo8ZCw9/y3XJmwdkeu7rU2+Q6RSZCC5cnIYjVQROAch8SgVsiUdgb+SdamHKgFVAqoEPiwJnDOgdioBCYVcOm1LerLQzo/LOT7Fl4WiLhT+Yf6RCtDnSpLxB1nzqeSp/l6VgCoBVQLnogTOG1A7F4WvzlmVgCoBVQKqBM6sBFRQO7PyVK+mSkCVgCoBVQIfogRUUPsQha8OrUpAlYAqAVUCZ1YCKqidWXmqV1MloEpAlYAqgQ9RAucEqAnrLihFBtWKgh/io6IO/V4kIAzbc4Vw9F7WpZ6rSuCjLoGPPKgJhdxM+rg1Vv+eGI0fdcGr8zu/JTAw5ENQUk3ORmVnpk6EmG6iNK5gt4ljx1A6NDC3QlJA3jm2fIdJh0eqvQQlLeYd54VEeeQXjy1xdmynimPvmnxf0kRO0ODiuBss11A6UIx0y5CUEvVQJXA2JPCRBzU3K1YsnpuDOz4zHvKzeqgS+ChLYLSP3Q9+vV1JfJccx7NxSG6gFAjw8J2QfEQBMClSYGR+Zkq8AR1MnpekeebrK4ekuMRaDAQgFgpglRsBowSWl3O7/Equ4eg5NpsRIVbxcQ2zJRMBU0BSZ9AxsV6L3gGm4wuC8XTBp4QEE4IsYO2SHMiRz+U6AowRTkgKCoyCrNmiR6yky8hnvH6v06fkSqqHKoEzLYGPPKjJBJdfUohvfWk6XCqonen7/7G8HvsMKJuznhVYgoEgLQgm00OS9T+4WSV98QRg7vrOWhw87ICJXoYzeUhyfEauHTddPRbO3kGseqMRrXxHWOgMsyZlsiiBnxXfbPC7fait60Vta7QXXpgFBpYuKkeG2Y3HXmmBjvO66+ZxWL+2AZv39cFMMBRL6rprx8O5vw2vH2BLJ1aRCUa0uO6TFWx11IE3drIyzkiivjvE1kS3TEDDW4ewrtmltB7SaHUEMiil66zDw9iwvxcmXneYwDdxSjaWL8mG00tJ+/147fXDqGx0nTXQP5MyV691bkngnAC1Ky8ag3u+MA1DUpRQPVQJfEAJ6DQBWhMBHD5ch4KCfFZHMdFaEfA5c6B29/+sR01d3xkHNR8tqOJx6fj251jUekM9BjUGzGbLnxqWOBufn4Duhi606K2YX2TD/r3t6PEBrL2N/dubYGLdz3H5tJbibLBFPIiYTLCZ9Kg91I8slktL0gXQ0hcC/2Lx71i8+EwlaoYMuOnidLxFQLtpRRG2bmtH4dg01twJYYgKga/Vi6KpaWiu6YWfZmEkEEBeSSrQ6sA9v92DuUtLcNWcFByq60cGS7V1NffjYE8QJck6/PHv1dDqz51iBx/wsVO//m+SgApq/yZBq8N8NCQgVpRRH8HmzZuwfft2lJeXY+HCRSxtpjsjMdtRS+1sgdqwN4hSWmTfZB/Af7zCZrmlqQj7aHlazDAzxuVyDUFnj0cc3YOb2bpo7MxiTM/U4j++txaTZ5XhigsT2UjWijSrdDQfgmMwjIq8RHZ28KOxoR8aXgdDQWSW2FG5thbP7/Hg5ksysHa3A5/5RCmMdEcGvcOoavciMc2ElCDhjTVKO/sjyE7VYNv2NthyUxHT4cAv/tmIr3x+KhZMTEETQc5Pe667dQD7O3wotGvxp6cOqqD20XgtzqtZqKB2Xt1OdTGnkoBCaoj40N7eBrvdjr4+BzIzs2jOmM8JUJOap7ZECxbOyYaObtN+FsZuY6xLLB69Toc8ux7NfcO0zvTQudxIGZeNAqMPP2IfwLFjU1nY2ozkZCsCbi/6PBH2BbSgkt0ubOkJ4KcEJ8bbGIsbMyYBTTWd2FY7hKuXl8HINkvaWDN6OhknjGXrIlpk/ewAD3aryB9rR31tDyzJ8chgT8FqWm+FaWasoVU3YWoWfzahkfHFMDWKEAt7TxoTi5WvH8I+NreVuKB6qBI4kxJQQe1MSlO91jkhAXE/6ggAUmRaQzJEMBg8Z9yPYmmGSAxRSFP8h4aVtHVSTZsWlJBBgoyLyb/lZ9bsxvjyFPiGXOxEEVDialKg+yjDkedL0WsjC3YTLMN0v44SS/z+MD+XGBmvTVJJWZ6NwC/jRQtrRxmS4rFlsXDG+fQkrkRIEJHYnp7jC/kk1qzDMJv8+tkFXQqBixXrYgHvvh43+gZ9SmFx9VAlcKYlcG6DmlTHV14MBueVYLhQjLVKJXrZqE5W1FjDFi86iQFwYwswNqAc1FClcn2A333Xg+83R1Iq2sshVfzf7dByw9Tz2vJ7SUmQzUQoze/lkDGEOfbOIzp2dAM79pAxOVCUNn2SI4ZrFBp3kJp2DGUllouyyZ2BQ4BC1qnlpnas/AU45E+AY8r9kc0tRJnIIfeBd+6U835P0xOyhkjpHUIS2YVCQfT1tnN+Ep+N3kf5PDk1h8+DpI28t/v0znmdbfejUnxbQM0bZQKfKgootHthIgrQvN9jlI4/+twrDx+vaSFo6QTklDLilC2fdw/do3L+kXP/ZdBoxwd5Rt7/jKIXlWloCboWxgVH0xfkb+k8MUzwPB35vF+ZyNjCQDVRITj28DLmKSzUs5LKMbJmURDMZJIee/i4Xln32Rz3nbJ+v7I72987p0FNS+Do6nTy4aIXxO1BvCkV0QMAACAASURBVN2Gvs5uRNhvLDsvm8FsPlzKphnN3dGTmhUiYMnPw+5BHKiqgSUxDaVjSRbg73xD/exfxp5ieWSRcQPWkh2nAIXSAkbLzYQaKR+ojvYuXteIjIwkZaMm70vRjuX3iARRd/AQYwjdMFjikJ7KfmnZuUiwkmkXjmq3So4RX3xhpY3OL+CX65AGbZCNlWAoG4Nwpzl/2TaiGjhBWIBSPlda2JDHx+/pKYDejlYEdFakJlr/FfD4PdnMxSUVcA+hvcuBnDEFcPd2YoCNQAuyU5jcTi2e4K7n+HKBY+cTpgyUljl0cYlcAlznKHDLeSInAcfmukZY6YLqbutBalY2rKRx67R6eNkOqLe3H2PG5mGgpx/OQTdlkokYrmXQ0c2+bWZkptkpam4IIuOROfh5bdkADWzgJoqBsokJIPMcmYsoMfJvuQcCzDrpJ8eJyO8FRAU4jwUp2WiDwQDaW+vZiof0dAK8/F7Ozckr4b01fORBTTbMrIxYXH1pkfIci0zYPSlqUcmmxz8+WkbRWgXyDPHZRCzX+kFZmMKEdFNJo2IiCgpl/NrbTWhhf0KxuAQ8U5MtuGxxgQJ2yv3gO2EcmZfMzUcwlldkROPgpGXi7zHlQZQ2AofkFMi72N7lxqtvNSoburxPIp9JFSmYdwHf4RH5SP8/aT81CoTDlM+o7idYb9bwGTgNhPXL0HyH5ZA179nfg/V0sUZz+qLK0OK5uexRaD8CbCY978DItUXhlKlHT5WH2YiIPvbUe3yYCmiAfQp5s6VV1qEGJ1atbx55VkVRC2P29ExMHZ+qjCvyFcwbzTUUxZoG88i+IONyj+FecUoEDAdHxo223GrvpKzfPirrU0/8wznjnAY1k8WE3eu3wOlxoWZ/LQomTsZwVxscpDPnl0/E7Ckl6Ovq4IOoQ1K8CQ2N7UhOS0dOVhJWPf88XOYMZNtNKCgbCwfBMMHgw9Ov78Ds2bNQUZ6HzqZmBs7jYdHRZcImncGhARw43IiCijLYjWa+tNSMTDYYgi50OFzIys2FjblA4ZALf//7ayirmIqgowbNw/FYPH8yIsMD6KXbJZHgazSb4B9mjk9/HwIxeuQX5HCTD6C1qY2NT23Yum4zsorKUJBhhSvAnCI26HT09aKu+iAi1izMmVaIFgJnbmE+BjpasHbVOuTNWIIpBXHw8AUn7IgpCV1MCB1cW2I6QZ4vRl1tPXOYHJi5ZCEG2wmEMCCWSoEvokfhmEzUVx9C2GBCTm4OqACjvuYwjAnJSlPU1uY2pObkIpnAOejoQxe7Z+fk58LZ1U6iQgKq1qyFW+NCpzMWN918NayGCIacfVi9aju7aXsxb8E0ODsH4Qv7kF1YgjiOW3egFpo4O4ykEQT5oo3JSiAbr5HvuxX5uencjCI4XFsHY3wSmXoxcDi93NTtaG7qgMVqJV3cg5TMTNgoH2dPNwYpq8hAO7bv78RFyxYjjt8ZtV5HQa2zvfFfQC0rp+icADWxhKZOSMGvv79Q2cxEM3e4wmjpj4K+9BwsTdez8av0v1PUOfQEN8Cv6aICQOWGmyr1JAVXxNEgP5MIKk4K5VqhIBUvXRQsjxqtBEc+H8naOTBpUhTFzMPd+b8e3Ijte7sUq0G6p5dyM//xt+fBnmBUvBQD3ggaeqNeDwGS4lS+h1YqG7LvCpqQqKKpH1TGHbWPRdFQZs3BtTI5KniKbSeNaqmQhplbh4pkxSUqoLm/1oH//MFGyEYmeW8in+uvGou7bp14RD6tlE33ULSXoYw1LlOvKALEfFB02OXSwM2/mZEgOinnFgVe+Zk6gSIb6kIoMEVQxpihAKKM9dyrh/DLR/YqADeqPH37yzOUvFrFQubX67qDcHPtkkuYwGa8Y9OojIlsqRhoh7i/dG7iAHIjRPj8gowtX5Q/8rN4jWLzEciYq8xXRyVh7ZY2fP8XW49YxNIr8gs3T8D1V45VxpU1NvYy3sr0CXn2zQSksgyyTOWy4jXx9EDbsVaJLfODKPLIWKIIjY4rnhRjKoJZCzk3UU7JoD1IWfOej8r6w4GsU496ToOaNMn09zbg0b+tIZjEoIdMrlmT8lHX5qDmSjuN1RPCPg/MCUmAdxBs9IxUAsr8Sy5BgN/buHkf4lMy4OltRaeHv9MOo8XLBy83GcMhPvgEq6aOAWQkmdHtZvdouxVdAz3IGz8ewa4+OB3t7HhNSyrkhyHBzrweatBXL+CDF8DfnnwFEybOQO/hrajqCCPNpmOi7AASM4sQ4+2FbcwY1G0/wMDHMKxJNmRWXIAKuw9/fX41CsdXoGb3fkydOh5eVx8OkBqeHkeNLzEJJm8fBvUZ0A+1wUVA0of9/H4ahjoakT3tIkxJ9+H513bC0dOJ9IJ8+NntOjU7G0Faph1dPSiqqMDet19GwvgFmM7O3Ac5jsOvQXq8EV7GUWyJpIU3NWD+J2+G//AW1PR4YODb3dTuQKqJzVXjUnDVsvnYueZt7GtxoTTPjrr6DsTzex6nB3F2AacczJhczBfMh8ode6A1sGN4axPMsXZMGVfKnw8hSNo5cRI+Hy1Pn1sBI6s+rDRoTac8Dh3uxE23fALVe3aipW0A5RNKqGTUUxadSE0wYzBoRGm2FTuZUzV30YWYXJaOt99Yi+qaZhI/4tA9qMO1111OjVVcv9EX4XwANXFvTSxPxo8IHtK0VoD+/z3hxJNraEVx0yxL0uGWBRbcuTAWQ15a8MEt2Oa9nZ3NHfRO6GFLicDrFIuGexaNBB8NgIQMYTRKU1vwfYhQSeKzZpbmuNHNXWJ44ZgAxlu/jrGGrxEIg/BS9b//l9uwez+b0zL2JpZScUECvnf3TCQS1LTcgR983YWf/HOIz0OMQuG/bqYZX10SiwDfywg3Ys3v9yC4qZmKIQeKiKWlpzXnoeWuZXqBHp3DQ+zCHssMwiB6aFmnG2wkq9Bq/9IURMalgEtHVY0D//PzbXAx3UeARuQjVuznbxinWHNDvgg++2g/1lfRH2DVooSb+3eWWbGkzMj3NoJ/9GrwozZ6GogoYYcDutQ0hAf6EOZ6dOkpiAyxGz3jlyF7IirMIdyfF0IylTVJSH/+tcP4/RNVx4Ha3XdMUUBNOtzvaQng2j/0odsRQkqCFlPHGPC/V9uQY6cSIMrk2i/AdOgRAo8FPR4NUuPCVHq19FTwvlIknUMamLgn2dPzMbTkKQQTK2DRhxRQ+8nDO48DtVuvr8C1l5coDY8FxD/5h37UNvlhs2kxPseA+5dbMTGbXpMYIyzb74dpx/3whk1sLBxVbLqdGsSTEStWbVe/ls+VDya+r0OLHkcgawHM2gCqCGr/84ujsj41vHw4Z5zToCZvHI01/PJHv6WVdgEO7dqGBYvn86YMIYkgsn1HDV8eH5KyMqGlepjIv/19PZiw4GJ4WvZjkP6ExppDaO3spzWSgFSCUV+MFeX5idh/oJEJqSa0tvfTtC/GgZo2ZPEhN/MhMcQno+tANSssDPFl1yKOlkzZtDKC1EFcf8tyKl20+GipldNSc3UegNuQCVdLlQIes+fPRu22DXDq4zDYNYTinBQk8YHv1mZi8bhEvPjyani1VpiooealxKK2rZtMvQGk2y0omzOVSa19qOvXo692DwKxCdARtO05hQj3tyKxdBaWzMjCj3/4ewSG+qBNyUVRQTpdmlZ4ejrQTwCZv3g2Xnv8z4gtugDji+yo3XMQsblFyNS7sYMAMWH6BNRTjrOvuwPeqjVo8lEj9g6husODK6fmYUuDA5ctW4S2g5VYu/0wrHzYB4cjSE6xw0/NMIsvkMFagEwqAh6fD/t3VyGF1vHB2mqk5xRjVlk2DrY0UaN2YU9VP66+aBy27ahGdulE6AfrsZd079mTirB5UxVuuf1T2LttE/oHIygZm43t6zegh2PZ6J7MKJ2ACZkGvPDGVowpm4wr5o/Bo4+/is7WTlLeS6h0kiG4mJaFVuKa5zOogRtnP97cRbmNN6NIrDQC+Q9X2DDoMaA9+Coq/fdgx9NaNNbpyPgEGZ9U4PKJ9IEYtFYznlhMd3MvFUBuqmMn0DLeSisinmBnIbufVkZiIsGuZAgLJ16DspgHuAlS+TgVqFHl/49nBvDkpmFMyDdgfqkJg64AfrDchrDEv/mz5eEqbN/8Nla6nZhOS9xLkGl0dcJDGCuKjcPe/hZa+1ZYGU7o9jqRE5ePm7ImIPzZcoRnZ4Kv/klBLYammVhoIp/6jiCumm5RYu8z8zS4aZYFGoL1I106/KmL1s2bT2OYnhwjlb5Q02H4nUMwj+VYzg4+PwYY519OT0wy/ifbj3xabJpTgJqGIP1WtQ+3PjZA+AJumB9Hq82P/1hkwYRsA7y8ZsKbn0Cgbh3+vDMdg7TWpmWFsLXWQOAOwUzgbxrQYHH5EJaV6zA491EEMufRaxQ8KajFMFRwoD2I6/7Uz/SOCK6fG4ueoRCum2LEReVGuAhqceu+jEjl43hsXwYVIA92Vpnx8iEdMpNDyCOwbWui5yhjGJ+dPIzhWT/HcNE1dNGqoHbGIFpQ92TJ1+Lf725rgdFG64oxsdj4BMZwSD8WBhg1Pje1Ll+Ebg9aWYo7hr6W+GT6nrnpVx+sJ+DlIDslDjU1DUjPykBvZwddZdR4y/LQ1tjK72ppqVnou6erLTcT/T1dTFq1IYFmRndXl6Lu2qwWWOJiaQy6mWCarpQiaiMYxcXFI+ijpsoHKTzsAg0hpKSnwdnewpfMieysdJj5chjod/fHMOeHJYpqCbLa2ERu3BE4h7yK+23QHUAKrRezLY7unxAamfOTQhdgG3OBikoK0dFwmPTqEIpKS5BoM6GzrZW5QwaOHSEQc3PYU42U7Dx+N8g4n5XuJh+18gC8zG8yKwEZEzUxaujOfqx8aRU8mljc/IUbES/a2Z4DMNpT6M4SN6UGA9zM0tJS4aJy0NhKq7UgD4Pd7QjQ8rJJ0JzXidFZGEtMorYeRntzEw7WdSEzK4WxFgvi6Sb0UEuXqh5cHpLi6FbtH4TJGgcd4zWO7k6sWrkaobhc3HHzVfyMOVGV1TAlpCKWL3RXv4trT6DY4xS38OG6ViYK5yODNPWm+gb00A1cUJyPnvZOJGVmU7kxKzHM89VSi+POftVv+mi96jF/rAmff7gXd10ai59+Kp4gwnJZwTewL/ANvPlLDeoIasnxEVoDMZi4lMnTh2Povqf1sjAEkz9GUU7CvhiMvyIEzwEN9u+LugJdAzFY/OUBXDTjOowN33daoCZx4C8+6YQnqMGKKRZ89TEHFlQY8eebEuhoJqjxmbb+oZoVTV7CX3rq+KxoEUv/35SUCmRq/HiyvYoMSi+SLamw8XeN7l4U28fi7sJZiAiozcw4LVDrHAzh+j85sWJqLK1A4L5n+/DIbXbceIEZMQS1xxwmPLyvHr7n/4mES5dh4I3H4G91KW46vYQJ8sYyBMEYYdJYFM6dgO+l+5F3GqCmJai9Suvw3pdc+OZlCXh6mwerqjxYf08yxlLxEFBLWn0d6tatx6P1dszNZt6gU4vtvEcJSXw/qEy6qI3dMnMQF+RTIZj3CF2Qc04L1Pa2BnDHEwP44pJ47Gny4fdvD+H1ryZhYYkBQwJqG+5GeM9j+MH6TPzXZW787LVYLJ40jO27LHipJ4IfL3Mj0xqCnev0zPkF/IUrVFA7Y4jGC50K1GQsIQiI2S1sPiEUjDKvxLccw4dTnOlH2If8LMxotRA0dNzQFRqyBGBHiCASdxDHspANhAyhkVJBfPjFtTFKQBA/v9CflXNHSB0SQ1Do4SRbiGGgFyIDtSZxyCuED+Vv8UpEryuBa9lsJYir+Pr5P/m3kD6UawpHZITKJAFwiZ/IGMq1GU8Q8oowz4TcIYQZOVcYjRJTGSVaKEw5fk+Zi8I2lDhLdO3KnEb5ZzIBzt1HF2U342QWgrHdZlFc7AaRrTKuyFA5LSoHrj0qMxJQlGBENGYRjcNQpiOMSmWtlF1YCdpHffzHrkvmJ2QPGUOu4yKw9hHkbDQPrGKGy3ppmSnzF+bmiNwUwgzHMnBtMgeJJch5o8xOmV+IshH5jh7no/tRYoZ3/c2JN/fSXWTRoKcrgO9cG48vLIglQzJqqe313Y3NT/BZT4lBRSnwysM6pFdQ7ny2vQQsWxbvLd1P9bWMG42ny66LTwcT1BPoioxPZ97Zai0mXz+ARROvQxl+cFqgxtHwkzddeHSNhy4wxmNpKd11iRX38I9P3I9iqf1uH7ZtWo1evREH+uthN6di0Ec3KWPg6WYqiUEvlS4z43VeWE0puCyNcVgCXPCW8YjMzjolqMkD4qJid+tj/WjqJiOSz6+PRIo/3mTHwrF03fOZ/FOXHr/vIEnrlSfg73JCn5vN8ICfXyVpKjkTgZZqDLd2wLj0RoLaeHw/w6fE1k5lqYn7sZLgctOfnXQZxqCNlVoK6fr8v1tIHIunu5b2W8LKFfDVrsEfd6Sjpk+D4gySteg9Wj7Ti4YaM549rMOKSYNYVqEnqP2Fltr8U4Ka7INtzhBueKSfDFBa5VR24/hcPE4gL+f4XhLc4tbdBV3VX3DvylzkZvM+8BWpc2gV92OKOYzabh3y04dxA4HON+fXqqV2JgFNrnVqUCPDis5/ZePn5uZnsdQTcYUlmGswknHEGy8b4Sj7RwEvvoR+WhBRxjwfWn5mFCYiN0+JXRhoUcnGKpuwMBQFYBQQGgEMH0kfsuObOBc/gxPvlcL/L3KTORBQBPzkeqcib0sgXcAkCiyyThJWCD4yX5PJSPA78ZyiMiEg8qWX9SiUe4KfXypVnC2O8DELHh1DYYQSjITVqchaAFOSiGl1i2WpFNcdYTj6fH6ldqOs+XQp1OcfqEVp625u3LKRidJhNMQgkyBiFNZdxIj+8D7s8nyZVhvrO3Iz1RJQeprk/pL1l0ASAV2M9GAzhkSliO9AMgGut4HKQyzzzBhzU0bg5h+K8WO87csoNNxO3YJWPmNXJ4qp2RmfFaVGsg5a+qhwcCxhZ2bGa2Dh/CQJWwBH8/h+DG9uIFXPTMudTDvG1Fz+QXjoWUmn90DYhqHwMFycRIbZBh2v6SOIR+6YBBQnnjKmJu+t8C96yQbpYrxdfrYYY5AVH01lsVAnXdkXg193UpEkgAY7OqHPyiWhy6sUXg7T9RoT9iJE+UZSUlFqIDkmNwhGIKBnHPFkMTWRjyyznffFyQR1eYYTCC5pcbyugDpdqpat34b58GP0DDGmNqxBli1MQk0MPTysDMPYWivdj3FGL9IzczG04BGSZMYQ5MMndT8O0xyVtcl6Zd1C8BCSV0aCkFm4N+jplan8Dcx7foy2QTPZzxoUpgTRwThaYnwIvHU4TJesPdYHOwlrrnkMZaROh5leEjWmdobQ7eSgxvwbTRj79lahq2eIxIgCBtELFEwTqrkAk9xgharODZDFDFgDj4Hd5GQUklkXJIjJxtnV0gq/Pp7srWRunowvEAwG6FLbvfcg4tJyUZhlQ+XuA0rsakyaBTt37GPwNovMOg0a6xsRl56HKROKlBdj9+4aFJaWIZ3xMNlsozk7ivGn0Opp4yh5NUJHH6WvK6wuzlosH8mRk3wvMX66GhvQMcAyRhWFpGWTlkvVS14II0EqZsTqiYjlxZODfp/yt4CSnhtITeUBWFIzkU824bYt++gmzEdSchyBSoCfycck2UgF+TBpXQcq90Fjy6RM6DKkwFpb23keUFaeq1SBF0q9WD2+ke8ZaOGK3MTiG003EKqxrFGUALHGxAoWUJWfZU5CpdeQSizny2ejVqyydr5tAjgCaKOWl9DODJRvX0sLmh0+yoDy5Vo7m1pZxSmE8eNJtDlwGCGjHWMLkqiQRB84P+N4kv4wwqI+7ik8X0BNKOs//96FyvPDx0DZuI7NQxOm3Wj7QaH0u0J18GvpKg9LXibPlyCPPJKSgTJisCteDbHsKUfeJoUJp+RYy+/pAo8JU8OPKaN1Z6I1TN4VWYb3/nQLdlV1HSGKlLAKyQP3zCb7kbU0+ewLS3I01UC5NwKOURzmIByM7Xm0jNVGXRVRj4pUMxllP0b1KVkB5yXeC1mU7LqZpKPzK2a6uyure/GdH285jijyycuK8UWyAQXURD5SZFmUQ4VUyP9JasEoE1LWWD8cQyDls0xFICI5ZuKOOMrHVBiQYT7/mQwJpFI2sgQLGZ/PvHwIv32s8jiiyD1fnIaL5vO9oXxk/lLPWuncILoBB1PS5xSZcp2BIWj7DvDdlo4IkjgfLYYtaQ8iYz1d+ZIU7zPnIGQrUG6YjPv2plY8+JvtxxFFbicx5tNXlSrKhgwmkQClc4KyZo7Lj6P3mmOEKPf+/WQcE7z570BIku7l3lDZEe8H2a9SuSZA9mMoYazyMCiyPkBZ/+SorI97uT5C/ziniSKyudfs2oWqug5MJlNQQCrBqkN9UzeBpYhEjHZqSREUFqQRfEifZfyrcc9eJJUW0FdvRZCmeElxLnqaG0hD9/GBHoaOdfHKx49Fx6EapgYMYTcZiiaLBfmFRXC0HIaDL0BpcQFaD9diEmsGVq97C0geg+WXz0Tbvu2sgF6Ja5YvxtDAIC1IMxKYShDgwyzxPTNdKjZDALur6klHjydlPQ0NLKprpZsjluSSZro/8rLT0EWNMWKMg2awGYfplphUlo/+AReKxhbR/RBBbXUNGWWxZFQxLsBAesTjxI4tG2HKnoSCRDIUmSJABOR1bXQv9eOFl7dyTovgZr6YLSUdeTnJcHCMhpYeJCewZNErr2LWJ25iOSU3Xnl9LaxZWWjjHC+6+mLG6CxKGkBCWgYK8lJZlqkLh+rbSfrIJrPSQTaVGamMBTa3tClKhIGxrsQ4CzqaWmDjdyTG19Tczlgjtc3uFrhZKzAhPpaxT7IPmOIQm5qN1l3rsLPZj2VLZ6DhUB2Sc/Jh4AvfwXti8fdhP1mW43hPcgty0bJ7J97avB2LrlwGHXdgL1lvfrIsZbPUEtTHjC2GVSpkHON2HH3fzgdQk6TiMhJ8/vPO6Upu4aly+mU7pXrA/0ue2lFX7PvZg5jeKyqJ4vYWi+C3f67E/kMORTkSL0d+jg1fuW0y3VgGbpSnkdAvO/mRqiKnM7eohaeUSuEh49bW9+PXj+4liDBfUplXCJdcmIfrl5coXopTyUfgi6HiEzl3jhMTsZDMzehHwvh8Y20j/vaPWsW9Pkrpv+36cZg9LUORz8kORc+V3EHmqp3ykNwCAtHouNt2d+KPT1YdATVxvX/yimIsW1RAxfN0xpXYt4z7bqrfMbMRrYfjijogiea1LEr96z8flfUp5/0hnXBOg5rFasKaV9ZQo7BgakU2Vq5cg34yvkqL6aPetQeJecUErwg27m7CzBmlTA5ug5W0ZxfJBz2koWuTc3DTjVfD2ViJVWTbSSKkVePDtItWYHJRPNl2G9HeS7q5exgXLFqK5nVPY1VdBHfecg32rnsVqRWz0UIgm7BwGevbGQmY2/HqbiZFMjfL6fLwwTczPmViMnYDyQt5uPCKT8A+WI2/ranHuAI7tm2tJChZYGP8wpSZgzEpVtQeZNDcmoTs5FiSU3q4gZCW3U3m4rAO13zqSqRonFi5pQEZrPG3u7IGcy5Zgc49G8kY8yAxn3lgNduhTx+DRLqLGpwO5KVlKSAZItuwmcSOnHGTce1V8/H2y6+wWjtjGMxxG6B2ftn1n4J1oAXPvvgmssdPRP9+gjkZjX2OAbS1dCJ3bCmu/+wKvPyXvyJv4iSusR2tDMKbaSk3NXazJBItJIOduT2MK/oHSOZIVUo4iVtpf3Uj0jKymH7ghC4jA4ONfUhKZWyFrpZl11yBps2vY0erFpnmYYTJLHU3MM3AnI6KjDhWd28iAaQZ+RNn45bPLMGh7buxpXI3NCTTaIVqTmZmr4/9vrh+LcE0o4SaMov4eiTb9B3H+QBqgtWSF2Vjkt8HrX7yvvccavcy9tCQKBTiY4geYq3LvEaTjUdd4e97nFN8UbEyOP4g5zEqC8EcizQVZrGDY48zPRcZW6yiaLkyQajoaHFM+jRSqTpT92a0P9/RtcQogCkbt3KMjG1hix9Jej9T477bu/NOWb/b7Yla/KcAy7P1QIxc95wGNS3jLUPdrVi7cY/SXyPMTZQeAoUyHGRSrk5JkCatt8+NtBQbq5B3K0zGMJ3pQSZB2wgk8+dOR8fB3diwuw45JeWklTcjadwiJPvr8dAjL2PJ8uWk1w/S0muHzpqAtAQyytq7qSbGYXxpBvYdaEfxmGQYkwqQb+zDqgPd0A05maztRunECuzZtAkDfWyIyMrp/+9Ln0HX7s14/I0DGFeSCWffIPQMaiQnWNlWh32v+Cx4mRfTx0Kx6SlJ1MS4yTPpNcxcNBjiMHvOdJh8PVi5thI2Wjter5sbi7hYwigtScBAOBnWgAMHCTLpdLEG9ayvx3y79s4+ZKXGkU05jPzSClwwpQjr31yFHuYoiSvUyD/TFi2GhQyzN99YhWEbi+AyeTdIFlpNYy91/BilAsnceZPx5nMvIcL8FRqg6HQMcs5aeCjLopJ4th5JgrvHySR3MiZ1cbCzuoiPifFdDlqNZiMTtZORyBQDR00/HM27EcieiVs/eQEa91L+Vb1IsYTRR01b72euktbMHCVuHB43+p0uJqQn47LlS9BzoAZdgUHFDdtWSwo2NxAjlZMUzRCT0g3oY6L75ReOJ6j9a5ui8wHU5L0Vl7bkhX3Yh1goo6Sf0c0smnQc9WlKjPTdLOYTz/u9b4Yyrszj2G+Km0829+M2V4WIdTrW4LGzO/l8xL2n1N085hCi1geLpx8/RxlDZHzk0xEPhFilxx4Swzzx+t67XE8EWO+U9b+C31G354f1fJ7ToKZorYzXuAacDISzFUZqKvPRhpnsyITjjFS63pwKnV/P4PPGzTuZsGvGJUtmIY6bn9PJSga0guwJcYy/keJOn7mw7yRWpWWQnk48nwAAIABJREFUOkjLZshDUGDsKT7ewmRmBtptCYhn6aeOjm5usnYGTxl/497SXMvYW04JMkmr9jAXzEAg7SGLMCGJSd90jcXQLScxhngCUc/hKrxV2Y2LWV1D+XdnF/GRFTVighig1qf19GJzZTOmzJhGsCOBg6+r3+sl/T4Ie6JdiZ8MsJpHkEH1RPl+Vy9p+nTn0dfu5nyFXakjg1JiU1Laxtkv1dFJH443Mz/JCTN7acXRwvWzfYiDoBrPa2ro3pA1CxvOzeK3lARTDajpyrvAF2rIKZXZSdnn9wIkrXR398NmT1AS21mkS6H781WmO0W6MeuwZ9duysuNuZS1hvJ0ks1opgtXLIwYLkDPyilbtu5GeuE4jGXytpBs5P5ZyHZ09jEtw54MA+ncDoKwVF8Rt6KAm8xRL2zUEYq+EmNRNEOJ7UWrMoRZIcHEGOCJ6mZKbO/9VBQRhqmUKZNNWmG4vot7U17is137Udx8uUwuv+7KkmgZKI4pcRuJo44SWqVM1oiHTonRjFYQOZObjIwr5F4Rg4HP2UG6pl5jCaVRMBFwmz8zi0n46VEiD883kySihKt4SKzLe6RclcTUGOiTP+/3iFCJ4R/p1i0yenFlPT0TVBppPYqFkZFqYbNhuu+VEl6M8/I9EjLNqMyk6PJxegJjh9HSIv/mQwl0Sgm3aJmrtze2Yte+LmUdMm+p3iJNkzPTGLPnugTbzLIOOUbicVK95cjB8IASrzxrh1gRzM3h+yex9nc+B2dt2JNc+JwGtdF1CbVetDKFfCAxBD7YCrV/pHhukHlZXR09iCPI2Ng+QzZ+OedIjUUJno64VKIvXLRmpMLCk9qPCu18pO4i3+Jjfx4lOESEBKJQ3qNalWhSQpQQ8kP0LZa6d4yByHnceC1M5Zd/j14r+h2+gL5hZUMy07IZLZg86oIICTFAziNIKikAylyOpiwomqn8J8/ZSCRcCRbzZ9EeFbkIFV5ZH/NwpFL9SG1LuZ4SRB5ltSj0/2hcRJGVEECUgtHR4sRKCoPIfYSwMrJIpZzRKFvTyDWO1riU8RUgkP/44grpxEDWm3z/yBhCFBgZS4rwCkAcKwO5X9FpRl/iI6zJ4wDmxJry+7HUZD4Wlj7rZ35cb490cjaxYkl61FoiKeWdx9kGNXF5TWY1jV/et0AhisjtFTJRp7AfORlJPylO1yExNpr2IeLtaqXLyqNVyAcK+SP6mETTK5TnIwpOI9kvUUKBfCgnHvN5VIGQlBg+n8xjSiVTUg7ZaIW88INfbTuOvPD5G8fj08tLKSchQpGQweagbubCCRFCiKvlGdHyS6QVQRNogsH9PJ9Lug8U0ggHktdZqVcuc5EpjYBQ1BBUCCwKoyVEV3bsCoT1+QzRsagyXc9CHhEwUKqd0PovZRzygW/NYYyXzEw+u0ppMVb6kCtI54KCFB1jw9ESXtS8oBveBv0w4+VSwupYO1DGHKn/KDmZpIUefQRGpsPkyhEBCzKNAAzLjymHbAfKukSwMn3ROuR8/mG82W9aipBpGkekckpF5dcsw/Usy3GJjEVREIX8gW/OppeI5CiisJvEtroe2VeipbhSyezMT4pWUxJQ1nk3cB3romPIXGUaR+YQvc1H3Kcy19G1Hfu5fEfEMLoWOUc5l3ujtgL+2CuVi5pJ7Dr2ORglqrzzHTnb/z4vQO1YQBr9WQE5KWgr4h5hBSrsw2MC2Ec38BFm0Ii0FRCRN5w3TdExRzbNE40jT0aUwBXNo5I8riPnKs/R0Yr7sukrZd4EWI4B0tEbrYDkSF6afPZuYx77UJx4TtGcOOU9UvLpRpxCMiY3My0tsSB7ZHn5UsSTDCIWmofsylhacmZJsh5kflECqz8IHe6Y+Y+OLYAmjEt5ecRaHj1GCwTL5qe4RESBGFEuRq2bKEgL+IuLiNbbCDAedReNstNG5KZsrsLOEiUg2il51CI49pqniie8V1ATpUbW/uQTz2Llq2+TCSpJ/VoUkih0xxduRhGTvD2e4ePe0X8HqB1bJiuebuIbWQbqydcIBgSyPALFXYstuHsJ63My27+XJa92rqelS5KQe9jNmFcSfN5+WuNi6Scx4Z51O1ndxkrSVV9/J0sjJbPmpyhzAoB0BZMqOTDAupHMFwuTNCBAqNVYFCbt9AuDtPRJIuD9P1npJmHxtBB0L/q5g3FtP0ws5TUxX4+fXmPDlFx6N8isjO36Ekx9vwWL9LASChgTAynl3OcpXgmP0rHCMmsgCSm6B7NVHFiOVdmU6WyBNutLcCf/inML0S3vY7rBdhYcHinhRVArKUzAvVLCi+xJHQHkvpeH8OBTAwpLJJfJ0DfNNeObF8eyQILQG1nureNShBwbFSaoPAbSyEP0x25WY2HxIaVKSEc/58OfxVKWTZ+cJfD1YWF01uPk/DLZALzfwbnyc/lZvk+dle5+Wqn8PavKgTUhMMCfBej5GsKcPg9Daa/y5Ght2Yf/bx+r5tQdB2rf/Q+W1CthTJmDPrdrGJ/5HSfFtINUruOi8Ub85BoWaaC3Jsx12FqmIsbFsnSUk7C/RV7MhlFKoAljWBwykt0kfB3WIafnaoQ4w3/LVikWrSjZBhp8g1wLiwaxSATlwJ/FkE1NNWEoaz0CBGILUx6OfQ5UUDsBfJ+U0s8bJK1noj5sqYBPQJFkY3J4pQJ8S1MjK9fbUJRDrYaajJK4K4AzkjQttPO9O/fxZlsxbmIRHzj2nJJrkZq/a2clnKx6YKJrbzxrMdoZRBq1lBSlUcYT1hPHE6tCtmgfNw4nXYipjIfJrqDVB7Bp4266ziLssFyKjExWopepKv7+kURseWu4eQg4SAuW0Wr8ilYs+tqIVRmtQC4uUnG1RUFRLqJQ5HlNYaQpa5f2L7L582ltr6tnpQ8zcrPSRpK+BYiEs806lP092L2riu+CBil08XV09DLZNgVFRTlsDlmD7n43a0bmYvq0Cm4sfBMVEIp2GRA3Y9jtwOoN+zBu6hTG62wjQH4EmqMWFtdVx4LIOWMr6F4VSn+UgSfrEEvYQMbnC8+8ipJZi0icYccDpeVPFMhGq/GLoiBuPzddycKiLOK9kJ1Bo+SyRS3oUSVAQGsUyN/tcRoFtY62hn8paJydW3xcQWMZV9wp37/3p9i+dRduu+MzmDJtEhy9fXjy8WdRXV2Ln/3qAZbvKlRSLY6AvQLYwNnqfP1utR8/zZJIW/b7cME4MzcckjVYO1Apk0VXeHuzBge26bBu9a9wsK0TGSTw9LsGKTc9E29L4eiqUQrXCoO1tqGSBJ5x3LDd7Ki9DF0Nb5LvGMuNuZGfF7NOZD32H27AwiVfxLTycRg/M4BkJmcb+MydDNSkdNN+Jjjf+pcBBFjk+KpZsWhmoePrp42UbgoZYeu6Hpq2v+Orv2TJtnxSzbkLL5rpROPhOOxrMmGAlU4mFw+jukmHuRVeuuo12LkvHgN0nX/rc40oLPkMBhL/j+tiftwpQE3D5+sbzw3iVQJCSa4B08awGPZQAA8ujyPYS85aD+wDS7HmhUM42MMKRcNk7MaxHJxbh54+PdLSvewsrsVb+7k3FLpJluK7xzyuCyYPYFJeEH94MgNtrhjMKPZi3R4bS8e58KUbqRh0m/Bfj2bi5huasXdDBt6sNmLOOLJ828042KXFN2+tx+SJE+FMWskXOonPffCkoMY3HX9c78H/ssZmSpwWK6bHkins4723ItFKi5SxZ3t3CfZtcmF7qwW33tAHx34zvvvnTHztCw146q957HDO0EKQ+wHzFA93GDG+mPFs1gGdXOrFvkNGZNojWLXPhLuu7MPvn0tjKpMXxcxvfGpdPBbN78ZNy7xUJl6Fz7JEBbXTNUFPBmqSz9XPKvy791Yjt6SUpWUG0MR6illJLJnU2oukjARuwiZ4+0nsMNsRR5ZhPMs1OdtZGZ9lqyKk+He1t3OD92DGhTP4wg0iNiUPySYWI92zj1YM28g09uCyKy+BMTyErWQrZhQUshZdAI2sx1iQnYiqA3VkOCZgzoIL0LpzPZ5bX49rr15EjbQZ8SRnVFfVMk7kx9KLFtMC8lILZdFQPqz9ZGz1Mh6WUZChlCZKZEFmD9mDObYQDnV4Ec+XZIhuGzdVPY2FFhNZfn0DfhSOzYNGkr4JtsmserqZoJlVVEQyi5dlq1guKTWeZbKkan4SMliCKkKXwGCPg64ZxsRYDLWVc7noohnY+PpKDMfmYOnsQtSSKbp2bysuunQBXM0HUdMLLF8yGc8/+yqsqRnUEo0YN2kc58h2Gzv3coNhUmi4H6t3duD2L90IN1MddrONj97E2nqiIHCOLXXC4kxgLg5jZUzibK5vYTeEQrTV1LGAbh4msYNCF+tB/u2pf6Jw5lLMqkjCxrX7qI2TuMK0gIJC0vcPH2aCcCr8gz1KBYY4MrzMXFNrkwMVk8rQ2VDHwrs2Fht3ob6ll59NIGlH2gadmNYsgBkOuhXX87GHlvKJJrBHDwu7O7/KkmG/+cUf8dCffoqSkmzGLMUlRDDmvvefX/sheijXXz304JFqL/K9f7elxowJXP6bfm66OiwoMeHOh3vw1Sus+ImUyaJa3dESBbU33/gx2gdZIk6pbsEKGSz1ZqRiMemCGxDq242tVdsxZ+5n4eraSXbpNlx8ydfQVv03HGAtzhVXfRlJLBXV11uDHfuqccVVt9FdGMSkOSEknSao7WsL4ObHnPjC4njsbPDhsXVDeOPuZCwoZukmAbXuGxic/ivu+NFYzF3Qi+nZTBl4OhXzZjnR3WIhOSiECyd58cZqO7qcetxyYxOM/VZ06IZx/UJ2ftDfDHfqI6cFalLt5At/dcLJxOMVk8248y8OXDHZiEdYacRHYhVba8DetxSt2/bjO8+OQV+3HuVjPYrS+JXr25n2koGqNgNBwIDFs/pYFDwZzjgXnvx+I5q3JeK5Wh0+NcODn/w5C320tuZO5bo/0Yu3XkrHd59IwyeXt8PktuDvG+Lwlc81oJDxux2dwK1XO6isTsdgJi01XeJpgdqv33bjKdb9/Pol8fje8zQdaYWuujuJlreB78EQ7D2l2L7ahW1tLHJ9Zw9e+n0mHqBcb/5ME0KtCdjRrqNlzhq6Vg9uuNiJtzYmsStIEMtmubB6axxcXj221xsxmyBXVjYICwu4V9aSpd2vwaev7MDSSWSfpryGgGWhCmpnAtSkEkYDCwuvfnst4pl138w+Zin5OQg4elgFvxzj8y145Z8bMX7WbBg9XVi/vQ4XX3shqjZUsxYktT+yDGMYu7Kxyv4gXXFBXTyuYG5WnAS0SSIxhh34/eOr8clrlmHX+rdZmDgN08vTsfbNdUrRZCvJE3rWRbQGelE4bwWyfTV4ff8gEofbUNUVYoFQ+sF5HQ/Zf0suuYiVCAaYM7aGxJAUbgpuFE+ZyA1nNYaNhZjCSuldhhxcvaAIT/75KTgjdD+Q9ThMFmUs/TCD9LUsvXwpqjatQy/dFpcuvwLWiANPP70GOdksTNzYiWT6DrzMWbOTtKKn1Rgge9JJX0heDlmdoUHsIDlj0qWfwPILS/DiMy8iJrkEy+aPxWHm+r20/iAWXXwh3AS1luFYXHvJVPztiefR5yGJhNbQjIVLkBXTidd3dSKfVcabWrpgy8jHsitmYf0zL7MiAgkpBlrELiZ2UtN30V8kdf+S05gTN+DFhTMnsgblZvQNGXD9p69GGlMW3nzhHyzY7KL70wgzCSse1rS00Z0R1JLKv3svK2AkskeXjeDhxDzOrWnvRjS5jCRJXIS2wwdw4FA9Uw68Sj3LrIx4dlYwcj5LGdJgPtVIKOPdnjM9lYpoMOHoEQiJFXk0PmIlKeard/43srIz8O3v3Ik+51E3o+RHShueO+/4Bh786XdZuLr0iLX27wY1qf1499ODeG4blQemq/T3s9LHdfG4fR7LZJGgIZZa1RYtNm34E7SJk1GWFo8tVZtoXbFiP1NHmpt2UmnKZOkmM6oP70JS2gTkpCTiQPUGlsiagNwkFvc+uAk5hQtQmBmPvfsP0lL7NMk+jO3NZcV6PrenstQi9I50sqjuZ2hROodY05T1quxsQfPk7UycZzsaLyuf2Lquo6X2NL7+6zGwZ3pw+5Xd+Nkfc/GpazpwuNKO9XUGTCjxID95mIWZ45E9kZ0uXBYWAvfj6jluVhr5NNxpj58S1KTaibgff7nKhV+tcrMWKYuJ9wTwH5fH4WsXWUleYcPREL0WnQsR03sA9z2Rzc4erLbz/9n7DvA4ruvqs9gK7KIteu8AAbCAvTdRokRZsqqbZMfdcX7Zju3EjpM4iRQ7cRInjqvsOLFiy5KsYklWpyhSYhd7AUCCBED03oHFLhYL7OI/980uCVIkAUkkQ9Iz/mSSwO7Mmztv3n333nPPMY9jWa4PT77ppN6iG/GklOoeoFIdmfsDPt4DUzA5eS7cOGcUv3w8BU3k11yQN0JGlwC+cHs/I0/gV0+lwsVa2RgVKaJjSYLAaHNG8SCSmH4l+Bf33TLIGtVsOjXW8qbh1ASE9foxLx001xxuONsoc3PrAht+zA2NROKBcUZqnXk4dWQY3/1NFjfe/RikM7ZG+AnMMiItiRJd8QHsYPRWQE7LLQeiMWcOe0d9ZvaN0t65HL/LRCCKBqIZGzGhmfe1NM+LrRUOrFjajU9ucMOdsEmP1Kbr0ORzF4vUBDAx1NuDPTt2Y4KRmJGIORfrCIlEK4YnpCGJE+/4CTYFs9hrYkJZSEa7h5hHn4jAjNw4nKxuZm9TJNMa2dj11mZYkwtRlJ/OFFyWQlGZ6Ahee7McK1YtQW9LLcqPNSErN5ON1zXMnwsa0YloNhgb3dRiy1uIDEL6X99dzUgxgg3KHUhik7OkIV2MsMrmzVXF6p/8y0+QXLYWedFeVDfTAbFI4Gaj9lA/WchnLcTaJfnYs/FVHOuzYtX8HOylXpzdmaAWjgVr1uLwi4+jii/zl794FyPOTuzceQB+7ritTOwPsHXByYbs6LQcJux7MUAEp5V9M94htgaw+G2g804hG/7coiS01jWqPjczF2gbayJdPUPIJGw/PTkax44eV8wHDsrpJMVaceRwFfLnL8PsDBve3H6YufgJpCREY8wYgUVLZ6Fyxz742VTOvga4ewcw7OpAby9bKmhz0XpKJBG03+1GBGnfOSSsWrmQL50Pb23azf6/5ag9Wk7WkCHSF8WS89HKSNCIPrKaSMtCZDz1u1gLLWJk1nKiSlEmWUiYHG4KUF2hjZlIcZyJitC4j9HvgkVzlYbcxZyakT185zo1PwlmQ05N0pTCQPPAn34Da9Yuw/2fvIf3dMapqXoieTb/5KNfxF/81QNYvnLx6dralXVqgpQTJgrWOlgbldS2CKCHE2AgdVupebj6DTi0i3phbP2QTaAIqo2LcQRUxTYYqa8Z2MgfwSLL4BCRtLYYLtTc8A10cW7E8OdmIoU72R6j1Wm0erGJ9VZgHp1aOOm0RGD3YulH6auSlKygMr0cp6SLpQxr4zhVNp7ZFFv/D2Dv+RYJArjgUv4pnou+1HmUlhlTYz2DjCjCWcNj36n8THTh5JDvm/iuehK+j5GYr5NhaEy1c1yophbLDZQALiRlP8I6lNhC2FgkWhF0vpAk8Iqwd30R1qFHVV0pBLARFGlPL+89iklKBWARjgPC+kWKhv/28O8RDqbXPQa+ewam9VlO4FTj/kGBQ4TQ3MI6YYD1QdHyFJkXyVwLaEYeiZxjNPrTdBIPa0A1gjEuVlMLqXt7FAuSdh9Cjq7IfZgelYs6Ou6FxfUKszzcYPMi0cwEWfns/APaGIjVIumEBgDqHaTkj5PvDv/dS6cXSzAQ9+QcoCoz8n3kADkmB2WJxA4CoonlmulKfhl+M8VhrWdTeOk1tQt4uqm4H+W1EHh+BCu0VubT+xkVxMYSph/kcRTH5xkaYGN1BIU2LehghdNBwl6pQHs50SJJcGfmIrdnbyVZSAq522X6S/JLwVdGXgCJVKS+0ttDvSWbXV1niFXhKDLza2BBQTJptZ/hIRcjhwjWH1ywOqI0nSb1YtDxMKW4c1c5CmfNJBuIDV0dvXByQR730KkxIoqOjlR1PwWi4nXDOZZeOgkzK8tWXt/I9oKTh/ZTUiYbhXSYQlU1xFqTmUKmdr5Yvaw8x0aThV/Vs7QeIeGAHKbTnGALQCRTasL0INcwsebmJnnwMNFoiQkxGOjpUU3mcUlJirVEBECTifIbY9pzkHRGzjimEgXZ6HEpxJWT15E2CLkvjSxZkDJSD9OgyG5W8odpd2m8Xs0oy0XkYAx75/zkoAwRQUsBWrgy5Wc+qQMK0XIQlyOpZQ9FWYUFRlokJhQiTs7NvkNGbomMAF0DA1yQLUyPas9LXfuc/p3zTaupnJp8J5Ih0Ne+/PeIi4vFQ9/5GueVRH9adBfO1oM6isV+9YG/wb/950MoIntNqK52JZya0GT9MEiTJY5MFuMQVF7GJwtxqCVL7MkkBJ2ALHIaIbbWW6bVLjUUsIZMDaP9NYSpkHNLI6+mHD757xrKWOrW2oIo17kQddMXPj5LCXZKO4oC3YmTCgXDQWesWZR1SFHUHq/jwq45QKFsUkhLebUEbMfnLiobwfL5WXsSaeMImPM4R0T8k3OPtfEH/33vGQov7tCK8mPw3W8S/chITRrGz7WZvDLi6LSD8zDAuTfOTa827dT41aZBqKtE7SP4w0m3E0SUamPVwGDaPQQ7T9QzCt2Pmq/B8waBx9pzM5F7MoxsQowmBf34U7KlPEvdtsnox+98cylmFVGqh/el2ebMLJdzySZHOwjC4n0Y/S1q3PK7CdGYVCht7ROh8chYZNxid7mRkL3Vd9SckWenGUju3yjn459jcHLMafzK+GkUbIjCS3dqZ57LWX+byqnJEwhB7+WBieTMZISjerRBrLJA4FWvUQiqLi9oECauFudQ/1Pwz9B3FQSen5VepRDbfQjWrhY6tRJrcPMQRF/AKEKcHHqLQwti6DqhBVgQmdJnJYuxQmcKzDoINpBhKA5FAaOEFh4FFBFYtDZzxWkrlOY59372YiUz+AzUffJYNACKVitSL6BqGxA7cjyK9JnOWrgeGZlovlsjgw3JuZxpclXePYgCF0CJtliGwBtKdTmooDC5VSBkWzVe+R/vXztTsJVAKR8HPZ264+DYgqhKheo8DfXXGpPVp5SDPb1KnTWnpuPUwiOs2LplN/7poX/Hf/70ewTMkFcvuKsWs3zz6w+qa3zv+99WkPXQtS63U1M0WQVBmix5Vue/xTP3G3R4p53JBd6zd/vjULAn3xPY/N4jpG56fDJ1E4Uqby/EB9aRumkKyijtgfF9kd6wSSng6Y9JlLkZSdMJC2BKnOhPSeF1PEThxdxZTiYpvD43lylXiTbPrqee9zp0kBOUabnSh0GpUWtE4kY6tSeeO4lN25toY3l/ArCzT/Yrnylj7ThGtSpMebD3b+L99P9NcQFxZgQFqDf23HmgO7ULGG9qpzblY53WB0Lw/ncsEkFko484WEUYzMV/Kuj4hS54Zmd8dr+VfP4dDAjBCFDzmaH94LRuRX3oHee7wFen87nTCzbvXxgUQvI60xnNxZzL5O9r19B2tpfiuNh9TcepSVRqI9PKj3/wS7z4h434COuAM2fPUM3sr728GS+/sJEipvfjwe9+g1Eaay6CyeZxuZ2aWv/lvxAX1aUw1pQLV/Cikz537nuinNzkH6oN0Hubu+cbzjvmRTCCuNDQtb7I4LiD+87LuciqaXvO3J1ywzGNZ6eATaFWuXd5H+cb0zQu+b4+oubBu2ZueV+XfMeXr+0+NXlxQlpiqtFZGoq1yEYmmAYdl7SgpoWmoiju6hUDBUNptV+btJhqjPraDl+L/rQoQQrLNSeqCQpJYXsAFZ4lOa4iH+bM5brSn8YFX50zOJO1RmVNb03g9V3VlThUTxXbDyzFid070DIahVVL56heE0nX7d68Eeb0OVhUksodGFsJiAKsP3yASEQD1q5irwl3oRL9SLQj9yUSLDL2ULru9JOV6HO4Gxu3HcWilSuRJDIgwRTOZE05kdKprSRkmWm0m++4kSKmTCUGo0KVauF/Mi65t5eefglz1y5HLAvGHX0eZGRRc0oiTP5OFleJ7lQEKuNRkH3RjNOa1zUtNq3dQmyi4PqhZxQctDBS7H37AJ0DlX5vXkBIcaiHT/t8yGGYgv1w6pzyggcphEJtGvKc5dmLCsFGOp3lG25ADIFA59IHTcepydAkWjWxIPLKS6/jxedfY03Bq8ZTNncWVq1Zhu/94w+wmNRlf/3tr6prqvaLywzpl+ctVEyKBf7SrgXnPZvcrzDTSPo9FBTKdYWmS7IFGv+8lpA412mcdizvY5yKCpzzTMiLQzcsVxSWksm8k+deQsYy2RFezsVWxijrjszjyYGzNEdPttF7MYNk3UNUZKHlSq0xU0To8tyEhFhYfKYK5t/LuM4/Wc4/Dy7Z+ad5omvaqRm5sPd3tHJBPIQY6iA5WBs7WH4KsxeW4uTBKqzYsB4JLGRvfXM30XVJiI80o66+hYrICehr62YxnEAKhvWphfnwdHcTOeYmN2IBDK5uVJFip4A8hY3sR0rIIsw/MZZFbA8dQRWcVFQOsFAxQRj4zbeuQEdDAxp5Xi+dkTM5ked1sbmSKtgEU3iNhN47DGjm792Ew8ax3eDEwX1ImL0Gd66diVeefQ5h5I1E3ynUUnV29swiOG0+HK5qRV5GNE419yM7vwDhJOzdv6+SSM7lpB8qxebnnyeijGkK6jIlUWXaRKeaSXRaKwvAa8tS8PB/P83iTxyWLi5FCxUHRo1RigS5sprnJTCGWQyUH6ph4ToSn//C3URV7sXWfbVYNH8GTtbUc7NgQ3Z2KvuYOnH4YDU+8/XPwX3yAH7/Vg0WlRUhtSgVPS1d6GTvWCSZ//s7OlSfXf78xVgwKwN739qOipOtSMvc6+qqAAAgAElEQVSj4japwlzuUcSnkr2cPVL1De1UI0gktD8FbtYpZ8wvQ135AezeXo7ZyxaAGSIc3FeOnJkz4aD6tjSp5vFZHNl3gOdIZ62SIqZsVB1g12oLpWiSc4soizKMXXurMH/FCqxYVIRHf/441n/sDkLR2V94zs5xuk5N3iFZHG10jONcRHtJTxZOEEUMuTplv3KMSgZfIphkxeql+MZff0Vbc4MbjcvVpyYLpaTSPvvRmYouTDoTHNQIsxGxG1r0RF9NKKiUo+GoHJwbRtmsTWNRkLP4eFIPNy3yeaFf27a3FS+8TmUJUkzJIQ7t4/fMYF0nXpH6Sk1HtMJCTkSc7iD70ULXM/EXdiU7NOVarGwogAY39f1kYyXO7ERtH556sUZtirRewwDWrUjH2uVEOgcpuKKI/FS98jwkshkiwlKCZxmTSuWpHslLd2jMPFp0LhRW2/e0qDShbKzkzsUR3XtbAdtb2OzONKGMLZpjDNlIgB0uURrn9+WeZfMoqf33c0wekzyrV0hbtmVH8+nn9n7OfS1995p2auGEXe/YuAPtBFPceNMS7N++A4dPdbLHKIIvUSQ+92d34dTRA9j4djPu/8gN2Pzsi4jKK0Ff3QHUDTsxx8l8MGVfurq6CUEfxbyyAhzed5g0SIkor+0g3NeE2TlpVMwdRWv/KAZ7uokIi0JiHOH2lKjpZsPyXZ+4F6b+Vjz6v79F0yihxnF2AlWclErJR/W+vRiLSUWcdRR9pOUZJ3gkPCkdCTZKpoSn4La1s7H5Dy+gjU2dhHMgPrMMA9W7EEjKQDtZ8uMzsuh4jmD+sjWwkMi4oWMYRbNm4cY1C/GHR3+NOKIV23uYZ/d2w5mfgh2bKvDB++7B/KxwPPqHXUSBmnCKzjnK4CVJ8ih7vKKRQKc70N6A3hE7Fs3KRENTOz75p/fi1Sf+gGpGbcINaYlLRYZjBJvebsGt7GmrKT+Bmz56Jyw9dXjzKBn5xwZhIVClrbaFDnwc625cgj3bD2IhAQyH+8LZk7MQzzz7Bo4RXZlRmI2ehhrU9ZtQkJWEPP5XQ/22tFmLMFRfybaCTNx3/wdwYOs29LCHzjDuQZUoBMSnEakVTtTeOO69fwPajh3DgZPVGO7xsn0jDbEWL918JMiFQuYMgkp6Wkmo7CTLRzpuvW01fv2jX2PD/XchTmjR3odTC73M2sKopZ5DDd52zr/Kimr84ieP4C+/9SWkpqWoOqQsXJfLqUmENm9WAn7ynbWKJku0wl4uH8XOKqokaKVdfHRxOBbmUP6FKLZRRvivdDdRAZuyShI5qx4+8XbyYf5N8VRpka/kC/1kkJlNJPGq2GTllGS3/zR1w77/84OIJgO/HG6Cmv7t28uxclGaqjF3E1n5SzYBuxlhC8IxJ8mEz6+wq4WcSzW6qFz9ak8zhgSFLEAoeR4q1BYPJigqDUEikbc04GcS1HUrSarNDFPMvP7bB9uo3cZ3iQ5MNhni2D/7sRJ86sMkBqAN5JqP7hmhuvW4Yr+IZrvAF1ZGKNor0SgbpehnT2+XirxD9WgBIqlaLAchplDEBqfrxWcyNTJOqR+HWHG0GjTVoiMiEUOOUjGiRLGPP3cCv3iMRA6S7ZBsBD/3919bhFWLuQGmjToo2vnITg/7vmgjAq0K08hisjRccXYKFmCYROYDg33KPhLdybNSPK5BMoUzlWaNceg0zZ9kP9RToagrN3vRbIOROSqbgf96vAL/8/gxvkfvg1PzWvJmwbFe005NQBIuTtb97L+ykMXdyKbaTjqnOKL5HGwCXri4hM5qAHt27kOYw8m+MTtqaxoRR4aNAJssnWyyDiOZsJuqwPt3HKIzZN9MSRaZQdxoZ5otPi4aOclxpOkRct0xtUvvJ4pPEIJGYlyrTraxf2otMpxGbHz1baIQuSMmDFqUhytONlPbKw/D3Z1oJvQ+hZFkpIPxFvvHWpoakTN7CeVy0lC+dx8a6axi4yKRkpEPd/sJdLHu6unpZ/M4G59JFuylQ7Jyx9zbPYh89kTlpsfT+R5ETDIbydn3Yxkjiz377l58bjs+/7Uv0un04wDbD4TnrplN6KNUDZggz00M+9ii2fPmGx4gWfM42thrlpyZhrVr5jH9uZ2pRRcjSSci2EIQaSQx9IAPHr5ofXToNzFFaR93YTejtjhGKg0U7zRw8YmNjkZBXgbqT7Ugh+KNpwYMWFWWiTff2oOO9j7MWTKLTdTtRHDyRaNcjIn9bM0khC5esIRadBthy1uEu2+aicqjx3CICNSEnBwkOSPQ2NiBrPwceEnd1DlIZCiRq/39/bQxYf9EejY2NCFNVBW8vSB3MntuYtBJouX84lIldrpr6x6UEt7vEJXyc4ob7yZSm+qdthApqymdy4KrsdZfTqd2LqNIDJv2b/9JL155lb0S5HxcXhKBG2eY8ODtkQqCvWugA1+pplIE520YEZzGjCQ6EAJMRDJFhDfZSiF9AAbh6XRT/dkRgYL0VDw+cw1imAUI58buyRer8eNHjiiQhRziWB/6yyVcsIl6Y0S3t34Mq/6BBAfcuM1aYKczIWrvI2TSiDUigoCLR9qq8XdVu2HqIom4RE8E4RiI7JUwxRBrxwQj7gm2yEyQ1NpPRHFCkhM/LVqO+VHx5Dg2YM+hdnzvpwfOcmqfuHcG7r97hmIOaurzY82/96CTrCqJJTbMIUvIl1aH4+ZSK0YD7KlsrEELN1bdRD6PUfUike0f3eS7EuSshVyRXu4G0pk5cPX1sp3Az7YYO+We+kgNxVaDiHD2o9owzFrqMJFCAnpxMLuRm52OgqLZdPpWlXZ86sWTeOSp42c5tW/+v/nK8Usr0abjo7j9P8gtRSXw0vl25LM/7zt32Kk6bSLyl6K+J8rJT9vEyDdAvUEHqcnYB0vC8s6WDjicVAERw3G8E8x6SEZo2OVWNf6omGhFaOwicjmdGofFJXPVPIyk9M4vfluBR5+pUnJAf0zHNe3UZBclwpSq/iU1rOCiooqr/J+PD192X1I/UrtrxbuowXEFnqo28Pw/q20C+/dXMd2Wq9KDqh4mO0qp5wRTHmfq8mdIdqXG42OjidSsbAIrl/MJj6GqYWnf13gkZXeq7ai0Ir+mOC07bamNqVoQxyFkx4agOrTsmpWqdfA8MmYZk8D4ZXxmLqZC0SU5d3HuHS3NlLvxoagom0z6ovStaStpEHeFOlH/DpEZK0Rv8NyjBMFID5O6Z1Vgl527hiQNXVfIe2ltrbYSHIvaHwZrXvIMJO2kem2465W2CKlxCqhEamhy89rOmPchEQ8dwYnjJ5CYm08nReQlf3amBqfZT3sOGvG03INCsQbvQ56r2EvGJLcoyFa5S3nOkp4SMmVRPz8fqOdSOjWxwRlE6xnk6uWK1M51aiRYwccfGQA1ZHFzWQS2VZHGKNGAf/sQU990aq/3tuDv6g9i9KVtCLSRu5KZB1NGJEbfOAbb7fMxSnICQypZasxejFPnzrB2PpzzcvBEyRokmG1TOjVpGNte7cPX2AC+vjScPZom/GaHC8/+WSySSdllp1P7SWsVfnByLyI27ccYxWAt8xi9cNH2N/bB9gGOgb2gkjOcEKj9qnmImJ2Bf86ehzXOVKb4MaVTq+kcx5eeHEIxZalLsix4/oAbX1kbgdvm2NhvaUJ9fQ3a60kM/PQOQv/NCqXX38O+UG6aXN2taO30kGYrk/1lHrbjRJL2yoeK6k6m7vNRXt7AjVIO/CQ/YH6FTekduOXOm7BgTi5ySPBgY1/DdJzaC0e8+P4bHqwusHKzacQrR9x4+L5o5dzEqVWfrODm7zB++7uDrLsvwPZNe5BemoX+Zoqwsn/TSBIFN5vUs1Ic1DfsIhmAhyw/BdzU9zPVHEBuSTEVEfLYXqI7tWvbqb3L7UcohSSO4dxj8sJ07u+072lgkwsdk5UCxEFp55sG5HrSCSXVIA5Q+BnPV/84SymAn5VUlzg0cWAK3MHrCvQ+BLd/l+aZ1sfleooo+pzoZ6ovy/ck9SOOPHRoNQSpTZx9t+IMNQc1Dej1pAuHgDlToa8utVObfO9XPFIjofGNJAoWlpnZTGk99kw/vvnZWPzrh6LYnxaGN/pa8Xe1+zHywjYY0zMQqK2jQ/Fh/FQHwj9xCyZaGXFn5gEtJ+Er70bY3asQz3rpY8X8cxpOTSK1HTU+3PjDXvz5TVH43+3D7Hdk9PTvSQTphCmn9rPm4/hBxwk4TvAalR5YFyfDu7kcEyTRniBLBel1tDQopYVMH1gCe24C/jlnPlOgKdNyavU9JEvm9dcWh6O8mQ6Jjv3lv0nAjcWM1OjUGhpq0X7qEH7x8MsEe8UijrX19o5+zFs8G7UV5WjupM5gRiIcyWm459YF2L3pTWwmBdwdG8pwZP9Jcl+SvSSzGDcuS2M/awPu/PB61qSNVKKfNW2n9nK5F58i9+WnVzrw31uHVR/YgW8nIIPRrDi1GgLJ6mvK8T8/fB4JRSnoqO2hyHES1tywDC2VR0kDx34zk5+bl3E2ptsVKcXtH7mVAsF78Xb9CB744p3sVTWjeOZ8PVKjbW5Zm42H/mLJO5YlqpGcf+X6q3/aqRgEHEToXe5jKki/QgadhjlprO8qolERghatyF1IMdftkkZiD1JIfeRn5CFr5rmILVlQFUlxcAcu0YGPumH9AyNIoBK05NPlGhL9yTUk6hKZiF4qRIvTs0c6VHFd/u3gCxTOKEQ+p/q9GMaoSEuiQ2HRVv1lGsowwMJ4J7kgBR6enJ7GWonW6xVCbUoE2NfbC4s9mmzeFMMkwMLOdOIAARotpNeeYISXyPFFkUI8hnTf0mR9OgIM9tlpCgByTq3nLBRlyHXG+DO5l8lyL6GGMYnuRJBV1h3Rb4sUXTetHK6iOalHyOnEKU+uWWiqCFp9QmneMeWZwfSXOOMQhF/GEFImENvIdUaGhxnt+cm2EqN6/ZSNgteRZy2kzap2pdj/WZaRZ80duJAe+8MsZMS4uCr09eTU2HWAp/ePYONRIjMZsdpop/uWRWAVORXJuaQitW+d2o/RTazVNnAxTaM6uTRD8901kOzaQMcTlsKIqKsJvgNNwIo5iJ+Xi6dLb5hWpDbGc3VQAf0/Ng2rurHIuuWSLf4rN5DUQMARpKT4YVMlvt96jIzxrRgn76O52Mlr1ao0ZKCdKUlmRyZIoDDBJn8D09V2RmrfZ1p6zTScmp9RikQqD2/14CT5JSVzEU/5lS+vtSOFf06Q/aS+vposQEewaXMllqxbSr7iZry2+RCJkzPJgsGam5AJsNTQ1dikoqFECgGfYE29tJSN0FQwiJ0YRgPpoRbOTiKRdSfppoSR3ozC4jnTcmrjnMutVCn4Iam5BmgjyTcUZ5jxp6siSMggb4ykH4+ivvYERYWPwcOUqJFE7InxFpyqakIkna2A3JwJkag+Vs8XhtReXT2Yt3I5kqwkeW7x4OYbZvM9MWLWnEW6U7uWnZr4slHC60W6RAquTNYxHTiCYdYLklkL6yMAxMDdZoQ1jKk5Cu8xH11xuAImYd5fNI81NZPKpwutkuzyZYffT4SbPTqGrCGkgqHjOH68EVl5TuzfXYt16zmJWMcaIWR++/YKzF88n/yMBGBQomXbJgIdelxYtHgeUlOiUN/YRb2pVBIne1jjSySxL+t03S4kEKkoyMPdO3cjPpc8e07SEJGDMic9mtDxN5kKceHu+++BjWSk3UwxxMXHkkKrnxD/SHQ318ORmosA60zbt+3Gmo98FM4JN156aQvvMwZLZ8dj00GCO25aQcdHRnE6Vlt4ONFPNhVdia6ca9hLZnWKqSqvRtoiKlOLbVLTuXse7Ccii86E9zOhque0KF8wkzUC9ZWH0OOLQPfJY0hfMAezSKIcIJFw76BXOVNJMQ7R6bpYE0hJdpIougNR8YkkIWZak2TLj/7698grW4wZmVxUiawUxW3Rm5NYzM9xDZIzMiU1iTUXLza+uJX8fwmYWzZDgQ8iufD2kAJMbGEk2KCX9UZRFPCS8sw9MobUjFQM93Vhx+atiC9ZiqUzU0nHdGFS4+vHqWlsNQ6bgYujhm6Ud0I0y0Qo0soN2imy1TxYdxCdtJWJrP0Ggm9UPyBTcFLDUqJekjOWDRb/PcbNwdzkVDyYM48OktyGU9TU5F2Trwv6UG1Q5HkK+pDPTaEnyUyyhUCq7zeUqw2dkkCTfHEQmmhQShf8oWx0RnwYo7NI52btH/MWIJ3sPSbyUV2spuaTBmReNIo2UDB+mdU8nUI/CnkB76G7qw3NTadUKUHq4uNMfbtYk5JNWQSBRCp9zTHIOuLlnJdN0RDzuVLaEJ5PEZ2Vlg2NSEAYhsjdyJRgdm6hKm8IKONiNTUPEaLKRiQXVzYKXm+Iz0lL5Yep8XWR9u10+wsfrKTQh4iktpFjVoR8hdZMEMYyFi8lj0xkGgrnc9SUPQyIjolDdk6hGqdeU7tGIzWZcMcPH0d93Qn0ENQg5LNWLqJt3HElMdrpIQN/EuVTBno6yB03gsz8PBRnpeLJXz+Bu7/yRcRRsXUneQsHSBocQcCIVOIiOEFlge7nTshOlN2Jg5VYSZTi7rcqkJmdiJyyJShO9eP7P/gDPvzhW1BLPkIPd8QTJHgdohP1cpFdSj7DMULX64gsHKfydgK5ICUC6h8ieS93n3eQLPjnP/o54oqXwT7SDQ93WHkFhUQGxqtoJpmAlrdef5MAkhEFdqmrqGBrQDjSudB3dTINwXRNA8l8b//c50kIa8Frr23lixaLBfkW/OCx7SR+zeLLNwIfEaBJbGmwxWTB1clC+RB3xdZwUkzlYz3bCUbpxJ5/YbPSe0qhs5ZtgY87bx/vZWLEA9cYhRPpsG64eQ32vfQ71HrJQdnXyK1wDOIcRH4RoNI74CZb+2qiJamltPsg4tOzMU4Owb4h0WaLxCz2dFnJofnsC1sQS0RjFPnh/BKNcfHIdcbRKfaipZO1HKON16LKNVe9lnrKdPBzEdx8WCii5R7sRkRSET5wQxnaG07hzW2H4ExJwnB7BxUAyK7Pl1vi5Q6mmfKW3IzV8zLJKiE6cOc/rnWnJiKhP3xQREIl4r14rsTIFbR3zEtiXakvy2oaTOmq4qbWBqCdhH+XLAWdWzI3HQLB93ORF9q4pwgU+ff/OnQa/ShAke/99TKSVKcTNHJhO2sn19CFHaOUKOG8UpkRGcLka4cyLSpjEUAcr+3kZnSc1xequN37W/HQf+47Cyjy6Y+W4JMfKlHz9eIm0O7R5xPuzmBNmTYRx6SyOFJDDppQ0/nT0viTfy9AI63erDkk+b0AREJoWHF6jz9fRSLjyrOAIt/+84VYvTSDgJ2pbSR1Yx/1CYNPRD0OJbAr9edgPT4IBghmNqQOr5U31JjplK02m6YDyR/KcxOgyK9+p6MfJ78hV3360ciJNdxK1NFvnkeLy4x8ogLTk6LQQmSeIykHCSTk7O6jNpPZSocQy9Cf8PO1q7Hxmaew7k/uQxzl35/6xcM45mIahmCJosIMMnCzOEu9rSYitdbe/UEi9N6mZlgW9u1rRWmGBQ3+BHxofR4eeeQtLJiRgDf3nWB06EESG5JH21qpSdWFez9xJwmQm6gZRbkG9sCdOrEHYTF0Wqk2aoIN4zOf3oAXn34O/pgMuOl445NjyUQ/jJtvv0HlxQ2MHPfv2oODh4g0TCZLfRtRU3ypMvKKUH/iFBasnof6A4ew8mOfQGGCFa++spmTPxbzC4iA3N+B/CjquB2pxdKbbkGAtYzWIdqpqwEWIh8L5+Xj+PY6fOBD61gzGcNTRG2mkcS4ktdKyBObWdDa2omGE8cpHcP0SMIs/OUDG3Boyya0B5LgbSBMf0UJjrywG8N8EYXMdu7aW5BKxYCdx+qwkj1bO19/A0nZZN/oYA9ZXgFbC8JQ19qLrqYeIrQS4BkeRF0blQ2oRN7ODQfsieSyZBtF5RE6q1ymjWzsjdsLX5gDGZQK6h8YxNJb7qQ+VSy2vPIKdh6lM2MtKYkozfmlyXiC9aJ5y1chrL8BETkLsWZBtkKIXY9OTXrECrKj8cCnylTkMZVTExuYhRzgzHJ5cS/I34ozkf9kZbUz4t/MXqenX65mBKOVG4Sq6/P3lUI4KEeEQPWih8QeJNqVRv1pjkGI2saCVHXSR3qMWkiP/v6EAgCJ45G67Ia12bh5TRbBQCFI+4UGEQRrTZIVmtIA0/iAVtbQ3KFEapt3NOHlzfWqxKAxBxnwcaIz59BG06Gz0qook0gcpzGGcz+ijenMc3t+4ykSsjcoaq0/puMaB4owdUil26OHThAuzuZOSyQF7zxoJIQ+KTObQpZ9Svwuinpe4WxGlFRlVlYG9Y8OUmE2C8W5zJFTH2qEaZkwFgBSufs/fqQcMdQQk5cpNjEZvY118AplEol1Y7mQDk3YUEDI+KH95axrh7NW5EKAu6lYJzXPmJuPiiDxMVMXESRK9nHRiY6KIgkwF/Hqauw4UI1lq2/AnbfMQ1V5Jfq9JE8OuNHHRlUTo57w5FzMKUxVCEVBM56qJ9M/F/WetnYK4ToQHx+n6m+NNadUdDJ38QJEMrXaWN/EHZrUAshC0kU5DULeO5l6TKYNzOwp289itzMpgf1zDmq8xaDpcCVcphisWUzZmcZ2VfcbY7Fa4PvdQ5QUmZWDxtYu1u+pUsxenILcNAx2tqLqVJfSVkvJiWfzOtMibIxuaB9gNDYbsZTwqDh0lNpYFtVycJIyQCk5+SguouIBFZNPsKctymFHHRvBzdEp7Oez4Tgb2a1RcYo0WFjix/k5D9spGqiXVlScBc9AH3wGtiLw3I6EdCSzbaGNwq/HajqYioxGJImj48iY0kmoupeipz1EqBXPYfo3PuI0N+b5XuZrOVKT+5EFUKFap4jSLslCxmtJym1MHErQKUlsYxEmH43W/qxDfnY62gj+RlJ77/kIRk7So6ZdTFNMl3qxOJB3a4NzmUZkXKqP8X0MUW5YbDQu8tLq0MYpbB7ns9F0bKEC6XPYRKbzvdBnZI7IMxNE8rnP492c51r87DXu1NQrrpSu1TxSUH5tQsnUlzSBBgPXoOdqAktDI9GCIiQpc9kskVHwO4poV3ZMwWkgdSit1qZB/OXz8tnTCtOyI1MzZtK0CSb1tbRAENbP79SxcdhFpoecglzWQATlqDW9hnZnI2QrETqtECWOjFtSCVprgLb7OsNnqAFiBOmomMMVlYI0iUoNQRunRqmlAVTO1Bq0HL7UsEbpxCTKUgwIwbGG3uxQnl+zGxc0ob2iHaQNQq6r2idUq4Bm6xDgJUQWHYLey/cF6CKfkt9pBY8QrkezmWYjIiCVLc+cU15KGYcsYEoTnM8iREitZau0k8mCpN2DnFjqMxoQ52LHte7Uzr03tcuf9EPNbu/4VPB5XdQ05/2lzJ+QekToA5LuOrf/T3u/ghHMpGc9WTlBfnwa16Xm19T+REMfn700qxaY98AxePp7k04n78rkMZ1p3zm9rJzHLsEbDP5Ga4g+Z4wXsNH5n8DZ55PPnG+s0356tOv5xjTt71/DH7wOnBqRwNzlKwQfF3lBz8kElQVfFjnhZJPF3XcOcEAchoVOxCf9V+dZA+X3grKTaa3Qfef5kCzewmA/SsSiIC2lHuQTcAW/JUVmI52AOAQ5pA9MFga5nhR2z909ibMQaL6MVUuzXHhWyUsu/W0i2TKd9/pcUmG5lurTu8iXxSQWXkN6wejBFKpR7k02AQIqCKkEyCjFNOJYNbaFdwI05G5VryBrQO9lIbrU75c4NVloQyTW4ngn66m9n+tdbki/pB/zsqLxhftnaYrbtD2xApqnUI5d7ZWUqKPm+6WmpUU3l/7QJqnUfLTo0YD/eqySteRBlZKTeSxivF/61ByFPpbNhuw/ld2DY5VhCYl/aLprag3qrJdguNr2NKQKIdkaqQ/uPtCuqKNCacIHOL4kRvc+RoOC2FQOXFJ58h7zBJMz2apmdcnGd/Ytqs2bPDxeOIJp39e3NuKVLUypB+nJLoFB/ihOcU07NbXwMsRvOFWPLjIjpGZlUmW6ixphBFuwJ8c24aFYZzsS09ORnZmsHJ2IP8pLNUrUX2NjG5KZjrSLU1TSKBpEXxBNY+4BilBSXp0gjvSMNKUZJc284ig1eRu/SpX19Q0T5JGB3vZ2phMNyM0UxgaKBHa2U9DSzHqVUy30Aj5RL7+8tEJKzBdeIkZ5geTlt3Blam5ogcMRSVh+5OkXUZOkCTUhB190MhQ0kVEjLi2bfHIcq1D8SCSlWhmkT00IVgmvV9GlbIW1CO30uYLFZ21t0Zyb1iSuRXVCEAwCC9rbCdAgogojg0zB2pCZEse0aAsCFIxMpiK1bCJkOZLNQXdHJ9ystWQRiKMiyOA5VXTJczWRJzIuKRmxUdR04wZD6iIaYbDWGB/qTRN4/vkigEv1NqqohvIetRR6jWH7Qy97kAoI0jFQ8HQ69ampxnG5nZo0XwtQ5EcPrSGhr18Jbf7+wAi2kE1DaLJYDMMnV9mxkpB+EQ4V2wr6T1hPLAQ0hBCnMhc1+SQNFCHIREXJpByUNsdlTijZI4mWg1kD+XyIJkxcZWxcEhGSRMvyf4JA/vO/34Yjx7qVtpZsgtKSHfivf1lH6DtJEOgwNpNZ4zm2IIzJxpPju2O+DXeWkWmHf5frDQ31kTmGrSuyeeIDkc2The+JROqSAFXk5LLJVM5ai2bUOKXtJCRvpIgLpP+RIpZk44gS6ih+TpzDv/xsP5579ZRi2ZDvyvl+/q83EH0cpdhJytkW8KttHnh57VEiKJcVWvFZUn6NSRqPdnG7h4hyJpCJ15J3V9aE0/2R8i6ojalsZLXeVkWqLu9WcIwhBKVshiVbFMoE+blRjI6K5XgTlUMX+/36meP4GSV0/thorqZ6x6b6/TXt1Mx0RqKGvPdoDRWpszmJAoruatnaFXCS/+3tvceRm5+G6lKsS3sAACAASURBVJpmLF61CrlpJPxtamU9ykGn00Aqp0p85oH7WTvyooV0NDHxSZggjdMgobaOwAA5I6tRNqeUdRu7UtMV0UxpC+h3jbBlIJktA034/e82ExhyBww+N3q9RpIXGzHC1aW3tgIVbT7cdOMK9s1YKGzZT242IvnYKydCoyLMKRReIsCZQOLjkZEhPPXk65g3bx4l1fMUJF2QaD2k9rGTCodvMtkO7Gg+fhh9gVikxpro1DLgorinMyWRcPxBUuVwjGnJrE+RMYGtCT6+pM0NdaTEsmLJonzFQhAV5aBo6jBpk1pQ1z2KBfNms5AsfHpMM46MUP3YjQS2InAtwpPPvIqCRWuA5qNoQRIpmBKw6aWNiJ2xCKWZ0bCJ/DF5/Xr7hzQYNx15N/uNZixcgkTS9Pjo3MKMVtYZSf57vJ6qwJGqRy6GqMc4MhK7Cavu63chmv1ow2xbkB17CinMROjxUjiY801+WfetrDkeZl11O7lC58+fj2XLlnHRkp37VK/L1L+/Ek5tTkk8/u1vV6qNUQzrvLf/tA+vsE/MyObrO+aEY2aaEQ99MJLzmIhbOoia6gr4if5rqG9HLEVphVZJep3GpGZK2LibNGzRnOMuPns7eVM9XLh7e4b5TKlsTQSrIIKHOGd8dJiSRk6TDaLHTcfEBuTcPOTkFyunI6KW3/zuTpRX9Zx2aqlJDvz4H1erGnU059mXHx/ET39H9Xk2Hd+z1AG2XuGnH4siBF+zbdWxwxge7kc7kcMBix3JRA43kTLNQZV50kqjg+K16aISIXRRDEftBDONj3qJkhWe0GHYo8iWQmYQE1G+ZmZOxKEVl85V53YQMPFvPz+AFzfVEfJ+xqn9kOPLSouEnSoUv6BD+7MfEZhFn3rHqkilSv3L++nwxGSE1NfWHENPdzt5YNnwToRvNhlaxkh9N0G0Jre9XEe6uY6w9s36cGevG1nZKRzfqHpWkVFcRwjFt5N2S1oGotg64+E7YCEVl5QHw20RKJ21QGV9BJL/66eP45eMfP/YaK6mfssu/olr2qkJoeyWl7ZinEwEHyQTwRAX9l/+7EksWr0S1tEuVLYDn71/DZ787XNIzCpGfhpD+jePcjfEni++HML/+JnP3oVtr7yEzhHKNHBV6yYa0ZoSCzMnrJV8jA46zkYuBuxSQQp7zPq62smc78Jd993J85E4+OfPII1ACisXbFkMzGzW9A33KlSYn42nEeSuk6bYZpIFR8bFq53v8ltuw/xsGxGUTxPOzgiTqMMkrvzddA6j/N7i0mz0MlJsZGNqCiHyRTlO7Nm6m6wRASIJuRhZU5FNRL2gK52iZk36njay+UcxtRNDmpw7VxXht7/6HbwRibBhkOmTWJIXO/HM87uQXUQ6IJcPhTmRqOSuNJFp0aIFKaip6UQne+uSEp0YYVT2iTuX4ffPv46S5TfC2F6J7UebyR0ZzTaAbtgTMtFFMuIAVQCckeFISCcYhLvW7qqj6PL4MGPuHAwQ3CIv+rIbbkB6lA9vbN7NBaGZqtkBtl5k4AN3rUcHG04ff2YrMslg4ekapjK3CSmzF2PtAipJXwS9+H4nvYk0SLIb7mDjehJ5PCViGeNcOLsy9d6ucqWdmqLJ+tUA7WrAbXMj8Mx+N+amG/H9e6OUU+tj5qKRiNXdb2xFbSvV2OnEZIGeNaeYoJ1a3n8idm47iA99+h5sevxpxOYUwUb7DJEHtLalF4sXzqBj9PHdGEBl3RCpmHLhIjhqnE3Ni1ctRFkxnRpJwjXy3SmcGnvJvvrUIA43U0B0kZ30Wuwd5cbrd5+PIau/Zu/qk+Wo3Pc2duytUYrvUWyOPkZliWT2URpG3eRyDGNLSgJ7SwNoa+lEOMnD4yNNKJw9Exuf/ANWfeQe9Bw7hKTSRaTMilQ9lqVk2ZiOUxPF94e3uvFfu0bwiSWkoxr0Y0/NCN74qlNTr2bPW92pE6irPIjXXj9AkFMslq0sw8HXXsN4RhkK7YNEQFaQED1eRXZSA06MjVKtEl2tBDdRpcLIhvfFs5Px6BPb8NFPfgDH9pRjxtL5yEnhxpUY1ZmzF6qIWXdq7+39k29d007NRFaOrrpq7DxQhaTUVPLUmbF3yy5yuhUiPz+VGmj1JEeNRUtbH1betBaGwUa8uZsweRLmuv02ONmIeettS/HyU8/CFRZFFv0hRSg6d/1s7H1sE6IL02HmbO4j3dBMohJrq2ogy2GYJRqLls4lKi+AnZuPYGZxPHYcqlP1gliy/vspXdNNBpKiuYvI1HAc5R1eJJMFRBpJfURPbrj7NkSMdODp57bAxD4saXS2c0vYx52yUVJKBrL6CyM5o5zswlKkRnh4jzXcgbqRX8IozktnaehHcz/RnLy/AV7PPebA8oJo7Gsfx8dvX44927Zh7/EWZBIqbyC6MjrGhP2HCDlm1FRYWIY18+Lwys462JkaHB4fYOqUuSH202SwF67X7cef3L8e2zdvQ/8ww5cxD9UJrGrhDPP2o6Pfj7goEiJ3S+N1PEmWS0kC7YKrrYmL3QQWr1+PZ3/1CImRs7Bk5XzMzo/Dy2wQbyLHXvGMHPSRlWTlhg2o3fMGdpR3wmoeRnLSDJSkh+HYkB0fuWUB+5/E0pfnYAJLqwEFGWck9RZgP6FWY3t/x5V2atGM1G75YQ/7Gw0k3yb58B8G8a1Px+B74tT4s76+btIvVeKZ3/4BMxctwIFd+9DPxuhV5FhsqqkhM/wIKivrsWrDWhiHWnGyvg/OjBzctDQb+092YxnbVnaW92DxzFgcqOzEffetxy++9xOEF8zDh28tY6TkRAHn6LScGsf6+UcHsPX4GNbOtOG/nx3AvevteObPnOh3a2FybU0FXv7dMzCm5MPh6VTOrZ8RWGZeHpyM9IpmsZ1k59vs23SQ5DdAooUhZiL8KCnJwdaN21G6fAUSLB6kUwViFtWhzcyKlJTOm5ZTk0jtx2+68Q/Pu/DJ1ZH40YsDmJFtxqG/IyxfpHzo1BpJjLx74ws43DSGu29bgoaqKjz71EYYE3OxcIYT27Yd4Tuaz82tEKpnY+sfSE8WL4TEBkZ3LI2ExWB+TjilfA5j7S0r4CeJ9Kxl89mOFMv5Z1KRmu7U3t87eE07NQ3MYEQ76Xd6uLNMJLu4j1RJHqbunImJTFd4FbNHAh1eKnvBxtiL1trYiLGwcC6iTnblU+OLqT8PU4INDa1MzaTyOwQRMKXhISTeyF2tMCAImtgmHovR2hgps/oIHc9kPxtZ2yi9wsZt9u8M0yEwhsLhA0cJSe/A4nXM08uOjT1sJn63s4P8cUwjSi5e/rRy3D2dbArvH0EGGcK7qVs2ROeTlepkDaSLrPqE8MdEcDdKCRxC3sfIlDLOkC+BUPaBfqZZyIRgYUqnpYnRRkYK2wmYKqLT9DD1mUjofitrXyPjYYpR3z1MolZer7dvCJFMeYSzFcHJXrAWaspFMPUhKc5ISubsfmsf7ZGGOYtKWftiHWGE8Pr6ZoRRbic3OwmNrF1KH6mTu08XGSqskTGIIPNKBxnNo5hSjGbNws1UTGR8MnZtfJ2Qfja+k2h39YpZpPXqU9RXNjpHAYxEM500whaCZvbgRbKBOpzpIqF88tK5xJEl/UoASqS+2k0dvSE2pWdmZp5Gq76fV+rKOjWRnjFgY6UXmyu0mloUMwN3zA/Hgiwz5y0bryVSqz9BuZ9KvP7abliSs7GgJAUHqM2XlksaKL4rUbR3PzMXcWzAd1KmpK55CGUlyahuHkBpthNVDdQWzIjAibp+3HLzYux6azeszhRGaSlkkk9AYdHMaTk1ktlj9ykfXmANkH4VDqZB1820Yt0McjQG8UUnqo6ghdHQpo17SeUVyxp1PBlSmDXhe9PP96WhfRCz5s2Cia07rhEDpYYSFAHDSICtJslMY3Nj6OO8bWff51LyJi6dX0SS37JpOTWhZ6kmOfJjuz0YIFKZWA06IAvumReuoPEC/qqtPoaOphpseZ3KB+MWJJFSSxhyWCDkuuMntRXri6zNy/veRnagufOKVFo/wAgtPTmS60MVwh0OpcnnpkOTsTa3DWLdbeuoT5dKlv15SvtNj9Te+1t4TTu10G0LIk9SSH6p4QgpMH+hSItD6Ef+XaEQGRGJVIjQ4YwzXaIaOYMqzarAKwwNghQTYIbs4oMNoLKB1wrSggHR2AgUalIK16IQICAMVZweR1N9IydwBLIyUxRKMJTS0tSeNQYAAaSodgLF0B8cQ7DwLMV/BX8XuLpQ8kxSIJCfaVyQWoFfQBih9gSlQC1Ff45RziH3KYV02UErcEoQoagK7ryv0wV4+Y7ibKTmE5k9YslXKZcXtKiANwQBqcH6yfw/6ZwCptGg+BoARZ1XwYh5LWp39VBwNYbOW90fxyPAlcnFckWZxJdX9LoUPDzIg6lIj0V94L3P6Wl9U2wvUjYV5UfZ/xfPhY91oeDzntYJLvChK+XUvv9tqalpNFk2OgcFypNdngAwOO2k/iXPwstNVT2dhNTPFF+mNGLzWcgGz8g5L58RZOooHYf2LLVWE5lLCoghzzQEVgyBHRRrhaZKnpaRi8TENP5dSz9+4zvvrKn95DtaTU36uITOKzi91VglraeioCCYormpjtFlpwJTTbBmp5SbOQalQs+/yDsRApFoTB8aHF9aCaQ+KPcpwCsBK03wXU2hqGx6eo76biQzOf/68Dtraj/i+KSmJk3lUs9VHUJBW8qfAriRa4SxptbZ2YJ2ZiTk/qV3TgAfVpYo5EGMEjQSAj6dHit/pym1h9qLpBWCoq7cwflYpxe0o0Jm8wLxpJXLyhaaK25OyPX4v5Sy0Wtq7/5tvPadmrwM8j4Hq/yTkUYXMkcozTRtpvngNTRotNYDF2LCVxIodGYKFSm9Klyo5ffCz3ahYzLb/nQeWYiO50KLbqgXT3MaIeocDZY83UM+KrRjIhL5btnxz3cNTeRQe5mvtkMWHnFoJ6qOMf/uIslyJiV7ijUY9/sc75VwanPJUvGfD61WG7LQ4jt5EzD5FjS0nXxOY+OQI9TvePa9qrdoykcVXOtPf04cpNZ7KBs8A772D9tx5PjZ6MdffO8G5dRCTdiTs7zqiqHLBoegUMiTxnr6Yue862cGK7tNdWPajyZ9TileB88rzBr/8lOiH8m0IdpwIfTjwxxftsjxCI+k9vWzjrOmhDhQpfKhUWqdZUPtB+8Yw1knm/yZ845VO4eMVYAiP/u1jn6cclKe84Fr2qnJhO0jFRM5dbnDSVeR0Rj502THZCdwQzXsnHPIYtvc1MyfWpGRmXhRORn5qlyjh+J9wz6jIiMe5N8H/REoLqBAIh1aJ1M7+4+egjXCgdKyOUihAOGFnQIbnkkQXHGMMhxkyMhiumSyFMv5Hp6ZKcWjh44rvrwkKisnMm2qIPfBQyD4biKqjGyormlsZT2xCA6DBw2tfcjIziaMenpUStL3Vn34EGwpWchIjD0N2363E+pq/7xsQgbJeXmCtRAv+Qhlo5DG3Xxh0YxrwqkJik56qtatoIyMitansLjKLkyXoOrdPT3NIWlj0CIZA7bsbEYndXAkwhInJmm09auZqle8klMNVjvPpahthu4kpNIh/5aswNuUlKlmGlX66EJ9autXZSmE4XSYT5TDu1z2pHkmU2+VV3XjUGW3Gqt+TN8CV71TGyJS7+5b8/CtBxa+gzxVnIqX4A627hCSHKVeqiEqTbexHlZQXIQwkVg5xxYS1UgNRZBGUawbTZVykmuMcDc/zjROa7+XNFwERCASc4lQlFxf07GjIGc8oilP0TdhJxch+ejO04CshiF0W6T12n/gCCJT8sh3SAmOC31W+wLrZmFEp+0nKjGJTi2R9TvKdUxKk0lTa11DI0UEA+hiPTGLatBOErH3D3lYq2INT4qCU68lqqm6fNcuRGQWII/UXOfTnJv+tLp6PynpY5drSPVtaQKkmvZdFOnMTm/p38fwhRVFGtsf+PY2UoP1KkHKS32IM5MesEuB1rzUYxPBzMnMGuLwpGH86jikl07EaM9uGZHxac7kcie934UVpLTAjYGZ9pxy4/IuTvvH8NGr3qkJC/gKSqILOaiwg599SJ5a6Ju02lFoUdLSKxciB9WYr2WlF3j91BM5eA2p9QTrWTKGSVkGdQ5Nh0wooaZ+MUJMFtN9kbRdsLYAaw7t7GuEaLS03bBGJa4aryXtNI3xaDYN2SyUgpv6Pq7NF0R7nucuvKGG4vd7T4opiQ/sx48cYcP5kIoO9OPqsMBV5rYuapRraaxXx9M9M4qr3qnJwzVxpTAJdGoaEYes4arqdRm2N2fSIpPSPioVEWIoPCfHfoGnrWir5Gamcz9qjbz45yena97PfU91natt8l7N4xHKpffzLK7me9PHplvgarbAVe/UtKhIUE+SuL+aTamPTbfAGQucS5Kr20a3gG6BK2OBa8KpXRlT6FfRLaBbQLeAboFr3QK6U7vWn6A+ft0CugV0C+gWOG2Bq96pCUhCNVOKXDmL7tJLIvU16QmTQ37vI3pJ0MI29sJInUqYzI38rEVYtIPifdIErEQF9UO3gG4B3QK6Ba5bC1z1Tk16vuITHErV+Vj1AJtkSSrcOkiFZw8bOkXs04/84kSk2Nkjs7uN7WdWrF+bgR7y1lV1jSDBaUNxvhP1pP5p6yQjtgBO9EO3gG4B3QK6Ba5LC1z1Ts1DOZVV64vwpbuy8c8/OoSvfW0xnn3kMDxk6O/vGMAQJUPuu2cGelp6sOfYoIrWlq9Ix/6nK3Gc5MRf/UwZ5U28iI2xUiCwBpUne/RmxutyKus3pVtAt4BugWuApV+c2vJ1BfjS/TPQ1u4hyS85+1qG0S/6RGTxcNrHUN/hJrFqFKIobTEoKtRGP5766SFkL87AVz41Gz/45SHMnZWoUpciEihpzEvJWqBPJN0CugV0C+gWuDoscNVHaiOUIFmyPAdLypIon2KhIOUwwt2APZmCewOjlJYwkorHRC0yqlqTvKGT4obRseHY/vvjiCKD9z99Ywk1juoVVc9jz1Xhf353TKlY64duAd0CugV0C1x/FrjqnZr0UAtVjGoMFqZ8Aj78bGyNibFRMsar1HedUdQiG/AinJplZlIUuUfIAclamzDXf+SDhShhTa2lY1g5tcEhnw4Yuf7msX5HugV0C+gWUBa46p2aDFKjhzrzxATxqKRglCaGyGOQv09ooYL8bYKLDKPzEycozA7R1IhyDVOWhr/QudT0ma9bQLeAboHr1wJXvVPTIPsBeFgre9dc40ElCKVLRo8WcoLX7+PU7+xqsYCd2l3SRnIZ2NqullvUx6Fb4Kq0wFXv1ISNPD87BovKklU/mn7oFriaLRDS4nrr7RaVEjeRZFo/dAvoFrhyFrjqnZpIz9x7Wz6++WcLlFqzfugWuJotEBIJ/dO/epN9lb0I10FJV/Pj0sd2HVrgqndqMsAPrs9VTs1FeL8cVpuN9bEJSraPUw5GU6E9c4i0jFnpJokUjGibCRm+xSKS6+Oqxnausu1lf64i5W7S0lEXU8Q+dxwGys2YqSw8Ru0vVTekYKmVMvATdO5eSsFbwm0i6aa0wYTw2Uo5e6kbCkhGpFXGKJY6TSGAy26CP5YLXG7l6z8WO+r3qVvgvVrgmnNqsmhXHNiPXg+QkZWBGcXZoLizchZhdAAWi4GN2C2obe6BIyoGBQXZsBkncOL4CZidqchNjsawe+QszXbR17JazXQMdJBhJuUoxsfGlICn6LJZrJqzGKeemol9A6JTJuKhorQ9wd9LhmmUTsZPYIr8XlF4ib4anY+gNi1sO+hrbUFL3xhKSnIoODqqok65ro2OyE8UjFxHziNOSJy1/H58ZBg1dW0oKJ0BO9lTXD2d2Lv3KCKT0jFvbgGqDhyGa2wCWXn5SHZGoPLQEfSOGJCXk0RgzDjVnHNEe153bO/17Zjie/JsTZxzcogem2jd6U7tMhlbP61ugWla4JpyasMegkX8Pvz+8SeQtXgDStLsaG1qgtsnC3suhjtbuKgHMNbXisZ+P8pmF8IwToVjkwXVRw+i3ReJDWvnITklQUU7csjCNOpx4eTJesQkJCPg6UfvkBcZuXlIiotU0V1jXR16XX5kZiahvakFjrhEwDuIcWM4wtno3TM4ivyiPDZ/G9Hd3QM3VagNdIoRkTYVNXX3uRDm7sLOw41YuHQRiouyEE4n6uV1q6sblOqyj8ragx4f7y+A5MxM5GYmYOeWrXD7rZgxsxAxtjAcO34SnuFR9PT2Yu0dd2HbE/+LYVsUbrjpJky42in93oZ4ewA+ayTGBvuRUjQbswpSLqzEPc1Jon/snRYQtez+vgH1vCULICKumVnpSqRVMgFf/8cdOHmq77IoX+vPQ7eAboELW+Cac2phdDK//+2jsGYuwLy8OLz16iuw5eZgVCKzpEREGLyobu5HXmYcSGuMwa4emGOS4DC40THoQ5Q9HBvuuRvDzSfQQG7IhQtmYd+mF7BxVw1ycjIx5hlGbE4cAiOx+MynbsCpqlN4Y9MurLplNRoqjmJw3I4w3xCOH2/AopsX4+jr2+ELd2DFjRuwfnkedr65G9s2vQGXOR5ZWSnw9nVjeIRN4kw/xqdmINLohS29BLeuLkFHfQ3+9/FNKCvJwqnOQfhdHkRFGzERmY67bl6ELRu3oGzNTTi2/Q20MTQtmrsARUkmvPLGftz58Y+g40QlBtyDaO3yY3ZBFGq7rZif6sW+pgBK6Xcruoy4fV3Zu0p56i/L9Cyg0ruMqF9+4XX09vbjrns+gIREzhsVnetObXpW1D+lW+DSW+Dac2oTfjz/xGMYj87DDEYzrY0NyFpUiIpX98OR6MSoewA97gByUmPht9gRZRxnwb4Vcc4YZORnYbCzHWUr18NpGYV3fAL2CBsq9uzE4ZoeZGekwtXbjdylhah8qx53fnglutq68PaOvcgqKaHT6UNbD0mRmSccGPDghjuXY+/LW2GKiUNhSSkyUqIx0t2GJ5/dBIvdiujkQiRbvRhgM3i4KYB2OqbIcBOSC0sxpyAVXvcQtm/by7RiD6LySxDLVKEzxYSa5lFsWL8C+996E+EZpYgersHzOxtw+60rcKryGEYCYUhJY4pxwM0FdBwjI+NISo5FT0cvRnlPsxbMQVc1mVMyS7CglI6ai69+XHoLGDkPRkd9yr6RkQ6mp8f19OOlN7N+Rt0C78oC15RTE6CI7II9w8PwkD7LQsCIhTUsqWNJ+u7IngNo7hzAvBUrkZcWrWpiXo8XYWaL+pzqU2N6yGSxnpauEWtNTATQ19MHC7kkRb3GyBraYFcXamsb4IhPQVZaHOtwo4h1sh43OAAzIzOryQAzPzfqccMzOsFsZC9ONbRRMaAYztgoFsZGEWYhkIPxYg/Tj9HRDo6bTogR2/iIFumlM8KMjeG5LGaCW8hHKYAS1tVIa4mIiAiM8JzHTzRixpxSKegpJF13Vx/CHQ5VKzPxe8PDHjgcEVqNjvfhC7DO4/fgZH0P5s4v5fUDeq/Uu3ol3t2HJe0oOCWJ0OTQa2rvzn76p3ULXGoLXPVOTSD9d9+ah289sFDppMkh9YwQq4j6gTgD7pp76YjGDVYkJ8awcH+mZqZ9RCAY8h8BHJPpSeQnPJmcU+oh6lPB80mzt/Y9DVeigAAEd4gTlJ/KQibOSBGb8AfiNEPpJ7mO9jmemwuf9l3pWRJ2FG28Wv1Fa9ANXUcb4ZlrGYlaEYCKfFfOocYZvL4MQtJgiklFrs9zyXf9/Lf0R0nkoDf/XupX5uLnCzm1B/52K6pqe/Wa2pU1v3413QJXP02WOLIFc5Jw5815p53ahZ6bINEMhPoLOEM/dAv8X1hAaddyc/GbZ46jjXyjZjNDf/3QLaBb4IpZ4KqP1EKW0COOKzYn9AtdAgtc8V7ISzBm/RS6Ba4HC1wTTm1yeu56MLp+D9e/BSQtrB+6BXQLXHkLXBNO7cqbRb+ibgHdAroFdAtcixbQndq1+NT0MesW0C2gW0C3wHktoDs1fWLoFtAtoFtAt8B1YwHdqV03j1K/Ed0CugV0C+gW0J2aPgd0C+gW0C2gW+C6sYDu1K6bR6nfiG4B3QK6BXQL6E5NnwO6BXQL6BbQLXDdWEB3atfNo9RvRLeAbgHdAroFdKemzwHdAroFdAvoFrhuLKA7tevmUeo3oltAt4BuAd0CulPT54BuAd0CugV0C1w3FtCd2nXzKPUb0S2gW0C3gG6B9+TUvvGdHdj6discdrNuQd0CugV0C+gW0C1w1VhAnNqGG7LxnW8sfceYKMR8fsGXb/3zTmzb06Y7tavmMeoD0S2gW0C3gG4BsYAWqWXhwa8vmb5TqzjRhZ5eD0wmUXLWD90CugV0C+gW0C1wdVhgbDyA5AQ7SgoTpu/UMDHODwf4n64ZdXU8Rn0UugV0C+gW0C2gWWCCrkkU59+pOn/B9OPo6Cj8fj9V63Wnpk8j3QK6BXQL6Ba4eiwgVTOTyQSLxTL9SE13alfPA9RHoltAt4BuAd0CZyygOzV9NugW0C2gW0C3wHVjAd2pXTePUr8R3QK6BXQL6BbQnZo+B3QL6BbQLaBb4LqxgO7UrptHqd+IbgHdAroFdAvoTk2fA7oFdAvoFtAtcN1YQHdq182j1G9Et4BuAd0CugV0p6bPAd0CugV0C+gWuG4soDu16+ZR6jeiW0C3gG4B3QK6U9PngG4B3QK6BXQLXDcW0J3adfMo9RvRLaBbQLeAbgHdqelzQLeAbgHdAroFrhsL6E7tunmU+o3oFtAtoFtAt4Du1K7BORAGExUSTBw5JRaui8OACcoZBSCSRvpxOS0guhpm/t+VEtgIcIqOTXOahnFQZsPl1WgcmwggcH7t48tpdv3cV9ACulO7gsa+FJcKg5mLhAveQA9Pd71I/0zAFhbHBS2Kjm3sUphJP8d5LCCzJYz/1zNmgNd/+R2b+I5I0wRiFCkQ2AAAIABJREFUuf+ayrEZ6dD8/EK7d4RzYOKSz2zxq+I0U63hSjJLd2zX7yuiO7X/g2crL5UYfvKfMgz52cWOMIMZHn8rDrj+Hi5/A4xhZn4n9D2DthDw/7TzXMjhadc9c71zPzeBMFn55Mfq3NqILn5O7TPaVyYwFnC9q6grjGJ+MeYZmO94kItgNhc33/t6KiG7TnUSZQfeoLJW8JlM9Z3p/Z7PwnDmGUx+rpOvc+41L+0Yzh6pitAYBG3sCcNv2jXxxLAw/kA9YxH8vdgRmg/vnJ8eOsexC3xdrhdPSasvZfgxNzKAUX7ufPcoDm2cz+E/6iqxpbsdZpMRYj71jnCManyi+6jGK39RD4w6xXx2wQnq9o/DF+BgLnDINWxhRtyWnIEvZ5UEv67dj/Y+yLmm93QvbirtPZzqXb4EV9JPcQEL6E7t/2Jq8CWSF8lI5xFQL2aALwId3XlerOC6q0ZpMoSj0fsS3h76GowmA3xuA0w2ugS+636eR3vXNYep3v2gvzr9d/5A1gU/t81q53qBTM+oh4uIjI2fs9iZ7DTynJJHmuT/znWb2oIgYzAh13EXos1Zpy0b+uyF1oyOkd1o8LyMVTG/Qq7tDvgmRk5/N4wLkfjYcYrShhxtaCEycfEbGzs7ZSn3L8Oczk58snMPBAJqkZ9s78l/n+400TYW2vOl0TA65ofFbNQWTPVzteKpf4euGTr3uxpDcNNxoXGFxi5iiQGxXXBuPVRnwqbeMETajPCPuDkmC8Ks3ByNi8cRT6KN80xqW3vo2rwKqt0HNwJyDyviDJgVdb6JNIEdvRPY3jeBr2T68UU6thE+KrlHA1OMsnEKLfwW2r1z1Is79m9BP9PQZh8/aDQhzCJj9PJPKx0a563XhzCzGQFGczIfw2zhaswS4d2UlI6ymHjNHOfZ07XyXp9sPoVYfv/lhTci2mRh9MixiNOkQ5TbF2d6IWd0oblw7s/P3jBOd9bon7uUFtCd2qW05jTOZbWacGh/JeLiIlFT04bCmTmoqzgJY2QsyubNVIvN2LimKi6LrCwCskoH+DOjcmov4KDnb9FZ40XDyXHYYkwoXhKBcJsBniE/Tu4bQdk6h6ynXMzoZOiQxCnIacaZcxplEOTpZYov3ITEFJPm3IK/19bhCbRVeVG5axixWVZExYTBlmhFYREXATo5/7jsnoMLnaxlcoLgrtrnH0GcZRY2JD/DIb9TSv1C5un1VeC1jnuwMOp7yLfdo5yaLMYyOUc9wxjmFj82Jkq5/ZDjGR0dQX+/BwkJTi0q4qpnMhrR39WMIyf7sGpZqXIcYfT4lHCXTf1pZ2/kz0xhfhw5UA5LYhYKk+04XlWH/FmlMPtpG+Xtte9wyaNDFSVdPgv5t9x7aFH3q9BDS2fRwHJeAxfj7voatA76MdzXi7j0TBTnp/C7/N34CA4eqERmaRmS7X5UnWxCUlYOnA4zn4sHVVWtmD27gBsUP5+JFpVoGwHanRc38fx+XjMUWYjDlyPAz4ujUHMluINRmyb+ururHxF2ByJsJi7cE/huvQnbhswwdlVj4MRxjpfPeOYS2BJi6dg0f6Y2MMFnrJ7t+AD69h9F3NLVpx/hOOejhUN8bJ4RCe8UGFafOzAwgU8eCeDLQac2xjFWHzuFhLQUxMVGqvH66XCljiZO7d6jO9DbXI/RimqYktJgjgnHSE0dLFm5sDjD4T56HMa4JJjsZnhrmalISIFtwUzEc8yPLboJGeERF30D7357E5o5nzYuvkk5tXHZLI0M4a3tR7Fw2UIkxEQwwyDm1uaZjC9Ae0+ENqC0hdqIynPn72VuyHOROaa+w3O21x5Dy7AZ82fn0wuzTixzT56LflwxC+hO7YqZWruQNTwc5Tu2obq5Fw2nGpA6YyYcgWE0dPQhOSMXSxcUoaO5EbBwITL6cby2HQUzCjCzOAdhfhMaRl/CkZG/xuHXBtE9GIbCMhvsjKZaakbp4MJw5KUhFK1yIHNmBIaavOA+l44S6Ovn4sGooaLSh9lL7IiMM8LdNQ4DIz0D80ftLePImh2OzDwLTNYwvPlwN4rujkbfXhcOHBvHylsj4Xf7MTQ8AWeySKUb4B7ww9U9hjHucGcsiIDN7uVivQKL/d/CE09tRV9vCybi8mF3N6M/YEOEdwiJM2bDNDaGYVcHvPQfxbPXYuaScOzouxdlEQ8iP+IeBMJ8OHm0Av2jXED6m7G/fgQfvXstTp2oQUJyAjrau7n6jmLXrhp87GMb0NHSzHuPR6TZj8OHD6NjJBZf/cwNqKxuwsiQh5t+E8IjzOjt7sMYI5OMRDvq69vhcg3AZ3GiJDOeTsUH37iXdnKhoLgU4wOdONXSjbT8IswvTkf54aNo7fGiMDcZDXUNGDVEYNmyuTD63NgvC35GDlOnPjR1DMHg6Udbjwsna1vxoT/5KGbmJdHZtmPf2wf4sw5kl8xAZLgZdkZwXr8R+UWZaKmrg99oht/jRm+vG6XzZ8LV2Y7Glk7kzSpDSXY8jh46jO5hA0qL0nGq5hTiU7Mw1FYPvz0a/qFBhMclY/asAowOdOHQ0VNIzUrAS89txoIVa7F6aSG8o2P4p3oztjLC73v6YUQvuR0Gbx9DFDt8HTWAPQURiU4MHT+C8Nx5MAb6MHSqEaYYI0aaBuCcWwZPWzMcM5bA7IwF91F4omwU+19/CXXNg+jvrcd4eBIyo8MQn1GK9NVr8fF9fjzAKO1P+Z+f6fLyI8e4UfGgu6MHcdm5KKMTt3FT0uH14kNHt6GnrR2mUQ8G3z5In2CG85aVcO/bhzFu2KJWLILn0CFErlyGsboq+PxRsC+egTRTOP6neCb2v/QK3BHpiPAPw+UdxsTYCPc6EegYGMfXv/o5fObQVlQP9uM1OrUYs5X3bUbt4Z347StV+JMPr0Vrexedv5UbqEgMeMa48aHD5qYpyuzDlh3ciCYloqggHdWVJxERnwiHcQynmnpRMiMTdXSyAUskrKNd6BqPREFqDLoHRjB3Xol61uL89OPKWEB3alfGzqevEmZiqme4HQ/+61OYMzsHRw7X48N3LEZ5Yz+SIw3Yd7gBMXYT4pOT4OofRFRCPAzcGa774K2IZ5qozvMiDnj+RjmT1hM+5YwG2nyY4AJpj2Kx3U9HN9uCmoMjsEWGob9tHHH5VowyOouKZyoqgufmhra9cxz+/jEMuLj7pBNLSOGLx+usvD8OFu5At4hTuzMavQfcaOmfgJ27zS6mkuastqOjYRRWqwEtFV5EZVq4uzUgJd2C0tUGJJhWYs7QF/CzX2/DBF9wY9pChDXuQovfysWO3x0ZQ25qEQYbt6FhCEjNXoMH/nIZtnbdQaf2kHJqE8ZxvPGHl3ndEcRHmREWm4kk6zgOHzwMt8+AiNhkbLh9Lra8Us4oK4BtlQPIjh1Du9+JtWVJ2Fs1iC99bgOee/RJHDt+Ev2mZBQlmRGbmYfUGAPe3l6BwsWLEeNuxM9+fwjf+Pqn0MkddkP3AArnFqKav4/KzkFBghEnBiNw35oMPM5rlWbGYLc4sOwChPHZlKxZgAy7Bc8//TKis9JQW9mI9KwkDHb1oaAkG33M7s0vzYWLjqq5+jijwnz42mpQTce3Yu0qBLpb0MAFt7e1GVkzWefx9KCpeRhzCpNxuIoOPLsYyeZhDNnSsaogAi/vqMDaG1ejqfII3j5aD5vZhkg7MO+GNTj6+uswONNwx923oGbPTry99wjsGVkY5UbkpjXLkZPjpOP206lZsG04gO7Hf4bE2z6FkYrN6Dt+EPbSG2HytaH3SAUSb7kP7srXMOqNR1xZMfoOvQVbRCxG+ntgtJgRMfNmOBcuAPdK+G1hB1554XV0VDeiunE/RiOLsCArChl5s5Cy/i58kZHa/0sfV04N5nC8+tIb3JzUIj8rldGZHyvX3YC8RAfaaKN7D74FV1gA3j17MT7GSN0zhMhVK+Dashm+Xh9i79gAz87tsJYWYORIFSLX3YgAM5CZ9lg8nJ2Jg69tRfuwl9FwBbJyU7hZKAZ/jVPd4/iLBz6BT/I+aocGlFOL4gYiwKh6qKMar+9thYepyYAjCg6bGd2dg+hqqEFMYQnuufdOmNrL8caJYcxINuLNreVwJCQj0epBFxKwdmE69rx1EJakDMzPj8arbx5EfHQM3MwkhFmjse7GZSgtTMMoNxT6cWUsoDu1K2PnSVdh1ckYwO9+8wyK5i3CySNHsHz5fDR2DSIuYgLVDX0YHx6A3RkPm9WC6NgoRkQuzFqyEHE2G+pGXsIhz1+j4bCbUYUBY166FG4C+xh1xWWYMdhK55VoJihgAv3dfpUyzCoLR0flCKJTiZwMGOAIN2DIxRpHh49RVhiiWc1PYCrS1T+O0nVRoL/Cgef7kbHCgWE6sGHmaQxDdIBcpEv4s+ajbrTVjcLEmkfGbBv4/iIyIgzZ8xjFGRZidcRP0NNvQYzDhMqqWsREOeCIdmCwh4hNq4M1kWHWAh0qBeX1hiE8tQOb6NTm2b8TjNRGGalV4lAFo430BI5Z4HNj6GlvQsBkZ0SbhYWLCrD5lV3ISo/FsepWJCbGqrTc6MgwvGFO3HfPKlTs3Ia9td0wB3zIK52FwbYmRsDhMDLPFpeZA6u7CwdrupHOjYMxbAxuRrIFZdk4ubOawYsRXYwAw1JL8PFbSrFxExdapl5NpgCiU3Lg7+5EHKPnHGcktm7aDtf/Z+89oOS6rivRXTmH7uquzrkbOWeAIJEYQIikJJLK0UGW7bH/LH+PbE1Yf2Z9j73WH489Mw4jj5KtTFEiKYpBBANAgsi5G7FzzrGqq7py9d/nvioAohCaIAgQdD27hWZXvXfvPfe+e+45Z599iEo18jQeSyYpXzN8hV5aCzosX0JLxGJAf3sLzrcPI02LUG+zYtXqVZjq74HZ5cXeV/fgkc8/gc6mRrpaLVhW7UEjLUkD0zb6Wy+iZMVW7FxdjNf3HoYtvxiGyBQt+BF4aVEUFjix/J6VOLv3APo5p48+vgstRw/hLF3a+Q0LYIjOoLi8GmtW1tBSS1KpGfHmNDf0lgMIDU4o15nBTNckrVadlRqSrsw045QGmwOz8Qhik8NIhMNU8ouRjk0iOj4B79qPwF5TDctsCj9bR3d55xn00hNQVuQGHaGYGmXffGUYLSjHp2ipiftRlNqs0YKD+45igFbaclo8XeP0KixdiiqOYYDW2yea9mOs/RyCe2mNbd5MY3wKsd4RuiKLYXRzndFC1nkKYfPbuXYjcK9fjDjXRYndgZ+suhczLW0IxNOorqlCeJoWOsdmp7u/vWsQK9avwmeOv4H26QBe23A/2k+cgbl0Hmq8EexvHIGDLtaWnlEsWrUKA81nEZ2JImJ04UtfegzdR9/ED/e0Y+OKWiWvPvapgPNroIcixWCcZTaGJs7tvPpKKuMovQJ8b6YmMJ0wY8eOjSgtdKmQQu66PRLIKbXbI+ffaEXFQSQmomJmRH9JHI3fMtEam56iC8tkpitErCcN4WU0GRl7sKEr+hyOTv9Hbnh6TAykYCNe2sVA/cRgAvZ8I+J008SpyHxlZp5C43T56OGw6xCgqzC/yIgIYz1ptuegFTc9ziAKlZqNn2ehAQJAkSsVZ4yACU0SX1EgBxWT0qy6WZ6wg3yeg/E8FdZRoBQ+g+5So86BlflfQ6F1vopBSRxI3S5INvZZg8NolwY+SaN96mU0Bv8Omz3/iDrr4wT1RxGPzGAqFEdxUR6mJqZgpkIPTYdgczgU8MJE+YSngwQRWAkgCHMTdsNuTGFgZArePK+S3SxlK5gDo46uV4IKpifH6e6jpZpnV1aLxI8MDDxFuKHqDQRMMDQiGyGRAzjy1gGc40a1/ZGdWEA3XoSb4WQ4gUKfm/qVG5SMh/eaGLOcGJ+kEeKE227AMN2OPn4nxfkUeZno4lKxNrY1OjRMXIYdDio9aVfWgIBdVMyO30lwg1ZQG+lDOokDe97Gxa5x7Hr8I6gpy+fhZhKToRhdYnk8xIzD5nbBzPkzcW0EJqdo4VqQ73Xw1gRGx3gwcnu5ZpII0Tou4AFCYmr/L4Eib00Z4OQ8xkboHjY6qSS8iA0NUuF7+P92RKn8zf5KhE6+hLGz55C38aPwNDQwABXj+grBnFegQCMyvs+V67HJL6CnzFKWiZXfKaLn+9L4Uf8s/pAK7Q+o2CSNQIA9Ao5S8UE+wEBrycbfBxlT+/iJPQiFp3mAClMOBpg5zmQgAAPHYeDBIM4xG9weypKy5ec63pdWICvgKzWLsbWkQkM1KjBKFjAlbRnQNjWOv7xwSoUKX1yzHYHeQViLSlFAr0iU7ncrD2jDw5Pw+X2CpMIsF/Ys59Bmt2Kw9TwOXJzA/VtW8SDmwPDAMA8jeQwPJDA8EWMcOYLdh5oZE1+BskInx0UQFy3PKA9BeTyUakCd3HW7JJBTardL0u9oRwLR74T1q81eveiCwmKQWhCNGpxOvaiCfhyMv423p76KOKbUZsb9V+lF7g1qI9FRycgtAujQU0EpJCD/LsqHcetLSkhhAeS7CoV3GTAmbap9SSEeVdOXQY8ZEIECsfDZs0rhZhSUUlJKHb5rSD5D6QQdeLDF+88oM28hKo2uG8pHlIEoezkdiwLUFIFsplrwXZOTFtSfFQsjoxA0AIK2sUluklKqgm7k90We6jNNF2ugiyvAftqcZBQ4Y3EivCS/L6AM2bjl9+ycaChTsd4E1CLzRQVKJSPgh6zULoMEqKyojEVgGuJVnQQyoARtfkXpa0vgch809CJdxQqQoCFBpf/q7+xbFkUpcUMZqToc8blZ1KM2RtHTHAP//R89RvxwUE95yxxmIP3sr47KVR1c5Hv8u/yrgDbyHSU/9SSFQkwLVDBzNBGY/vWiRZLo/efVKXyqmJ4BWYdycrhiHcm8GPnQqWQcnz+1D030Uph5EBBwj/QhA+3VZCJ9/LXFmoXR0ELOrItrvc5a74FNeX58b8W9cJoJfJI1o2E+1FjVAYOWdnYe5FnZeTFx7kQ5yfyr+b5ivYnM5W/yAqj1IW1lkLTyWe66vRLIKbXbK+/31Bq3IcFboSf2EgLJVv6XsIp88K7Lttjc+satmDGOBlRad3FMtLA0DNodvT4I0Oxb3QdRMP0E37w2oVdWUxbgeG1BZxX+tdXW9RSaeAkKGXh7yJcmqEKg91dvSZSAgd89PjWGfeNDKr1FOzjM9dJOJdfsiyhrUcTUXDsKSrHCk0+rVVK8c9eHUQI5pXbXzapQCVnnsCHdXQMTQyA5G73e1nR3DegD2FvZxAlapTvufe6c8rvS/JmhayCUoBUlbCFs83qKip/bxJKWPIRbrW3odYCXaEel3JJk48lZT+/zCrijj88ptTsq/us3fj32iXfe+Run+mtli96h8f56d7Kp5tmk3ne/i81leNf6zq2wgG7FM97LVFxv/Cq+qWJLGntMNnFauRMl6Vncn9dpfC4MG1djBrn0SCq02d5pJH54EZiMqtiXXHOZ5Ss8wTcWj4yDsdHrXSqnkj+GbeUwPFwjLAVz68iNW7/hN64roxvenfvCzUogp9RuVnLvw32CppI4QpYNIxtzu7QxXctlIrEjbhmCsDIyZUAliMoOJvGbbNDrfejvlY/MJkVLvOdqCjeboCyfqXiDOBkzsaWsgng3XcyGpK51T1Zm70x8VbEniX/JJqviMHNoVWJUAmwQ8Efm69nxXoqPzeExt/Ir1xq/xP44+4gwCdDhsCERjyESEaSqBXbmS4XDgs6zqTjd1cauUVExNkR3nQLNXOPKrs2rfaxjO8mXO5D4P2fA4JXK95InxQl+udFca4weN3A/qiAp/4fgEWONV7MKrzaPotjHIkh1TkE/Px/mr60mTJeZ4iom+P5f15PR+9/6v94WckrtDsx9NuCvNa0pICMRG5OE7pvJimAnOg4MnLe19RCmXw2PnkwUp5uxYPU6JoIKSwE/zganhbtDn8S+vUdRVF2H+nIvgozIj/a0IekoxuK6YhX8zm6C2fuylEfqNMn/E0BF9rq82WkbjGz+ijmDylKdpDOuJDnxZ9FmEUKgBcWXl2GKyKIvBMzS29OFgcE41q+fr9BvPWSyCBnzsXxhBdrOnYONOT4l+UTtZZgXsspDlLywN2iUSqIMRbkYMNrXg7GYEYvqSi6xr4gyzYIQRAF1drRjnHl1a9fOU7BvBTrgODuaL6KDicQujxXV8xaglHByGY5iiZDRXjnOzN/TiThzzWK8x6XaNxHCffLkeYWGrKirp8zzaQBkgBUZ6rOstfNOVpLsnGdjQMIckh13NjIkiFcBJmhj0oAu2TiTyGSwd4D9SZLlpYpKK6HNCwUk6MZZ9vX0sVMYCcZQWuLHxOgoEnoLFi+uQ4gJ4G1dzK4qL8OG9UvpiktorBmCRhS+RUEOkdnkwMFTKKqZh4Yqohylw+qAJNRjGtWwyLf9/EV4mXDuo9KS9asYTQikEDkopfYSldo/n2dOoRMH+vYjqC/Aw8xPlFiWdl1hLYoFyfsltto82YUCZyX8XDfxzEKUtZlhNlX3JQWkweRo26cXwvrYfAbkrvMSjzKR+y8OKAYd859RqblJuaXwJxpFnVwa16nWgqxPUewS47tMY/abijb7PqmxyzoRII/Mg0JdCupVR4aYDni8PiJ4vRngkgY80cBOd2Dj+VfSZE6p3eaJlpN0LBzAcSaIugkpdhB67qR1FQlP4sVf7cfijfegwBTDLKHfAgMxE8LexWTb1v4pPPjoIxjubEZJTR0aqv1ov3CRrBcB1JQ78KOn9uKLf/DbcAY78IOXz6CW8P3+aSM2bliJykIbzvEFK+V986qL0NncwkTZMSxcVIv+jk4YnPnIt82itWuIKEoyXRA2XZJnxsW2AfjLylFb5sbZc90oK/djsKcPMYMNPkLHi5irEyD8uryyHMfe2ouL3TP4+CNrcfpMBxYuXUhmi1EyaxDJaE2g5/w41m5cgIr6ejTvewV7mTB935bVBBDEME0I3dToGFMIqMwJS1+1ZiksBPafPN4INwloC5mU3kxmlfLSAirIIVogZpg8hF4HxxFmem2RxwIr88VCZOJIMk8tzAT0WCzAZOhh3P/YFjJUBKjgC1Dps6PpxHH0DpG1Y2wcq3c8gAWlVhw9cIJQ8UJUFTnR0jGMitJ8dHf2Imkka8jmVYS4t+GbP34Tj35iF/O0RmCjhdDM/Lv+iSjWbt2GxcV6dI8lkG/lYYLKZHRwGOUN1exLEnmkPQvOmlFFxET34BSchIhPMzUhHGTaBnP2TLMzGCRTSVmpj6kIHsyEI0yULsZxKhZLvh+l+Ra0tPQyj9CPqZEhhJjEXugjVJ/41yQ5EINk3agmzdeZi4PYtGUthpobcaIzisd3rkFfWwvePNyMDTu2whkdxcGmTjzy6A7seeFl2Eur4WCic82CeSgrcKPtYjO6BoMosifx/J4z+MLv/xacyQkcPXwWZrtFpU4sXDSfh6V2xA1O6GMhOAry0UfGkZK6GswwNy2SMmPVWlKNCdXby+1I/UszFVwM37n4PEZnC/BvF2zB4cFjiOuoWJiDN99bzXkawRjzIJmNgh7yM3pJNeW1+dAb6EZlXj1py4JE/DKvkGujlQqvyF2NVb5qYJp5l/9hK7rzO/Hqq0fhdjO5nEp3hmke4cAY8xndyHPbsGPnJ1DxnbOkkIvC/PU1zHOzkbUlhBNHm2DJK0KZz4L27hEUlxSgu7kTC1evhD/Pqg4GMaY7VJV4qJw6UcWUhvBwDw8LUYV0LCwrI+vMOPMxp8nqswyG8Dj6xmNMvLaScaYDvqo6MgClaKgaMTExBoubB4SZKUS4spctm0cjM1cp4P3aenNK7f2S7DWeayNN1u7nX4bB7mHu0yhaB0NYX1tOSp0xsiEAa1bNR/uZJi5+G9zMnekaGMXazSvRTdqosekk9NxgSosr8eRHluI7P9yLpfOLqIwGmHvmwK5HH4BxrBnPkCGhwh7hZpEPQ6AXPVMhKg8jvFUL8PjWBvzk2T2kTtqK4YtHMAEP8gwzOHqyC9UL67g5TTKh14yekWnUkpEhNSpWEU/ewSHuI8x/K68iuwjjJKTXCowHYOLL+sQTD+HUkcMYJfWXyWmBl4wKZ05y0ygswnwq3xONp3BiXyue+L3P4bH71+Dwr15E8xQVETdaPRXo5DCth3wnplJWJCeCWLF9LeoLPfj5j58lU0ct+lo64GLOklFyf6icHlhTied3H2R/V6JAH8L+Iy3Y9vGNaDvRAVIcYjScJJ2WE9HROF1tSYZ1DNj12APwc8OR/CMLZvDjp3ZjxZbt0A9fwMHmED5y/0oceusQ+gaGFD9mESmcdIEhLLz/QSxxRPCjPRdQqI+ieXgKhcwlFLLdQCSN1Vu2YrEfePrnr1MW+Uwwn6RFugytzU2YjLuxjgeOlogdn390NZlHXsBggGwsTOAeG59BORPLh0bGsPmBBzDe2oS2viA2bNuKlQ1O/PN3XkS+z4MhWlpCEm1mRrzO5kE+WTn6SfXknQ3CVtIAPxlSju0/i+JlK/HZRzdTzq+RNcONTz+6XlFo/eBne7F4wwYqtQm0jgTxGSrm3c88i2YuNisRiQvXbcLaGjuefvkYqksL0c4EZiuTph97YgeT1/fhzPFW5JHyKcR0EjPz3WYTQQwHIij0+zHC/LzN65fzANCsaLIe2rkTy5aUIcENW9yP+u+TPSV6Hj/rboLD4iA3YwmTy5nQbmZiepKKLdaO4aQZ1TxUDYZHKcfVcKfHsXd4AA/X34NSXQIHRltwgbRfJh62ljt9GKIV+0DlvagivZjz61tx0XwE//NvvscDQwSP//bnsf/Fl2CbDSHmLMUSHiye/MSXUPKdc4iQaUSUmoU5hCd2v4SupAebllaReqwRJ5u6yZhiQEF+Cb745cdw9vhxNF3ow46HNuKVZ19CzcqV6D1zHlP0gJSXOzEWdsCWGCWVFrB+7RKlTxgVAAAgAElEQVQ+4zTy/IXoaulirqAZ85eVIRCgOchczxAVYYjUbH5+HguHYCAN1/ZdO1HOQ2PiWnDQ27wnfdiayym12zyjZubHNDc2obVzgMSsThiZaDZBvjuLlwqILhefv4h0SaNo7hxHsS+f74UEthNMEI7T/eUmG8MI6slzt31THV5+cT+Ti2kN0GKaIavHxo2ryT03il++dQ5eWg3e8oUI91xEgC6bqf5xVJBDcNvqGrzx+n6kuLHkO9Loo/Vgo7szTvear6aWXIskwLUlqYhaYXD4yJNIJhBaH7HgGJJ6K+oXL4ZhegSemmq89vQvUL9+Gx6lQrhw5ixaL3bDW+imFTTNZzJuw34nUtzgdHGEhmbgr/TTmtiI/sajGAdPrpPdmOapPTo9jToqv+CsHeG+QZQsqcP8sgK8+cqbmExSCdG/E4pEuIG7oPMWYkmpA4eaqMAoS8mzE9dtiByMEyTQXbWwDGfPk0KKVllNaR1GW4+RRcKF7fcuQUVVhbKyLERZvvzqYcxbtRauxBj27D+PhsX1dIu2ktuSvGF01zUsW4bkaBfyFq3EkgIDnnv1BPKosHup9LwuN9tmwjuV54KVq7Byfgme+sY3EPQuwlqSQHeTZslG/qpEKKzYNRzlC/Cxh9fh3P49eO30MD7y4Fq8zTnwFpeoxPCV2x5E8PQePP1WK/78P/0bMoZM4u23jpKWjIcRt52J1lNkKPHAVVAMB8fbMkgGFdKdJdKMJUnOVIyuUVKA3beqARPki9x/gBRZZHGRONboWABldJHWlbpw5vR5pLjBztLVV0t5nzpyEnn1y3hIqMLre44gTMvSRXei3uLGxvvWoLWpiZYZ2TMqfBgjO0qoq4eu7TCfIblzs6Rw89Lao7JlIvc0qbc2rV2JIlo2Kca4ki93Qve9Zrw9eYg0pvNhT47i1EQ/yp1eWmJejPCAFI91cn7p+iQ/o41WY23+Ilqf/Wilteq08PBGGrBWcoQORqbJX+rFlrwSHhCCWFqwBOVcF/avbURkhQljw0GSAQQQ4twJ44pHH1OHh0W0QvPo6Zj+T/vIhpJUSs3Ew1PfhbM4fmEAFWV+WtUDdMnyaFfgQHVZFbZtX43+rk4cPtRI3s96hMbIERqjO5i8lZKzWFmbxwOoHcnJNpxpHkBDfQ0V7ixjmHGMkVvUYs/H2nvpAema5KE1ATMt8YHRAPwV5fBQTu2dfbhn50OoKyLf5m2K7d3mLe6ON5dTandgCiReMtg3BCuZErxkHO/vH4YjTzgXqbzI1qEYDchN53LaGazXYbh/CDZvHjxOqyKClVOhiUmxSVIgDY2FUEYFEONLpdgr+PcAGTiYsqzuT1HpWeniHCJhso/krJLYmiBh7BDZE4rLihWTfNpk54ZNpnhuMOLsN5Pfr4n8geOz+dyoyJ9HppABft9NpSp9l/iNhF8OMo63dNN6sswzrkLggZABOwlOGJ8I8NmlSNLNOk53TSFZGnTC7hGP0r1I16EqF6IyglWMRuJ7BmFwyCYJc6MWpozxMdI4WezwMQ4yQEqnAmGY4Eag8oEpn0hwAlG69kqpSHspT4vdpfoaCMeVK89COrJjRxppaVSgnHENI5WgoLslLhNjLEpcrVa6h8ZHRum6MsFHN+bIWBAeiZ3xgMFACBN+hbyZHIFk7NCzwGSSp20jaZmkfyo+yWc6iJM/sO+4cjktqitER0c/CktLoE/MKIaRPB5ObGJCUgYyvx4yTI/SQiNXGLkGmdRNeqqeMycxnHJg46p5pFoin+c454VEvX4y1Q8Mk5qK41HRT06RJHdbSKEWoatthpu73+cgBZb8zajGFCG/4SDbragoUSwqMiZfcTF8LhO6e4ZRSnexkTXrBoeEQYN0bJzvON22o5NhFBX52H5CMbYkJeYmcT3F3EGRM14UDgVJbRYnOfNpbN61nS64KXKKavMryfAqrpSJqSX/5TxmLMxR4xzqSE0WJGjFKOz2ZAhQcWT+nkhFWRtQ6q5ZmNKholNkaTFiYHoYHhtLybDywzTXltfs4LrR6q4Z9WSyYaKd9WMNsElMjQeVKxPo1Sstj6LiTfUHEfrrIwSsmDSgCOdYkr3HBgfVundxXsbpHfDke9TfzbTCJb44QUo3niNRQkYbeVfzycWqY5xbMrWl4oKBB7Vf8VC5eMl81C2sxwx5MYO0ZN1keTGSmECUvozRxnmanJgkOxyrTHA9BKOzKOYBJRvPuwPbz4e+yZxSu0NTbKRyUawEEqTnBipBdtng1Z6rgtYaa4ZsYvK5AB0kCC+/p7jpqOoXUkIlw7pxJbpQsRtImnaGVSNLs5XiZinPEKCKAB4EQCIbkaDdxBOShSRkRZKlcpINTWpNyfOyAJMsI0YWxSh9lmdmmT5kQxTggQTkBfiRzaZV92fosrKJSwpskm1fAu0ZVKRSLPxdjZtjSgklilKCGkBFnq9YNNgvU5bVQzZfaVNBt6kEFAZAKz8jz8leGqNLRr4ZeWUBE+8cp7QnAA3pi8DTs6jJLGxennO5DAxP9VSCImvppAK7UM6q3p2gVDN9yzJQyLgVG4nMc6a0jPTxyjmUTfYyqlR7jgZMEIaU7DxrYAW5tPkV2i1tfjVmFqGnEgAD551/l28KiEd+F7lc/p7GSJKlmhIQigJFZOAq8my1XjLAml+fF02eSqm90on4N5pgpHWrYU0pCwGDyJxkVrr0QUAgckYRZaVBGDW4jCiulEJLigKRPDdNRtqnbEceSeWhL3Hy4HEN9KOwnzClID0Qgn4RD41fW6OUm6AftbWVkbuS72V2FpGhoGS1skPvXHsyrVngCNsX2fJ91LO/at1l3ukr0yqyqOZsCZt31gC8Q1vQh7bZnFL70E7texzYHBLB7oY8nNvVx/fczhzk/R5n9Jbeft3xCs0W3c3Jn7UA4/SLXyc14L10SlF3qbLb14ESiuUo1uHWMhhYbeFW5qm95zl/L4PP3XtNCeSUWm5x5CSQk8CvSUD8BEay1qgsj5uFnouzQAzry0XM5yRlaS5F7k/Wl7gCxj+nW6/+JXmg+Jzp5r+VCu099Ch36/ssgZxSe58FnHt8TgJ3kwTEGcjUa5Y4ehoTybPviV80zXI+aQJh5npJtXSr3od62+eY5lKpgEa37LqNTCK3rM+5B92UBHJK7abE9j7fJDEcxtzEpx9nzMNEMEKWLT7bsorJMcYkCbca9uHyPe+6dpMEyBlrkUTeax7MBRwiQBQ2JSVSrsc4K/1NMgn4/UowlUVrIrhBgiyKBf1dkd9eZe5okqj40vXG/47btDgl54htv9sYiQaoIOKb+VdXZdjI9EeGJfEaRuwUMEXWwtwvHRGojGcxViRVvX9DSNIG40YyT4L6kXhogr8bCN0fjh/EvqmvIGkIwCJrT+KRWrUdxgrnZrpJIrUoJjsLtM5KKYnrXFoEmWmHiXbmGA4Suv81/vw5LbaYLOy5DznzTS0eRmASXZNXcArc4DkCfmIdQlp1AiK60SUuzWzc8kbfvfLzLJgmLknzc+/cu2niX/13c0rtDiwBjWIpsxML6CHDRKBYLTIAiOnxUb7gRpQVE05NCHeKpeLzmUyq2Ei4SQyxppM9vxBuG4PcquSJAZMjw4gQDSjoKgEmCCuCgCuyYBRVhkUC9epHNimt7RRh2oMTzJsixFmC5wrtlonKq2dI+RduFOHJCaK3mANW6FObuQI9ZNrJlsqRoP5g/wDzyvywEzAhIIUs8EKC/ho7iMZAocAsfLZCwqnSKRprxeUNOFODTYAkCjyilWeR740OsngkYfM+IhVFsSlQi+y8Cl2nlWfJAl0yOj8DLtHqjMj4s6CNJFF5o6zVlV9SQuIJ2WCzWvJy+5eep/qQYTYZ6GMhSCNqqkoQjxLZqdqWCRQsRRYYIrKk/DKlhgSgMM5E8ygreJeWMGGYSXEC+JCSNRrbC5ULIfpDHJ+oAj9RpOZkBN2sll3FatGCiVDleKQtDlSAHiIxswCIpOyM1G7j/yVjYTSdaVOJ9DV1lYSka9RTqmwNv5vgnPcPMm2kogJ6pkOMEgEo1dbNXD/drAJxLPR1BIYpF9ZE0zN9wek2wObRw+snaEnDwCiwhsYmIgAYbdpE6SVZlNVNhbal8J/gMVXzA/kwq9iy1FtZ0I7IWqlvJl+/hjdH/xi11iew1vVXsjoUKCQLYlFgDgGcZNbQ5UMT51PxWeoUAnRsmIVNDXYUE74fF5lm1kYWJKWxhUg9Q20tqHI9/D0WChA1OoPqmnJVZFcOjDJIDfShyVuVFRL2FEEQM9m/uIRIZD5GKw2kgUakHwq4JEAvDk17D2XODCrtIMAEtxLmBGolinLXrZZATqndaone4HnygoRJKaVXykM0A4sfskBikAwJUqAwxbLvdsLiT+59HWPGEuYeVeNXP/8Z/KsexPbVTNLm5ivK7+3X9rD68ApsWU1WBiYlp5mU23v6CPoSedi8pp4vso65QzNwewltV/B4FsikQhKIuo2Vl018AW1k5gjPpOFKjeEff7IfDxOiXVnswdQkE3udrIJMCPMYy10XFReoTXHfL19C0F6Ixz/GIovcOKLcwNyEp4+zIKXRaie0nDlAHT147ZW9eOSrX4Gh7zwOtQZw38YlipMyzSKTkQg3f+Y5zfLZEuMvKJJnQxUClcRogZITC6o2CFHWMyzgKfB9G2mHDISGy2biZFXwvU8/h0mOY8e2LYoZY5x9lirhUdk0SF/lZaXtKAuN2l0uhRyVE3iCG0+cz5sla4VURA5xHvJ9PiTIQPHcc7ux80tfhJVpCFKTTgrUicKIsb+zRLa5XTYW4mTBSvZPxjFrsCIw2IsLF7tg8xXgvu2bMEtYvBixBr2kAoi1muA9QeYR5rNfIcyEImhpboPJZ0V74zie/PT9TB9woLezHadO9+D+B9ZwziKE2+vw6ou7McM+bN21Dd5UnGwVMygq8FAZplBcnI9QgLlZUkS1rAh65rW9sa8Rq+7ZCEN8mmw0ThTY4/jOv7yCitpqPLjrPoSYxB0iH6QwmswQki8ZBoMjkyitqkI7K2Wf65vEJ7/0CSYVA93RV6jU/gzTYzEc+Cnr9tU4UWJiTuNIApueyIOBEzcTnoXFIRakKFlh12JxWjKD5FHpgcn8ReZNeKDouzh1+CSmgtNkIbHAx/U2GSStAA9iTi8tuCgrW3MN2RxMbfCQXadgGG8FPoMy004qtb9USk0SEWc4pxMCuy8shJXuzBFWzHa53WxbO5QJxF4YShJM5t9/sIPpAWE0h2x4cuc6VfxzTAqmejwKXh9jSoLcn1+Qx4Rs5iQyraJI1iDX295nnkavrhAPbV7KdRpnwVWmxPDZglIWizbAdyFfpUCw6OjxwzjaGcHHHr2Xr0mMKRsm9d7ksY8m9nGCaS0W5sjp0wlMBGZYONbHNZzCG3tJeMDivF/88kfYxrsMON7mvepubS6n1G7zzFm5ER99822cJ1XV0GgC1bWlqjKxnzRPkdQ0rTAfFldY8dbxNrj5sluZ9zLWS9qpbR/FhgodvvXd51DcsJhQ5X70M9m4qiKfbA2zON7Yg4XkeWw8343N961jQnc3Tp5uxcadj+DhjdX4yY9+jokEg/9sq6jUTVeikxucjknKNdix1IG//qdfwcP26hY0oPd8I2Imt8q/Gucm5GclaZOQ4TKnzUF6pScfuQ8HXnkZrx/twIIaP4aY6FrgtjLHh5YkLZ2hrj584v/6KiYOv4pnjo9gJTdFV8VKjF08hK7haaxcuhQXz5yAnhtAQ+0yJpLX45dPPYuz3aOoqKwhuGCISeExLGQSdjoRwcXWAcxbWENFzRw7KqUHnngUp1/4JTpYBdpDN+QUc8e62/pQwHvzyQzRsGQRXV9xPP/82/DX+uG2+rG4zIbGrlGMDw8pqq4JcmOe7wzisU8/gnVkZXnmpy/i4d/+Atr3vIajpOSKUcnWLV6AJCmVzrcPYdniGrS1D2D1shqca+1TuYTrHtwFz1Q7fvZGI/7t1/8QPadPMS/uBIa4V5ZXFNG9mGClZBdSZIvpIKXW4vn1aDp5Cku2LceF18/DX1OErY88jEDHaTz38ll85smNZDp5FVV185mgnGL+Yi9CejLF3LcKPb196OwdU/B2C/PkvFSy/aR3WrtjE5aWWvAP33qR414KHZlDgjE9tj90L8r9HlqCPMhQOfzkWz9E0lOMdUsqqDBfh7esGiX+fIyTb9RIN1+E+W6f+vITsNIbKUrtSPDPmFsFNL1A1ph6zh/n+Mi+aTiKmKg/ytxHJpkLh2KN34COVlKdMflaLLh597nIUTqLfKzHg/6/x9/+xT+gp70Rw+5F2DnfghcPtGHpkmq0N49i3TpSSU0O4KVTQkN1D/70z7fiZPTLKDY8hLXuv2J+oPBRAi98/yn0M8fLbpK1boSRScxDA+NUbEx07xmlN6MAK7c+QHaZXnzju4ewfW0ZDjWPkN7Np7gwGy90YeGK1fjiExvw9NOvwFNUpnJCx5jzmTRaML+mlBXJLbhw7ChSzCczU9FZObgp0mBVLl2H+FAPaeW6IensZubkCbuJPhHFiFCKJMIYmkjy8EAChEk9vvh7T1Knj+Gp7z+DGPPs8m08UIZSZCuRauckGuAB1mBw4fOf35lTau/T3ptTau+TYK/1WDnpT/dcwN9/9yVSBZlJGlvCBFsLLC5aSLQYYmFWgSY9kLwIdlonXrqfQoOdqFz/EO5b4MVrL+9G21CECs+O+nnz0dN8DDzDIs17dWKtkVZr44ZlfCHJaEDS14Wr12JlnQu79xyCpbgGaZLhGhx0p1hdePO1I/j6X/wJ+SK78IM97VjOzfHtY11UsFBl6l15hVi8oAwXTl4gu7mbVFvMx/H48dGH7sGLTz2NTuYA8S3FgvXrYZ/px8mLU1Q+5ei90ILHfv+rsA+ewTOHelHpSqB9hK6Z6QHy7RXj0XtX4sCx4/AvqiQ9VAIfe2wBvvvPv2LC6ygWLF2CplNnMEELcvniBrgMUXRzTIs3bEH7/hdgX7oDXyIF1O6nnsGY3gzzDLkBmWztYgKzxCGT7M/GLRsw2H4eJy6McoMiU4ozjxYeDwyFleQYnKZSGoWbjBzCmLJ63VIsKPPg6adewK7f+TLQdQL/7ZtvQMc41FLSXXnITXmhd5KuPyrb6CQT2wNwV89DqXkaM+4GrCnW4YW9x/DYZz8F28wg/uF//QCTBjcKSRVWz8ODiRbFZPtFhLwV+Pj9G/DGiy/CVl8FK8mW9aYQ8uevQ6Uzihee24+GBj8OHO/kxm1CSZkk/XZiKk2ltmkp2jq6MGPy8sDjwN4DzZg/rxoTQ5TXmmXYsLQczz67F3Eyc7hIeD09HUUBLbhVZPiQ5H6xNA7t3U8GjC44fMVIDPFZJAsrIHtNmPLy+2wk047gU7/9yV9TakYelk49Ryu8wQXXZAyTtIjjwTS6j0ax+os+jDeGyFSTRGA6jcIFdniZ7B5zGLBquwGF2IAH/P9E9ppGVBdY8Cvya1bQ3ToeIs+jPcV1SqaTcioIiQU73GStSePeXZU4FPw0mUR2YrXtP6O9rQO1Sxbj1e//FGX3LcDZ15qQohIqKXZBOAr62tvR2RdBfr4Vf/If/pjrqxc//uEBLKgmD6itEIapXrT0hOCmB6G0tBI7NzfgX378CuqXLOFUkuZqYppJ98CSRZzP8mJcPH4EMcYQR0ZmWH5NR6XFhHuzG1NDQ4jyvX2c3KUHz7YyKdtIph0XWnmQspEQwZlXwCRyWmmuGnz0sfU8sDVi76/e5nzQI0BC40ULG0gAfZiWdxEKyGMaDhvwpZyl9r7tvDml9r6J9toPlpNzT9cwrA4GtE1kp0jP8OWcQG1DLaZH+kmKS9cHXWnCTjA5NkL3Df38VGAe6yzZ53uQpuvLRavKYrEy/hImRVaMP3F4uIG6XHYqx2nlIhml26W8ukrF3UbJ06cn7dAsYzhmujf7W1vQMRzCRz92PzcDMlAwpubgCThMuqwwmSp4HCYjiYNAAToD6baL0ZU3ODiKkupqlJGdY4An1zH200saJxtdfPoUg/p8iQd7e5nVa0PDArpAkxxXLxUIvzPQOwwbxyMsJ/luBzexaZjIY0lPHnnxXOggb16Y7rHy6gryFJOBgazqBjI+xEnPNRFOoa6qiEp4HypWbsDK+kIMk66qhwraQ8Jjv9OILhIdl1aWYmZqAhMsTFnoo4VL95orL5+nbtImkWGjkK6j6HSA9GRuMo+kFYNGNd1zdrqxhobHUEAWEB1P4EMDI2T5IKE0lWQqPIVR0h3l050ZpgvRSvovK91KVJ8aEwstw67uAfjIWpLn0pPMdpjxLbrFSEjt5sbY0taPkvIi5UotJJfjcF8/EpStmzRQs3RTmR0eos1n0U3+TguBHeOktXLRVWYn00iaZoqVzwhMzpDD0sJVQ2oo+g1DZDc5d/YczrSPc/52YlFDETpY0cFktfGzSeXSHiT1WtWSFagudDCBOEkXZy+tsVmuEQcmR8fpGnPR9elkHC6Bvu5+5JFxpLqqGMa0hZXVNUuNvjO6LYV1nzE/JiwLa75gPmJUYs4iAnVIqzXQTbZ8l4GMOJwv+ZyWusObgkufjanVqtjprwNVLidZa2+JljvQM/MrvDX2x6izfxrLjV/HPnJxrn9wG2IkcjbQzR0JkeqKiMieoXHUzqtHhCwe4iaOkoqtqqyQbvkEeSj7YSa/osyRjm5bug4w1D+Iwgoy/9NqHh8aQA+tvNLyEq6zMeWqra9jDI3u6TEqLwPlEmRseoJtNdSXoZfvW5RuVS/nLt9uxowwhfDAIzFtb1Ex6b3oauQhIo+MJExzJ+sNXcTiOaC8dXSXu/k+ynua4rpKsn+9fM9L2HZ5ie9SdYY7sAV9qJvMKbU7Mr0S0OYJWjYBYTUQtwYDS+KuEpojjRFD2EY09g+hkErQbSFUcRarhkbLlgxRoBN+X4LYEmvLlsCQILqADuJ8AbVSJlrgWhVM5D0SY9PTHeLiSVPYRARdJ/9K29l6ZwIquAQEEHYMFWeKE1XGzZjxiSwDhgTds5uWgBCEvSNK4MQsg1OiFOU52fal3wkBK3BcWkkbQQ+S8ogbkYwhwf4KKCU7RmENke/G6AacCPDUTSVl4M4qVpkE41PcKERhCFBCUJkSjFdAkQwLiYBHuC1fqod2iRGEPZb+C1BDMW2wn0lBCbLPQouVnRsNGagxlIisFcuLqmunISUETCAIQalbJv3Q5kdjCRHwgIXuUWHzkEsACVnUpmLZYOxMrCiRu3wvy2gi8tTYQTRQTbb0jjx4lvfo6efraOtCmiTBVVSY8gzhFFXMJhnGD2lLwBPZenoyX5cANBkQg6wxBXqReCcVn8hCeBh7Yi/jcPBPVfuK2URAGBnmDwVkEnIVQUHygUZ6E6SPJP/QVBf/J0nlKfEwl7FcQz8qKMuNr2Cik96LbtTbP4e1zr9iO7yT8ytzLXFRiUFrIAxtXeu5HrOwHg3hqVfvVRZUlF2TsvYE2SnrTJC5QjEnvyuWGMoszji2AiuxHVkMCj3Jscn7KPOVlZuwi4j7V7HnqLJIsrYuA0FEDoKElTkQGrMs84oq1qpqCGrvpFDXCcIyh3688Zq4mW/klNrNSO1DcI+8eLIhXK2o5wdzeEI5RaVyRaHOD2Y/b0evuLFzs5VioJIWcLXrZtku9CQ8DibbcTD4RwgkW+S4ddMDSpFfUqD9c72kGoGRKQWrXP8ZdbZPc3Q8GL1feSFz7VTue3edBHJK7a6bslyHcxK4tgRYEUiBK97bRcsm1YNIekhZP9e7xPpghRWCnK5MFiQpNi1cu1iN7yKJUCw6o47ubOM8sX/4MzcL772N9fp3S0pMTAqfvp+N5J59SyWQU2q3VJy5h+UkcOckQE8gjgX1OBDQCH7FbfZuryzZsJ5Rw+z9KqfxGg+Sv690AfflaaTUckkuXWc4imeGuhGlX1JzvM3lUpmKJDcmAEnltc31vrk8+9e/o9EqX/uSsVjpnv5YUSXmMe6ZUPmTuetukEBOqd2RWdKp8i5a8qwWR5NtQ8VeeMxWjPj8XTFVXME6IH55iSNJ3OlqL6TGciAnXM23f7VL4kKSEK3F7xg7YBAkkWFekP/WSZwow8B+I9HIZifxJy3+d33mBy12IzG567CW3KjBG3wu8RZhRtGSkLV4iZSqkXjZLPsoMa7spWKOUkaHf1CsJL9xCcuIVslgTh4wNW8aM/6cLkH9MYYj8cfkHJNwJQFYkrRV3ObSPAorCWOC/Jlkjtm/azXhdIg5iGKyyUoQJpCrju8dvVTuaPn+r8tC4n3yl6vZayJNqVZUZwP+dh7TU1g9PSExP/79v7Scxrd7W0l7pT33N8XL2K3MkXwoSdXXWj8qZsxcsUzVB9G0sypGOXeFp1NVLjiKK9qIS7z6Oo9QXMkU3idLavAPSzbQWpPE79x1N0ggp9TuwCzJ5tdDdNQUE66LKwjZJ5R9hj4cqW9mSISIhBxHGWte+ZlsKwnAim2DL2A0zJyYkQn4S4uZUC1sHRqAQbGQ8w2NMZl0jAmgyVkDykqLiOjipqPAAJKcqrFyzPAZM4T6S/n6iQwDSVmxV4EWAmQxSeht8DHpVAXFM+VZ5P4seEHYHbLPkqD3IJGCUmfNSoDE5ZIw/H4GWKGBF4igTMRU3bjC0nImoUq/NOCFPEuBGmST5/Nkn9HYRqS8iQaS0MAv4leTDVMrIaP+JkwPmWeo2CATXUeIHnR7vYgzyTZNBGKB18HcNKIZ7W7mdrGy9hUHhxEWXE3rTGT28CngwaXSJsKSQVaMvqEp+IvJjMLcKOmjAu5klIkCjgj7vGz60h8mhQ+MhVHJ/DTZLBXoQ6insptxhilFxbrEncXnBDjvUdZxKypiDoVsmgIcymzXokiz7WmMFjrmNZH5YzSEOqL1pgNTRJBGUUrUn/RdlFovC3n+WRtr5zEROsXE91SKwAl/JWbfgocAACAASURBVCz5Xk0xywClc/K7/Ej3KWMdEYup4DgPA0Z+16OYQkQJSHJ8ORXWn9SzZptde1HU2DL3CwH/f29LYZQI1v/WkMByl6bUpIzM184fw2tjA0R2MiYnikiBJTI3y/xyrhLMBUwTsGFkrUAjAUtK+co8iyzk+4IQ5ZpOMknexBqCKTLapEggYC4upNB52JA5z8y/AueotaNpKk3GfAEkDYH16IxkVtGz7pqsyyQ/+53qhfgo698pRa5uuILZh58Psd1/f/YoCk0W/Gz1NsRzSu0O7JQ312ROqd2c3G76LhNf1O6zjThythclJX4i53U4ub8J9z14L1wsqHj0RDPKS/PRNRDE/Tu3wu82q4KSUmSw8/wZHDnZg9/66icIzZ8hZH+SxQ1Z1HGG+TZpvrATPfjV8W6sW7kYRaxKHKU15heWEhbnjMTTZDXwou3iebzxaiM+8+WPskDoEIJpG4rd3LTpbmo/fhCdERc+cv8abuQ6TAbCsJOBIjQdgkngyYSDR4lCjMbShPLbmG8TxA9+8Ap23H8vN9pirZIvX35hU7C7mLnLjdFmt6H51EnEbX7WZ6QyZb7XDPN/vGTZiARZcJL9KuDvoh/CbEesgpaLLTzFe7B0cTlmmDxsl4KYZPYY7e3EQNiINcvn0SLjSZrtJYiylDQEHyme3LoQfvD0HmzcsQODjYcQ9c3DGuZYvfLsqyhbdS+WVDhZhdmJJNMTpsMxhMIzCBDGHeJGt2jlSuQxUTZKJJyRG7FVz6Td872KbUIsUQ+LdNqJrIvw3ghTDxxMdwgFAgpmX0DasPTMJM61j6CSSkZyqFz6KA6cbMf6e9bBxEKYwmJCE5vVpaOEwHvgsZvQynw+AytBC1OIWF9ySFBIPSHSIOrPQpYKQZoKOpa2BhlQAugkjD82zQrLPIg0vnken/jiI3AwRcPMZOE+KrV/32lFN1MvRp/7BlxLliMywYPTQ08gTSVvYL5eksnOs6w2buS8JqgYLf4KzMYnMfHmT5FyLUfh6sXUF7SqbU7C19N4rESPr1fPoPHoKcV0M04EamFBgUpvWLpyDf57jx6vDKXxP+YnsNSpKbUUFcSfXziOV8YHYRMrnvLS89CTYnl2vdWqEIazTNUIMP/RXF4DK2mp9EJ8TLnPUnELy4eRaQSh0+eoa4h07OuBe+fDLH8+hSTXpLm0QFWyNjIlIc35Eq2kI62VwDJFGc9KHTlW/k5zPemdBoy/fBBOJvybmIwuC0cU/O6tDyHSeA4RswelBW7m9k2jj2kQKVYTz+MaWbxqNf7kwkH0ML3lmTXbc0rtpne8239jTqndZpnbmOf0y6eeR35NLTavX8qKykP4zv95Hg9+fCdm+i6ifcaDTz+6Ad//9k+wctMmcueF8daBc6oy7wgZEHRk+vid33oYb/zyZZ4mZ9WGP9LfAwNpeBw8xYJWlp/5Ts1kvxAuiaqKYgz1dKFjIIIv/f6n4ZwN4qnvvojKBTVw8wQ/HQxwQzGp/C4B0knA3+eVsiOzaGvuZrVsSSydxY7HdmFegR7f+c7PmUcXQ2V9rWJL6Bmc5EZsxWYyVXSS03CSn3l8RZhX48Pbu/chaXMxDy/M03gNc6aAASZs8+m0nJiXxCRoYS2pXncPti8vxDf/90/hrKhlblQ3k1qrsaTGhOd2n0bDvApaXnGU5M+iZcqGUp64F2+sZK5WP8b6RqmsWVXYWYBP7lqG7//4NWz7yMMYaTqM011TrBZuoUU0Bn91HTrPnIKbSbhOpk8Iz6OYKuMXTmGQDBwLlixAgvl6cb0FW7ZvQZ4lhD2vHyWLyCCmSStVv2Ahdj18D+mtjuLHzx7CwmVVmOiegIuJ8ws3b8eqKiNe3X1EWdmSBlCaZ8P53ilWsq7DkYOnSAHlU5Z1kTsPKZ7+fU6yYoxMIa/AiZbGCwiTOaSmvBATowHmrulojdfhsQdW4uWX3iRbSifSriIqPxtTps1oP3cGix7chIvsn4/zu3DDZqyd70c3S0grpcZ1MvrM38FUVAFzYTWVwmkEmR/lLC/lJl8MV00lwl3t7Cd3dzmI6JmPNz1EZcZcuOkuHhY8qPr8HyPlcOLJKh12tL6EM519aCHTzKELw1g2vwH+8gqsX78ZZ6qX47nO1G8qteZT2D3SjpnnX0V0YBKOlctZhbqd1bw5V3KEYo4XkxAZuHLTAiOFW0cfTMwzTI+H4GFumq3YjuEfPgtjxTykxzow6yyByclcMGMQkQ5WOa9fgLztpBXbdxDRbvaZCc3WSh9ifcPK+jMxzzM1PgEd3xu6O6jgUvB+5H6YSxj84zp/edsmHPjRbua8TaDj6Cvw3vMYllaXoOd8K5W3B7/zb76K/9h8GN18P0SpzUrKCxWmuLOviAjc5t0j19xcJJBTanOR0i38jpmWWuup4zjVOsJk1zIeLlPY+8I+LFq3ChXFTlxo6ce82mKyXgxi1yP3Y6zzLE5cHEGe24TJsB7ltGq2bV+B50h7pfMU0dLgS0wrYPG983Hoe6/Dt5RsFcw3GiMl1sqGApyi5QcpUW9xYduDG5lMPIGzpOCqJDPF4TMD3GASqKiqRWJyEIPjUSxasxbR3pM4PZhGTYFd5ccZnIX4+Cd3IjXchh/8/G1uxF7yK8ZRIaXumeCsozb00MocCNFNRJffktVr4E6PYu/BC+rkXDO/mhuCjbyEw+gL6LCgyo9+slrEZwuxsc6KU1RUX3h4BdlS3sCF/gDdrkyOJpmz1TFLy7WDClCP1SvWYWWtAa81TsE8PY6ENYmxAG0YWo31tUXoI0/h737pQfzymVdohXgwE5hQZLKzRgddWGOk8polu0YMvYNhlJeXYfXGlaSZGiAjVzcStEK3PHAPvvm/vssk96XYuHk16svMeObpVzEYAJYuKOU4Q3jkoztw7I3d2N80Ahv5BasqlpAmigm/KMcT63344Y9fJetHvmL9GOBGPkOLI5+MJH2kyCopcqKHye4f2/kQek7txotnY/jopmo0kpVCxxw3ofiy6ZLY++p+OJlkv2TXZ/DEtkVkTnkaB05f4Bw7uUbWwhIK8/tMTm+oQbxrgm5mC/pm/Xh8+xJ0B+JKqXXRJTz2/D/BXFRE5phSpCY4D44qkI8L+oLl8C2pwsihQ7DTRR1qboKpULhCab1ScZkpe53FD/+WXUjSO/DxUuArpnbs3ntAxcB6hgOoJvH1wOAQNt//KPa7qvGLnqsotRYqtb4LCL20j/NH/k2ZjBDd2xG6tZ358N67CuGmEzTs6SUgp6aehx8jPQbxMXJbfvYhWltRBPbs47phErybZjzXb/RCJyxlbuVajI2EUfi5x5G8eBQjrxyh8Ud+0OpyymZGHfCSpEMDXc4mH70LLR0kGEgh/8lHYS3Lp5tzFq9s247T5PvsoLva4/aRasuOWVseXZVDPJgM4wtf+X38l7ZD6KA1/uy6+9FBRhcLWXUkJHD3pMHcwo3rLnpUTqnd9smSRGBaQRc7FBNBOV0vQSomwjYU04C4sdp7xlBRU0VaIZ48yXXYcrGVTAd5dCl6yAafJMFwPqZGR9DaMYASMiUYiRYzC0vHwARMjBsZhLiXRKwOslKIOyVK11MgksL8+bWKvT1AJg0hlQ0ytqYjE8jJY2cUY/s9D5DQmCfZOBkR9FSEg7SCCvw82ZIs1k82DnH59fLlFgqv2qoCxgX7EGYcpq48D71k9zC580kDZEZPzzCJin2KdNdgttJd5ca4nMA9dhUy6ekS/sUK8jgmyHaiR4gbUhk3n/bWTsykjSoOFqZr0MxYzzCZQLw8bXucrFLgoYuU/JBuWl/97JuXh4C3dx9DVW0NFekiMka4EQ6Mo7mlh/REBWioKcT5M810iRnJ0OIiIe0UyZALYSHXoTw3j1aol+1PkoFFYn1vPP8SKiijAA8PD25bir4eckDSu+UkEa+UMSmmu3iMzPxd/RPIo3XooIvORqLfGOOQxV4zY4ajSNHqtZOZRcI903R/uRhvlLkyucifyX1diG2TJCAeJKqjtJB0T3SVTY0xVmSgBVrkIr0ZXbJRuorp9swn2fH0BBUymVvM3OQdfj8SJKlOc+Om7QsXE4mttHRjtC7LC1zonZnF19tN6OP32ajiKYwND9K6NyJG9gxbRQNiveepILx0w5KhY5Axr4ZlSIx28fNx2CoXIBWge9Logr2ynkwds9heAPzFgmvD+v+f5jQOkvJLgCK/4X6ke9vMuGGcjChmur4TjNmSqoVr2UbLnZYUrSCxakVZJuhiNzCxXtzX5qJClZaQoIJJktnDmEdyba7BtBCBGxkTowxI2aLclhQmorRCDTbGHW2MDccCbI/egEq6w8mXqXd7eSsBOcmoehdMZNWX+PDT6x/AIlrN17t+58RbmIxF8AyVWhsVo4VxuWK+Dzl2/du+ab6rBnNK7V2J61Z9WRhFyPCgGDQYwxFtodgIqGSEqZ6xFQE0CEJRGDKEpUIxT4iriBujir8QOaeVG2HAXNJwhaVDKK0yyMUsmEMRIPAZErOKkudPQBgCyMiyV6RoJbRcbONpmlyFdWVaAF6Vd9HKwahyHxmmBAmoW2hpyrPiZIuX+I+4KSW2pZXa0BCGEhvKllGRe7XSMJlyNnyG+pxjkI1LxfrZlpQIEVaRbEK4Yu8QhKKUDZHniuuHm2yWtksxXSBOiqoxWit+heIUlgZBkmrfIWs8+yiy0wB20geRj5RqkYNFhrWFFoSAX5LREIbGQlTeeQqCLuAPk6ATM6AP+VfmR+JtMlYNOCOMK9J/ghF4+hckqAKlC8iBv8gYVKmXjGwUWpDzpeZYqgYoV5YklXNjJzpD/lv9zntTlI/UxZN5FuYTmXihtFLlUqQMivB0CJNHpn0d+yJAkX/XYsRwgvRaLBcjyEdVcUDuFjColMEToK0AQbQQlPqbpISp3zXwrYpRpSk7QT6SyhEP+XVwi0a+Ev4nhhdZRV4akRItwF9TqS27Iqb2f587ilcJFHHbiDARoIgAlih/7eFCfszOZRGX0j9h98ggL9OCIJX+ifwVmEXg9Borh9ZvrWRMmh4JUYp6UsKpMQmzjShJaU/Wl2IIEfin4KCo9ChjebYAWdbm+7GeP9e6Jvle/Li3DQtIqfY0gSLifhQGEW3ObtU+kHvO+yGBnFJ7P6R6Vz2TMHhaZYou6BrsFB/k4ajinnOF3V93IJJyoCkhue42JgupYiQAlf/aZcKeCaYj3IKNVylXKoQwdczVsrSkCepOrHHP4i/qkvCRw1LiuGbe+I3uZvxNxzml5FWNuQ/QJb2Z4eEmep1UCjlsOKiE/6BqPv6sbmkO0v8Bmr8bdSWn1G4kodznOQncJRKgt5axVB06Ihmr6jboErGcKhkDLCGjv+SsySX8iBEqjLME3kh+180kgd9pkcu4TLQMl9BtbBMLf07Jine617n2swdS8Y4IH+o7L+aFXn0mY6zMmyVDzYkxJ4GcBD4YEhCdwhCbYvS4nZdYc8zMuHRJP4xUbOZ3SZN1O/s817bitOjEXXkbzgdz7VLuezeQQM5Syy2RnARyEshJICeBD40EckrtQzOVuYHkJJCTQE4COQnklFpuDeQkkJNATgI5CXxoJJBTah+aqcwNJCeBnARyEshJIKfUcmsgJ4GcBHISyEngQyOBnFL70ExlbiA5CeQkkJNATgI5pZZbAzkJ5CSQk0BOAh8aCeSU2odmKnMDyUkgJ4GcBHISyCm1u3gNCHPDv/ZLEn2vxfaQLRj5QZHR3Ua99UGRW64fOQm8GwnklNq7kdYH6LtGMr0mydf4YWY7uJI/91qitwjBLy8pTHnlpQiRhTj3A0JvlK1e/UHpzwdoKee6kpPALZVATqndUnHenoeZuWELr97/19aEUVZTNn0ILbY4OQMTQkF/nUs4BTfk+fG12sVwkZ1fFLxcotBGR0fR3d2tFNutsNiy1QpudoaFi666uhqFhVL65Gr0wDf75Nx9OQnkJHClBHJK7Q6sBxG6iSVcpPxIJBJV5TQsLLuiqnKQCFbKnmQvE0k5U/H4JUtEHI5Wltf4285z+J/t5+C0s7ghFcBspizNtYajNnYpKcOyHbMsoTIXK+jSs6TcBzdlKQOSFib/G3g99SzPMptiG0IKKN+V8iisBCDlRlQZEemKqilCS+oqHRYLtJYFHjcXlij+QJEHC4dcUk7C+h5MxPDyYLcizv3Wsk24N7+Yv7NvvKSUTFNTE0ZGRlTpmmw5nzjHfTOXKKH8vDx4vHmq7EjW2rpSWV7PAgsGg6ovRSzauXjxYjWOK79voGxNnJeolFJ55yUciiyhMkuZGKiss9/JriGdlNhhORUpuSPld6TMj8hUlQISS57yvu508flyOJByOe+8stbujWQm8jWzdEyc6/RdrasbPfgan6uxUyZSuilGmc3l0KJkIvdQJjGpjM3qDlLmR8r5JFgr77rnQiUjlneay2GEsrCysnpUCvHlrjsigZxSuwNiN7F+WveFM2gZTGDH9tWQjen8qXMs9ggWAC1mIcICpRREi5w/eRqlS5ah2G2nwkuo8jAWvjh/Q6X27YE2zLLYqKmwCJaKIsyqTYWbv6pBxd/40ioFJrWreE86MIbYaBj2RQ2qxL0oKqk3pe7JKjtVh4o1yEy8V55HZal32JEc6mMhyTgcC6uVlpJnyv2zokhEWWZqWOl538z5C9D7WYG72K3VvGKhrvDZNlYtroSZRUjTUSpy1j5jsTDWwmIfuEmpOlmiNKNxTLNv/7DiHjxcXKkVXFP1xHixxIzaNeX73OD/a1sjftTTiv+9dCO2+0p+Q6mNjo7BweKiqfA4LnQOYd7CRbCzyk627pohWwuOfdZqvkm9LyqCTB2zFGUXowxkM1y7bj2LhdpV/TpRQuqSTU65OclET/le64pEIjh8+DAcDgeWLFmiLElR6lJTT66Rng5c7A1i1YoFcNhZU07VbkuqdtPxMJpY6NTuycfI0ARWrV6sxCF17XounMeMxY0FteUY6mpHEA7UV0ptubQqamn2+FFZ7NXq0Ul9OMpbDhJykDLysCSKLxmPshYca76p+nwmEpUnuVSkPlmKhVpZbNNuZR0y1i7jGjFwjmWc6TRr7mXr0FEewbFBdA5OY9mKRdBzjepVO1Jvjvdx/vRch3pZI5R3NBJTMrOy/1r9Mx6y1BpknT+OKyl9ydSfk1ipqoHH9qROn/RflJAo8L6eHhaencHipfVq7aVl/qiopB1ZJDFZYywSJ+WERCGJAuxsbkHMko8F1X4W6b2I4VFWWa+sRUNVoepvhH3Ts20LZSNtKh1GecmExFiL0Gy1ZmrpXR6/zN8s75V+y3zFp4Zw5OIoNq5drNaSUfVf1odWj01qyIlijXKd344DwB3Y3u54kzmldrunQJ28jXjlh/+CvW0pfP3ffR4FrAj902/+CD4qG9P0MNpGdfBbubkbC6Cf6MG8e+9BdHAIHlZnbqguBstW0VI7j2+PtSP8iz2wlpRCR0NPR+tGl46y4CVPpV4rS9NPwFJZDYvPgrFfvga9060qDFsXLYe9Kp9VkPuhd9H6SEUQnwjzuxWwlhYgzurO0V5+r6Ee5jw7ot29CB8/jrSrHK55fr643OxKWVWZ9xu8Pm56MSRn0rDVlCLa1opw4wXY190LXXwShvwS2Bt8GPnZa7CWVVFZ8kV32zB9+DTsazdBn5ziRspTs1WH5HSCCrcOIW6MP970MBqGuvDSsWZW2S5FH6tK+1ilum9shFWbi3Dvxo14ITmOv29pUkpt21WU2tTUJAIT4zwwHGY1aD3WrVmOQCCASo5zaqSf1cBnUcFx9PYN0y3owxSrTM+anCj2OVnFup/VsKtQ4vcpBbJp3SqcPX0CI6yKnW+JoX04CY8pyM08jDz2y2o3IjAdo9z9qPW70dM7wqrmpaidvxZ+Rxr79h9ktXGbUmqiFGOsRn7mTAvyi8vQeXwfelCG3/30FrScOYuJ8CxqufH2dPbAYrOirfkin02LzJqPr3zuQZ4Rouho78GbL70O77yFqCsroHVg4HfiqJlXidRMGIPDY7T+TFpV7+IiVhO34cLZVrgK/Vi+rIGKtAvdIyEYZ8ZxomUKjz12H3raOjjmYoQmWTKG1UMP7mvCI7vuZQFZJyy6OIKs1D48PI4CHrxs+gQGxoJYsmIZZie68P2f78GidfdhZYMfvV1ddCe44bIZkccD2sTgMJVCBKGYDstWLoQhEcaZphborE4qwRiMXLeWdATUUaigEu7p7ICVlne+04zutm74WN29kOu55WInZVrF9R/BCy8fhJ+Hnk8+uQ0tF1rgLPAgQKU/xr7rjFYsWb6IRdMmMEmZhGNpeNiXk2+/gYtBJz724GpWi0/h6IFj8NUvRZEtiqjBhRVL6zDN6tznz3eioIRjZAVzk9OJofMtOMaDxQOPP4qJjjbYfH7YOf5OVl83UHF6fHkoZhXz1rYBlHp02HOqHxtXL4SX67yvpx+ufB+irCZvtjk4N0EkzU4snF/D+bn76vbd7u3yZtrLKbWbkdp7uEdOsdGxXnzr+7t5cotj5bYH8cDGBXj+h89gmkdDoy6IGUMZCg1BBM2l8KVHcbZrDPHgOBylC/EHX96lyotIAcZvj3UgsvttJPv6qWjCMJaU8LRLy8yWx9LzRsy098J1z31wNRRg5Ocvw8CXMR2OYFZO6sU+3teJRJRVsen61FvsVHBW+B59CKF9ezB1tAnWFffCt7IQY2+chtltRZRKUjZMsCqwKFBLVS2ciyoQPnIYM32TMBV4YSwoYlXJcUR7qCD0PGl7S1DyWw9i7Nk3eFo1IdLSzH4W0TJkRWdvAaLnjmPW7edGF4Ghbgl8W5cjSMvmJ/c+Cs+x1/GLw63o6biI3qARTz64nhtDCieauvDJz/4Bjrun8XcXm/CPSzZgOze4FC1CqRYup/szohyGurHnrbdhdXgx0E0F4faiIN8NA5VUIjiKaTgRGe5BkKdmPa0CT2EpTOk4x+rkpt/JTXobViyqp1VhxcbltfjJ08/DV70Q5/b8DIe6UyjUDWNSV4S188sx1ncKE7pCjIficPJgYTCY4eRG/PBn/wQ7VlTgyOEjdDFzs6VSs9FlvO+Xv8AIvNBNj3C8cfhqluOjOxbi6e/9FFNRI/K5OZ4+2Y7CsiJ4vQ5Y+LxZTwEWFjsxTsUyMhOBjWd9Ub4WKvSlNYXo6KHcZ6bp2qY7k1blZM8QElQcPtY6Gw+lUN9Qhu72bnzhj34L5159GQdoUdQWOTEwbcC9q+uw9429SMBK68mElRuXUQmcxn0ry3E+YEKZOYDmnrBSkMbENPpGgsqyevjJjyEvOYJnXj3BdWFCYbkdE5T1WMSI4uJCWiQzlGkM/UMBZfF89g9/D0ONB9EzOoNN6xfhlZfegsdfQmsrCbvVhI7mAeSX58PLMTS19WJ+VRVSrEre1dmFIF0ZvhIfnDYvfPnibnXhsY+sw/e++RMs5Lo58ouDMBWXoqaAhwZnDXauLcA//uNzmBobgrduPtxU1CmLAx4jK8fb8xAKzSA6TUUYDNE6deIP/vQLGG+5gKefeomHk2JUVBbCX1eOtr1NsOfr4SmvRCIUhZ7z28tDS8LohAchWPILYLc7qNRa4Hfl4wItwvnr1iHflMS5xovU75xnKr97tqzD+WNHgPwqPP6RzUppXs3t+x62l9ytynKeVdZ+rp7abVoOsrEd2/smIrZCLKxwYu+B83jikw9jzzMvIUAXS7HfguFJA0q9BgwGdbAlphDW0R0Snoa/dj42r1sIOnfwtx201EbbEdt7hJ/NqDL15rJyOoliCDf3wDavHgkqA135QhRsXYapvftpCUVg8pdyA48gMjQOXSRIK4kumrxCWl5+JCZH4d66FcHdLyLGU7ixbD58m+ow8TrbiFCZmR10F3In46anlyrHoQQs5cWI8WVOidvInadcLunQNC1Hl7LKTP4KeDY1YOJXbyMVmEFyKgBTiR9Gp7hTGSsKDkPP9mcjIZjql8BZU4ApbthPbXoIK6NhHGpqg8vjRm1tFQb7h5Gf70BPzwCqqACfjvQrS+1bq7dg/ngAF4bDWL9hORgpQWPjGQTGh3Ds6FGMTkwx7qSD2+MgmEQHr9OE5ovtWL7xPoSGehBhTMVq5A83G/PMMF16VBwdF2AoqMUDW+/hZzps2rQRI31daOvqhrukHnZaGIHJQWWRhAOTcLqcsDmoMBkn7R+dwoKKClocTYC3GksbqnHyxFFafJpSs9Biu3DkIE63j8JmtdFSN8NWMh9rF/lwjNbDoUMXUEEFFOZBpbi0EBGe8p2ePBg9RbhneTVGaWW9fewspienkaZbrWH5MpTZUxhJutB28E04KmpQX+5B46kOVCxogH6K1v9gCDYzlVsgjN/9oy/T+mjCq28cRX5pCTd0Cy2PNEboRgyFGT8sLcP2BzZg7zOv0NIsw8nTbbQu9cqVFknoUUpF6GJ/Lpw6hXW7PoYGN92rF0fg4broGG5HfDIC2L1YvKAGr77yFj79uV04erARNpcL2x7ejuGLZ3DyTDuqaisxOjKFhUvmo/lME6Jpgn2oaKbCkygpr8DoGA9G4QQKyvz0JsRBfYLyKq4PKvVRyqac49z10Fr88qmfoZf9ttLVPUUPdRVd3GXzl2HTylp87xv/TPcqY9ImD+OZVUjMmqALjGAqbmY8LsIxEUXMg4zdXYiHH1qHkwcP4yD76i0qhcvBMAFdlHX83Wac5uGrCIGBQR6SbEoZmVx+FBgCiM4a0NzazzWvh5mF5WiQIi/PC6vVzDkMwMuDVCSuw8b7qNQOvYnTnWF85jOP0Pq0KLdl7rq1EsgptVsrzxs+TeIl0WiCpwi63CTwT9+/iYpOwCASq5cYQIyWg8QHkgIA4EZi4al1aiIIq9MBOwEXZsYN/rrjLL7T0wIrN2mJKaRmZuh2YYyGsQAGBngqJgiDAXE9N1AVW5P4mMTLJI4j9JhuvwAAGItJREFUznzGN9KME0isTc+2MggIKiIqGiIqUzMxGHivni9mms9OMd5gcLsY7GGB2ARPQg72eXqaMQLG3yQsRsVgkJgTFRrNMBiotFKBIC06UYSMvbFtiU9IPE3HjZxQCekEXWm0LCU0xXakDzrKRAAfn62ox6dqFtKFZVUxiQQtMInNpBkrtLCPU5Fp/OXZkzgdGMc3Vm7GYlpIAzMJzJ9Xw6GlqdQaMTExyRbSmGY/rXYXXUVpzHDMdo4ryjEZqWQs9AEFpxlnZN+z8ZgEx5+g7Gx2mwKayFVf34CSUlpyPAFKbHNWxWkInmFbApTQ0gc4EHVKNBCMkGCMhXEjbsZDQyM4d/48N7o8BRTRYmrgnNK6tVEZmuh6naWri8pzmlaDzJ/LYUGQrkO92QKryC8TdDRJfIrzHZoOIcJ15GC/ReFokSQJpjIWxAkxcqwJiYeyLSMVbTfdwoePNsNPy+ehHWupEOliZKlqp9OmwBYGbu4SNzJQtjJGAVJIXErWRyrGf40WtDeexJShAJtW1TAWF0eMc+Fi+yoOqQApGiooJuAnjsHJ+GCM827nHIaCARYSpbXjdnAeOHZu9sm0jjFEzgE9BdFQCGmupeG2drp2R3Hf1ntx4XQjAlMx3LNjPQ8qaUxOBOCgYtRRCU3R1evxOJUrP8H+TUcY450ewt7GQdy/ZTXbIYCK8yExUL4FjM2m1LuV5EsmMUKJIyvACePbYQJ5ZHwuKqsUFWBoegYWWtM6uihDjCu6PYzLck3o6V2I0lMh60bmRI1ZoXD4LK7RGb4zFq5jK8ebULLjWuYBzcQ5FHkKICcUCtOStvIww3hBLqp2w/3yZr6QU2o3I7X3eI9sNCJ4+ckizORfuWTvkl/VHqaQdpo5rRcgh2ycfCkF/fhPPc34y9ZGWhE8ecqN2Zuu7Js8IHOPAEEuNaDeQwVB1BrINqza5+suz3rnvZn/vgQTu7Kj2edlgBPqednfs+2rZ2bavbLNLOxMdUOTiVxJ3uchYEWC/O+85C8xfj5FBeszW/Ftoh/X+op5D5UflYnErM6dO4eBgQFuJnyGgFgyzxWknCggNQfSNyW6y/OhDUVDWsrnAlbI3itAgJu5ktxY5aeUSnHhwoWauPkjhxqRvwY8vLwefq2Pl/LsZCFcTjQXMIdskmod8QFZ0IGGBMwAbzK/CyglQatkbCLEOFShAibJelFykcYzCNUsilCeqWQka0atQ5GHeJ3pdha3MbWSpmMpSyoLURCqLyK7SyhVeYasbx64uPkLIlW+Ib/Lw9TYM/0UOesy44kLsIifC4gmSiWrlLIcZvgsUbwaAlEDfsjvWhsyFn7GA1KcitbKg5+WgqHNbfZSazujhC7Po/xNmweFspW+sS+X10YW9agJSb57GbmqKcfsAS27zrTPtXV7JdI1+75fksPNLKbcPTeUQE6p3VBEH7wvSOL1MDepHw90YIzoNfnvD9sl6kZO1de6srpuuTsfjxdX8SQvNpn2fdnIQjz5i1K7VXlq2UPIzcg5u1EWE2DhoqUxJ2j4zTR0nXvkoKJcbQL5v6Qo310j8gyFhLzJ++fSWvZAoR08NMUw57jTu4Hez6Uzue/clRLIKbW7cNpk6xYXpNBkJcT9dReO4dZ0WUeFrqNbiyf2d7hyLlu+HwzgdNYKuhMK7dbIOveUnATuDgnklNrdMU9X7aXm6rmLB3ALuq4sqGs8Zy5JubegC3N6xM1aR3N6eO5LOQnkJHBJAjmldrcsBomrMX4mLCSSECy+fdm0jQIoyYBM5jyUK58lIAEmmzKKoODwWS0pCa5GSZZlsvctUZx8iEBsxVEqzBNZF9aVrBVmBu0l6TirAERZqURYAkcE9HDNfkgMht9LMOajIi6ZL95qRZJlZTETXCKxn6wyVZazJEqznwqIcMVEqM/YN0lSv94Y5HsC0BDQxa8zXGgHF4kTZtkwrpSDjNHMFAVGlFRSeTaWI11Qrjx54hzdhdIHgUIzakS0KIEX7/LApIAXVzB9/P/tnelzm9d1xh8SIAmQALFxAwnuJLiJoiRSS1XLlhXHSq14pMTjapSkk0nc8TTNNJ1+6N+RZpJ+aNxmRnXG4ziybMeLZMWprFiWZYmUKIoixX0nQGIlSBAAAZJ9zn0Jie4kbTyaqF5A2+ORiHc7977n3OV5ftAk1RsKGHBvgMGTGiiSkP05MXAbKOMXYdQ6VxyyKTCSPiAm7QSJHP9X+32q55Olyf8ZC3kPRBjDXyQSYjrX9l7/xHD98ddNLYN+ctlU3SuXb8XALn088/Pni0CmqP35YvtHzixCDD03s4m/YqJTxUk2zNWsS9usVhADHi0b9UJw0CgPeqxQoj42G0ZjcwN5jxRFUGY/Nu5BfVsLjDrulYjqkC+obLDLNURerr1cWoKTjXYRLOhZsML0Z40vxLFnpxuLUxPw0YjcUF+lXjpR/C1MjWI+Sr9Sa/UnCBLyUJtUWIryS0QY6t54j/J3ggaS+5S9G20jXxMhiBR8bXUFd/qHsEaVX31LM4poTBVqgxyjV5v5SYo7ptHUXE/PT54670YyjuHhSdhctSi3G3hNOReVgtuoEyIo0TEL3b7VDxeJISaBYciGv+whMWHJs6SoXBOUlCR/uTdJKjIY2BQkGW9RFIVyjIgLJE4iwpD4i6hBknySvjwlcBCVI+XmgzMhdLQ3KaWpFP+szTXcHRiD1VmFMloOYlRWiopQCp2oEQf7B+klq0BduV0RMTbZ5p+4D7k2/36GJncYbKirJFGGyjtJ9qKylCXWObZRMr8IjS6a4ymGkXPLc8ni89zoXQRTBehsr1PtILcq4gopvFqx0NpCVIaawlOeTYoGzy2oKD63/F5iuzA3SwGOgZSSMnUPSQY9l+0s4oY4lXw6VXSkz4q2QouziD5EqSvxnqLxenk5hR0kfUyNj2ElmYemevoSGTv53Bp9azeu96GafcBqzEJ3zzA6unbCRIVvMhVFb++IDANofWjk/Wq0GUVXYYFUMWP/3ZJsqPhLnxBloXoO/k6IIFopF2gORSe8rvSBNaoR+VH1OSGTyO90fK4ISTnjvjW00WuYYhyU2pjKxnWeWFPb8nqiEBaAONtI6xuauEcn7yb/TtpA+lD63ZL+Iu+HDES0wQ4FLFSaJiJBTNPw3tRcR/wb+7EoMoViI+guFvk0Ve6hp6Qv2AUzRe0hN6i8IGsrYQwMTdHIWoYkCQPxDb5INJ8u0+BSSk8LleAc8WdjlVJ077wfFTVVlLbn4Mp772IhZcXz3z+O3716Fv4UDdE+D+zuXXhkdzVCpG0ESJ5o3eFGLLhIyXUWovTN0JbFRJiAdyFMn0855dUUUYwNIZAyYt8uN43A78DY0IZnv/4oZkdHMetbIU5rGh7Y0FlnQ5KUDWNWkkZfP5NCFkyOYlI3zBgfmYCdhu8E4cqbgmuqL0csEkKI0vpYlCZkUhzWmBRC/iUlYb51/Tp9RDT6PnEIyUCQplsT3n3rCg7SG9fe6mRCu6te9kBgGa6GOjRUWPHKi79CKKcMTx/pYKxW4AnE4CqzYHJqHiabHVUVdvR39+Fazx2c+tEP6NfS4aN33sFoVI8nHu3A+PAUKhvqUVZUiNnxcSyQhlJV7cTCzCwMNDM7TFkYnViAxWaG1eYglirBpBymXB4oLiJZZN6HqoYGlBdm4fQv30ZtbQV674yhfU8XjdkVmJmYpSFc5OMpJbFfZ7vt3NWEiM+LwcEZVFQWY5BG8NzSejhpHDeXupCztoRJzxJqa8rhm/fS/mBFi7uS55pAiPcXp0Q931yINib2+Yl+vHP+LhqdOtz2Z+MEvVSFpJcM0YtYUVePKnrGfvHjf0PJ3gOoJTVER+uCISuF4FIcscAi8VuLOPndZ2nUTmGEZAxfiGZo3Qa9X5XIpzdvanoRxaSm5NOiIfL4GZqcs3NIkWHxyaXdoJr3PzI4iqxcI5+5BcFZrwj4+Z8MXGimp4UjSO+bq7oCy4sLGBgnpSapR+eearx94TJc7i4cf3Inhvvv0FSezXtfp7n5En74z38L/0g3Xj43hJPPHIa9lBgwwgCufHSHFoIs7Nnfica6IoQiMVTQgO6dnlJtX8WizkkV6HjA7Ws3MLeWj6cOtWJ4ZBbOqgpEFr1YjrMIcnBTVl2LzRVSRWib2wjPoHcqga8f7cIkaSxlNaTbEEHWffH3COfX4rmT+/DCz3+NltYdKCAhpsBqoe0hALOjlJYWsjt9EVTVV3JgGUBKfH30ac56w6iu1eI4NulVMQgv0JQdDaNnxI+vHT0En4dkGr7Tly5dg6u+ES5nkYq/d3EJFfSGLs5NY9Nggbupjl44Dj4eeJr4kBPaZ/BymaL2kBtFPCtzo0N444xQC0oVVFVmA2armZ0aRP540fVIDZZW13GXM5cSjvSSNDGv0TTqIn4pHM/Cd751DG+9+EsEdXYUbKwgQrwQMwlxRB5ESUb45jMnUJwTwAv/fp6MvyTMJS4WzWwmhFL4Fubho1G1pbEKc8Qw5VrtMJKQkMfPHNnXirO/OovWRx/DxvwYhgKcRXFmMu6Po9REzxVpFTqHlSNnjs65POWsLkFwwYvxGR+OPnsKB1rLiJ+axYu/OKuoIEQwoNNdSr9RLzYLilBKlBHzIO8hSBRTEFaXJKEInjp+DDvbSvHaq+dI1l9EEWexKdJPTp14HO++/htMBxMoshG7xKWq7tsjKLOZkKQR3J5HWT+RUlV15ZgfGcczP3wODiazi6++irmELNcaYcvPxuKKHt9+5lFc4LkGvRuotq6jl3Euq7Bw9G7CoYMdiC2OIqAvo1HZj76hIex012OeCWp2xouWRx7HqaNt+Om/vsIZSBOL4Dzyczfg8RFJRiKIgd8UUOO0Mw4cBlQ247t/fRjv//ZdmsRX6cPaQDAQQQkHJpMDYmKmCZzFuOsvOjEz0I/r3b00qNfjR89/A3f7emhSHiCfsIAUEODg099A7soQXvp1Hw7uLMKNySUUF+gQoGfRG4qimTPTvzl5BP/5s9NwdbVgqm8E83Qft9VaMOVl8Sa6aYEerEOPH+AsawUfs2Bk8f/5xVZEaZwXv5Sr1Kr8XyKFl5WCXDPLn5/m5hT7G6k08/4Y3DtqeO5BnPiHHyDc8z7OfnAHy/MBNLTQr0ZPXA2L8zRnkjEixNpIXhnv7Ye1qprexCiN6m040mHC6TNXUVNZiMl5+tFYdL73/LOYuPUhzl/1oMyQQOWB3bj1X92wOQo5i+KqAmdS4lcsqaHBmr66S2+/jfdvTHC2S1AAZ8Sl2UEMT9PHR/WrMyeGDfYvH7FqC4vrqCT9I8qCnJ+dT2zVJi5fG0BVjQvZ+XboVxYx4fWT42mmvYFqVH0Sy7ll+PaJPfiXn7yE9uoy9M0GiGFrw9XLPYiTP5fPGWG5I58x4SwtvgwjEV5Z8TD0pIckCCxYot2zvq4Sk5PjVN3m4qsHXfjg9gIe2b8DH5w7hzybE3HONlvcNYiGQoikstSMfrBvAgYrJ2qkm+zftQ97OirpdaOP81Mu+z7kFPaZv1ymqD3kJhKiyM0Pr+JG901kGZmoCSNuqHGywDApsLPnc3lnZWkBPiKH8snc28eEPeGZIUFhjf40LnUYHPjOqa/h5uX30T9O8kKpg1w7IxPqJFcxuLdktmDvgb1wFgI//fFpJlUu+zhqmQxMLCZhLq9wWcVkR0ttCW72DEDPWUaEI+zS5jY8cWAHzr/+JukiNTCnVtQo38glmkX6m4rsdrhLCGYqLsI8R/cJJlY9p4BqOY2svYZGN6eXa9jb1YrTP3uBqC8dkusGdHQ04NbVHhq5zUxYTCoc1SozbGwVVW1NKtG7CWzeu6cGb77xW84kEjjY4kKfJ4xjXzmAK5c/4ozKRorGDFZWCc/lLEbPBNzUuRv65TmMziVoQM5mcfWgqK4dTzIBLvT34Pa0j8tGNMGSmpJT6MSxJ/diiOzGC5fvoMRq4jqUgbQOO2G8IZIubPw7wqNHPJxVLjNZGYku200U0iRmiHdq7ezCvnYXXn/tAtFGJFHkmlFhSuJjJi6bcUMlx3XOhKfIHmzf/5c4sKMSF987j76bXlTWONTS1yrvORHnQhW5jaUlNrY7SR6JqLIdWCvq8OTjnWRLduNW7yQqmpuRF/HC3nYQdY5VvPzSB6itsmCDOLHN0Bw8Ic6TODioqWtg4mzDxTcvIK/YgLv9HgTDqzh8sIUznn5e28VlrSgOH/sr2I0JnH2jGy4TCxfvd2xwQi2xscbC6XZjeWoYY4sxHP3qLnT/vhc20mtKiGy7zuLvdFoxyWXgk//4d7BHp/GTn7/FTKxHlbuagx3aSyKcoXKmajE50FhrR/flmyhwWEhy4Wy0dS8O77bjlTOXaGhmgeBgBTQ0P/X0Y5ifHED3YASFSS96WewE1F3CZL+ayMX+Zhv+4+WLeO6f/h71TPxvnHmT/E7SRdgPE5wdxjmjrm9qhJ9kkWLDOvwc3GwQg8V1BLS58hBgofDdHpS1SZJo5lDT1KKgyHqSYFZ5bAmZlCH24fhSkPDtRnzr+H68duYcjHyOBAebbkc2Ll4d5TFJ2CwOPoML792aQaVNj7vjPi6Qcu+Xs2KHiRACARXLrDXFvmgswfEjtTh74QZnvkSVzQwjh0VNwNAFYpIXu4l48bg8uUTYZf3Ocprls+AbDWL3Y3tR53Jk9tweMCdnitoDBvDTHi57NlIIlsKc9XDWJmQR2ThfJXFhlSPUEi7rBQMhrHN/TGgL6tutZU+Eo9ZwmBz2QgvJB0zWFFtEOarT9kk0groQIGKJddjJYNQJCVy+sobLYbJXotdt8jvGIlxiI/RYTin7DmIJYJFY4lTPYrfxekzY3A8KBJdJbihQJtYYEVxyL5LMhQQhpl1FTGddCvF+8gl8FWbf7PQswbHZaOeoPkq+pOx1CMFD9lnCxFRp9A7uY/Ef2bMI+MMosFhoBJaEyFREmoPQVWT/L2eL/CD7jiIqSbuDU9xLWhWKhsRFRBXydSwsnqFAmLMOLiOyKLV1NMPA2dpyNKGoDyHG2VZEFqaQQ0ixSLLwW8h2jHDErDMUcPaXpZaCCm2ctRG6K5SMAt6L7CNlM0n6GAsrYyP3HiNNQtHYeV+yryLXXhbqB5/RaCTySO0r5cLMWe21j68xmSZxhPBctVfKmW2UNIlcDlQMHFj4OdOyM/GvkgySTQO5laQNEU/IHpYyKsuz8Vx6tutyhNgxRfmQ/TttH0ue2cwEb8wlvYRxEwKN3IvaS5VvH2D8zSzOcekj/HaAPDaYEC9kj1WOV4IazkDCLAp2wpx1fNYYdSZGgkXjSjQhe086+Lg8duVqPxU7Zhz/5hHomIylT8jeGjsDOYhJBMIrKkbs2FuQAO6QEnEWibMvMq4KF7UUJuaKy56crcteocRL3gP1BRIc5qg+x3YRIZQgapIrfnzYPYmnyEgUU3UsGuWgJqnoHlLU1thnhE4i1H8xasu7YbZa2WaaKEX2LZV5fqvPFJI+IsQUIX6EQxEFId6Qvk96iJn9sMBIszdXF0TUkst3Kpd9UD6Xzb08IdjIn0WIE2cbFfAcNz6+jjVTOQ518RsvuGfm42zcQjSWGNvleSORqIphgufM4aBT3hc5t1GoOxwACRzawmeRviGv4iqpNro8IwpZJP9kX96nTT5fks9nitr/Q0OnzbiKqCBfzyEqLDG2snNvpy8ossMW8EEJGLYoCvKZtJJq+wuQJj/ICFwRK7YQT2nZuyIyiIpAbfLLcpNGztCoD5pYQCNViApMsE8aNUITBaRVYfdpCRqJQ/ucnEM+J6o5WVLVVlA0qoT8WT50T9Uon1f3IsIMjdCQpnxIDOSZRc4gopntRIh7pA91Lo0sIT/pz8g9CE5LApmmhGjqyu3PpqnSPnnvGqlCe1ZNAaf8ZCLS4H1KPFUbbQlItqvytp8nTSGRwi3CFBHQSGGVQYA2NknH635bpo9Xbcrfb6efpGMr8VPX3EaqSMfv/rNoRVbFXOKnxCEaIUOjfkh/kOtr7aJix381Egcri+oL22OjUCLUuazB4/Fzz6uE9Bp+lidIXye9/bNdwar61VYct/crOSbdv9PElHR7yh1ptBCtj8jxMrvdZHETdJhcR45P00mUCZzHpJ8vTepQFBD+QvVbDYWi2vPecapfa3Qe9TUw4vVUVBSuHmwRVNLtL5+7/5z36Sjqa5ZENMNNVxmUSrFS8d5GqJH7Sh+bbnMtzWjvleqf9/rC1m8U3UUjpGR+HiwCmaL2YPHLHJ2JwB+MgFZotWT4uf5hAhYBiWIoPsRnSQ/QPqvxU+2rBp2f8/b9XHfOP3zzmaL2BWzUzCNlIpCJQCYCX9YIZIral7XlM8+diUAmApkIfAEjkClqX8BGzTxSJgKZCGQi8GWNwP9W1P4bhSnYrYbuyucAAAAASUVORK5CYII=)"
      ],
      "metadata": {
        "id": "mdwk7Xsq-zyN"
      }
    },
    {
      "cell_type": "markdown",
      "source": [
        "**Flair**"
      ],
      "metadata": {
        "id": "Ac3lXOEY5ocw"
      }
    },
    {
      "cell_type": "markdown",
      "source": [
        "A biblioteca `Flair` é uma biblioteca de código aberto que permite o treinamento e o uso de modelos de PLN para tarefas como reconhecimento de entidades nomeadas (NER), classificação de texto, análise de sentimentos, identificação de idiomas e muito mais.\n",
        "\n",
        "O `Flair` oferece suporte para o treinamento de modelos de PLN utilizando algoritmos de aprendizado profundo, como redes neurais recorrentes e redes neurais convolucionais, além de permitir a utilização de pré-treinados modelos de PLN, como BERT e ELMo.\n",
        "\n",
        "Uma das principais vantagens do `Flair` é a sua facilidade de uso. A biblioteca é bem documentada e oferece uma API intuitiva e fácil de usar para a criação e o treinamento de modelos de PLN."
      ],
      "metadata": {
        "id": "KkOAFN6Bln38"
      }
    },
    {
      "cell_type": "code",
      "source": [
        "!pip install flair"
      ],
      "metadata": {
        "id": "2BMKVRCfmXPN",
        "colab": {
          "base_uri": "https://localhost:8080/"
        },
        "outputId": "7bb271f5-8184-4bc4-a275-e56c7e835089"
      },
      "execution_count": null,
      "outputs": [
        {
          "output_type": "stream",
          "name": "stdout",
          "text": [
            "Looking in indexes: https://pypi.org/simple, https://us-python.pkg.dev/colab-wheels/public/simple/\n",
            "Collecting flair\n",
            "  Downloading flair-0.12.2-py3-none-any.whl (373 kB)\n",
            "\u001b[2K     \u001b[90m━━━━━━━━━━━━━━━━━━━━━━━━━━━━━━━━━━━━━━\u001b[0m \u001b[32m373.1/373.1 kB\u001b[0m \u001b[31m12.3 MB/s\u001b[0m eta \u001b[36m0:00:00\u001b[0m\n",
            "\u001b[?25hRequirement already satisfied: tabulate in /usr/local/lib/python3.9/dist-packages (from flair) (0.8.10)\n",
            "Requirement already satisfied: matplotlib>=2.2.3 in /usr/local/lib/python3.9/dist-packages (from flair) (3.7.1)\n",
            "Collecting ftfy\n",
            "  Downloading ftfy-6.1.1-py3-none-any.whl (53 kB)\n",
            "\u001b[2K     \u001b[90m━━━━━━━━━━━━━━━━━━━━━━━━━━━━━━━━━━━━━━━━\u001b[0m \u001b[32m53.1/53.1 kB\u001b[0m \u001b[31m6.2 MB/s\u001b[0m eta \u001b[36m0:00:00\u001b[0m\n",
            "\u001b[?25hRequirement already satisfied: tqdm>=4.26.0 in /usr/local/lib/python3.9/dist-packages (from flair) (4.65.0)\n",
            "Requirement already satisfied: python-dateutil>=2.6.1 in /usr/local/lib/python3.9/dist-packages (from flair) (2.8.2)\n",
            "Requirement already satisfied: torch!=1.8,>=1.5.0 in /usr/local/lib/python3.9/dist-packages (from flair) (2.0.0+cu118)\n",
            "Collecting deprecated>=1.2.4\n",
            "  Downloading Deprecated-1.2.13-py2.py3-none-any.whl (9.6 kB)\n",
            "Collecting conllu>=4.0\n",
            "  Downloading conllu-4.5.2-py2.py3-none-any.whl (16 kB)\n",
            "Requirement already satisfied: scikit-learn>=0.21.3 in /usr/local/lib/python3.9/dist-packages (from flair) (1.2.2)\n",
            "Collecting sqlitedict>=1.6.0\n",
            "  Downloading sqlitedict-2.1.0.tar.gz (21 kB)\n",
            "  Preparing metadata (setup.py) ... \u001b[?25l\u001b[?25hdone\n",
            "Collecting janome\n",
            "  Downloading Janome-0.4.2-py2.py3-none-any.whl (19.7 MB)\n",
            "\u001b[2K     \u001b[90m━━━━━━━━━━━━━━━━━━━━━━━━━━━━━━━━━━━━━━━━\u001b[0m \u001b[32m19.7/19.7 MB\u001b[0m \u001b[31m31.4 MB/s\u001b[0m eta \u001b[36m0:00:00\u001b[0m\n",
            "\u001b[?25hRequirement already satisfied: regex in /usr/local/lib/python3.9/dist-packages (from flair) (2022.10.31)\n",
            "Collecting bpemb>=0.3.2\n",
            "  Downloading bpemb-0.3.4-py3-none-any.whl (19 kB)\n",
            "Requirement already satisfied: more-itertools in /usr/local/lib/python3.9/dist-packages (from flair) (9.1.0)\n",
            "Collecting segtok>=1.5.7\n",
            "  Downloading segtok-1.5.11-py3-none-any.whl (24 kB)\n",
            "Collecting mpld3==0.3\n",
            "  Downloading mpld3-0.3.tar.gz (788 kB)\n",
            "\u001b[2K     \u001b[90m━━━━━━━━━━━━━━━━━━━━━━━━━━━━━━━━━━━━━━\u001b[0m \u001b[32m788.5/788.5 kB\u001b[0m \u001b[31m47.6 MB/s\u001b[0m eta \u001b[36m0:00:00\u001b[0m\n",
            "\u001b[?25h  Preparing metadata (setup.py) ... \u001b[?25l\u001b[?25hdone\n",
            "Collecting langdetect\n",
            "  Downloading langdetect-1.0.9.tar.gz (981 kB)\n",
            "\u001b[2K     \u001b[90m━━━━━━━━━━━━━━━━━━━━━━━━━━━━━━━━━━━━━━\u001b[0m \u001b[32m981.5/981.5 kB\u001b[0m \u001b[31m54.9 MB/s\u001b[0m eta \u001b[36m0:00:00\u001b[0m\n",
            "\u001b[?25h  Preparing metadata (setup.py) ... \u001b[?25l\u001b[?25hdone\n",
            "Collecting transformers[sentencepiece]>=4.18.0\n",
            "  Downloading transformers-4.28.1-py3-none-any.whl (7.0 MB)\n",
            "\u001b[2K     \u001b[90m━━━━━━━━━━━━━━━━━━━━━━━━━━━━━━━━━━━━━━━━\u001b[0m \u001b[32m7.0/7.0 MB\u001b[0m \u001b[31m62.1 MB/s\u001b[0m eta \u001b[36m0:00:00\u001b[0m\n",
            "\u001b[?25hCollecting huggingface-hub>=0.10.0\n",
            "  Downloading huggingface_hub-0.13.4-py3-none-any.whl (200 kB)\n",
            "\u001b[2K     \u001b[90m━━━━━━━━━━━━━━━━━━━━━━━━━━━━━━━━━━━━━━\u001b[0m \u001b[32m200.1/200.1 kB\u001b[0m \u001b[31m21.7 MB/s\u001b[0m eta \u001b[36m0:00:00\u001b[0m\n",
            "\u001b[?25hCollecting pytorch-revgrad\n",
            "  Downloading pytorch_revgrad-0.2.0-py3-none-any.whl (4.6 kB)\n",
            "Collecting transformer-smaller-training-vocab>=0.2.1\n",
            "  Downloading transformer_smaller_training_vocab-0.2.3-py3-none-any.whl (12 kB)\n",
            "Collecting boto3\n",
            "  Downloading boto3-1.26.115-py3-none-any.whl (135 kB)\n",
            "\u001b[2K     \u001b[90m━━━━━━━━━━━━━━━━━━━━━━━━━━━━━━━━━━━━━━\u001b[0m \u001b[32m135.6/135.6 kB\u001b[0m \u001b[31m12.2 MB/s\u001b[0m eta \u001b[36m0:00:00\u001b[0m\n",
            "\u001b[?25hCollecting wikipedia-api\n",
            "  Downloading Wikipedia_API-0.5.8-py3-none-any.whl (13 kB)\n",
            "Collecting pptree\n",
            "  Downloading pptree-3.1.tar.gz (3.0 kB)\n",
            "  Preparing metadata (setup.py) ... \u001b[?25l\u001b[?25hdone\n",
            "Requirement already satisfied: gensim>=3.8.0 in /usr/local/lib/python3.9/dist-packages (from flair) (4.3.1)\n",
            "Collecting gdown==4.4.0\n",
            "  Downloading gdown-4.4.0.tar.gz (14 kB)\n",
            "  Installing build dependencies ... \u001b[?25l\u001b[?25hdone\n",
            "  Getting requirements to build wheel ... \u001b[?25l\u001b[?25hdone\n",
            "  Preparing metadata (pyproject.toml) ... \u001b[?25l\u001b[?25hdone\n",
            "Requirement already satisfied: lxml in /usr/local/lib/python3.9/dist-packages (from flair) (4.9.2)\n",
            "Requirement already satisfied: hyperopt>=0.2.7 in /usr/local/lib/python3.9/dist-packages (from flair) (0.2.7)\n",
            "Requirement already satisfied: requests[socks] in /usr/local/lib/python3.9/dist-packages (from gdown==4.4.0->flair) (2.27.1)\n",
            "Requirement already satisfied: beautifulsoup4 in /usr/local/lib/python3.9/dist-packages (from gdown==4.4.0->flair) (4.11.2)\n",
            "Requirement already satisfied: filelock in /usr/local/lib/python3.9/dist-packages (from gdown==4.4.0->flair) (3.11.0)\n",
            "Requirement already satisfied: six in /usr/local/lib/python3.9/dist-packages (from gdown==4.4.0->flair) (1.16.0)\n",
            "Collecting sentencepiece\n",
            "  Downloading sentencepiece-0.1.98-cp39-cp39-manylinux_2_17_x86_64.manylinux2014_x86_64.whl (1.3 MB)\n",
            "\u001b[2K     \u001b[90m━━━━━━━━━━━━━━━━━━━━━━━━━━━━━━━━━━━━━━━━\u001b[0m \u001b[32m1.3/1.3 MB\u001b[0m \u001b[31m57.1 MB/s\u001b[0m eta \u001b[36m0:00:00\u001b[0m\n",
            "\u001b[?25hRequirement already satisfied: numpy in /usr/local/lib/python3.9/dist-packages (from bpemb>=0.3.2->flair) (1.22.4)\n",
            "Requirement already satisfied: wrapt<2,>=1.10 in /usr/local/lib/python3.9/dist-packages (from deprecated>=1.2.4->flair) (1.14.1)\n",
            "Requirement already satisfied: smart-open>=1.8.1 in /usr/local/lib/python3.9/dist-packages (from gensim>=3.8.0->flair) (6.3.0)\n",
            "Requirement already satisfied: scipy>=1.7.0 in /usr/local/lib/python3.9/dist-packages (from gensim>=3.8.0->flair) (1.10.1)\n",
            "Requirement already satisfied: pyyaml>=5.1 in /usr/local/lib/python3.9/dist-packages (from huggingface-hub>=0.10.0->flair) (6.0)\n",
            "Requirement already satisfied: typing-extensions>=3.7.4.3 in /usr/local/lib/python3.9/dist-packages (from huggingface-hub>=0.10.0->flair) (4.5.0)\n",
            "Requirement already satisfied: packaging>=20.9 in /usr/local/lib/python3.9/dist-packages (from huggingface-hub>=0.10.0->flair) (23.0)\n",
            "Requirement already satisfied: cloudpickle in /usr/local/lib/python3.9/dist-packages (from hyperopt>=0.2.7->flair) (2.2.1)\n",
            "Requirement already satisfied: networkx>=2.2 in /usr/local/lib/python3.9/dist-packages (from hyperopt>=0.2.7->flair) (3.1)\n",
            "Requirement already satisfied: future in /usr/local/lib/python3.9/dist-packages (from hyperopt>=0.2.7->flair) (0.18.3)\n",
            "Requirement already satisfied: py4j in /usr/local/lib/python3.9/dist-packages (from hyperopt>=0.2.7->flair) (0.10.9.7)\n",
            "Requirement already satisfied: importlib-resources>=3.2.0 in /usr/local/lib/python3.9/dist-packages (from matplotlib>=2.2.3->flair) (5.12.0)\n",
            "Requirement already satisfied: cycler>=0.10 in /usr/local/lib/python3.9/dist-packages (from matplotlib>=2.2.3->flair) (0.11.0)\n",
            "Requirement already satisfied: pyparsing>=2.3.1 in /usr/local/lib/python3.9/dist-packages (from matplotlib>=2.2.3->flair) (3.0.9)\n",
            "Requirement already satisfied: pillow>=6.2.0 in /usr/local/lib/python3.9/dist-packages (from matplotlib>=2.2.3->flair) (8.4.0)\n",
            "Requirement already satisfied: kiwisolver>=1.0.1 in /usr/local/lib/python3.9/dist-packages (from matplotlib>=2.2.3->flair) (1.4.4)\n",
            "Requirement already satisfied: contourpy>=1.0.1 in /usr/local/lib/python3.9/dist-packages (from matplotlib>=2.2.3->flair) (1.0.7)\n",
            "Requirement already satisfied: fonttools>=4.22.0 in /usr/local/lib/python3.9/dist-packages (from matplotlib>=2.2.3->flair) (4.39.3)\n",
            "Requirement already satisfied: threadpoolctl>=2.0.0 in /usr/local/lib/python3.9/dist-packages (from scikit-learn>=0.21.3->flair) (3.1.0)\n",
            "Requirement already satisfied: joblib>=1.1.1 in /usr/local/lib/python3.9/dist-packages (from scikit-learn>=0.21.3->flair) (1.2.0)\n",
            "Requirement already satisfied: jinja2 in /usr/local/lib/python3.9/dist-packages (from torch!=1.8,>=1.5.0->flair) (3.1.2)\n",
            "Requirement already satisfied: triton==2.0.0 in /usr/local/lib/python3.9/dist-packages (from torch!=1.8,>=1.5.0->flair) (2.0.0)\n",
            "Requirement already satisfied: sympy in /usr/local/lib/python3.9/dist-packages (from torch!=1.8,>=1.5.0->flair) (1.11.1)\n",
            "Requirement already satisfied: lit in /usr/local/lib/python3.9/dist-packages (from triton==2.0.0->torch!=1.8,>=1.5.0->flair) (16.0.1)\n",
            "Requirement already satisfied: cmake in /usr/local/lib/python3.9/dist-packages (from triton==2.0.0->torch!=1.8,>=1.5.0->flair) (3.25.2)\n",
            "Collecting datasets<3.0.0,>=2.0.0\n",
            "  Downloading datasets-2.11.0-py3-none-any.whl (468 kB)\n",
            "\u001b[2K     \u001b[90m━━━━━━━━━━━━━━━━━━━━━━━━━━━━━━━━━━━━━━\u001b[0m \u001b[32m468.7/468.7 kB\u001b[0m \u001b[31m43.3 MB/s\u001b[0m eta \u001b[36m0:00:00\u001b[0m\n",
            "\u001b[?25hCollecting tokenizers!=0.11.3,<0.14,>=0.11.1\n",
            "  Downloading tokenizers-0.13.3-cp39-cp39-manylinux_2_17_x86_64.manylinux2014_x86_64.whl (7.8 MB)\n",
            "\u001b[2K     \u001b[90m━━━━━━━━━━━━━━━━━━━━━━━━━━━━━━━━━━━━━━━━\u001b[0m \u001b[32m7.8/7.8 MB\u001b[0m \u001b[31m78.1 MB/s\u001b[0m eta \u001b[36m0:00:00\u001b[0m\n",
            "\u001b[?25hCollecting protobuf<=3.20.2\n",
            "  Downloading protobuf-3.20.2-cp39-cp39-manylinux_2_5_x86_64.manylinux1_x86_64.whl (1.0 MB)\n",
            "\u001b[2K     \u001b[90m━━━━━━━━━━━━━━━━━━━━━━━━━━━━━━━━━━━━━━━━\u001b[0m \u001b[32m1.0/1.0 MB\u001b[0m \u001b[31m57.1 MB/s\u001b[0m eta \u001b[36m0:00:00\u001b[0m\n",
            "\u001b[?25hCollecting jmespath<2.0.0,>=0.7.1\n",
            "  Downloading jmespath-1.0.1-py3-none-any.whl (20 kB)\n",
            "Collecting botocore<1.30.0,>=1.29.115\n",
            "  Downloading botocore-1.29.115-py3-none-any.whl (10.6 MB)\n",
            "\u001b[2K     \u001b[90m━━━━━━━━━━━━━━━━━━━━━━━━━━━━━━━━━━━━━━━━\u001b[0m \u001b[32m10.6/10.6 MB\u001b[0m \u001b[31m52.7 MB/s\u001b[0m eta \u001b[36m0:00:00\u001b[0m\n",
            "\u001b[?25hCollecting s3transfer<0.7.0,>=0.6.0\n",
            "  Downloading s3transfer-0.6.0-py3-none-any.whl (79 kB)\n",
            "\u001b[2K     \u001b[90m━━━━━━━━━━━━━━━━━━━━━━━━━━━━━━━━━━━━━━━━\u001b[0m \u001b[32m79.6/79.6 kB\u001b[0m \u001b[31m10.7 MB/s\u001b[0m eta \u001b[36m0:00:00\u001b[0m\n",
            "\u001b[?25hRequirement already satisfied: wcwidth>=0.2.5 in /usr/local/lib/python3.9/dist-packages (from ftfy->flair) (0.2.6)\n",
            "Requirement already satisfied: urllib3<1.27,>=1.25.4 in /usr/local/lib/python3.9/dist-packages (from botocore<1.30.0,>=1.29.115->boto3->flair) (1.26.15)\n",
            "Collecting xxhash\n",
            "  Downloading xxhash-3.2.0-cp39-cp39-manylinux_2_17_x86_64.manylinux2014_x86_64.whl (212 kB)\n",
            "\u001b[2K     \u001b[90m━━━━━━━━━━━━━━━━━━━━━━━━━━━━━━━━━━━━━━\u001b[0m \u001b[32m212.2/212.2 kB\u001b[0m \u001b[31m21.7 MB/s\u001b[0m eta \u001b[36m0:00:00\u001b[0m\n",
            "\u001b[?25hRequirement already satisfied: pandas in /usr/local/lib/python3.9/dist-packages (from datasets<3.0.0,>=2.0.0->transformer-smaller-training-vocab>=0.2.1->flair) (1.5.3)\n",
            "Collecting multiprocess\n",
            "  Downloading multiprocess-0.70.14-py39-none-any.whl (132 kB)\n",
            "\u001b[2K     \u001b[90m━━━━━━━━━━━━━━━━━━━━━━━━━━━━━━━━━━━━━━\u001b[0m \u001b[32m132.9/132.9 kB\u001b[0m \u001b[31m14.5 MB/s\u001b[0m eta \u001b[36m0:00:00\u001b[0m\n",
            "\u001b[?25hRequirement already satisfied: pyarrow>=8.0.0 in /usr/local/lib/python3.9/dist-packages (from datasets<3.0.0,>=2.0.0->transformer-smaller-training-vocab>=0.2.1->flair) (9.0.0)\n",
            "Collecting dill<0.3.7,>=0.3.0\n",
            "  Downloading dill-0.3.6-py3-none-any.whl (110 kB)\n",
            "\u001b[2K     \u001b[90m━━━━━━━━━━━━━━━━━━━━━━━━━━━━━━━━━━━━━━\u001b[0m \u001b[32m110.5/110.5 kB\u001b[0m \u001b[31m12.2 MB/s\u001b[0m eta \u001b[36m0:00:00\u001b[0m\n",
            "\u001b[?25hCollecting aiohttp\n",
            "  Downloading aiohttp-3.8.4-cp39-cp39-manylinux_2_17_x86_64.manylinux2014_x86_64.whl (1.0 MB)\n",
            "\u001b[2K     \u001b[90m━━━━━━━━━━━━━━━━━━━━━━━━━━━━━━━━━━━━━━━━\u001b[0m \u001b[32m1.0/1.0 MB\u001b[0m \u001b[31m36.2 MB/s\u001b[0m eta \u001b[36m0:00:00\u001b[0m\n",
            "\u001b[?25hRequirement already satisfied: fsspec[http]>=2021.11.1 in /usr/local/lib/python3.9/dist-packages (from datasets<3.0.0,>=2.0.0->transformer-smaller-training-vocab>=0.2.1->flair) (2023.4.0)\n",
            "Collecting responses<0.19\n",
            "  Downloading responses-0.18.0-py3-none-any.whl (38 kB)\n",
            "Requirement already satisfied: zipp>=3.1.0 in /usr/local/lib/python3.9/dist-packages (from importlib-resources>=3.2.0->matplotlib>=2.2.3->flair) (3.15.0)\n",
            "Requirement already satisfied: idna<4,>=2.5 in /usr/local/lib/python3.9/dist-packages (from requests[socks]->gdown==4.4.0->flair) (3.4)\n",
            "Requirement already satisfied: certifi>=2017.4.17 in /usr/local/lib/python3.9/dist-packages (from requests[socks]->gdown==4.4.0->flair) (2022.12.7)\n",
            "Requirement already satisfied: charset-normalizer~=2.0.0 in /usr/local/lib/python3.9/dist-packages (from requests[socks]->gdown==4.4.0->flair) (2.0.12)\n",
            "Requirement already satisfied: soupsieve>1.2 in /usr/local/lib/python3.9/dist-packages (from beautifulsoup4->gdown==4.4.0->flair) (2.4)\n",
            "Requirement already satisfied: MarkupSafe>=2.0 in /usr/local/lib/python3.9/dist-packages (from jinja2->torch!=1.8,>=1.5.0->flair) (2.1.2)\n",
            "Requirement already satisfied: PySocks!=1.5.7,>=1.5.6 in /usr/local/lib/python3.9/dist-packages (from requests[socks]->gdown==4.4.0->flair) (1.7.1)\n",
            "Requirement already satisfied: mpmath>=0.19 in /usr/local/lib/python3.9/dist-packages (from sympy->torch!=1.8,>=1.5.0->flair) (1.3.0)\n",
            "Collecting multidict<7.0,>=4.5\n",
            "  Downloading multidict-6.0.4-cp39-cp39-manylinux_2_17_x86_64.manylinux2014_x86_64.whl (114 kB)\n",
            "\u001b[2K     \u001b[90m━━━━━━━━━━━━━━━━━━━━━━━━━━━━━━━━━━━━━━\u001b[0m \u001b[32m114.2/114.2 kB\u001b[0m \u001b[31m11.5 MB/s\u001b[0m eta \u001b[36m0:00:00\u001b[0m\n",
            "\u001b[?25hRequirement already satisfied: attrs>=17.3.0 in /usr/local/lib/python3.9/dist-packages (from aiohttp->datasets<3.0.0,>=2.0.0->transformer-smaller-training-vocab>=0.2.1->flair) (22.2.0)\n",
            "Collecting frozenlist>=1.1.1\n",
            "  Downloading frozenlist-1.3.3-cp39-cp39-manylinux_2_5_x86_64.manylinux1_x86_64.manylinux_2_17_x86_64.manylinux2014_x86_64.whl (158 kB)\n",
            "\u001b[2K     \u001b[90m━━━━━━━━━━━━━━━━━━━━━━━━━━━━━━━━━━━━━━\u001b[0m \u001b[32m158.8/158.8 kB\u001b[0m \u001b[31m17.7 MB/s\u001b[0m eta \u001b[36m0:00:00\u001b[0m\n",
            "\u001b[?25hCollecting async-timeout<5.0,>=4.0.0a3\n",
            "  Downloading async_timeout-4.0.2-py3-none-any.whl (5.8 kB)\n",
            "Collecting yarl<2.0,>=1.0\n",
            "  Downloading yarl-1.8.2-cp39-cp39-manylinux_2_17_x86_64.manylinux2014_x86_64.whl (264 kB)\n",
            "\u001b[2K     \u001b[90m━━━━━━━━━━━━━━━━━━━━━━━━━━━━━━━━━━━━━━\u001b[0m \u001b[32m264.6/264.6 kB\u001b[0m \u001b[31m26.7 MB/s\u001b[0m eta \u001b[36m0:00:00\u001b[0m\n",
            "\u001b[?25hCollecting aiosignal>=1.1.2\n",
            "  Downloading aiosignal-1.3.1-py3-none-any.whl (7.6 kB)\n",
            "Requirement already satisfied: pytz>=2020.1 in /usr/local/lib/python3.9/dist-packages (from pandas->datasets<3.0.0,>=2.0.0->transformer-smaller-training-vocab>=0.2.1->flair) (2022.7.1)\n",
            "Building wheels for collected packages: gdown, mpld3, sqlitedict, langdetect, pptree\n",
            "  Building wheel for gdown (pyproject.toml) ... \u001b[?25l\u001b[?25hdone\n",
            "  Created wheel for gdown: filename=gdown-4.4.0-py3-none-any.whl size=14776 sha256=55a8eec8efb567028aede20160ce9094735c5412c141bd0328bbb3b84bebbac5\n",
            "  Stored in directory: /root/.cache/pip/wheels/7d/37/b6/b2a79c75e898c0b8e46ff255102602d7159a10d9af0d80641a\n",
            "  Building wheel for mpld3 (setup.py) ... \u001b[?25l\u001b[?25hdone\n",
            "  Created wheel for mpld3: filename=mpld3-0.3-py3-none-any.whl size=116702 sha256=ea4114d99106547bc0887bd3f85394e898d027fcbf9463faf0ed71413beb6845\n",
            "  Stored in directory: /root/.cache/pip/wheels/a6/f4/e6/e40ff9021f6b3854af70fa8ea004f5ab95672817462df08fed\n",
            "  Building wheel for sqlitedict (setup.py) ... \u001b[?25l\u001b[?25hdone\n",
            "  Created wheel for sqlitedict: filename=sqlitedict-2.1.0-py3-none-any.whl size=16863 sha256=d4b14a692c50c0ebb60880750e402bf51784b310c590e7aae7cc93a10ef396f5\n",
            "  Stored in directory: /root/.cache/pip/wheels/f6/48/c4/942f7a1d556fddd2348cb9ac262f251873dfd8a39afec5678e\n",
            "  Building wheel for langdetect (setup.py) ... \u001b[?25l\u001b[?25hdone\n",
            "  Created wheel for langdetect: filename=langdetect-1.0.9-py3-none-any.whl size=993243 sha256=496259f6b34dabcf33d8e83a141f5c71f078672bb0df202fb6374902cf4012a1\n",
            "  Stored in directory: /root/.cache/pip/wheels/d1/c1/d9/7e068de779d863bc8f8fc9467d85e25cfe47fa5051fff1a1bb\n",
            "  Building wheel for pptree (setup.py) ... \u001b[?25l\u001b[?25hdone\n",
            "  Created wheel for pptree: filename=pptree-3.1-py3-none-any.whl size=4629 sha256=b02656e82598fd23aad989db4ce0f9f0c50fbcbf2541dd2de93a70691e00a3d1\n",
            "  Stored in directory: /root/.cache/pip/wheels/52/0e/51/514e690004ea9713bc3fdb678d5e2768fcc597d0c3b6a3abd2\n",
            "Successfully built gdown mpld3 sqlitedict langdetect pptree\n",
            "Installing collected packages: tokenizers, sqlitedict, sentencepiece, pptree, mpld3, janome, xxhash, segtok, protobuf, multidict, langdetect, jmespath, ftfy, frozenlist, dill, deprecated, conllu, async-timeout, yarl, wikipedia-api, responses, multiprocess, huggingface-hub, botocore, aiosignal, transformers, s3transfer, gdown, bpemb, aiohttp, boto3, datasets, transformer-smaller-training-vocab, pytorch-revgrad, flair\n",
            "  Attempting uninstall: protobuf\n",
            "    Found existing installation: protobuf 3.20.3\n",
            "    Uninstalling protobuf-3.20.3:\n",
            "      Successfully uninstalled protobuf-3.20.3\n",
            "  Attempting uninstall: gdown\n",
            "    Found existing installation: gdown 4.6.6\n",
            "    Uninstalling gdown-4.6.6:\n",
            "      Successfully uninstalled gdown-4.6.6\n",
            "\u001b[31mERROR: pip's dependency resolver does not currently take into account all the packages that are installed. This behaviour is the source of the following dependency conflicts.\n",
            "tensorflow 2.12.0 requires protobuf!=4.21.0,!=4.21.1,!=4.21.2,!=4.21.3,!=4.21.4,!=4.21.5,<5.0.0dev,>=3.20.3, but you have protobuf 3.20.2 which is incompatible.\u001b[0m\u001b[31m\n",
            "\u001b[0mSuccessfully installed aiohttp-3.8.4 aiosignal-1.3.1 async-timeout-4.0.2 boto3-1.26.115 botocore-1.29.115 bpemb-0.3.4 conllu-4.5.2 datasets-2.11.0 deprecated-1.2.13 dill-0.3.6 flair-0.12.2 frozenlist-1.3.3 ftfy-6.1.1 gdown-4.4.0 huggingface-hub-0.13.4 janome-0.4.2 jmespath-1.0.1 langdetect-1.0.9 mpld3-0.3 multidict-6.0.4 multiprocess-0.70.14 pptree-3.1 protobuf-3.20.2 pytorch-revgrad-0.2.0 responses-0.18.0 s3transfer-0.6.0 segtok-1.5.11 sentencepiece-0.1.98 sqlitedict-2.1.0 tokenizers-0.13.3 transformer-smaller-training-vocab-0.2.3 transformers-4.28.1 wikipedia-api-0.5.8 xxhash-3.2.0 yarl-1.8.2\n"
          ]
        }
      ]
    },
    {
      "cell_type": "code",
      "source": [
        "from flair.data import Sentence\n",
        "from flair.models import SequenceTagger\n",
        "\n",
        "# load tagger\n",
        "tagger = SequenceTagger.load(\"flair/ner-english\")\n",
        "\n",
        "# make example sentence\n",
        "sentence = Sentence(\"George Washington went to Washington\")\n",
        "\n",
        "# predict NER tags\n",
        "tagger.predict(sentence)\n",
        "\n",
        "# print sentence\n",
        "print(sentence)\n",
        "\n",
        "# print predicted NER spans\n",
        "print('The following NER tags are found:')\n",
        "# iterate over entities and print\n",
        "for entity in sentence.get_spans('ner'):\n",
        "    print(entity)"
      ],
      "metadata": {
        "colab": {
          "base_uri": "https://localhost:8080/"
        },
        "id": "hAaSp9PvmGyG",
        "outputId": "0548b136-a1eb-4c50-f9c4-4e01a63e9633"
      },
      "execution_count": null,
      "outputs": [
        {
          "output_type": "stream",
          "name": "stdout",
          "text": [
            "2023-04-18 11:22:47,149 SequenceTagger predicts: Dictionary with 20 tags: <unk>, O, S-ORG, S-MISC, B-PER, E-PER, S-LOC, B-ORG, E-ORG, I-PER, S-PER, B-MISC, I-MISC, E-MISC, I-ORG, B-LOC, E-LOC, I-LOC, <START>, <STOP>\n",
            "Sentence[5]: \"George Washington went to Washington\" → [\"George Washington\"/PER, \"Washington\"/LOC]\n",
            "The following NER tags are found:\n",
            "Span[0:2]: \"George Washington\" → PER (0.9985)\n",
            "Span[4:5]: \"Washington\" → LOC (0.9706)\n"
          ]
        }
      ]
    },
    {
      "cell_type": "code",
      "source": [
        "for entity in sentence.get_spans('ner'):\n",
        "    print(entity.text)"
      ],
      "metadata": {
        "colab": {
          "base_uri": "https://localhost:8080/"
        },
        "id": "IhrAXhFDpmrG",
        "outputId": "02766c28-c9e2-4f6b-8c48-f3b76d73d978"
      },
      "execution_count": null,
      "outputs": [
        {
          "output_type": "stream",
          "name": "stdout",
          "text": [
            "George Washington\n",
            "Washington\n"
          ]
        }
      ]
    },
    {
      "cell_type": "code",
      "source": [
        "for entity in sentence.get_spans('ner'):\n",
        "    print(entity.tag)"
      ],
      "metadata": {
        "colab": {
          "base_uri": "https://localhost:8080/"
        },
        "id": "Q-FdM-1Rpw8j",
        "outputId": "3b624e61-b555-4cc7-9fc1-d0f11c43cb86"
      },
      "execution_count": null,
      "outputs": [
        {
          "output_type": "stream",
          "name": "stdout",
          "text": [
            "PER\n",
            "LOC\n"
          ]
        }
      ]
    },
    {
      "cell_type": "code",
      "source": [
        "for entity in sentence.get_spans('ner'):\n",
        "    print(entity.score)"
      ],
      "metadata": {
        "colab": {
          "base_uri": "https://localhost:8080/"
        },
        "id": "2o373tFwptEF",
        "outputId": "331da0bf-8030-4d60-a5cd-5e981360a28b"
      },
      "execution_count": null,
      "outputs": [
        {
          "output_type": "stream",
          "name": "stdout",
          "text": [
            "0.9984738826751709\n",
            "0.9705725312232971\n"
          ]
        }
      ]
    },
    {
      "cell_type": "markdown",
      "source": [
        "**`POS Tagging`**"
      ],
      "metadata": {
        "id": "XVegFcZ7sZx0"
      }
    },
    {
      "cell_type": "code",
      "source": [
        "from flair.data import Sentence\n",
        "from flair.models import SequenceTagger\n",
        "\n",
        "# load tagger\n",
        "tagger = SequenceTagger.load(\"flair/pos-english\")\n",
        "\n",
        "# make example sentence\n",
        "sentence = Sentence(\"Bill Gates is the founder of Microsoft.\")\n",
        "\n",
        "# predict NER tags\n",
        "tagger.predict(sentence)\n",
        "\n",
        "# print sentence\n",
        "print(sentence)\n",
        "\n",
        "# iterate over tokens and print the predicted POS label\n",
        "print(\"The following POS tags are found:\")\n",
        "for token in sentence:\n",
        "    print(token)"
      ],
      "metadata": {
        "colab": {
          "base_uri": "https://localhost:8080/"
        },
        "id": "kY4PAuGtscll",
        "outputId": "a25cc1d3-1d1d-4c94-b38b-2c3083684317"
      },
      "execution_count": null,
      "outputs": [
        {
          "output_type": "stream",
          "name": "stdout",
          "text": [
            "2023-04-18 11:24:49,670 SequenceTagger predicts: Dictionary with 53 tags: <unk>, O, UH, ,, VBD, PRP, VB, PRP$, NN, RB, ., DT, JJ, VBP, VBG, IN, CD, NNS, NNP, WRB, VBZ, WDT, CC, TO, MD, VBN, WP, :, RP, EX, JJR, FW, XX, HYPH, POS, RBR, JJS, PDT, NNPS, RBS, AFX, WP$, -LRB-, -RRB-, ``, '', LS, $, SYM, ADD\n",
            "Sentence[8]: \"Bill Gates is the founder of Microsoft.\" → [\"Bill\"/NNP, \"Gates\"/NNP, \"is\"/VBZ, \"the\"/DT, \"founder\"/NN, \"of\"/IN, \"Microsoft\"/NNP, \".\"/.]\n",
            "The following POS tags are found:\n",
            "Token[0]: \"Bill\" → NNP (1.0)\n",
            "Token[1]: \"Gates\" → NNP (1.0)\n",
            "Token[2]: \"is\" → VBZ (1.0)\n",
            "Token[3]: \"the\" → DT (1.0)\n",
            "Token[4]: \"founder\" → NN (1.0)\n",
            "Token[5]: \"of\" → IN (1.0)\n",
            "Token[6]: \"Microsoft\" → NNP (1.0)\n",
            "Token[7]: \".\" → . (1.0)\n"
          ]
        }
      ]
    },
    {
      "cell_type": "code",
      "source": [
        "for token in sentence:\n",
        "    print(token.tag)"
      ],
      "metadata": {
        "colab": {
          "base_uri": "https://localhost:8080/"
        },
        "id": "VEljfbBftxCZ",
        "outputId": "7e03f446-66ce-461c-bf92-32c868e08bb1"
      },
      "execution_count": null,
      "outputs": [
        {
          "output_type": "stream",
          "name": "stdout",
          "text": [
            "NNP\n",
            "NNP\n",
            "VBZ\n",
            "DT\n",
            "NN\n",
            "IN\n",
            "NNP\n",
            ".\n"
          ]
        }
      ]
    },
    {
      "cell_type": "markdown",
      "source": [
        "**spaCy e roBERTa**"
      ],
      "metadata": {
        "id": "F-_SdU-K5s3I"
      }
    },
    {
      "cell_type": "markdown",
      "source": [
        "Neste exemplo vamos realizar a extração de entidades de dois textos diferentes, um texto curto e um muito mais longo e por fim, vamos comparar o desempenho do `spaCy` tradicional e do `roBERTa`."
      ],
      "metadata": {
        "id": "LDsmScOMrwci"
      }
    },
    {
      "cell_type": "code",
      "source": [
        "short_text = '''Amy Schneider, an engineering manager from Oakland, California, became the first woman and the fourth person on “Jeopardy!” to earn more than $1 million in winnings on Friday’s episode'''"
      ],
      "metadata": {
        "id": "JsIGn_tzrhkT"
      },
      "execution_count": null,
      "outputs": []
    },
    {
      "cell_type": "code",
      "source": [
        "long_text = '''Good news for consumers, undoubtedly, and good news also for investors. Apple’s recent results, covering the three months to December 31 2016, saw the company’s chief financial officer Luca Maestri announce: ‘We returned nearly $15 billion to investors through share re-purchases and dividends during the quarter.’ The quarterly dividend itself was 57 cents a share, identical to the dividend for the previous three quarters and up on the 52 cents paid for each of the four quarters before that.\n",
        "Business is brisk at Apple. On January 31, Tim Cook, Apple’s chief executive, said of the last three months of 2016: ‘We’re thrilled to report that our holiday quarter results generated Apple’s highest quarterly revenue ever, and broke multiple records along the way. We sold more iPhones than ever before and set all-time revenue records for iPhone, Services, Mac and Apple Watch'''"
      ],
      "metadata": {
        "id": "AdZnngUarnHq"
      },
      "execution_count": null,
      "outputs": []
    },
    {
      "cell_type": "code",
      "source": [
        "# Install spacy-transformers\n",
        "!pip install spacy-transformers"
      ],
      "metadata": {
        "id": "IAz8mv3mnb44",
        "colab": {
          "base_uri": "https://localhost:8080/"
        },
        "outputId": "57fe07cf-4eb6-4c34-da1f-de63bdc60d32"
      },
      "execution_count": null,
      "outputs": [
        {
          "output_type": "stream",
          "name": "stdout",
          "text": [
            "Looking in indexes: https://pypi.org/simple, https://us-python.pkg.dev/colab-wheels/public/simple/\n",
            "Collecting spacy-transformers\n",
            "  Downloading spacy_transformers-1.2.3-cp39-cp39-manylinux_2_17_x86_64.manylinux2014_x86_64.whl (193 kB)\n",
            "\u001b[2K     \u001b[90m━━━━━━━━━━━━━━━━━━━━━━━━━━━━━━━━━━━━━━━\u001b[0m \u001b[32m193.7/193.7 kB\u001b[0m \u001b[31m7.2 MB/s\u001b[0m eta \u001b[36m0:00:00\u001b[0m\n",
            "\u001b[?25hRequirement already satisfied: srsly<3.0.0,>=2.4.0 in /usr/local/lib/python3.9/dist-packages (from spacy-transformers) (2.4.6)\n",
            "Requirement already satisfied: numpy>=1.15.0 in /usr/local/lib/python3.9/dist-packages (from spacy-transformers) (1.22.4)\n",
            "Requirement already satisfied: transformers<4.29.0,>=3.4.0 in /usr/local/lib/python3.9/dist-packages (from spacy-transformers) (4.28.1)\n",
            "Collecting spacy-alignments<1.0.0,>=0.7.2\n",
            "  Downloading spacy_alignments-0.9.0-cp39-cp39-manylinux_2_17_x86_64.manylinux2014_x86_64.whl (1.2 MB)\n",
            "\u001b[2K     \u001b[90m━━━━━━━━━━━━━━━━━━━━━━━━━━━━━━━━━━━━━━━━\u001b[0m \u001b[32m1.2/1.2 MB\u001b[0m \u001b[31m40.1 MB/s\u001b[0m eta \u001b[36m0:00:00\u001b[0m\n",
            "\u001b[?25hRequirement already satisfied: spacy<4.0.0,>=3.5.0 in /usr/local/lib/python3.9/dist-packages (from spacy-transformers) (3.5.1)\n",
            "Requirement already satisfied: torch>=1.8.0 in /usr/local/lib/python3.9/dist-packages (from spacy-transformers) (2.0.0+cu118)\n",
            "Requirement already satisfied: packaging>=20.0 in /usr/local/lib/python3.9/dist-packages (from spacy<4.0.0,>=3.5.0->spacy-transformers) (23.0)\n",
            "Requirement already satisfied: cymem<2.1.0,>=2.0.2 in /usr/local/lib/python3.9/dist-packages (from spacy<4.0.0,>=3.5.0->spacy-transformers) (2.0.7)\n",
            "Requirement already satisfied: thinc<8.2.0,>=8.1.8 in /usr/local/lib/python3.9/dist-packages (from spacy<4.0.0,>=3.5.0->spacy-transformers) (8.1.9)\n",
            "Requirement already satisfied: langcodes<4.0.0,>=3.2.0 in /usr/local/lib/python3.9/dist-packages (from spacy<4.0.0,>=3.5.0->spacy-transformers) (3.3.0)\n",
            "Requirement already satisfied: spacy-legacy<3.1.0,>=3.0.11 in /usr/local/lib/python3.9/dist-packages (from spacy<4.0.0,>=3.5.0->spacy-transformers) (3.0.12)\n",
            "Requirement already satisfied: setuptools in /usr/local/lib/python3.9/dist-packages (from spacy<4.0.0,>=3.5.0->spacy-transformers) (67.6.1)\n",
            "Requirement already satisfied: typer<0.8.0,>=0.3.0 in /usr/local/lib/python3.9/dist-packages (from spacy<4.0.0,>=3.5.0->spacy-transformers) (0.7.0)\n",
            "Requirement already satisfied: spacy-loggers<2.0.0,>=1.0.0 in /usr/local/lib/python3.9/dist-packages (from spacy<4.0.0,>=3.5.0->spacy-transformers) (1.0.4)\n",
            "Requirement already satisfied: catalogue<2.1.0,>=2.0.6 in /usr/local/lib/python3.9/dist-packages (from spacy<4.0.0,>=3.5.0->spacy-transformers) (2.0.8)\n",
            "Requirement already satisfied: requests<3.0.0,>=2.13.0 in /usr/local/lib/python3.9/dist-packages (from spacy<4.0.0,>=3.5.0->spacy-transformers) (2.27.1)\n",
            "Requirement already satisfied: wasabi<1.2.0,>=0.9.1 in /usr/local/lib/python3.9/dist-packages (from spacy<4.0.0,>=3.5.0->spacy-transformers) (1.1.1)\n",
            "Requirement already satisfied: pydantic!=1.8,!=1.8.1,<1.11.0,>=1.7.4 in /usr/local/lib/python3.9/dist-packages (from spacy<4.0.0,>=3.5.0->spacy-transformers) (1.10.7)\n",
            "Requirement already satisfied: pathy>=0.10.0 in /usr/local/lib/python3.9/dist-packages (from spacy<4.0.0,>=3.5.0->spacy-transformers) (0.10.1)\n",
            "Requirement already satisfied: preshed<3.1.0,>=3.0.2 in /usr/local/lib/python3.9/dist-packages (from spacy<4.0.0,>=3.5.0->spacy-transformers) (3.0.8)\n",
            "Requirement already satisfied: tqdm<5.0.0,>=4.38.0 in /usr/local/lib/python3.9/dist-packages (from spacy<4.0.0,>=3.5.0->spacy-transformers) (4.65.0)\n",
            "Requirement already satisfied: murmurhash<1.1.0,>=0.28.0 in /usr/local/lib/python3.9/dist-packages (from spacy<4.0.0,>=3.5.0->spacy-transformers) (1.0.9)\n",
            "Requirement already satisfied: smart-open<7.0.0,>=5.2.1 in /usr/local/lib/python3.9/dist-packages (from spacy<4.0.0,>=3.5.0->spacy-transformers) (6.3.0)\n",
            "Requirement already satisfied: jinja2 in /usr/local/lib/python3.9/dist-packages (from spacy<4.0.0,>=3.5.0->spacy-transformers) (3.1.2)\n",
            "Requirement already satisfied: networkx in /usr/local/lib/python3.9/dist-packages (from torch>=1.8.0->spacy-transformers) (3.1)\n",
            "Requirement already satisfied: typing-extensions in /usr/local/lib/python3.9/dist-packages (from torch>=1.8.0->spacy-transformers) (4.5.0)\n",
            "Requirement already satisfied: triton==2.0.0 in /usr/local/lib/python3.9/dist-packages (from torch>=1.8.0->spacy-transformers) (2.0.0)\n",
            "Requirement already satisfied: sympy in /usr/local/lib/python3.9/dist-packages (from torch>=1.8.0->spacy-transformers) (1.11.1)\n",
            "Requirement already satisfied: filelock in /usr/local/lib/python3.9/dist-packages (from torch>=1.8.0->spacy-transformers) (3.11.0)\n",
            "Requirement already satisfied: cmake in /usr/local/lib/python3.9/dist-packages (from triton==2.0.0->torch>=1.8.0->spacy-transformers) (3.25.2)\n",
            "Requirement already satisfied: lit in /usr/local/lib/python3.9/dist-packages (from triton==2.0.0->torch>=1.8.0->spacy-transformers) (16.0.1)\n",
            "Requirement already satisfied: tokenizers!=0.11.3,<0.14,>=0.11.1 in /usr/local/lib/python3.9/dist-packages (from transformers<4.29.0,>=3.4.0->spacy-transformers) (0.13.3)\n",
            "Requirement already satisfied: pyyaml>=5.1 in /usr/local/lib/python3.9/dist-packages (from transformers<4.29.0,>=3.4.0->spacy-transformers) (6.0)\n",
            "Requirement already satisfied: huggingface-hub<1.0,>=0.11.0 in /usr/local/lib/python3.9/dist-packages (from transformers<4.29.0,>=3.4.0->spacy-transformers) (0.13.4)\n",
            "Requirement already satisfied: regex!=2019.12.17 in /usr/local/lib/python3.9/dist-packages (from transformers<4.29.0,>=3.4.0->spacy-transformers) (2022.10.31)\n",
            "Requirement already satisfied: charset-normalizer~=2.0.0 in /usr/local/lib/python3.9/dist-packages (from requests<3.0.0,>=2.13.0->spacy<4.0.0,>=3.5.0->spacy-transformers) (2.0.12)\n",
            "Requirement already satisfied: urllib3<1.27,>=1.21.1 in /usr/local/lib/python3.9/dist-packages (from requests<3.0.0,>=2.13.0->spacy<4.0.0,>=3.5.0->spacy-transformers) (1.26.15)\n",
            "Requirement already satisfied: idna<4,>=2.5 in /usr/local/lib/python3.9/dist-packages (from requests<3.0.0,>=2.13.0->spacy<4.0.0,>=3.5.0->spacy-transformers) (3.4)\n",
            "Requirement already satisfied: certifi>=2017.4.17 in /usr/local/lib/python3.9/dist-packages (from requests<3.0.0,>=2.13.0->spacy<4.0.0,>=3.5.0->spacy-transformers) (2022.12.7)\n",
            "Requirement already satisfied: blis<0.8.0,>=0.7.8 in /usr/local/lib/python3.9/dist-packages (from thinc<8.2.0,>=8.1.8->spacy<4.0.0,>=3.5.0->spacy-transformers) (0.7.9)\n",
            "Requirement already satisfied: confection<1.0.0,>=0.0.1 in /usr/local/lib/python3.9/dist-packages (from thinc<8.2.0,>=8.1.8->spacy<4.0.0,>=3.5.0->spacy-transformers) (0.0.4)\n",
            "Requirement already satisfied: click<9.0.0,>=7.1.1 in /usr/local/lib/python3.9/dist-packages (from typer<0.8.0,>=0.3.0->spacy<4.0.0,>=3.5.0->spacy-transformers) (8.1.3)\n",
            "Requirement already satisfied: MarkupSafe>=2.0 in /usr/local/lib/python3.9/dist-packages (from jinja2->spacy<4.0.0,>=3.5.0->spacy-transformers) (2.1.2)\n",
            "Requirement already satisfied: mpmath>=0.19 in /usr/local/lib/python3.9/dist-packages (from sympy->torch>=1.8.0->spacy-transformers) (1.3.0)\n",
            "Installing collected packages: spacy-alignments, spacy-transformers\n",
            "Successfully installed spacy-alignments-0.9.0 spacy-transformers-1.2.3\n"
          ]
        }
      ]
    },
    {
      "cell_type": "code",
      "source": [
        "# Download the spacy transformer (roberta-base) english model\n",
        "!python -m spacy download en_core_web_trf"
      ],
      "metadata": {
        "colab": {
          "base_uri": "https://localhost:8080/"
        },
        "id": "X0SYDuKEn4nF",
        "outputId": "d0f0756d-a18c-4b4e-adc6-08df96bdc26f"
      },
      "execution_count": null,
      "outputs": [
        {
          "output_type": "stream",
          "name": "stdout",
          "text": [
            "2023-04-18 11:32:47.399813: W tensorflow/compiler/tf2tensorrt/utils/py_utils.cc:38] TF-TRT Warning: Could not find TensorRT\n",
            "Looking in indexes: https://pypi.org/simple, https://us-python.pkg.dev/colab-wheels/public/simple/\n",
            "Collecting en-core-web-trf==3.5.0\n",
            "  Downloading https://github.com/explosion/spacy-models/releases/download/en_core_web_trf-3.5.0/en_core_web_trf-3.5.0-py3-none-any.whl (460.3 MB)\n",
            "\u001b[2K     \u001b[90m━━━━━━━━━━━━━━━━━━━━━━━━━━━━━━━━━━━━━━━\u001b[0m \u001b[32m460.3/460.3 MB\u001b[0m \u001b[31m2.1 MB/s\u001b[0m eta \u001b[36m0:00:00\u001b[0m\n",
            "\u001b[?25hRequirement already satisfied: spacy-transformers<1.3.0,>=1.2.0.dev0 in /usr/local/lib/python3.9/dist-packages (from en-core-web-trf==3.5.0) (1.2.3)\n",
            "Requirement already satisfied: spacy<3.6.0,>=3.5.0 in /usr/local/lib/python3.9/dist-packages (from en-core-web-trf==3.5.0) (3.5.1)\n",
            "Requirement already satisfied: preshed<3.1.0,>=3.0.2 in /usr/local/lib/python3.9/dist-packages (from spacy<3.6.0,>=3.5.0->en-core-web-trf==3.5.0) (3.0.8)\n",
            "Requirement already satisfied: tqdm<5.0.0,>=4.38.0 in /usr/local/lib/python3.9/dist-packages (from spacy<3.6.0,>=3.5.0->en-core-web-trf==3.5.0) (4.65.0)\n",
            "Requirement already satisfied: typer<0.8.0,>=0.3.0 in /usr/local/lib/python3.9/dist-packages (from spacy<3.6.0,>=3.5.0->en-core-web-trf==3.5.0) (0.7.0)\n",
            "Requirement already satisfied: smart-open<7.0.0,>=5.2.1 in /usr/local/lib/python3.9/dist-packages (from spacy<3.6.0,>=3.5.0->en-core-web-trf==3.5.0) (6.3.0)\n",
            "Requirement already satisfied: srsly<3.0.0,>=2.4.3 in /usr/local/lib/python3.9/dist-packages (from spacy<3.6.0,>=3.5.0->en-core-web-trf==3.5.0) (2.4.6)\n",
            "Requirement already satisfied: pydantic!=1.8,!=1.8.1,<1.11.0,>=1.7.4 in /usr/local/lib/python3.9/dist-packages (from spacy<3.6.0,>=3.5.0->en-core-web-trf==3.5.0) (1.10.7)\n",
            "Requirement already satisfied: thinc<8.2.0,>=8.1.8 in /usr/local/lib/python3.9/dist-packages (from spacy<3.6.0,>=3.5.0->en-core-web-trf==3.5.0) (8.1.9)\n",
            "Requirement already satisfied: spacy-legacy<3.1.0,>=3.0.11 in /usr/local/lib/python3.9/dist-packages (from spacy<3.6.0,>=3.5.0->en-core-web-trf==3.5.0) (3.0.12)\n",
            "Requirement already satisfied: cymem<2.1.0,>=2.0.2 in /usr/local/lib/python3.9/dist-packages (from spacy<3.6.0,>=3.5.0->en-core-web-trf==3.5.0) (2.0.7)\n",
            "Requirement already satisfied: pathy>=0.10.0 in /usr/local/lib/python3.9/dist-packages (from spacy<3.6.0,>=3.5.0->en-core-web-trf==3.5.0) (0.10.1)\n",
            "Requirement already satisfied: catalogue<2.1.0,>=2.0.6 in /usr/local/lib/python3.9/dist-packages (from spacy<3.6.0,>=3.5.0->en-core-web-trf==3.5.0) (2.0.8)\n",
            "Requirement already satisfied: setuptools in /usr/local/lib/python3.9/dist-packages (from spacy<3.6.0,>=3.5.0->en-core-web-trf==3.5.0) (67.6.1)\n",
            "Requirement already satisfied: numpy>=1.15.0 in /usr/local/lib/python3.9/dist-packages (from spacy<3.6.0,>=3.5.0->en-core-web-trf==3.5.0) (1.22.4)\n",
            "Requirement already satisfied: requests<3.0.0,>=2.13.0 in /usr/local/lib/python3.9/dist-packages (from spacy<3.6.0,>=3.5.0->en-core-web-trf==3.5.0) (2.27.1)\n",
            "Requirement already satisfied: langcodes<4.0.0,>=3.2.0 in /usr/local/lib/python3.9/dist-packages (from spacy<3.6.0,>=3.5.0->en-core-web-trf==3.5.0) (3.3.0)\n",
            "Requirement already satisfied: spacy-loggers<2.0.0,>=1.0.0 in /usr/local/lib/python3.9/dist-packages (from spacy<3.6.0,>=3.5.0->en-core-web-trf==3.5.0) (1.0.4)\n",
            "Requirement already satisfied: jinja2 in /usr/local/lib/python3.9/dist-packages (from spacy<3.6.0,>=3.5.0->en-core-web-trf==3.5.0) (3.1.2)\n",
            "Requirement already satisfied: packaging>=20.0 in /usr/local/lib/python3.9/dist-packages (from spacy<3.6.0,>=3.5.0->en-core-web-trf==3.5.0) (23.0)\n",
            "Requirement already satisfied: wasabi<1.2.0,>=0.9.1 in /usr/local/lib/python3.9/dist-packages (from spacy<3.6.0,>=3.5.0->en-core-web-trf==3.5.0) (1.1.1)\n",
            "Requirement already satisfied: murmurhash<1.1.0,>=0.28.0 in /usr/local/lib/python3.9/dist-packages (from spacy<3.6.0,>=3.5.0->en-core-web-trf==3.5.0) (1.0.9)\n",
            "Requirement already satisfied: spacy-alignments<1.0.0,>=0.7.2 in /usr/local/lib/python3.9/dist-packages (from spacy-transformers<1.3.0,>=1.2.0.dev0->en-core-web-trf==3.5.0) (0.9.0)\n",
            "Requirement already satisfied: torch>=1.8.0 in /usr/local/lib/python3.9/dist-packages (from spacy-transformers<1.3.0,>=1.2.0.dev0->en-core-web-trf==3.5.0) (2.0.0+cu118)\n",
            "Requirement already satisfied: transformers<4.29.0,>=3.4.0 in /usr/local/lib/python3.9/dist-packages (from spacy-transformers<1.3.0,>=1.2.0.dev0->en-core-web-trf==3.5.0) (4.28.1)\n",
            "Requirement already satisfied: typing-extensions>=4.2.0 in /usr/local/lib/python3.9/dist-packages (from pydantic!=1.8,!=1.8.1,<1.11.0,>=1.7.4->spacy<3.6.0,>=3.5.0->en-core-web-trf==3.5.0) (4.5.0)\n",
            "Requirement already satisfied: charset-normalizer~=2.0.0 in /usr/local/lib/python3.9/dist-packages (from requests<3.0.0,>=2.13.0->spacy<3.6.0,>=3.5.0->en-core-web-trf==3.5.0) (2.0.12)\n",
            "Requirement already satisfied: urllib3<1.27,>=1.21.1 in /usr/local/lib/python3.9/dist-packages (from requests<3.0.0,>=2.13.0->spacy<3.6.0,>=3.5.0->en-core-web-trf==3.5.0) (1.26.15)\n",
            "Requirement already satisfied: certifi>=2017.4.17 in /usr/local/lib/python3.9/dist-packages (from requests<3.0.0,>=2.13.0->spacy<3.6.0,>=3.5.0->en-core-web-trf==3.5.0) (2022.12.7)\n",
            "Requirement already satisfied: idna<4,>=2.5 in /usr/local/lib/python3.9/dist-packages (from requests<3.0.0,>=2.13.0->spacy<3.6.0,>=3.5.0->en-core-web-trf==3.5.0) (3.4)\n",
            "Requirement already satisfied: blis<0.8.0,>=0.7.8 in /usr/local/lib/python3.9/dist-packages (from thinc<8.2.0,>=8.1.8->spacy<3.6.0,>=3.5.0->en-core-web-trf==3.5.0) (0.7.9)\n",
            "Requirement already satisfied: confection<1.0.0,>=0.0.1 in /usr/local/lib/python3.9/dist-packages (from thinc<8.2.0,>=8.1.8->spacy<3.6.0,>=3.5.0->en-core-web-trf==3.5.0) (0.0.4)\n",
            "Requirement already satisfied: networkx in /usr/local/lib/python3.9/dist-packages (from torch>=1.8.0->spacy-transformers<1.3.0,>=1.2.0.dev0->en-core-web-trf==3.5.0) (3.1)\n",
            "Requirement already satisfied: triton==2.0.0 in /usr/local/lib/python3.9/dist-packages (from torch>=1.8.0->spacy-transformers<1.3.0,>=1.2.0.dev0->en-core-web-trf==3.5.0) (2.0.0)\n",
            "Requirement already satisfied: filelock in /usr/local/lib/python3.9/dist-packages (from torch>=1.8.0->spacy-transformers<1.3.0,>=1.2.0.dev0->en-core-web-trf==3.5.0) (3.11.0)\n",
            "Requirement already satisfied: sympy in /usr/local/lib/python3.9/dist-packages (from torch>=1.8.0->spacy-transformers<1.3.0,>=1.2.0.dev0->en-core-web-trf==3.5.0) (1.11.1)\n",
            "Requirement already satisfied: cmake in /usr/local/lib/python3.9/dist-packages (from triton==2.0.0->torch>=1.8.0->spacy-transformers<1.3.0,>=1.2.0.dev0->en-core-web-trf==3.5.0) (3.25.2)\n",
            "Requirement already satisfied: lit in /usr/local/lib/python3.9/dist-packages (from triton==2.0.0->torch>=1.8.0->spacy-transformers<1.3.0,>=1.2.0.dev0->en-core-web-trf==3.5.0) (16.0.1)\n",
            "Requirement already satisfied: regex!=2019.12.17 in /usr/local/lib/python3.9/dist-packages (from transformers<4.29.0,>=3.4.0->spacy-transformers<1.3.0,>=1.2.0.dev0->en-core-web-trf==3.5.0) (2022.10.31)\n",
            "Requirement already satisfied: huggingface-hub<1.0,>=0.11.0 in /usr/local/lib/python3.9/dist-packages (from transformers<4.29.0,>=3.4.0->spacy-transformers<1.3.0,>=1.2.0.dev0->en-core-web-trf==3.5.0) (0.13.4)\n",
            "Requirement already satisfied: tokenizers!=0.11.3,<0.14,>=0.11.1 in /usr/local/lib/python3.9/dist-packages (from transformers<4.29.0,>=3.4.0->spacy-transformers<1.3.0,>=1.2.0.dev0->en-core-web-trf==3.5.0) (0.13.3)\n",
            "Requirement already satisfied: pyyaml>=5.1 in /usr/local/lib/python3.9/dist-packages (from transformers<4.29.0,>=3.4.0->spacy-transformers<1.3.0,>=1.2.0.dev0->en-core-web-trf==3.5.0) (6.0)\n",
            "Requirement already satisfied: click<9.0.0,>=7.1.1 in /usr/local/lib/python3.9/dist-packages (from typer<0.8.0,>=0.3.0->spacy<3.6.0,>=3.5.0->en-core-web-trf==3.5.0) (8.1.3)\n",
            "Requirement already satisfied: MarkupSafe>=2.0 in /usr/local/lib/python3.9/dist-packages (from jinja2->spacy<3.6.0,>=3.5.0->en-core-web-trf==3.5.0) (2.1.2)\n",
            "Requirement already satisfied: mpmath>=0.19 in /usr/local/lib/python3.9/dist-packages (from sympy->torch>=1.8.0->spacy-transformers<1.3.0,>=1.2.0.dev0->en-core-web-trf==3.5.0) (1.3.0)\n",
            "\u001b[38;5;2m✔ Download and installation successful\u001b[0m\n",
            "You can now load the package via spacy.load('en_core_web_trf')\n"
          ]
        }
      ]
    },
    {
      "cell_type": "code",
      "source": [
        "def print_entities(pipeline, text):\n",
        "    \n",
        "    # Create a document \n",
        "    document = pipeline(text)\n",
        "    \n",
        "    # Entity text & label extraction\n",
        "    for entity in document.ents:\n",
        "        print(entity.text + '->', entity.label_)\n",
        "        \n",
        "        \n",
        "def visualize_entities(pipeline, text):\n",
        "    \n",
        "    # Create a document \n",
        "    document = pipeline(text)\n",
        "        \n",
        "    # Show entities in pretty manner\n",
        "    displacy.render(document, jupyter=True, style='ent')"
      ],
      "metadata": {
        "id": "ZgpMRmI7n5-9"
      },
      "execution_count": null,
      "outputs": []
    },
    {
      "cell_type": "markdown",
      "source": [
        "**`spaCy Tradicional`**"
      ],
      "metadata": {
        "id": "dPRUUGRFsKbP"
      }
    },
    {
      "cell_type": "code",
      "source": [
        "import spacy\n",
        "from spacy import displacy\n",
        "\n",
        "# Load English model\n",
        "nlp_sm = spacy.load(\"en_core_web_sm\")"
      ],
      "metadata": {
        "id": "Ng9G7JH9oVxX"
      },
      "execution_count": null,
      "outputs": []
    },
    {
      "cell_type": "code",
      "source": [
        "print_entities(nlp_sm, short_text)"
      ],
      "metadata": {
        "colab": {
          "base_uri": "https://localhost:8080/"
        },
        "id": "Mx-HZwvWob5F",
        "outputId": "277dd718-4dfe-42b1-a2d1-0e1199dfba61"
      },
      "execution_count": null,
      "outputs": [
        {
          "output_type": "stream",
          "name": "stdout",
          "text": [
            "Amy Schneider-> PERSON\n",
            "Oakland-> GPE\n",
            "California-> GPE\n",
            "first-> ORDINAL\n",
            "fourth-> ORDINAL\n",
            "Jeopardy-> WORK_OF_ART\n",
            "more than $1 million-> MONEY\n",
            "Friday-> DATE\n"
          ]
        }
      ]
    },
    {
      "cell_type": "code",
      "source": [
        "visualize_entities(nlp_sm, short_text)"
      ],
      "metadata": {
        "colab": {
          "base_uri": "https://localhost:8080/",
          "height": 122
        },
        "id": "BgBvuCrtpBxs",
        "outputId": "bed72f77-bcb9-4cf9-caa5-8dd0b3cbdc8a"
      },
      "execution_count": null,
      "outputs": [
        {
          "output_type": "display_data",
          "data": {
            "text/plain": [
              "<IPython.core.display.HTML object>"
            ],
            "text/html": [
              "<span class=\"tex2jax_ignore\"><div class=\"entities\" style=\"line-height: 2.5; direction: ltr\">\n",
              "<mark class=\"entity\" style=\"background: #aa9cfc; padding: 0.45em 0.6em; margin: 0 0.25em; line-height: 1; border-radius: 0.35em;\">\n",
              "    Amy Schneider\n",
              "    <span style=\"font-size: 0.8em; font-weight: bold; line-height: 1; border-radius: 0.35em; vertical-align: middle; margin-left: 0.5rem\">PERSON</span>\n",
              "</mark>\n",
              ", an engineering manager from \n",
              "<mark class=\"entity\" style=\"background: #feca74; padding: 0.45em 0.6em; margin: 0 0.25em; line-height: 1; border-radius: 0.35em;\">\n",
              "    Oakland\n",
              "    <span style=\"font-size: 0.8em; font-weight: bold; line-height: 1; border-radius: 0.35em; vertical-align: middle; margin-left: 0.5rem\">GPE</span>\n",
              "</mark>\n",
              ", \n",
              "<mark class=\"entity\" style=\"background: #feca74; padding: 0.45em 0.6em; margin: 0 0.25em; line-height: 1; border-radius: 0.35em;\">\n",
              "    California\n",
              "    <span style=\"font-size: 0.8em; font-weight: bold; line-height: 1; border-radius: 0.35em; vertical-align: middle; margin-left: 0.5rem\">GPE</span>\n",
              "</mark>\n",
              ", became the \n",
              "<mark class=\"entity\" style=\"background: #e4e7d2; padding: 0.45em 0.6em; margin: 0 0.25em; line-height: 1; border-radius: 0.35em;\">\n",
              "    first\n",
              "    <span style=\"font-size: 0.8em; font-weight: bold; line-height: 1; border-radius: 0.35em; vertical-align: middle; margin-left: 0.5rem\">ORDINAL</span>\n",
              "</mark>\n",
              " woman and the \n",
              "<mark class=\"entity\" style=\"background: #e4e7d2; padding: 0.45em 0.6em; margin: 0 0.25em; line-height: 1; border-radius: 0.35em;\">\n",
              "    fourth\n",
              "    <span style=\"font-size: 0.8em; font-weight: bold; line-height: 1; border-radius: 0.35em; vertical-align: middle; margin-left: 0.5rem\">ORDINAL</span>\n",
              "</mark>\n",
              " person on “\n",
              "<mark class=\"entity\" style=\"background: #f0d0ff; padding: 0.45em 0.6em; margin: 0 0.25em; line-height: 1; border-radius: 0.35em;\">\n",
              "    Jeopardy\n",
              "    <span style=\"font-size: 0.8em; font-weight: bold; line-height: 1; border-radius: 0.35em; vertical-align: middle; margin-left: 0.5rem\">WORK_OF_ART</span>\n",
              "</mark>\n",
              "!” to earn \n",
              "<mark class=\"entity\" style=\"background: #e4e7d2; padding: 0.45em 0.6em; margin: 0 0.25em; line-height: 1; border-radius: 0.35em;\">\n",
              "    more than $1 million\n",
              "    <span style=\"font-size: 0.8em; font-weight: bold; line-height: 1; border-radius: 0.35em; vertical-align: middle; margin-left: 0.5rem\">MONEY</span>\n",
              "</mark>\n",
              " in winnings on \n",
              "<mark class=\"entity\" style=\"background: #bfe1d9; padding: 0.45em 0.6em; margin: 0 0.25em; line-height: 1; border-radius: 0.35em;\">\n",
              "    Friday\n",
              "    <span style=\"font-size: 0.8em; font-weight: bold; line-height: 1; border-radius: 0.35em; vertical-align: middle; margin-left: 0.5rem\">DATE</span>\n",
              "</mark>\n",
              "’s episode</div></span>"
            ]
          },
          "metadata": {}
        }
      ]
    },
    {
      "cell_type": "code",
      "source": [
        "print_entities(nlp_sm, long_text)"
      ],
      "metadata": {
        "colab": {
          "base_uri": "https://localhost:8080/"
        },
        "id": "FaFK4xalpLMf",
        "outputId": "ca0473e7-70eb-4b19-af09-336a6065a75b"
      },
      "execution_count": null,
      "outputs": [
        {
          "output_type": "stream",
          "name": "stdout",
          "text": [
            "Apple-> ORG\n",
            "the three months to December 31 2016-> DATE\n",
            "Maestri-> PERSON\n",
            "nearly $15 billion-> MONEY\n",
            "the quarter-> DATE\n",
            "quarterly-> DATE\n",
            "57 cents-> MONEY\n",
            "the previous three quarters-> DATE\n",
            "52 cents-> MONEY\n",
            "the four quarters-> DATE\n",
            "Apple-> ORG\n",
            "January 31-> DATE\n",
            "Tim Cook-> PERSON\n",
            "Apple-> ORG\n",
            "the last three months of 2016-> DATE\n",
            "our holiday quarter-> DATE\n",
            "Apple-> ORG\n",
            "quarterly-> DATE\n",
            "iPhones-> ORG\n",
            "iPhone, Services-> ORG\n",
            "Mac-> PERSON\n",
            "Apple Watch-> ORG\n"
          ]
        }
      ]
    },
    {
      "cell_type": "code",
      "source": [
        "visualize_entities(nlp_sm, long_text)"
      ],
      "metadata": {
        "colab": {
          "base_uri": "https://localhost:8080/",
          "height": 332
        },
        "id": "_nPzmTFIpaCN",
        "outputId": "a17e9800-b306-49ed-a7e6-ccb8e75fef9a"
      },
      "execution_count": null,
      "outputs": [
        {
          "output_type": "display_data",
          "data": {
            "text/plain": [
              "<IPython.core.display.HTML object>"
            ],
            "text/html": [
              "<span class=\"tex2jax_ignore\"><div class=\"entities\" style=\"line-height: 2.5; direction: ltr\">Good news for consumers, undoubtedly, and good news also for investors. \n",
              "<mark class=\"entity\" style=\"background: #7aecec; padding: 0.45em 0.6em; margin: 0 0.25em; line-height: 1; border-radius: 0.35em;\">\n",
              "    Apple\n",
              "    <span style=\"font-size: 0.8em; font-weight: bold; line-height: 1; border-radius: 0.35em; vertical-align: middle; margin-left: 0.5rem\">ORG</span>\n",
              "</mark>\n",
              "’s recent results, covering \n",
              "<mark class=\"entity\" style=\"background: #bfe1d9; padding: 0.45em 0.6em; margin: 0 0.25em; line-height: 1; border-radius: 0.35em;\">\n",
              "    the three months to December 31 2016\n",
              "    <span style=\"font-size: 0.8em; font-weight: bold; line-height: 1; border-radius: 0.35em; vertical-align: middle; margin-left: 0.5rem\">DATE</span>\n",
              "</mark>\n",
              ", saw the company’s chief financial officer Luca \n",
              "<mark class=\"entity\" style=\"background: #aa9cfc; padding: 0.45em 0.6em; margin: 0 0.25em; line-height: 1; border-radius: 0.35em;\">\n",
              "    Maestri\n",
              "    <span style=\"font-size: 0.8em; font-weight: bold; line-height: 1; border-radius: 0.35em; vertical-align: middle; margin-left: 0.5rem\">PERSON</span>\n",
              "</mark>\n",
              " announce: ‘We returned \n",
              "<mark class=\"entity\" style=\"background: #e4e7d2; padding: 0.45em 0.6em; margin: 0 0.25em; line-height: 1; border-radius: 0.35em;\">\n",
              "    nearly $15 billion\n",
              "    <span style=\"font-size: 0.8em; font-weight: bold; line-height: 1; border-radius: 0.35em; vertical-align: middle; margin-left: 0.5rem\">MONEY</span>\n",
              "</mark>\n",
              " to investors through share re-purchases and dividends during \n",
              "<mark class=\"entity\" style=\"background: #bfe1d9; padding: 0.45em 0.6em; margin: 0 0.25em; line-height: 1; border-radius: 0.35em;\">\n",
              "    the quarter\n",
              "    <span style=\"font-size: 0.8em; font-weight: bold; line-height: 1; border-radius: 0.35em; vertical-align: middle; margin-left: 0.5rem\">DATE</span>\n",
              "</mark>\n",
              ".’ The \n",
              "<mark class=\"entity\" style=\"background: #bfe1d9; padding: 0.45em 0.6em; margin: 0 0.25em; line-height: 1; border-radius: 0.35em;\">\n",
              "    quarterly\n",
              "    <span style=\"font-size: 0.8em; font-weight: bold; line-height: 1; border-radius: 0.35em; vertical-align: middle; margin-left: 0.5rem\">DATE</span>\n",
              "</mark>\n",
              " dividend itself was \n",
              "<mark class=\"entity\" style=\"background: #e4e7d2; padding: 0.45em 0.6em; margin: 0 0.25em; line-height: 1; border-radius: 0.35em;\">\n",
              "    57 cents\n",
              "    <span style=\"font-size: 0.8em; font-weight: bold; line-height: 1; border-radius: 0.35em; vertical-align: middle; margin-left: 0.5rem\">MONEY</span>\n",
              "</mark>\n",
              " a share, identical to the dividend for \n",
              "<mark class=\"entity\" style=\"background: #bfe1d9; padding: 0.45em 0.6em; margin: 0 0.25em; line-height: 1; border-radius: 0.35em;\">\n",
              "    the previous three quarters\n",
              "    <span style=\"font-size: 0.8em; font-weight: bold; line-height: 1; border-radius: 0.35em; vertical-align: middle; margin-left: 0.5rem\">DATE</span>\n",
              "</mark>\n",
              " and up on the \n",
              "<mark class=\"entity\" style=\"background: #e4e7d2; padding: 0.45em 0.6em; margin: 0 0.25em; line-height: 1; border-radius: 0.35em;\">\n",
              "    52 cents\n",
              "    <span style=\"font-size: 0.8em; font-weight: bold; line-height: 1; border-radius: 0.35em; vertical-align: middle; margin-left: 0.5rem\">MONEY</span>\n",
              "</mark>\n",
              " paid for each of \n",
              "<mark class=\"entity\" style=\"background: #bfe1d9; padding: 0.45em 0.6em; margin: 0 0.25em; line-height: 1; border-radius: 0.35em;\">\n",
              "    the four quarters\n",
              "    <span style=\"font-size: 0.8em; font-weight: bold; line-height: 1; border-radius: 0.35em; vertical-align: middle; margin-left: 0.5rem\">DATE</span>\n",
              "</mark>\n",
              " before that.</br>Business is brisk at \n",
              "<mark class=\"entity\" style=\"background: #7aecec; padding: 0.45em 0.6em; margin: 0 0.25em; line-height: 1; border-radius: 0.35em;\">\n",
              "    Apple\n",
              "    <span style=\"font-size: 0.8em; font-weight: bold; line-height: 1; border-radius: 0.35em; vertical-align: middle; margin-left: 0.5rem\">ORG</span>\n",
              "</mark>\n",
              ". On \n",
              "<mark class=\"entity\" style=\"background: #bfe1d9; padding: 0.45em 0.6em; margin: 0 0.25em; line-height: 1; border-radius: 0.35em;\">\n",
              "    January 31\n",
              "    <span style=\"font-size: 0.8em; font-weight: bold; line-height: 1; border-radius: 0.35em; vertical-align: middle; margin-left: 0.5rem\">DATE</span>\n",
              "</mark>\n",
              ", \n",
              "<mark class=\"entity\" style=\"background: #aa9cfc; padding: 0.45em 0.6em; margin: 0 0.25em; line-height: 1; border-radius: 0.35em;\">\n",
              "    Tim Cook\n",
              "    <span style=\"font-size: 0.8em; font-weight: bold; line-height: 1; border-radius: 0.35em; vertical-align: middle; margin-left: 0.5rem\">PERSON</span>\n",
              "</mark>\n",
              ", \n",
              "<mark class=\"entity\" style=\"background: #7aecec; padding: 0.45em 0.6em; margin: 0 0.25em; line-height: 1; border-radius: 0.35em;\">\n",
              "    Apple\n",
              "    <span style=\"font-size: 0.8em; font-weight: bold; line-height: 1; border-radius: 0.35em; vertical-align: middle; margin-left: 0.5rem\">ORG</span>\n",
              "</mark>\n",
              "’s chief executive, said of \n",
              "<mark class=\"entity\" style=\"background: #bfe1d9; padding: 0.45em 0.6em; margin: 0 0.25em; line-height: 1; border-radius: 0.35em;\">\n",
              "    the last three months of 2016\n",
              "    <span style=\"font-size: 0.8em; font-weight: bold; line-height: 1; border-radius: 0.35em; vertical-align: middle; margin-left: 0.5rem\">DATE</span>\n",
              "</mark>\n",
              ": ‘We’re thrilled to report that \n",
              "<mark class=\"entity\" style=\"background: #bfe1d9; padding: 0.45em 0.6em; margin: 0 0.25em; line-height: 1; border-radius: 0.35em;\">\n",
              "    our holiday quarter\n",
              "    <span style=\"font-size: 0.8em; font-weight: bold; line-height: 1; border-radius: 0.35em; vertical-align: middle; margin-left: 0.5rem\">DATE</span>\n",
              "</mark>\n",
              " results generated \n",
              "<mark class=\"entity\" style=\"background: #7aecec; padding: 0.45em 0.6em; margin: 0 0.25em; line-height: 1; border-radius: 0.35em;\">\n",
              "    Apple\n",
              "    <span style=\"font-size: 0.8em; font-weight: bold; line-height: 1; border-radius: 0.35em; vertical-align: middle; margin-left: 0.5rem\">ORG</span>\n",
              "</mark>\n",
              "’s highest \n",
              "<mark class=\"entity\" style=\"background: #bfe1d9; padding: 0.45em 0.6em; margin: 0 0.25em; line-height: 1; border-radius: 0.35em;\">\n",
              "    quarterly\n",
              "    <span style=\"font-size: 0.8em; font-weight: bold; line-height: 1; border-radius: 0.35em; vertical-align: middle; margin-left: 0.5rem\">DATE</span>\n",
              "</mark>\n",
              " revenue ever, and broke multiple records along the way. We sold more \n",
              "<mark class=\"entity\" style=\"background: #7aecec; padding: 0.45em 0.6em; margin: 0 0.25em; line-height: 1; border-radius: 0.35em;\">\n",
              "    iPhones\n",
              "    <span style=\"font-size: 0.8em; font-weight: bold; line-height: 1; border-radius: 0.35em; vertical-align: middle; margin-left: 0.5rem\">ORG</span>\n",
              "</mark>\n",
              " than ever before and set all-time revenue records for \n",
              "<mark class=\"entity\" style=\"background: #7aecec; padding: 0.45em 0.6em; margin: 0 0.25em; line-height: 1; border-radius: 0.35em;\">\n",
              "    iPhone, Services\n",
              "    <span style=\"font-size: 0.8em; font-weight: bold; line-height: 1; border-radius: 0.35em; vertical-align: middle; margin-left: 0.5rem\">ORG</span>\n",
              "</mark>\n",
              ", \n",
              "<mark class=\"entity\" style=\"background: #aa9cfc; padding: 0.45em 0.6em; margin: 0 0.25em; line-height: 1; border-radius: 0.35em;\">\n",
              "    Mac\n",
              "    <span style=\"font-size: 0.8em; font-weight: bold; line-height: 1; border-radius: 0.35em; vertical-align: middle; margin-left: 0.5rem\">PERSON</span>\n",
              "</mark>\n",
              " and \n",
              "<mark class=\"entity\" style=\"background: #7aecec; padding: 0.45em 0.6em; margin: 0 0.25em; line-height: 1; border-radius: 0.35em;\">\n",
              "    Apple Watch\n",
              "    <span style=\"font-size: 0.8em; font-weight: bold; line-height: 1; border-radius: 0.35em; vertical-align: middle; margin-left: 0.5rem\">ORG</span>\n",
              "</mark>\n",
              "</div></span>"
            ]
          },
          "metadata": {}
        }
      ]
    },
    {
      "cell_type": "markdown",
      "source": [
        "**Observação**: Para o texto curto, o resultado parece perfeito, pois todas as entidades foram identificadas corretamente. No entanto, para o segundo texto, o modelo cometeu os seguintes erros ao identificar erroneamente o `Apple Watch` como sendo um `ORG` em vez de um `PRODUCT`. O mesmo ocorrey ao identificar o `iPhone` e o `Mac`."
      ],
      "metadata": {
        "id": "7R7PIleTsZEi"
      }
    },
    {
      "cell_type": "markdown",
      "source": [
        "**`spaCy Transformers — roBERTa`**"
      ],
      "metadata": {
        "id": "q94mClp3pqP3"
      }
    },
    {
      "cell_type": "code",
      "source": [
        "import spacy_transformers\n",
        "\n",
        "# Load the spacy transformer (roberta-base) model\n",
        "roberta_nlp = spacy.load(\"en_core_web_trf\")"
      ],
      "metadata": {
        "id": "3FQ2nWBvpxQc"
      },
      "execution_count": null,
      "outputs": []
    },
    {
      "cell_type": "code",
      "source": [
        "print_entities(roberta_nlp, short_text)"
      ],
      "metadata": {
        "colab": {
          "base_uri": "https://localhost:8080/"
        },
        "id": "N41NkL3op1z0",
        "outputId": "461f056f-c11b-4b35-a8b1-2d2f375d32d3"
      },
      "execution_count": null,
      "outputs": [
        {
          "output_type": "stream",
          "name": "stdout",
          "text": [
            "Amy Schneider-> PERSON\n",
            "Oakland-> GPE\n",
            "California-> GPE\n",
            "first-> ORDINAL\n",
            "fourth-> ORDINAL\n",
            "Jeopardy-> WORK_OF_ART\n",
            "more than $1 million-> MONEY\n",
            "Friday-> DATE\n"
          ]
        }
      ]
    },
    {
      "cell_type": "code",
      "source": [
        "visualize_entities(roberta_nlp, short_text)"
      ],
      "metadata": {
        "colab": {
          "base_uri": "https://localhost:8080/",
          "height": 122
        },
        "id": "AMqHwBerqYK3",
        "outputId": "7a543116-0d69-4db7-c4bd-f53bb3ee1b77"
      },
      "execution_count": null,
      "outputs": [
        {
          "output_type": "display_data",
          "data": {
            "text/plain": [
              "<IPython.core.display.HTML object>"
            ],
            "text/html": [
              "<span class=\"tex2jax_ignore\"><div class=\"entities\" style=\"line-height: 2.5; direction: ltr\">\n",
              "<mark class=\"entity\" style=\"background: #aa9cfc; padding: 0.45em 0.6em; margin: 0 0.25em; line-height: 1; border-radius: 0.35em;\">\n",
              "    Amy Schneider\n",
              "    <span style=\"font-size: 0.8em; font-weight: bold; line-height: 1; border-radius: 0.35em; vertical-align: middle; margin-left: 0.5rem\">PERSON</span>\n",
              "</mark>\n",
              ", an engineering manager from \n",
              "<mark class=\"entity\" style=\"background: #feca74; padding: 0.45em 0.6em; margin: 0 0.25em; line-height: 1; border-radius: 0.35em;\">\n",
              "    Oakland\n",
              "    <span style=\"font-size: 0.8em; font-weight: bold; line-height: 1; border-radius: 0.35em; vertical-align: middle; margin-left: 0.5rem\">GPE</span>\n",
              "</mark>\n",
              ", \n",
              "<mark class=\"entity\" style=\"background: #feca74; padding: 0.45em 0.6em; margin: 0 0.25em; line-height: 1; border-radius: 0.35em;\">\n",
              "    California\n",
              "    <span style=\"font-size: 0.8em; font-weight: bold; line-height: 1; border-radius: 0.35em; vertical-align: middle; margin-left: 0.5rem\">GPE</span>\n",
              "</mark>\n",
              ", became the \n",
              "<mark class=\"entity\" style=\"background: #e4e7d2; padding: 0.45em 0.6em; margin: 0 0.25em; line-height: 1; border-radius: 0.35em;\">\n",
              "    first\n",
              "    <span style=\"font-size: 0.8em; font-weight: bold; line-height: 1; border-radius: 0.35em; vertical-align: middle; margin-left: 0.5rem\">ORDINAL</span>\n",
              "</mark>\n",
              " woman and the \n",
              "<mark class=\"entity\" style=\"background: #e4e7d2; padding: 0.45em 0.6em; margin: 0 0.25em; line-height: 1; border-radius: 0.35em;\">\n",
              "    fourth\n",
              "    <span style=\"font-size: 0.8em; font-weight: bold; line-height: 1; border-radius: 0.35em; vertical-align: middle; margin-left: 0.5rem\">ORDINAL</span>\n",
              "</mark>\n",
              " person on “\n",
              "<mark class=\"entity\" style=\"background: #f0d0ff; padding: 0.45em 0.6em; margin: 0 0.25em; line-height: 1; border-radius: 0.35em;\">\n",
              "    Jeopardy\n",
              "    <span style=\"font-size: 0.8em; font-weight: bold; line-height: 1; border-radius: 0.35em; vertical-align: middle; margin-left: 0.5rem\">WORK_OF_ART</span>\n",
              "</mark>\n",
              "!” to earn \n",
              "<mark class=\"entity\" style=\"background: #e4e7d2; padding: 0.45em 0.6em; margin: 0 0.25em; line-height: 1; border-radius: 0.35em;\">\n",
              "    more than $1 million\n",
              "    <span style=\"font-size: 0.8em; font-weight: bold; line-height: 1; border-radius: 0.35em; vertical-align: middle; margin-left: 0.5rem\">MONEY</span>\n",
              "</mark>\n",
              " in winnings on \n",
              "<mark class=\"entity\" style=\"background: #bfe1d9; padding: 0.45em 0.6em; margin: 0 0.25em; line-height: 1; border-radius: 0.35em;\">\n",
              "    Friday\n",
              "    <span style=\"font-size: 0.8em; font-weight: bold; line-height: 1; border-radius: 0.35em; vertical-align: middle; margin-left: 0.5rem\">DATE</span>\n",
              "</mark>\n",
              "’s episode</div></span>"
            ]
          },
          "metadata": {}
        }
      ]
    },
    {
      "cell_type": "code",
      "source": [
        "print_entities(roberta_nlp, long_text)"
      ],
      "metadata": {
        "colab": {
          "base_uri": "https://localhost:8080/"
        },
        "id": "Ddj-Bw2pqcUM",
        "outputId": "f88d745d-5883-4d75-a8f7-138204528f57"
      },
      "execution_count": null,
      "outputs": [
        {
          "output_type": "stream",
          "name": "stdout",
          "text": [
            "Apple-> ORG\n",
            "the three months to December 31 2016-> DATE\n",
            "Luca Maestri-> PERSON\n",
            "nearly $15 billion-> MONEY\n",
            "the quarter-> DATE\n",
            "quarterly-> DATE\n",
            "57 cents-> MONEY\n",
            "the previous three quarters-> DATE\n",
            "the 52 cents-> MONEY\n",
            "each of the four quarters-> DATE\n",
            "Apple-> ORG\n",
            "January 31-> DATE\n",
            "Tim Cook-> PERSON\n",
            "Apple-> ORG\n",
            "the last three months of 2016-> DATE\n",
            "holiday quarter-> DATE\n",
            "Apple-> ORG\n",
            "quarterly-> DATE\n",
            "iPhones-> PRODUCT\n",
            "iPhone-> PRODUCT\n",
            "Services-> PRODUCT\n",
            "Mac-> PRODUCT\n",
            "Apple Watch-> PRODUCT\n"
          ]
        }
      ]
    },
    {
      "cell_type": "code",
      "source": [
        "visualize_entities(roberta_nlp, long_text)"
      ],
      "metadata": {
        "colab": {
          "base_uri": "https://localhost:8080/",
          "height": 262
        },
        "id": "P2HkCogsqgz1",
        "outputId": "3f9870c7-73bb-43d4-fa19-d8ec411d7b08"
      },
      "execution_count": null,
      "outputs": [
        {
          "output_type": "display_data",
          "data": {
            "text/plain": [
              "<IPython.core.display.HTML object>"
            ],
            "text/html": [
              "<span class=\"tex2jax_ignore\"><div class=\"entities\" style=\"line-height: 2.5; direction: ltr\">Good news for consumers, undoubtedly, and good news also for investors. \n",
              "<mark class=\"entity\" style=\"background: #7aecec; padding: 0.45em 0.6em; margin: 0 0.25em; line-height: 1; border-radius: 0.35em;\">\n",
              "    Apple\n",
              "    <span style=\"font-size: 0.8em; font-weight: bold; line-height: 1; border-radius: 0.35em; vertical-align: middle; margin-left: 0.5rem\">ORG</span>\n",
              "</mark>\n",
              "’s recent results, covering \n",
              "<mark class=\"entity\" style=\"background: #bfe1d9; padding: 0.45em 0.6em; margin: 0 0.25em; line-height: 1; border-radius: 0.35em;\">\n",
              "    the three months to December 31 2016\n",
              "    <span style=\"font-size: 0.8em; font-weight: bold; line-height: 1; border-radius: 0.35em; vertical-align: middle; margin-left: 0.5rem\">DATE</span>\n",
              "</mark>\n",
              ", saw the company’s chief financial officer \n",
              "<mark class=\"entity\" style=\"background: #aa9cfc; padding: 0.45em 0.6em; margin: 0 0.25em; line-height: 1; border-radius: 0.35em;\">\n",
              "    Luca Maestri\n",
              "    <span style=\"font-size: 0.8em; font-weight: bold; line-height: 1; border-radius: 0.35em; vertical-align: middle; margin-left: 0.5rem\">PERSON</span>\n",
              "</mark>\n",
              " announce: ‘We returned \n",
              "<mark class=\"entity\" style=\"background: #e4e7d2; padding: 0.45em 0.6em; margin: 0 0.25em; line-height: 1; border-radius: 0.35em;\">\n",
              "    nearly $15 billion\n",
              "    <span style=\"font-size: 0.8em; font-weight: bold; line-height: 1; border-radius: 0.35em; vertical-align: middle; margin-left: 0.5rem\">MONEY</span>\n",
              "</mark>\n",
              " to investors through share re-purchases and dividends during \n",
              "<mark class=\"entity\" style=\"background: #bfe1d9; padding: 0.45em 0.6em; margin: 0 0.25em; line-height: 1; border-radius: 0.35em;\">\n",
              "    the quarter\n",
              "    <span style=\"font-size: 0.8em; font-weight: bold; line-height: 1; border-radius: 0.35em; vertical-align: middle; margin-left: 0.5rem\">DATE</span>\n",
              "</mark>\n",
              ".’ The \n",
              "<mark class=\"entity\" style=\"background: #bfe1d9; padding: 0.45em 0.6em; margin: 0 0.25em; line-height: 1; border-radius: 0.35em;\">\n",
              "    quarterly\n",
              "    <span style=\"font-size: 0.8em; font-weight: bold; line-height: 1; border-radius: 0.35em; vertical-align: middle; margin-left: 0.5rem\">DATE</span>\n",
              "</mark>\n",
              " dividend itself was \n",
              "<mark class=\"entity\" style=\"background: #e4e7d2; padding: 0.45em 0.6em; margin: 0 0.25em; line-height: 1; border-radius: 0.35em;\">\n",
              "    57 cents\n",
              "    <span style=\"font-size: 0.8em; font-weight: bold; line-height: 1; border-radius: 0.35em; vertical-align: middle; margin-left: 0.5rem\">MONEY</span>\n",
              "</mark>\n",
              " a share, identical to the dividend for \n",
              "<mark class=\"entity\" style=\"background: #bfe1d9; padding: 0.45em 0.6em; margin: 0 0.25em; line-height: 1; border-radius: 0.35em;\">\n",
              "    the previous three quarters\n",
              "    <span style=\"font-size: 0.8em; font-weight: bold; line-height: 1; border-radius: 0.35em; vertical-align: middle; margin-left: 0.5rem\">DATE</span>\n",
              "</mark>\n",
              " and up on \n",
              "<mark class=\"entity\" style=\"background: #e4e7d2; padding: 0.45em 0.6em; margin: 0 0.25em; line-height: 1; border-radius: 0.35em;\">\n",
              "    the 52 cents\n",
              "    <span style=\"font-size: 0.8em; font-weight: bold; line-height: 1; border-radius: 0.35em; vertical-align: middle; margin-left: 0.5rem\">MONEY</span>\n",
              "</mark>\n",
              " paid for \n",
              "<mark class=\"entity\" style=\"background: #bfe1d9; padding: 0.45em 0.6em; margin: 0 0.25em; line-height: 1; border-radius: 0.35em;\">\n",
              "    each of the four quarters\n",
              "    <span style=\"font-size: 0.8em; font-weight: bold; line-height: 1; border-radius: 0.35em; vertical-align: middle; margin-left: 0.5rem\">DATE</span>\n",
              "</mark>\n",
              " before that.</br>Business is brisk at \n",
              "<mark class=\"entity\" style=\"background: #7aecec; padding: 0.45em 0.6em; margin: 0 0.25em; line-height: 1; border-radius: 0.35em;\">\n",
              "    Apple\n",
              "    <span style=\"font-size: 0.8em; font-weight: bold; line-height: 1; border-radius: 0.35em; vertical-align: middle; margin-left: 0.5rem\">ORG</span>\n",
              "</mark>\n",
              ". On \n",
              "<mark class=\"entity\" style=\"background: #bfe1d9; padding: 0.45em 0.6em; margin: 0 0.25em; line-height: 1; border-radius: 0.35em;\">\n",
              "    January 31\n",
              "    <span style=\"font-size: 0.8em; font-weight: bold; line-height: 1; border-radius: 0.35em; vertical-align: middle; margin-left: 0.5rem\">DATE</span>\n",
              "</mark>\n",
              ", \n",
              "<mark class=\"entity\" style=\"background: #aa9cfc; padding: 0.45em 0.6em; margin: 0 0.25em; line-height: 1; border-radius: 0.35em;\">\n",
              "    Tim Cook\n",
              "    <span style=\"font-size: 0.8em; font-weight: bold; line-height: 1; border-radius: 0.35em; vertical-align: middle; margin-left: 0.5rem\">PERSON</span>\n",
              "</mark>\n",
              ", \n",
              "<mark class=\"entity\" style=\"background: #7aecec; padding: 0.45em 0.6em; margin: 0 0.25em; line-height: 1; border-radius: 0.35em;\">\n",
              "    Apple\n",
              "    <span style=\"font-size: 0.8em; font-weight: bold; line-height: 1; border-radius: 0.35em; vertical-align: middle; margin-left: 0.5rem\">ORG</span>\n",
              "</mark>\n",
              "’s chief executive, said of \n",
              "<mark class=\"entity\" style=\"background: #bfe1d9; padding: 0.45em 0.6em; margin: 0 0.25em; line-height: 1; border-radius: 0.35em;\">\n",
              "    the last three months of 2016\n",
              "    <span style=\"font-size: 0.8em; font-weight: bold; line-height: 1; border-radius: 0.35em; vertical-align: middle; margin-left: 0.5rem\">DATE</span>\n",
              "</mark>\n",
              ": ‘We’re thrilled to report that our \n",
              "<mark class=\"entity\" style=\"background: #bfe1d9; padding: 0.45em 0.6em; margin: 0 0.25em; line-height: 1; border-radius: 0.35em;\">\n",
              "    holiday quarter\n",
              "    <span style=\"font-size: 0.8em; font-weight: bold; line-height: 1; border-radius: 0.35em; vertical-align: middle; margin-left: 0.5rem\">DATE</span>\n",
              "</mark>\n",
              " results generated \n",
              "<mark class=\"entity\" style=\"background: #7aecec; padding: 0.45em 0.6em; margin: 0 0.25em; line-height: 1; border-radius: 0.35em;\">\n",
              "    Apple\n",
              "    <span style=\"font-size: 0.8em; font-weight: bold; line-height: 1; border-radius: 0.35em; vertical-align: middle; margin-left: 0.5rem\">ORG</span>\n",
              "</mark>\n",
              "’s highest \n",
              "<mark class=\"entity\" style=\"background: #bfe1d9; padding: 0.45em 0.6em; margin: 0 0.25em; line-height: 1; border-radius: 0.35em;\">\n",
              "    quarterly\n",
              "    <span style=\"font-size: 0.8em; font-weight: bold; line-height: 1; border-radius: 0.35em; vertical-align: middle; margin-left: 0.5rem\">DATE</span>\n",
              "</mark>\n",
              " revenue ever, and broke multiple records along the way. We sold more \n",
              "<mark class=\"entity\" style=\"background: #bfeeb7; padding: 0.45em 0.6em; margin: 0 0.25em; line-height: 1; border-radius: 0.35em;\">\n",
              "    iPhones\n",
              "    <span style=\"font-size: 0.8em; font-weight: bold; line-height: 1; border-radius: 0.35em; vertical-align: middle; margin-left: 0.5rem\">PRODUCT</span>\n",
              "</mark>\n",
              " than ever before and set all-time revenue records for \n",
              "<mark class=\"entity\" style=\"background: #bfeeb7; padding: 0.45em 0.6em; margin: 0 0.25em; line-height: 1; border-radius: 0.35em;\">\n",
              "    iPhone\n",
              "    <span style=\"font-size: 0.8em; font-weight: bold; line-height: 1; border-radius: 0.35em; vertical-align: middle; margin-left: 0.5rem\">PRODUCT</span>\n",
              "</mark>\n",
              ", \n",
              "<mark class=\"entity\" style=\"background: #bfeeb7; padding: 0.45em 0.6em; margin: 0 0.25em; line-height: 1; border-radius: 0.35em;\">\n",
              "    Services\n",
              "    <span style=\"font-size: 0.8em; font-weight: bold; line-height: 1; border-radius: 0.35em; vertical-align: middle; margin-left: 0.5rem\">PRODUCT</span>\n",
              "</mark>\n",
              ", \n",
              "<mark class=\"entity\" style=\"background: #bfeeb7; padding: 0.45em 0.6em; margin: 0 0.25em; line-height: 1; border-radius: 0.35em;\">\n",
              "    Mac\n",
              "    <span style=\"font-size: 0.8em; font-weight: bold; line-height: 1; border-radius: 0.35em; vertical-align: middle; margin-left: 0.5rem\">PRODUCT</span>\n",
              "</mark>\n",
              " and \n",
              "<mark class=\"entity\" style=\"background: #bfeeb7; padding: 0.45em 0.6em; margin: 0 0.25em; line-height: 1; border-radius: 0.35em;\">\n",
              "    Apple Watch\n",
              "    <span style=\"font-size: 0.8em; font-weight: bold; line-height: 1; border-radius: 0.35em; vertical-align: middle; margin-left: 0.5rem\">PRODUCT</span>\n",
              "</mark>\n",
              "</div></span>"
            ]
          },
          "metadata": {}
        }
      ]
    },
    {
      "cell_type": "markdown",
      "source": [
        "Podemos observar claramente que o `roBERTa` superou o `spaCy` tradicional."
      ],
      "metadata": {
        "id": "dSRQ-D6ppdYl"
      }
    },
    {
      "cell_type": "markdown",
      "source": [
        "**Transformers**"
      ],
      "metadata": {
        "id": "D98iabP8EqMg"
      }
    },
    {
      "cell_type": "markdown",
      "source": [
        "O modelo `Davlan/distilbert-base-multilingual-cased-ner-hrl` é uma variação do modelo `DistilBERT`, que é uma versão menor e mais rápida do modelo `BERT`, pré-treinado para lidar com tarefas de PLN, como classificação de texto e reconhecimento de entidades nomeadas.\n",
        "\n",
        "No entanto, o `modelo Davlan/distilbert-base-multilingual-cased-ner-hrl` foi treinado especificamente para a tarefa de reconhecimento de entidades nomeadas em textos em vários idiomas, incluindo inglês, espanhol, português, francês, alemão, italiano, entre outros. O modelo foi treinado com o conjunto de dados HAREM, que é uma referência para a tarefa de reconhecimento de entidades nomeadas em português, e inclui mais de 28 milhões de palavras em diversos gêneros de texto.\n",
        "\n",
        "O modelo `Davlan/distilbert-base-multilingual-cased-ner-hrl` é uma opção poderosa para reconhecimento de entidades nomeadas em textos multilíngues, pois é capaz de lidar com diversos idiomas com desempenho razoável, sem a necessidade de treinamento adicional."
      ],
      "metadata": {
        "id": "tPzf_pOGEsUy"
      }
    },
    {
      "cell_type": "code",
      "source": [
        "from transformers import pipeline\n",
        "\n",
        "nlp = pipeline(\"ner\", model=\"Davlan/distilbert-base-multilingual-cased-ner-hrl\")\n",
        "\n",
        "text = \"My name is Wolfgang and I live in Berlin.\"\n",
        "\n",
        "entities = nlp(text)\n",
        "print(entities)"
      ],
      "metadata": {
        "colab": {
          "base_uri": "https://localhost:8080/"
        },
        "id": "jrelIpTeDwQB",
        "outputId": "20e8773d-e1ee-435c-835a-a5299e9ba9af"
      },
      "execution_count": null,
      "outputs": [
        {
          "output_type": "stream",
          "name": "stdout",
          "text": [
            "[{'entity': 'B-PER', 'score': 0.9997291, 'index': 4, 'word': 'Wolfgang', 'start': 11, 'end': 19}, {'entity': 'B-LOC', 'score': 0.999527, 'index': 9, 'word': 'Berlin', 'start': 34, 'end': 40}]\n"
          ]
        }
      ]
    },
    {
      "cell_type": "code",
      "source": [
        "for ent in entities:\n",
        "    entity_type = ent['entity']\n",
        "    entity_text = ent['word']\n",
        "    print(f\"Entity type: {entity_type}, Entity text: {entity_text}\")"
      ],
      "metadata": {
        "colab": {
          "base_uri": "https://localhost:8080/"
        },
        "id": "X7kRLCFpE8Nt",
        "outputId": "380f7e35-1bad-4e17-8c56-ba2944ec5b1e"
      },
      "execution_count": null,
      "outputs": [
        {
          "output_type": "stream",
          "name": "stdout",
          "text": [
            "Entity type: B-PER, Entity text: Wolfgang\n",
            "Entity type: B-LOC, Entity text: Berlin\n"
          ]
        }
      ]
    },
    {
      "cell_type": "code",
      "source": [
        "from transformers import pipeline\n",
        "\n",
        "nlp = pipeline(\"ner\", model=\"Davlan/distilbert-base-multilingual-cased-ner-hrl\")\n",
        "\n",
        "texto = \"O Brasil é um país localizado na América do Sul. Sua capital é Brasília e sua língua oficial é o português.\"\n",
        "\n",
        "entidades = nlp(texto)\n",
        "print(entidades)"
      ],
      "metadata": {
        "colab": {
          "base_uri": "https://localhost:8080/"
        },
        "id": "bHsSS3KyFC5x",
        "outputId": "9cf54866-0f61-4092-c7b7-f3c4943a2c8f"
      },
      "execution_count": null,
      "outputs": [
        {
          "output_type": "stream",
          "name": "stdout",
          "text": [
            "[{'entity': 'B-LOC', 'score': 0.9989478, 'index': 2, 'word': 'Brasil', 'start': 2, 'end': 8}, {'entity': 'B-LOC', 'score': 0.999899, 'index': 8, 'word': 'América', 'start': 33, 'end': 40}, {'entity': 'I-LOC', 'score': 0.9998323, 'index': 9, 'word': 'do', 'start': 41, 'end': 43}, {'entity': 'I-LOC', 'score': 0.9998659, 'index': 10, 'word': 'Sul', 'start': 44, 'end': 47}, {'entity': 'B-LOC', 'score': 0.99979275, 'index': 15, 'word': 'Brasília', 'start': 63, 'end': 71}]\n"
          ]
        }
      ]
    },
    {
      "cell_type": "code",
      "source": [
        "for ent in entidades:\n",
        "    entity_type = ent['entity']\n",
        "    entity_text = ent['word']\n",
        "    print(f\"Tipo: {entity_type}, Texto: {entity_text}\")"
      ],
      "metadata": {
        "colab": {
          "base_uri": "https://localhost:8080/"
        },
        "id": "Idm32b8rFQZO",
        "outputId": "a2f2589f-aa77-43e2-c245-668aba7bdd6a"
      },
      "execution_count": null,
      "outputs": [
        {
          "output_type": "stream",
          "name": "stdout",
          "text": [
            "Tipo: B-LOC, Texto: Brasil\n",
            "Tipo: B-LOC, Texto: América\n",
            "Tipo: I-LOC, Texto: do\n",
            "Tipo: I-LOC, Texto: Sul\n",
            "Tipo: B-LOC, Texto: Brasília\n"
          ]
        }
      ]
    },
    {
      "cell_type": "code",
      "source": [
        "# lista de entidades nomeadas completas\n",
        "entidades_completas = []\n",
        "\n",
        "# entidade atualmente em construção\n",
        "entidade_atual = None\n",
        "\n",
        "# iterar sobre as entidades previstas\n",
        "for ent in entidades:\n",
        "    # se a entidade atual é nula ou a nova entidade começa com \"B-\"\n",
        "    if entidade_atual is None or ent['entity'][0] == 'B':\n",
        "        # armazena a entidade anterior se existir\n",
        "        if entidade_atual is not None:\n",
        "            entidades_completas.append(entidade_atual)\n",
        "        # começa a construir uma nova entidade\n",
        "        entidade_atual = {\n",
        "            'entity': ent['entity'][2:],\n",
        "            'score': ent['score'],\n",
        "            'start': ent['start'],\n",
        "            'end': ent['end'],\n",
        "            'word': ent['word']\n",
        "        }\n",
        "    # se a nova entidade começa com \"I-\" e a entidade atual existe\n",
        "    elif entidade_atual is not None and ent['entity'][0] == 'I':\n",
        "        # adiciona a palavra à entidade atual\n",
        "        entidade_atual['end'] = ent['end']\n",
        "        entidade_atual['word'] += ' ' + ent['word']\n",
        "\n",
        "# armazena a última entidade atual se existir\n",
        "if entidade_atual is not None:\n",
        "    entidades_completas.append(entidade_atual)\n",
        "\n",
        "# imprime as entidades completas\n",
        "print(entidades_completas)"
      ],
      "metadata": {
        "colab": {
          "base_uri": "https://localhost:8080/"
        },
        "id": "DegsEJygGb9S",
        "outputId": "efdfa66a-c219-4627-8a37-1a93f55f9b77"
      },
      "execution_count": null,
      "outputs": [
        {
          "output_type": "stream",
          "name": "stdout",
          "text": [
            "[{'entity': 'LOC', 'score': 0.9989478, 'start': 2, 'end': 8, 'word': 'Brasil'}, {'entity': 'LOC', 'score': 0.999899, 'start': 33, 'end': 47, 'word': 'América do Sul'}, {'entity': 'LOC', 'score': 0.99979275, 'start': 63, 'end': 71, 'word': 'Brasília'}]\n"
          ]
        }
      ]
    },
    {
      "cell_type": "code",
      "source": [
        "for ent in entidades_completas:\n",
        "    entity_type = ent['entity']\n",
        "    entity_text = ent['word']\n",
        "    print(f\"Tipo: {entity_type}, Texto: {entity_text}\")"
      ],
      "metadata": {
        "colab": {
          "base_uri": "https://localhost:8080/"
        },
        "id": "KRqYD0vYGyIa",
        "outputId": "59c12fcc-36d6-423b-8296-9b34d6b7d0aa"
      },
      "execution_count": null,
      "outputs": [
        {
          "output_type": "stream",
          "name": "stdout",
          "text": [
            "Tipo: LOC, Texto: Brasil\n",
            "Tipo: LOC, Texto: América do Sul\n",
            "Tipo: LOC, Texto: Brasília\n"
          ]
        }
      ]
    },
    {
      "cell_type": "markdown",
      "source": [
        "**EntityRuler no spaCY**"
      ],
      "metadata": {
        "id": "z-89ysqfVCzc"
      }
    },
    {
      "cell_type": "markdown",
      "source": [
        "O `EntityRuler` é um componente da biblioteca `spaCy` que permite adicionar novas entidades nomeadas personalizadas a um modelo existente. O `EntityRuler` permite definir padrões de correspondência baseados em regras para identificar  entidades no texto. Esses padrões podem ser baseados em palavras, partes do discurso, padrões de sintaxe e outros recursos linguísticos. O `EntityRuler` é útil quando um modelo pré-treinado não é capaz de identificar as entidades desejadas ou quando é necessário adicionar novas entidades que não estão presentes no modelo original."
      ],
      "metadata": {
        "id": "fCups5Q4dJWr"
      }
    },
    {
      "cell_type": "code",
      "source": [
        "import spacy\n",
        "\n",
        "text = \"Martha, a senior, moved to Spain where she will be playing basketball until 05 June 2022 or until she can't play any longer.\"\n",
        "\n",
        "nlp = spacy.load('en_core_web_sm')\n",
        "\n",
        "doc = nlp(text)\n",
        "\n",
        "entities = [(ent.text, ent.label_) for ent in doc.ents]\n",
        "entities"
      ],
      "metadata": {
        "colab": {
          "base_uri": "https://localhost:8080/"
        },
        "id": "Y-1aB-PAaNXP",
        "outputId": "a7e6800c-8bd4-4be3-a3ea-0615538f245f"
      },
      "execution_count": null,
      "outputs": [
        {
          "output_type": "execute_result",
          "data": {
            "text/plain": [
              "[('Martha', 'PERSON'), ('Spain', 'GPE'), ('05 June 2022', 'DATE')]"
            ]
          },
          "metadata": {},
          "execution_count": 22
        }
      ]
    },
    {
      "cell_type": "code",
      "source": [
        "ruler = nlp.add_pipe(\"entity_ruler\")\n",
        "\n",
        "patterns = [{\"label\": \"SPORT\", \"pattern\": \"basketball\"}]\n",
        "ruler.add_patterns(patterns)\n",
        "\n",
        "doc = nlp(text)\n",
        "\n",
        "for ent in doc.ents:\n",
        "  print(ent.text, ent.label_)"
      ],
      "metadata": {
        "colab": {
          "base_uri": "https://localhost:8080/"
        },
        "id": "CUHYnpLibIyu",
        "outputId": "892effca-0301-49ef-a0a9-5b3b0c2d39de"
      },
      "execution_count": null,
      "outputs": [
        {
          "output_type": "stream",
          "name": "stdout",
          "text": [
            "Martha PERSON\n",
            "Spain GPE\n",
            "basketball SPORT\n",
            "05 June 2022 DATE\n"
          ]
        }
      ]
    },
    {
      "cell_type": "code",
      "source": [
        "text = \"LeBron James is widely regarded as one of the greatest basketball players of all time.\"\n",
        "\n",
        "doc = nlp(text)\n",
        "\n",
        "for ent in doc.ents:\n",
        "  print(ent.text, ent.label_)"
      ],
      "metadata": {
        "colab": {
          "base_uri": "https://localhost:8080/"
        },
        "id": "NfMCX7k3dmLR",
        "outputId": "57067ee2-8d3a-4cd6-c395-ef7ba5669081"
      },
      "execution_count": null,
      "outputs": [
        {
          "output_type": "stream",
          "name": "stdout",
          "text": [
            "LeBron James PERSON\n",
            "basketball SPORT\n"
          ]
        }
      ]
    },
    {
      "cell_type": "code",
      "source": [
        "import spacy\n",
        "\n",
        "nlp = spacy.load('en_core_web_sm')\n",
        "\n",
        "text = \"\"\"\n",
        "We are looking for a data scientist with knowledge of Python and MySQL. \n",
        "The role will involve working with Pandas, scikit-learn, and Spacy.\n",
        "Knowledge of Tensor Flow would be advantageous.\n",
        "\"\"\"\n",
        "\n",
        "doc = nlp(text)\n",
        "\n",
        "entities = [(ent.text, ent.label_) for ent in doc.ents]\n",
        "entities"
      ],
      "metadata": {
        "colab": {
          "base_uri": "https://localhost:8080/"
        },
        "id": "fkt5SlaLfT4j",
        "outputId": "7d36bb29-b9e1-44fd-ae75-7a2674c73943"
      },
      "execution_count": null,
      "outputs": [
        {
          "output_type": "execute_result",
          "data": {
            "text/plain": [
              "[('Pandas', 'ORG'), ('Spacy', 'PERSON')]"
            ]
          },
          "metadata": {},
          "execution_count": 27
        }
      ]
    },
    {
      "cell_type": "code",
      "source": [
        "text = \"\"\"\n",
        "We are looking for a data scientist with knowledge of Python and MySQL. \n",
        "The role will involve working with Pandas, scikit-learn, and Spacy.\n",
        "Knowledge of Tensor Flow would be advantageous.\n",
        "\"\"\"\n",
        "\n",
        "nlp = spacy.load('en_core_web_sm')\n",
        "\n",
        "skills = [\n",
        "    {'label': 'SKILL', 'pattern': [{\"LOWER\": \"python\"}], 'id': 'python'},\n",
        "    {'label': 'SKILL', 'pattern': [{\"LOWER\": \"sql\"}], 'id': 'sql'},\n",
        "    {'label': 'SKILL', 'pattern': [{\"LOWER\": \"mysql\"}], 'id': 'mysql'},\n",
        "    {'label': 'SKILL', 'pattern': [{\"LOWER\": \"pandas\"}], 'id': 'pandas'},\n",
        "    {'label': 'SKILL', 'pattern': [{\"LOWER\": \"spacy\"}], 'id': 'spacy'},\n",
        "    {'label': 'SKILL', 'pattern': [{\"LOWER\": \"scikit-learn\"}], 'id': 'scikit-learn'},\n",
        "    {'label': 'SKILL', 'pattern': [{\"LOWER\": \"scikit\"}, {\"LOWER\": \"learn\"}], 'id': 'scikit-learn'},\n",
        "    {'label': 'SKILL', 'pattern': [{\"LOWER\": \"sklearn\"}], 'id': 'scikit-learn'},\n",
        "    {'label': 'SKILL', 'pattern': [{\"LOWER\": \"tensor\"}, {\"LOWER\": \"flow\"}], 'id': 'tensorflow'},\n",
        "]\n",
        "\n",
        "ruler = nlp.add_pipe('entity_ruler', before='ner')\n",
        "ruler.add_patterns(skills)\n",
        "\n",
        "doc = nlp(text)\n",
        "\n",
        "entities = [(ent.text, ent.label_, ent.ent_id_) for ent in doc.ents]\n",
        "entities"
      ],
      "metadata": {
        "colab": {
          "base_uri": "https://localhost:8080/"
        },
        "id": "FA3C41HffksY",
        "outputId": "dfbf4ee6-8919-4c68-c995-244ff53439df"
      },
      "execution_count": null,
      "outputs": [
        {
          "output_type": "execute_result",
          "data": {
            "text/plain": [
              "[('Python', 'SKILL', 'python'),\n",
              " ('MySQL', 'SKILL', 'mysql'),\n",
              " ('Pandas', 'SKILL', 'pandas'),\n",
              " ('Spacy', 'SKILL', 'spacy'),\n",
              " ('Tensor Flow', 'SKILL', 'tensorflow')]"
            ]
          },
          "metadata": {},
          "execution_count": 28
        }
      ]
    }
  ]
}