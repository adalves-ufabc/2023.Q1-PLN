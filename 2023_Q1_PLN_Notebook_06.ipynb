{
  "nbformat": 4,
  "nbformat_minor": 0,
  "metadata": {
    "colab": {
      "provenance": [],
      "include_colab_link": true
    },
    "kernelspec": {
      "name": "python3",
      "display_name": "Python 3"
    }
  },
  "cells": [
    {
      "cell_type": "markdown",
      "metadata": {
        "id": "view-in-github",
        "colab_type": "text"
      },
      "source": [
        "<a href=\"https://colab.research.google.com/github/adalves-ufabc/2023.Q1-PLN/blob/main/2023_Q1_PLN_Notebook_06.ipynb\" target=\"_parent\"><img src=\"https://colab.research.google.com/assets/colab-badge.svg\" alt=\"Open In Colab\"/></a>"
      ]
    },
    {
      "cell_type": "markdown",
      "metadata": {
        "id": "Y6QILOdpOjwv"
      },
      "source": [
        "# **Processamento de Linguagem Natural [2023.Q1]**\n",
        "Prof. Alexandre Donizeti Alves"
      ]
    },
    {
      "cell_type": "markdown",
      "metadata": {
        "id": "nmK05FgcOzL2"
      },
      "source": [
        "## **Representação de Textos**\n",
        "---\n",
        "\n"
      ]
    },
    {
      "cell_type": "markdown",
      "source": [
        "A representação de textos em PLN é a forma como as informações contidas em um texto são estruturadas e organizadas para que possam ser processadas por algoritmos de computador. Essa representação é importante porque os computadores não conseguem entender textos como os seres humanos, eles precisam de uma forma estruturada de apresentação dos dados para poderem trabalhar com eles.\n",
        "\n",
        "Existem várias formas de representação de textos em PLN, e cada uma delas é adequada para diferentes tipos de tarefas."
      ],
      "metadata": {
        "id": "YKeqSx2qOxPW"
      }
    },
    {
      "cell_type": "markdown",
      "source": [
        "**Codificação *One-Hot***"
      ],
      "metadata": {
        "id": "JQxE8AmxMh-O"
      }
    },
    {
      "cell_type": "markdown",
      "source": [
        "A codificação *one-hot* é uma técnica utilizada para representar variáveis categóricas em forma de vetores numéricos binários. É uma técnica comumente utilizada em aprendizado de máquina e PLN.\n",
        "\n",
        "Nessa técnica, cada categoria é representada por um vetor binário de tamanho igual ao número total de categorias. Cada posição do vetor representa uma categoria distinta, e apenas uma posição no vetor é 1, enquanto todas as outras são 0. A posição em que o valor é 1 indica a categoria correspondente àquela posição.\n",
        "\n",
        "Por exemplo, se tivermos três categorias: \"vermelho\", \"azul\" e \"verde\", podemos usar a codificação *one-hot* para representá-las em vetores binários:\n",
        "\n",
        "    vermelho = [1, 0, 0]\n",
        "    azul = [0, 1, 0]\n",
        "    verde = [0, 0, 1]\n",
        "\n",
        "Essa técnica é útil porque permite que as variáveis categóricas sejam utilizadas como entradas para algoritmos de aprendizado de máquina que exigem dados numéricos como entrada. Além disso, a codificação *one-hot* evita que as categorias sejam erroneamente interpretadas como variáveis numéricas ordenadas, o que não é correto para a maioria das variáveis categóricas.\n",
        "\n",
        "A codificação *one-hot* pode ser usada em várias aplicações de PLN, como na representação de palavras em textos, onde cada palavra pode ser representada como um vetor binário que indica se a palavra ocorre ou não no texto. A técnica também pode ser utilizada para representar categorias de tópicos em textos ou em sistemas de recomendação baseados em conteúdo."
      ],
      "metadata": {
        "id": "5PLlouIXMmof"
      }
    },
    {
      "cell_type": "markdown",
      "source": [
        "Aqui está um exemplo simples de como usar a codificação *one-hot* para representar categorias em Python:"
      ],
      "metadata": {
        "id": "s__uuj3qOZ9Z"
      }
    },
    {
      "cell_type": "code",
      "source": [
        "from sklearn.preprocessing import OneHotEncoder\n",
        "import numpy as np\n",
        "\n",
        "# Criando um conjunto de dados de exemplo\n",
        "categorias = np.array(['frutas', 'legumes', 'carnes',\n",
        "                       'frutas', 'carnes', 'legumes'])\n",
        "\n",
        "# Criando um objeto de codificação one-hot\n",
        "encoder = OneHotEncoder()\n",
        "\n",
        "# Aplicando a codificação one-hot aos dados\n",
        "categorias_encoded = encoder.fit_transform(categorias.reshape(-1, 1))\n",
        "\n",
        "# Imprimindo as categorias codificadas\n",
        "print(categorias_encoded.toarray())"
      ],
      "metadata": {
        "colab": {
          "base_uri": "https://localhost:8080/"
        },
        "id": "zUxWrMtINcqu",
        "outputId": "7052e6b5-7f5f-486e-a3fd-cb98eb058899"
      },
      "execution_count": null,
      "outputs": [
        {
          "output_type": "stream",
          "name": "stdout",
          "text": [
            "[[0. 1. 0.]\n",
            " [0. 0. 1.]\n",
            " [1. 0. 0.]\n",
            " [0. 1. 0.]\n",
            " [1. 0. 0.]\n",
            " [0. 0. 1.]]\n"
          ]
        }
      ]
    },
    {
      "cell_type": "markdown",
      "source": [
        "Neste exemplo, primeiro importamos a biblioteca `sklearn.preprocessing`, que contém a classe `OneHotEncoder`. Em seguida, criamos um conjunto de dados de exemplo, representando diferentes categorias.\n",
        "\n",
        "Em seguida, criamos um objeto `OneHotEncoder()` e aplicamos a codificação *one-hot* aos dados de categorias usando o método `fit_transform()`. O resultado é uma matriz de números binários que representa cada categoria em forma de vetor *one-hot*.\n",
        "\n",
        "Por fim, imprimimos a matriz de categorias codificadas usando o método `toarray()`. O resultado deve ser uma matriz de tamanho (6, 3) (já que temos três categorias únicas), onde cada linha representa uma categoria em forma de vetor *one-hot*.\n",
        "\n",
        "Note que, neste exemplo, usamos o método `reshape(-1, 1)` para transformar o vetor de categorias em uma matriz de uma coluna, que é o formato esperado pelo `fit_transform()`. Além disso, usamos o método `toarray()` para converter o resultado do `fit_transform()` em uma matriz `numpy` convencional para facilitar a impressão."
      ],
      "metadata": {
        "id": "CUCK76BTOkEI"
      }
    },
    {
      "cell_type": "markdown",
      "source": [
        "Aqui está outro exemplo de como usar a codificação `one-hot` em Python para representar dados categóricos:"
      ],
      "metadata": {
        "id": "Uf8Z9zyuSTkA"
      }
    },
    {
      "cell_type": "code",
      "source": [
        "import pandas as pd\n",
        "from sklearn.preprocessing import OneHotEncoder\n",
        "\n",
        "# Criando um dataframe com dados categóricos\n",
        "df = pd.DataFrame({'cor': ['vermelho', 'azul', 'verde', 'verde',\n",
        "                           'vermelho', 'azul']})\n",
        "\n",
        "# Criando um objeto OneHotEncoder\n",
        "encoder = OneHotEncoder()\n",
        "\n",
        "# Aplicando o codificador aos dados\n",
        "dados_encoded = encoder.fit_transform(df)\n",
        "\n",
        "# Imprimindo o dataframe codificado\n",
        "df_encoded = pd.DataFrame(dados_encoded.toarray(), columns=encoder.get_feature_names_out(['cor']))\n",
        "print(df_encoded)"
      ],
      "metadata": {
        "colab": {
          "base_uri": "https://localhost:8080/"
        },
        "id": "kY8Ka7GZSA91",
        "outputId": "4bd4f710-216f-4cdb-8c84-4283bbbfb34e"
      },
      "execution_count": null,
      "outputs": [
        {
          "output_type": "stream",
          "name": "stdout",
          "text": [
            "   cor_azul  cor_verde  cor_vermelho\n",
            "0       0.0        0.0           1.0\n",
            "1       1.0        0.0           0.0\n",
            "2       0.0        1.0           0.0\n",
            "3       0.0        1.0           0.0\n",
            "4       0.0        0.0           1.0\n",
            "5       1.0        0.0           0.0\n"
          ]
        }
      ]
    },
    {
      "cell_type": "markdown",
      "source": [
        "Aqui está um exemplo completo de como usar a codificação `one-hot` para representar avaliações de filmes em Python usando um `DataFrame`:"
      ],
      "metadata": {
        "id": "MkZhVnLXQuU0"
      }
    },
    {
      "cell_type": "code",
      "source": [
        "import pandas as pd\n",
        "from sklearn.feature_extraction.text import CountVectorizer\n",
        "\n",
        "# Criando um dataframe com as avaliações\n",
        "df = pd.DataFrame({'avaliacao': ['O filme foi excelente', \n",
        "                                 'A história foi um pouco confusa', \n",
        "                                 'O elenco foi muito talentoso', \n",
        "                                 'Não gostei do final do filme']})\n",
        "\n",
        "# Criando um objeto CountVectorizer para extrair os recursos de texto\n",
        "vectorizer = CountVectorizer(binary=True)\n",
        "\n",
        "# Aplicando o vetorizador aos dados de avaliações\n",
        "avaliacoes_encoded = vectorizer.fit_transform(df['avaliacao'])\n",
        "\n",
        "# Imprimindo o vocabulário extraído pelo vetorizador\n",
        "print('Vocabulário:')\n",
        "print(vectorizer.get_feature_names_out())\n",
        "\n",
        "# Imprimindo a matriz de avaliações codificadas\n",
        "print('\\nMatriz de avaliações codificadas:')\n",
        "print(avaliacoes_encoded.toarray())\n",
        "\n",
        "# Criando um dataframe com as avaliações codificadas\n",
        "df_encoded = pd.DataFrame(avaliacoes_encoded.toarray(), columns=vectorizer.get_feature_names_out())\n",
        "\n",
        "# Imprimindo o dataframe de avaliações codificadas\n",
        "print('\\nDataframe de avaliações codificadas:')\n",
        "print(df_encoded)"
      ],
      "metadata": {
        "colab": {
          "base_uri": "https://localhost:8080/"
        },
        "id": "8y4YV6ANQQZV",
        "outputId": "b506ed0d-30d8-43be-c2e2-1f6d301e2009"
      },
      "execution_count": null,
      "outputs": [
        {
          "output_type": "stream",
          "name": "stdout",
          "text": [
            "Vocabulário:\n",
            "['confusa' 'do' 'elenco' 'excelente' 'filme' 'final' 'foi' 'gostei'\n",
            " 'história' 'muito' 'não' 'pouco' 'talentoso' 'um']\n",
            "\n",
            "Matriz de avaliações codificadas:\n",
            "[[0 0 0 1 1 0 1 0 0 0 0 0 0 0]\n",
            " [1 0 0 0 0 0 1 0 1 0 0 1 0 1]\n",
            " [0 0 1 0 0 0 1 0 0 1 0 0 1 0]\n",
            " [0 1 0 0 1 1 0 1 0 0 1 0 0 0]]\n",
            "\n",
            "Dataframe de avaliações codificadas:\n",
            "   confusa  do  elenco  excelente  filme  final  foi  gostei  história  muito  \\\n",
            "0        0   0       0          1      1      0    1       0         0      0   \n",
            "1        1   0       0          0      0      0    1       0         1      0   \n",
            "2        0   0       1          0      0      0    1       0         0      1   \n",
            "3        0   1       0          0      1      1    0       1         0      0   \n",
            "\n",
            "   não  pouco  talentoso  um  \n",
            "0    0      0          0   0  \n",
            "1    0      1          0   1  \n",
            "2    0      0          1   0  \n",
            "3    1      0          0   0  \n"
          ]
        }
      ]
    },
    {
      "cell_type": "markdown",
      "source": [
        "Aqui está um exemplo simples:"
      ],
      "metadata": {
        "id": "WKycX8bRReNl"
      }
    },
    {
      "cell_type": "code",
      "source": [
        "documents = [\"Cachorro morde homem.\",\n",
        "             \"Homem morde cachorro.\", \n",
        "             \"Cachorro come carne.\", \n",
        "             \"Homem come comida.\"]\n",
        "\n",
        "processed_docs = [doc.lower().replace(\".\",\"\") for doc in documents]\n",
        "processed_docs"
      ],
      "metadata": {
        "colab": {
          "base_uri": "https://localhost:8080/"
        },
        "id": "inYKefeLRhgd",
        "outputId": "3a4b4ae5-50b2-4f7f-e26b-425ad36dac6f"
      },
      "execution_count": null,
      "outputs": [
        {
          "output_type": "execute_result",
          "data": {
            "text/plain": [
              "['cachorro morde homem',\n",
              " 'homem morde cachorro',\n",
              " 'cachorro come carne',\n",
              " 'homem come comida']"
            ]
          },
          "metadata": {},
          "execution_count": 13
        }
      ]
    },
    {
      "cell_type": "code",
      "source": [
        "# vocabulário\n",
        "vocab = {}\n",
        "count = 0\n",
        "for doc in processed_docs:\n",
        "    for word in doc.split():\n",
        "        if word not in vocab:\n",
        "            count = count +1\n",
        "            vocab[word] = count\n",
        "print(vocab)"
      ],
      "metadata": {
        "colab": {
          "base_uri": "https://localhost:8080/"
        },
        "id": "0Mh02MOoRl7e",
        "outputId": "a6611cf1-ed94-448a-c68f-d005f562fd15"
      },
      "execution_count": null,
      "outputs": [
        {
          "output_type": "stream",
          "name": "stdout",
          "text": [
            "{'cachorro': 1, 'morde': 2, 'homem': 3, 'come': 4, 'carne': 5, 'comida': 6}\n"
          ]
        }
      ]
    },
    {
      "cell_type": "code",
      "source": [
        "def get_onehot_vector(somestring):\n",
        "    onehot_encoded = []\n",
        "    for word in somestring.split():\n",
        "        temp = [0]*len(vocab)\n",
        "        if word in vocab:\n",
        "            # -1 is to take care of the fact indexing in array starts from 0 and not 1\n",
        "            temp[vocab[word]-1] = 1 \n",
        "        onehot_encoded.append(temp)\n",
        "\n",
        "    return onehot_encoded"
      ],
      "metadata": {
        "id": "jLIOve_DRsn6"
      },
      "execution_count": null,
      "outputs": []
    },
    {
      "cell_type": "code",
      "source": [
        "print(processed_docs[0])\n",
        "get_onehot_vector(processed_docs[0])"
      ],
      "metadata": {
        "colab": {
          "base_uri": "https://localhost:8080/"
        },
        "id": "x0pTjdYDRxqf",
        "outputId": "23626330-53ea-4ebb-86b3-d6bf7832882e"
      },
      "execution_count": null,
      "outputs": [
        {
          "output_type": "stream",
          "name": "stdout",
          "text": [
            "cachorro morde homem\n"
          ]
        },
        {
          "output_type": "execute_result",
          "data": {
            "text/plain": [
              "[[1, 0, 0, 0, 0, 0], [0, 1, 0, 0, 0, 0], [0, 0, 1, 0, 0, 0]]"
            ]
          },
          "metadata": {},
          "execution_count": 16
        }
      ]
    },
    {
      "cell_type": "code",
      "source": [
        "get_onehot_vector(\"homem e cachorro são bons\") "
      ],
      "metadata": {
        "colab": {
          "base_uri": "https://localhost:8080/"
        },
        "id": "sjCUvudHR2TW",
        "outputId": "9f26d122-18f9-4fa8-e56a-44255ea82233"
      },
      "execution_count": null,
      "outputs": [
        {
          "output_type": "execute_result",
          "data": {
            "text/plain": [
              "[[0, 0, 1, 0, 0, 0],\n",
              " [0, 0, 0, 0, 0, 0],\n",
              " [1, 0, 0, 0, 0, 0],\n",
              " [0, 0, 0, 0, 0, 0],\n",
              " [0, 0, 0, 0, 0, 0]]"
            ]
          },
          "metadata": {},
          "execution_count": 17
        }
      ]
    },
    {
      "cell_type": "markdown",
      "source": [
        "***Bag of Words***"
      ],
      "metadata": {
        "id": "wYVIYFfWSgit"
      }
    },
    {
      "cell_type": "markdown",
      "source": [
        "A representação de textos *Bag of Words* é uma técnica simples e amplamente utilizada na área de PLN para representar documentos de texto como vetores numéricos que podem ser usados em algoritmos de aprendizado de máquina.\n",
        "\n",
        "A ideia básica por trás da representação *Bag of Words* é contar a frequência de ocorrência de cada palavra em um determinado texto e, em seguida, construir um vetor numérico que representa esse texto, onde cada elemento do vetor representa a frequência de uma palavra específica. Dessa forma, um documento de texto é representado como um vetor de tamanho fixo, onde cada posição do vetor representa uma palavra distinta do texto."
      ],
      "metadata": {
        "id": "qynG2keaSk4P"
      }
    },
    {
      "cell_type": "markdown",
      "source": [
        "Aqui está um exemplo de como criar uma representação *Bag of Words* usando o Python e a biblioteca `scikit-learn`:"
      ],
      "metadata": {
        "id": "MsFfy9aTUyAN"
      }
    },
    {
      "cell_type": "code",
      "source": [
        "from sklearn.feature_extraction.text import CountVectorizer\n",
        "\n",
        "# Conjunto de documentos de exemplo\n",
        "documentos = ['O céu está azul e as nuvens brancas',\n",
        "              'O sol está quente e o céu está azul',\n",
        "              'As nuvens são brancas e o sol está quente']\n",
        "\n",
        "# Criando um objeto CountVectorizer\n",
        "vectorizer = CountVectorizer()\n",
        "\n",
        "# Aplicando o vetorizador aos documentos\n",
        "bag_of_words = vectorizer.fit_transform(documentos)\n",
        "\n",
        "# Imprimindo o vocabulário\n",
        "vocabulario = vectorizer.get_feature_names_out()\n",
        "print(\"Vocabulário:\")\n",
        "print(vocabulario)\n",
        "\n",
        "# Imprimindo a representação Bag-of-Words dos documentos\n",
        "print(\"Representação Bag-of-Words:\")\n",
        "print(bag_of_words.toarray())"
      ],
      "metadata": {
        "colab": {
          "base_uri": "https://localhost:8080/"
        },
        "id": "77ZpQDoCVFt9",
        "outputId": "df50e13f-aee6-485e-945c-8fec4342cb64"
      },
      "execution_count": null,
      "outputs": [
        {
          "output_type": "stream",
          "name": "stdout",
          "text": [
            "Vocabulário:\n",
            "['as' 'azul' 'brancas' 'céu' 'está' 'nuvens' 'quente' 'sol' 'são']\n",
            "Representação Bag-of-Words:\n",
            "[[1 1 1 1 1 1 0 0 0]\n",
            " [0 1 0 1 2 0 1 1 0]\n",
            " [1 0 1 0 1 1 1 1 1]]\n"
          ]
        }
      ]
    },
    {
      "cell_type": "code",
      "source": [
        "from sklearn.feature_extraction.text import CountVectorizer\n",
        "\n",
        "# Conjunto de documentos de exemplo\n",
        "documentos = ['Cachorro morde homem',\n",
        "              'Homem morde cachorro',\n",
        "              'Cachorro come carne',\n",
        "              'Homem come comida']\n",
        "\n",
        "# Criando um objeto CountVectorizer\n",
        "vectorizer = CountVectorizer()\n",
        "\n",
        "# Aplicando o vetorizador aos documentos\n",
        "bag_of_words = vectorizer.fit_transform(documentos)\n",
        "\n",
        "# Imprimindo o vocabulário\n",
        "vocabulario = vectorizer.get_feature_names_out()\n",
        "print(\"Vocabulário:\")\n",
        "print(vocabulario)\n",
        "\n",
        "# Imprimindo a representação Bag-of-Words dos documentos\n",
        "print(\"Representação Bag-of-Words:\")\n",
        "print(bag_of_words.toarray())"
      ],
      "metadata": {
        "colab": {
          "base_uri": "https://localhost:8080/"
        },
        "id": "Z0Bv4CkAVo5H",
        "outputId": "08755768-830b-4e77-c4f8-e59e812fd9cd"
      },
      "execution_count": null,
      "outputs": [
        {
          "output_type": "stream",
          "name": "stdout",
          "text": [
            "Vocabulário:\n",
            "['cachorro' 'carne' 'come' 'comida' 'homem' 'morde']\n",
            "Representação Bag-of-Words:\n",
            "[[1 0 0 0 1 1]\n",
            " [1 0 0 0 1 1]\n",
            " [1 1 1 0 0 0]\n",
            " [0 0 1 1 1 0]]\n"
          ]
        }
      ]
    },
    {
      "cell_type": "markdown",
      "source": [
        "Aqui está um exemplo de como criar uma representação *Bag of Words* usando a biblioteca NLTK do Python:"
      ],
      "metadata": {
        "id": "C7DCTL7iXbb2"
      }
    },
    {
      "cell_type": "code",
      "source": [
        "import nltk\n",
        "nltk.download('punkt')"
      ],
      "metadata": {
        "colab": {
          "base_uri": "https://localhost:8080/"
        },
        "id": "1B_QaimhXpVm",
        "outputId": "be80ef9f-8825-446b-dbbe-91c929071604"
      },
      "execution_count": null,
      "outputs": [
        {
          "output_type": "stream",
          "name": "stderr",
          "text": [
            "[nltk_data] Downloading package punkt to /root/nltk_data...\n",
            "[nltk_data]   Unzipping tokenizers/punkt.zip.\n"
          ]
        },
        {
          "output_type": "execute_result",
          "data": {
            "text/plain": [
              "True"
            ]
          },
          "metadata": {},
          "execution_count": 25
        }
      ]
    },
    {
      "cell_type": "code",
      "source": [
        "import nltk\n",
        "from nltk.tokenize import word_tokenize\n",
        "from collections import Counter\n",
        "\n",
        "# Conjunto de documentos de exemplo\n",
        "documentos = ['O céu está azul e as nuvens brancas',\n",
        "              'O sol está quente e o céu está azul',\n",
        "              'As nuvens são brancas e o sol está quente']\n",
        "\n",
        "# Tokenizando os documentos\n",
        "tokens = [word_tokenize(doc.lower()) for doc in documentos]\n",
        "\n",
        "# Criando um vocabulário a partir dos tokens\n",
        "vocabulario = sorted(set([token for doc in tokens for token in doc]))\n",
        "\n",
        "# Criando a representação Bag-of-Words dos documentos\n",
        "bow = []\n",
        "for doc in tokens:\n",
        "    contador = Counter(doc)\n",
        "    bag_of_words = [contador[token] if token in doc else 0 for token in vocabulario]\n",
        "    bow.append(bag_of_words)\n",
        "\n",
        "# Imprimindo o vocabulário\n",
        "print(\"Vocabulário:\")\n",
        "print(vocabulario)\n",
        "\n",
        "# Imprimindo a representação Bag-of-Words dos documentos\n",
        "print(\"Representação Bag-of-Words:\")\n",
        "for i, doc in enumerate(bow):\n",
        "    print(f\"Documento {i+1}: {doc}\")"
      ],
      "metadata": {
        "colab": {
          "base_uri": "https://localhost:8080/"
        },
        "id": "YH831fmHXhW9",
        "outputId": "3fb423c7-e7df-41a8-d8db-d24859031175"
      },
      "execution_count": null,
      "outputs": [
        {
          "output_type": "stream",
          "name": "stdout",
          "text": [
            "Vocabulário:\n",
            "['as', 'azul', 'brancas', 'céu', 'e', 'está', 'nuvens', 'o', 'quente', 'sol', 'são']\n",
            "Representação Bag-of-Words:\n",
            "Documento 1: [1, 1, 1, 1, 1, 1, 1, 1, 0, 0, 0]\n",
            "Documento 2: [0, 1, 0, 1, 1, 2, 0, 2, 1, 1, 0]\n",
            "Documento 3: [1, 0, 1, 0, 1, 1, 1, 1, 1, 1, 1]\n"
          ]
        }
      ]
    },
    {
      "cell_type": "code",
      "source": [
        "import nltk\n",
        "from nltk.tokenize import word_tokenize\n",
        "from collections import Counter\n",
        "\n",
        "# Conjunto de documentos de exemplo\n",
        "documentos = ['Cachorro morde homem',\n",
        "              'Homem morde cachorro',\n",
        "              'Cachorro come carne',\n",
        "              'Homem come comida']\n",
        "\n",
        "# Tokenizando os documentos\n",
        "tokens = [word_tokenize(doc.lower()) for doc in documentos]\n",
        "\n",
        "# Criando um vocabulário a partir dos tokens\n",
        "vocabulario = sorted(set([token for doc in tokens for token in doc]))\n",
        "\n",
        "# Criando a representação Bag-of-Words dos documentos\n",
        "bow = []\n",
        "for doc in tokens:\n",
        "    contador = Counter(doc)\n",
        "    bag_of_words = [contador[token] if token in doc else 0 for token in vocabulario]\n",
        "    bow.append(bag_of_words)\n",
        "\n",
        "# Imprimindo o vocabulário\n",
        "print(\"Vocabulário:\")\n",
        "print(vocabulario)\n",
        "\n",
        "# Imprimindo a representação Bag-of-Words dos documentos\n",
        "print(\"Representação Bag-of-Words:\")\n",
        "for i, doc in enumerate(bow):\n",
        "    print(f\"Documento {i+1}: {doc}\")"
      ],
      "metadata": {
        "colab": {
          "base_uri": "https://localhost:8080/"
        },
        "id": "kErcpCgWX0rV",
        "outputId": "ba3e2f92-0cfb-47b6-97bb-165c2fc46c23"
      },
      "execution_count": null,
      "outputs": [
        {
          "output_type": "stream",
          "name": "stdout",
          "text": [
            "Vocabulário:\n",
            "['cachorro', 'carne', 'come', 'comida', 'homem', 'morde']\n",
            "Representação Bag-of-Words:\n",
            "Documento 1: [1, 0, 0, 0, 1, 1]\n",
            "Documento 2: [1, 0, 0, 0, 1, 1]\n",
            "Documento 3: [1, 1, 1, 0, 0, 0]\n",
            "Documento 4: [0, 0, 1, 1, 1, 0]\n"
          ]
        }
      ]
    },
    {
      "cell_type": "code",
      "source": [
        "# Testando com um novo documento que tem uma palavra fora do vocabulário\n",
        "novo_doc = \"Cachorro briga com gato\"\n",
        "novo_tokens = word_tokenize(novo_doc.lower())\n",
        "novo_bow = [0 for _ in range(len(vocabulario))]\n",
        "for token in novo_tokens:\n",
        "    if token in vocabulario:\n",
        "        novo_bow[vocabulario.index(token)] += 1\n",
        "\n",
        "print(f\"Representação Bag-of-Words do novo documento: {novo_bow}\")"
      ],
      "metadata": {
        "colab": {
          "base_uri": "https://localhost:8080/"
        },
        "id": "ahgsqLVBYwrW",
        "outputId": "2b8c8ec6-b863-4d5b-cf65-dbdcc8ec0fb4"
      },
      "execution_count": null,
      "outputs": [
        {
          "output_type": "stream",
          "name": "stdout",
          "text": [
            "Representação Bag-of-Words do novo documento: [1, 0, 0, 0, 0, 0]\n"
          ]
        }
      ]
    },
    {
      "cell_type": "markdown",
      "source": [
        "Notem que para palavras que não estão no vocabulário, simplesmente deixamos o valor correspondente como zero."
      ],
      "metadata": {
        "id": "Fe0mkEpqZNqm"
      }
    },
    {
      "cell_type": "markdown",
      "source": [
        "Aqui está um exemplo interessante de como usar a representação *Bag of Words* para comparar a similaridade entre documentos:"
      ],
      "metadata": {
        "id": "tIpiz-pgZeUo"
      }
    },
    {
      "cell_type": "code",
      "source": [
        "import nltk\n",
        "from nltk.tokenize import word_tokenize\n",
        "from collections import Counter\n",
        "import numpy as np\n",
        "from sklearn.metrics.pairwise import cosine_similarity\n",
        "\n",
        "# Conjunto de documentos de exemplo\n",
        "documentos = ['O céu está azul e as nuvens brancas',\n",
        "              'O sol está quente e o céu está azul',\n",
        "              'As nuvens são brancas e o sol está quente',\n",
        "              'O cachorro corre no parque',\n",
        "              'O gato dorme no tapete']\n",
        "\n",
        "# Tokenizando os documentos\n",
        "tokens = [word_tokenize(doc.lower()) for doc in documentos]\n",
        "\n",
        "# Criando um vocabulário a partir dos tokens\n",
        "vocabulario = sorted(set([token for doc in tokens for token in doc]))\n",
        "\n",
        "# Criando a representação Bag-of-Words dos documentos\n",
        "bow = []\n",
        "for doc in tokens:\n",
        "    contador = Counter(doc)\n",
        "    bag_of_words = [contador[token] if token in doc else 0 for token in vocabulario]\n",
        "    bow.append(bag_of_words)\n",
        "\n",
        "# Calculando a similaridade de cosseno entre todos os pares de documentos\n",
        "similarity_matrix = cosine_similarity(np.array(bow))\n",
        "\n",
        "# Imprimindo a matriz de similaridade\n",
        "print(\"Matriz de similaridade:\")\n",
        "print(similarity_matrix)"
      ],
      "metadata": {
        "colab": {
          "base_uri": "https://localhost:8080/"
        },
        "id": "vX1Wkx7nZo7F",
        "outputId": "eaefb8dd-c62e-44d9-b2b8-43e50e7c7ef0"
      },
      "execution_count": null,
      "outputs": [
        {
          "output_type": "stream",
          "name": "stdout",
          "text": [
            "Matriz de similaridade:\n",
            "[[1.         0.68640647 0.70710678 0.15811388 0.15811388]\n",
            " [0.68640647 1.         0.64715023 0.24806947 0.24806947]\n",
            " [0.70710678 0.64715023 1.         0.1490712  0.1490712 ]\n",
            " [0.15811388 0.24806947 0.1490712  1.         0.4       ]\n",
            " [0.15811388 0.24806947 0.1490712  0.4        1.        ]]\n"
          ]
        }
      ]
    },
    {
      "cell_type": "markdown",
      "source": [
        "No exemplo acima, temos cinco documentos. A diagonal principal da matriz de similaridade é sempre igual a 1, pois um documento é sempre idêntico a ele mesmo. As outras entradas da matriz de similaridade representam a similaridade entre dois documentos."
      ],
      "metadata": {
        "id": "6NhwsMhIZ0Ji"
      }
    },
    {
      "cell_type": "markdown",
      "source": [
        "***Bag of N-grams***"
      ],
      "metadata": {
        "id": "jsj2Wl-aaK6F"
      }
    },
    {
      "cell_type": "markdown",
      "source": [
        "A representação \"*bag of n-grams*\" é baseada na ideia de que o significado de uma palavra ou termo pode ser parcialmente inferido a partir dos outros termos que aparecem nas proximidades. Dessa forma, ao invés de considerar apenas as palavras individuais em um documento de texto, a representação \"*bag of n-grams*\" considera sequências de n palavras (ou \"*n-grams*\") que aparecem no documento.\n",
        "\n",
        "Por exemplo, para n=2, os \"bigramas\" seriam considerados, e para a frase \"O gato preto pulou o muro\", os bigramas seriam \"O gato\", \"gato preto\", \"preto pulou\", \"pulou o\", e \"o muro\". O número de bigramas em um documento pode variar, mas a ideia é contar quantas vezes cada bigrama aparece no documento.\n",
        "\n",
        "Dessa forma, a representação \"*bag of n-grams*\" é uma representação baseada em contagem, que lista cada bigrama (ou n-grama) encontrado no documento, e o número de vezes que ele aparece. Essa representação é frequentemente transformada em um vetor numérico, onde cada posição no vetor corresponde a um bigrama, e o valor na posição indica o número de vezes que o bigrama apareceu no documento.\n",
        "\n",
        "Essa representação é útil para análise de texto porque é capaz de capturar informações semânticas e de contexto que seriam perdidas se considerássemos apenas as palavras isoladas. Além disso, é uma representação simples e fácil de ser calculada a partir de textos brutos, o que a torna uma técnica popular em diversas aplicações de PLN."
      ],
      "metadata": {
        "id": "vADv7wE49Wj7"
      }
    },
    {
      "cell_type": "markdown",
      "source": [
        "Aqui está um exemplo simples de como utilizar a representação \"*bag of n-grams*\" em Python:"
      ],
      "metadata": {
        "id": "Z6SB5SNn98ik"
      }
    },
    {
      "cell_type": "code",
      "source": [
        "from sklearn.feature_extraction.text import CountVectorizer\n",
        "\n",
        "# Definir uma lista de frases de exemplo\n",
        "sentences = [\"Cachorro morde homem\",\n",
        "             \"Homem morde cachorro\"]\n",
        "\n",
        "# Criar um objeto CountVectorizer para gerar a representação \"bag of n-grams\"\n",
        "vectorizer = CountVectorizer(ngram_range=(1, 2))\n",
        "\n",
        "# Aplicar o vetorizador às frases para gerar a matriz de contagem\n",
        "X = vectorizer.fit_transform(sentences)\n",
        "\n",
        "# Visualizar a matriz de contagem\n",
        "print(X.toarray())\n",
        "\n",
        "# Visualizar o vocabulário de bigramas gerado pelo vetorizador\n",
        "print(vectorizer.get_feature_names_out())"
      ],
      "metadata": {
        "colab": {
          "base_uri": "https://localhost:8080/"
        },
        "id": "4GRDCY9tCeK_",
        "outputId": "d28c0b48-ecc6-462e-b11f-5e2c6d3ad04b"
      },
      "execution_count": null,
      "outputs": [
        {
          "output_type": "stream",
          "name": "stdout",
          "text": [
            "[[1 1 1 0 1 0 1]\n",
            " [1 0 1 1 1 1 0]]\n",
            "['cachorro' 'cachorro morde' 'homem' 'homem morde' 'morde'\n",
            " 'morde cachorro' 'morde homem']\n"
          ]
        }
      ]
    },
    {
      "cell_type": "markdown",
      "source": [
        "Aqui está um exemplo de código em Python que utiliza a representação \"*bag of n-grams*\" para processar um documento de texto:"
      ],
      "metadata": {
        "id": "Ycq6srbyCi5x"
      }
    },
    {
      "cell_type": "code",
      "source": [
        "from sklearn.feature_extraction.text import CountVectorizer\n",
        "\n",
        "# Definir uma lista de documentos de texto de exemplo\n",
        "docs = [\"O gato preto pulou o muro\",\n",
        "        \"O cachorro marrom correu atrás do gato\",\n",
        "        \"O pássaro voou alto no céu\"]\n",
        "\n",
        "# Criar um objeto CountVectorizer para gerar a representação \"bag of n-grams\"\n",
        "vectorizer = CountVectorizer(ngram_range=(1, 2)) # considera unigramas e bigramas\n",
        "\n",
        "# Aplicar o vetorizador aos documentos para gerar a matriz de contagem\n",
        "X = vectorizer.fit_transform(docs)\n",
        "\n",
        "# Visualizar a matriz de contagem\n",
        "print(X.toarray())\n",
        "\n",
        "# Visualizar o vocabulário de bigramas gerado pelo vetorizador\n",
        "print(vectorizer.get_feature_names_out())"
      ],
      "metadata": {
        "colab": {
          "base_uri": "https://localhost:8080/"
        },
        "id": "ysXKxLCcAtvX",
        "outputId": "83b8ea88-fa8e-48ba-b69d-d638a831136f"
      },
      "execution_count": null,
      "outputs": [
        {
          "output_type": "stream",
          "name": "stdout",
          "text": [
            "[[0 0 0 0 0 0 0 0 0 0 0 1 1 0 0 1 0 0 1 1 1 1 0 0 0 0]\n",
            " [0 0 1 1 1 1 1 1 0 1 1 1 0 1 1 0 0 0 0 0 0 0 0 0 0 0]\n",
            " [1 1 0 0 0 0 0 0 1 0 0 0 0 0 0 0 1 1 0 0 0 0 1 1 1 1]]\n",
            "['alto' 'alto no' 'atrás' 'atrás do' 'cachorro' 'cachorro marrom' 'correu'\n",
            " 'correu atrás' 'céu' 'do' 'do gato' 'gato' 'gato preto' 'marrom'\n",
            " 'marrom correu' 'muro' 'no' 'no céu' 'preto' 'preto pulou' 'pulou'\n",
            " 'pulou muro' 'pássaro' 'pássaro voou' 'voou' 'voou alto']\n"
          ]
        }
      ]
    },
    {
      "cell_type": "markdown",
      "source": [
        "Nesse exemplo, utilizamos a biblioteca `Scikit-learn` para criar um objeto `CountVectorizer`, que é responsável por gerar a representação \"*bag of n-grams*\" dos documentos de texto.\n",
        "\n",
        "Definimos uma lista de documentos de exemplo e criamos o objeto `CountVectorizer`, especificando que queremos considerar tanto unigramas quanto bigramas. Em seguida, aplicamos o vetorizador aos documentos para gerar a matriz de contagem, que contém a contagem de cada bigrama (e unigrama) em cada documento.\n",
        "\n",
        "Por fim, imprimimos a matriz de contagem e o vocabulário gerado pelo vetorizador (unigramas e bigramas). A matriz de contagem é uma matriz numérica onde cada linha corresponde a um documento e cada coluna corresponde a um bigrama (ou unigrama). "
      ],
      "metadata": {
        "id": "D6Exv2CFBj63"
      }
    },
    {
      "cell_type": "markdown",
      "source": [
        "Aqui está um exemplo de como utilizar a representação \"*bag of n-grams*\" utilizando o pacote `NLTK`:"
      ],
      "metadata": {
        "id": "1hm3Ua-faNyq"
      }
    },
    {
      "cell_type": "code",
      "source": [
        "import nltk\n",
        "nltk.download('punkt')"
      ],
      "metadata": {
        "colab": {
          "base_uri": "https://localhost:8080/"
        },
        "id": "S19mfxbgabnd",
        "outputId": "d3436ca2-8e69-40ff-f6e5-913492e7f15e"
      },
      "execution_count": null,
      "outputs": [
        {
          "output_type": "stream",
          "name": "stderr",
          "text": [
            "[nltk_data] Downloading package punkt to /root/nltk_data...\n",
            "[nltk_data]   Unzipping tokenizers/punkt.zip.\n"
          ]
        },
        {
          "output_type": "execute_result",
          "data": {
            "text/plain": [
              "True"
            ]
          },
          "metadata": {},
          "execution_count": 2
        }
      ]
    },
    {
      "cell_type": "code",
      "source": [
        "import nltk\n",
        "from nltk import word_tokenize\n",
        "from nltk.util import ngrams\n",
        "from collections import Counter\n",
        "\n",
        "# Definir uma lista de frases de exemplo\n",
        "sentences = [\"Este é um exemplo simples\",\n",
        "             \"Este é outro exemplo simples\",\n",
        "             \"Este exemplo é mais complexo\"]\n",
        "\n",
        "# Tokenizar cada frase em palavras\n",
        "tokenized_sentences = [word_tokenize(sentence.lower()) for sentence in sentences]\n",
        "\n",
        "# Gerar bigramas para cada frase tokenizada\n",
        "all_bigrams = []\n",
        "for tokenized_sentence in tokenized_sentences:\n",
        "    bigrams = ngrams(tokenized_sentence, 2)\n",
        "    all_bigrams += bigrams\n",
        "\n",
        "# Contar a frequência de cada bigrama em todos as frases\n",
        "bigram_counts = Counter(all_bigrams)\n",
        "\n",
        "# Imprimir o vocabulário de bigramas\n",
        "vocabulary = list(bigram_counts.keys())\n",
        "print(vocabulary)\n",
        "\n",
        "# Criar um vetor com as contagens de cada bigrama para cada frase\n",
        "vectors = []\n",
        "for tokenized_sentence in tokenized_sentences:\n",
        "    sentence_bigrams = ngrams(tokenized_sentence, 2)\n",
        "    sentence_bigram_counts = Counter(sentence_bigrams)\n",
        "    sentence_vector = [sentence_bigram_counts[bigram] for bigram in bigram_counts.keys()]\n",
        "    vectors.append(sentence_vector)\n",
        "\n",
        "# Imprimir a matriz de contagens de bigramas\n",
        "print(vectors)"
      ],
      "metadata": {
        "colab": {
          "base_uri": "https://localhost:8080/"
        },
        "id": "no5nR75HbTJZ",
        "outputId": "760a3e9e-e45f-459f-e9a5-4395d30eb2ac"
      },
      "execution_count": null,
      "outputs": [
        {
          "output_type": "stream",
          "name": "stdout",
          "text": [
            "[('este', 'é'), ('é', 'um'), ('um', 'exemplo'), ('exemplo', 'simples'), ('é', 'outro'), ('outro', 'exemplo'), ('este', 'exemplo'), ('exemplo', 'é'), ('é', 'mais'), ('mais', 'complexo')]\n",
            "[[1, 1, 1, 1, 0, 0, 0, 0, 0, 0], [1, 0, 0, 1, 1, 1, 0, 0, 0, 0], [0, 0, 0, 0, 0, 0, 1, 1, 1, 1]]\n"
          ]
        }
      ]
    },
    {
      "cell_type": "markdown",
      "source": [
        "Suponha que você tenha uma lista de tweets e deseje identificar os tópicos mais discutidos. Você pode usar a representação \"*bag of n-grams*\" para extrair os bigramas mais comuns e, em seguida, visualizá-los em um gráfico de nuvem de palavras."
      ],
      "metadata": {
        "id": "DffoRFWIdKet"
      }
    },
    {
      "cell_type": "code",
      "source": [
        "import matplotlib.pyplot as plt\n",
        "from wordcloud import WordCloud\n",
        "from sklearn.feature_extraction.text import CountVectorizer\n",
        "\n",
        "# Definir uma lista de tweets de exemplo\n",
        "tweets = [\"A eleição presidencial está se aproximando\",\n",
        "          \"Os candidatos estão participando de debates\",\n",
        "          \"A economia é um dos principais temas da campanha\",\n",
        "          \"A saúde também é um tema importante\",\n",
        "          \"Houve acusações de corrupção contra alguns candidatos\"]\n",
        "\n",
        "# Criar um objeto CountVectorizer para extrair bigramas\n",
        "vectorizer = CountVectorizer(ngram_range=(2, 2))\n",
        "vectorizer.fit_transform(tweets)\n",
        "\n",
        "# Obter as palavras e contagens de bigramas mais comuns\n",
        "vocabulary = vectorizer.vocabulary_\n",
        "bigram_counts = dict(zip(vocabulary.keys(), vectorizer.transform(tweets).sum(axis=0).tolist()[0]))\n",
        "top_bigrams = sorted(bigram_counts.items(), key=lambda x: x[1], reverse=True)[:10]\n",
        "\n",
        "# Criar um gráfico de nuvem de palavras com os bigramas mais comuns\n",
        "wordcloud = WordCloud(width=800, height=400, background_color='white').generate_from_frequencies(dict(top_bigrams))\n",
        "plt.figure(figsize=(12,8))\n",
        "plt.imshow(wordcloud, interpolation='bilinear')\n",
        "plt.axis(\"off\")\n",
        "plt.show()"
      ],
      "metadata": {
        "colab": {
          "base_uri": "https://localhost:8080/",
          "height": 366
        },
        "id": "T1cXvr1gcvBW",
        "outputId": "535360bd-29c0-4b52-fc27-9829e9460851"
      },
      "execution_count": null,
      "outputs": [
        {
          "output_type": "display_data",
          "data": {
            "text/plain": [
              "<Figure size 864x576 with 1 Axes>"
            ],
            "image/png": "[encoded data removed]"
          },
          "metadata": {
            "needs_background": "light"
          }
        }
      ]
    },
    {
      "cell_type": "markdown",
      "source": [
        "***TF-IDF***"
      ],
      "metadata": {
        "id": "JfOq2KqpaMEE"
      }
    },
    {
      "cell_type": "markdown",
      "source": [
        "TF-IDF (*Term Frequency-Inverse Document Frequency*) é uma técnica de processamento de texto que mede a relevância de um termo em um documento ou corpus, com base na frequência em que o termo aparece no documento e no conjunto de documentos.\n",
        "\n",
        "A representação TF-IDF consiste em dois componentes:\n",
        "\n",
        "  * Frequência do termo (TF): a frequência do termo refere-se à contagem do número de vezes que um determinado termo aparece em um documento. É calculada dividindo o número de vezes que um termo aparece pelo número total de termos no documento. Esse cálculo ajuda a determinar a importância de um termo em um determinado documento.\n",
        "\n",
        "  * Frequência inversa do documento (IDF): a frequência inversa do documento é usada para medir a raridade de um termo em todo o conjunto de documentos. Ela é calculada dividindo o número total de documentos pelo número de documentos em que o termo aparece. O resultado é passado por uma função logarítmica para evitar a amplificação excessiva de termos muito raros ou muito comuns.\n",
        "\n",
        "A representação TF-IDF é obtida multiplicando-se a frequência do termo (TF) pela frequência inversa do documento (IDF). Isso ajuda a atribuir um peso maior aos termos que aparecem com menos frequência em todo o conjunto de documentos e, portanto, são mais discriminativos e informativos."
      ],
      "metadata": {
        "id": "ZTmQyLOredWr"
      }
    },
    {
      "cell_type": "markdown",
      "source": [
        "O resultado do TF-IDF é importante porque ele ajuda a identificar os termos mais importantes em um documento ou conjunto de documentos. Esses termos mais importantes podem ser usados para várias tarefas de processamento de texto, como recuperação de informações, classificação de documentos, agrupamento de documentos e análise de sentimentos.\n",
        "\n",
        "Por exemplo, em uma tarefa de recuperação de informações, o TF-IDF pode ser usado para identificar os documentos mais relevantes para uma determinada consulta de pesquisa, atribuindo uma pontuação a cada documento com base na presença dos termos da consulta e em sua importância relativa nos documentos. Isso pode ajudar a melhorar a precisão da recuperação de informações.\n",
        "\n",
        "Da mesma forma, em uma tarefa de classificação de documentos, o TF-IDF pode ser usado para identificar os termos mais discriminativos e informativos para cada classe de documentos e, em seguida, usá-los para treinar um modelo de classificação que possa classificar novos documentos em suas respectivas classes.\n",
        "\n",
        "Em resumo, o resultado do TF-IDF é importante porque ajuda a identificar os termos mais importantes em um documento ou conjunto de documentos e, em seguida, usá-los para várias tarefas de processamento de texto, melhorando a precisão e a eficiência dessas tarefas."
      ],
      "metadata": {
        "id": "Tn7UGa-fewtO"
      }
    },
    {
      "cell_type": "markdown",
      "source": [
        "Aqui está um exemplo simples de como implementar a representação TF-IDF em Python usando a biblioteca `scikit-learn`:"
      ],
      "metadata": {
        "id": "3VkSuMMLg3nF"
      }
    },
    {
      "cell_type": "code",
      "source": [
        "from sklearn.feature_extraction.text import TfidfVectorizer\n",
        "\n",
        "# lista de documentos\n",
        "documents = [\n",
        "  \"Este é um exemplo de documento.\",\n",
        "  \"Outro exemplo de documento.\",\n",
        "  \"E mais um exemplo de documento.\"\n",
        "]\n",
        "\n",
        "# criar um vetorizador TF-IDF\n",
        "vectorizer = TfidfVectorizer()\n",
        "\n",
        "# fit_transform() retorna a matriz tf-idf\n",
        "tf_idf_matrix = vectorizer.fit_transform(documents)\n",
        "\n",
        "# exibir a matriz tf-idf\n",
        "print(tf_idf_matrix)"
      ],
      "metadata": {
        "colab": {
          "base_uri": "https://localhost:8080/"
        },
        "id": "9aUnvKuEhMIS",
        "outputId": "c2841ac2-e51f-400a-b165-d3708c85b717"
      },
      "execution_count": null,
      "outputs": [
        {
          "output_type": "stream",
          "name": "stdout",
          "text": [
            "  (0, 1)\t0.3645443967613799\n",
            "  (0, 0)\t0.3645443967613799\n",
            "  (0, 3)\t0.3645443967613799\n",
            "  (0, 6)\t0.4694172843223779\n",
            "  (0, 2)\t0.6172273175654565\n",
            "  (1, 5)\t0.6990303272568005\n",
            "  (1, 1)\t0.4128585720620119\n",
            "  (1, 0)\t0.4128585720620119\n",
            "  (1, 3)\t0.4128585720620119\n",
            "  (2, 4)\t0.6172273175654565\n",
            "  (2, 1)\t0.3645443967613799\n",
            "  (2, 0)\t0.3645443967613799\n",
            "  (2, 3)\t0.3645443967613799\n",
            "  (2, 6)\t0.4694172843223779\n"
          ]
        }
      ]
    },
    {
      "cell_type": "markdown",
      "source": [
        "Neste exemplo, estamos criando uma matriz de representação TF-IDF para uma lista de três documentos simples. A saída será uma matriz esparsa, na qual cada linha representa um documento e cada coluna representa uma palavra. Os valores na matriz representam o peso TF-IDF para cada palavra em cada documento."
      ],
      "metadata": {
        "id": "D3UMX6Qzh12a"
      }
    },
    {
      "cell_type": "markdown",
      "source": [
        "Aqui está um exemplo de como você pode converter a matriz esparsa resultante em uma matriz densa e visualizá-la:"
      ],
      "metadata": {
        "id": "vVbD7JzAiNt9"
      }
    },
    {
      "cell_type": "code",
      "source": [
        "import numpy as np\n",
        "\n",
        "# converter a matriz esparsa em uma matriz densa\n",
        "dense_matrix = tf_idf_matrix.todense()\n",
        "\n",
        "# criar um array com os nomes das palavras\n",
        "feature_names = vectorizer.get_feature_names_out()\n",
        "\n",
        "# exibir a matriz densa\n",
        "print(np.round(dense_matrix, 2))"
      ],
      "metadata": {
        "colab": {
          "base_uri": "https://localhost:8080/"
        },
        "id": "JXXR6Tz2iDbE",
        "outputId": "57d695f9-f55c-4988-9cc4-8167f29c67b2"
      },
      "execution_count": null,
      "outputs": [
        {
          "output_type": "stream",
          "name": "stdout",
          "text": [
            "[[0.36 0.36 0.62 0.36 0.   0.   0.47]\n",
            " [0.41 0.41 0.   0.41 0.   0.7  0.  ]\n",
            " [0.36 0.36 0.   0.36 0.62 0.   0.47]]\n"
          ]
        }
      ]
    },
    {
      "cell_type": "markdown",
      "source": [
        "Este código converte a matriz esparsa em uma matriz densa, arredonda os valores para duas casas decimais e exibe a matriz resultante. A saída será uma matriz 3x6, na qual cada linha representa um documento e cada coluna representa uma palavra. Os valores na matriz representam o peso TF-IDF para cada palavra em cada documento."
      ],
      "metadata": {
        "id": "KBzhPTn-ieVk"
      }
    },
    {
      "cell_type": "markdown",
      "source": [
        "Aqui está outro exemplo em Python usando a biblioteca `NLTK`:"
      ],
      "metadata": {
        "id": "Q69efyGXmDfR"
      }
    },
    {
      "cell_type": "code",
      "source": [
        "import nltk\n",
        "nltk.download('stopwords')"
      ],
      "metadata": {
        "colab": {
          "base_uri": "https://localhost:8080/"
        },
        "id": "3tXcxrhGl3pn",
        "outputId": "2df2cd30-1f0e-4e27-9663-f7b0b77818cc"
      },
      "execution_count": null,
      "outputs": [
        {
          "output_type": "stream",
          "name": "stderr",
          "text": [
            "[nltk_data] Downloading package stopwords to /root/nltk_data...\n",
            "[nltk_data]   Unzipping corpora/stopwords.zip.\n"
          ]
        },
        {
          "output_type": "execute_result",
          "data": {
            "text/plain": [
              "True"
            ]
          },
          "metadata": {},
          "execution_count": 42
        }
      ]
    },
    {
      "cell_type": "code",
      "source": [
        "import nltk\n",
        "from nltk.corpus import stopwords\n",
        "from nltk.tokenize import word_tokenize\n",
        "from sklearn.feature_extraction.text import TfidfVectorizer\n",
        "\n",
        "# dados de exemplo\n",
        "documentos = [\n",
        "  \"O céu é azul.\",\n",
        "  \"O sol é brilhante.\",\n",
        "  \"O céu no verão é muito quente.\",\n",
        "  \"Eu gosto de fazer piquenique no parque.\",\n",
        "  \"O parque é um ótimo lugar para relaxar.\"\n",
        "]\n",
        "\n",
        "# tokenizar os documentos\n",
        "tokens = [word_tokenize(doc.lower()) for doc in documentos]\n",
        "\n",
        "# remover as stopwords\n",
        "stop_words = set(stopwords.words('portuguese'))\n",
        "tokens = [[token for token in doc if token not in stop_words] for doc in tokens]\n",
        "\n",
        "# criar um objeto TfidfVectorizer\n",
        "vectorizer = TfidfVectorizer()\n",
        "\n",
        "# calcular o tf-idf dos documentos\n",
        "tfidf = vectorizer.fit_transform([' '.join(doc) for doc in tokens])\n",
        "\n",
        "# imprimir as palavras únicas no vocabulário\n",
        "print(\"Vocabulário:\", vectorizer.get_feature_names_out())\n",
        "\n",
        "# imprimir as matrizes de frequência de termos (tf) e inversa da frequência do documento (idf)\n",
        "print(\"Matriz tf-idf:\\n\", tfidf.toarray())"
      ],
      "metadata": {
        "colab": {
          "base_uri": "https://localhost:8080/"
        },
        "id": "rdXOoJmil0aj",
        "outputId": "24c426e4-70e4-40af-c024-1f545fa31748"
      },
      "execution_count": null,
      "outputs": [
        {
          "output_type": "stream",
          "name": "stdout",
          "text": [
            "Vocabulário: ['azul' 'brilhante' 'céu' 'fazer' 'gosto' 'lugar' 'parque' 'piquenique'\n",
            " 'quente' 'relaxar' 'sol' 'verão' 'ótimo']\n",
            "Matriz tf-idf:\n",
            " [[0.77828292 0.         0.62791376 0.         0.         0.\n",
            "  0.         0.         0.         0.         0.         0.\n",
            "  0.        ]\n",
            " [0.         0.70710678 0.         0.         0.         0.\n",
            "  0.         0.         0.         0.         0.70710678 0.\n",
            "  0.        ]\n",
            " [0.         0.         0.49552379 0.         0.         0.\n",
            "  0.         0.         0.61418897 0.         0.         0.61418897\n",
            "  0.        ]\n",
            " [0.         0.         0.         0.52335825 0.52335825 0.\n",
            "  0.42224214 0.52335825 0.         0.         0.         0.\n",
            "  0.        ]\n",
            " [0.         0.         0.         0.         0.         0.52335825\n",
            "  0.42224214 0.         0.         0.52335825 0.         0.\n",
            "  0.52335825]]\n"
          ]
        }
      ]
    },
    {
      "cell_type": "markdown",
      "source": [
        "Neste exemplo, estamos usando o `NLTK` para tokenizar os documentos e remover as *stop words* em português. Em seguida, criamos um objeto `TfidfVectorizer` e o usamos para calcular o TF-IDF dos documentos. Por fim, imprimimos as palavras únicas no vocabulário e as matrizes de frequência de termos e inversa da frequência do documento."
      ],
      "metadata": {
        "id": "0hY6LTf4mQNr"
      }
    },
    {
      "cell_type": "markdown",
      "source": [
        "Aqui está um exemplo simples usando TF-IDF:"
      ],
      "metadata": {
        "id": "5_8QuQ93p5hP"
      }
    },
    {
      "cell_type": "code",
      "source": [
        "from sklearn.feature_extraction.text import TfidfVectorizer\n",
        "\n",
        "# lista de documentos\n",
        "documentos = ['Cachorro morde homem',\n",
        "              'Homem morde cachorro',\n",
        "              'Cachorro come carne',\n",
        "              'Homem come comida']\n",
        "\n",
        "# criar um vetorizador TF-IDF\n",
        "vectorizer = TfidfVectorizer()\n",
        "\n",
        "# fit_transform() retorna a matriz tf-idf\n",
        "tf_idf_matrix = vectorizer.fit_transform(documentos)\n",
        "\n",
        "# imprimir as palavras únicas no vocabulário\n",
        "print(\"Vocabulário:\", vectorizer.get_feature_names_out())\n",
        "\n",
        "# imprimir as matrizes de frequência de termos (tf) e inversa da frequência do documento (idf)\n",
        "print(\"Matriz tf-idf:\\n\", tf_idf_matrix.toarray())"
      ],
      "metadata": {
        "colab": {
          "base_uri": "https://localhost:8080/"
        },
        "id": "DyAlbIH7pNuS",
        "outputId": "72b73ccc-ceb8-4bcd-f780-d72502806116"
      },
      "execution_count": null,
      "outputs": [
        {
          "output_type": "stream",
          "name": "stdout",
          "text": [
            "Vocabulário: ['cachorro' 'carne' 'come' 'comida' 'homem' 'morde']\n",
            "Matriz tf-idf:\n",
            " [[0.53256952 0.         0.         0.         0.53256952 0.65782931]\n",
            " [0.53256952 0.         0.         0.         0.53256952 0.65782931]\n",
            " [0.44809973 0.70203482 0.55349232 0.         0.         0.        ]\n",
            " [0.         0.         0.55349232 0.70203482 0.44809973 0.        ]]\n"
          ]
        }
      ]
    },
    {
      "cell_type": "markdown",
      "source": [
        "Aqui está uma implementação básica da representação TF-IDF:"
      ],
      "metadata": {
        "id": "1zmFrJiPjFoa"
      }
    },
    {
      "cell_type": "code",
      "metadata": {
        "id": "E4C5vrmWuPlN"
      },
      "source": [
        "# carregando os documentos\n",
        "doc1 = \"cachorro morde homem\"\n",
        "doc2 = \"homem morde cachorro\"\n",
        "doc3 = \"cachorro come carne\"\n",
        "doc4 = \"homem come comida\""
      ],
      "execution_count": null,
      "outputs": []
    },
    {
      "cell_type": "code",
      "metadata": {
        "id": "O30eP-uEuXAs"
      },
      "source": [
        "# separando por espacos\n",
        "bow1 = doc1.split(\" \")\n",
        "bow2 = doc2.split(\" \")\n",
        "bow3 = doc3.split(\" \")\n",
        "bow4 = doc4.split(\" \")"
      ],
      "execution_count": null,
      "outputs": []
    },
    {
      "cell_type": "code",
      "metadata": {
        "id": "Xo6nEUDcucvy",
        "colab": {
          "base_uri": "https://localhost:8080/"
        },
        "outputId": "090c0366-c336-43b4-dad3-b13a0ef12251"
      },
      "source": [
        "bow1"
      ],
      "execution_count": null,
      "outputs": [
        {
          "output_type": "execute_result",
          "data": {
            "text/plain": [
              "['cachorro', 'morde', 'homem']"
            ]
          },
          "metadata": {},
          "execution_count": 17
        }
      ]
    },
    {
      "cell_type": "code",
      "metadata": {
        "id": "wDCuZjVNuiow",
        "colab": {
          "base_uri": "https://localhost:8080/"
        },
        "outputId": "9b2bd8db-4d5a-4f42-fa8d-d6c3ab066b28"
      },
      "source": [
        "# unindo os documentos em um corpus\n",
        "wordSet = set(bow1).union(set(bow2)).union(set(bow3).union(set(bow4)))\n",
        "wordSet"
      ],
      "execution_count": null,
      "outputs": [
        {
          "output_type": "execute_result",
          "data": {
            "text/plain": [
              "{'cachorro', 'carne', 'come', 'comida', 'homem', 'morde'}"
            ]
          },
          "metadata": {},
          "execution_count": 18
        }
      ]
    },
    {
      "cell_type": "code",
      "metadata": {
        "id": "ibnhX2VOuqNC"
      },
      "source": [
        "# criando dicionarios de palavras, frequencias\n",
        "wordDict1 = dict.fromkeys(wordSet, 0) \n",
        "wordDict2 = dict.fromkeys(wordSet, 0)\n",
        "wordDict3 = dict.fromkeys(wordSet, 0)\n",
        "wordDict4 = dict.fromkeys(wordSet, 0)"
      ],
      "execution_count": null,
      "outputs": []
    },
    {
      "cell_type": "code",
      "metadata": {
        "id": "z91EKRbrutUo",
        "colab": {
          "base_uri": "https://localhost:8080/"
        },
        "outputId": "9ee9c770-1e8b-4739-e61d-283bf22aa327"
      },
      "source": [
        "wordDict1"
      ],
      "execution_count": null,
      "outputs": [
        {
          "output_type": "execute_result",
          "data": {
            "text/plain": [
              "{'come': 0, 'homem': 0, 'comida': 0, 'carne': 0, 'cachorro': 0, 'morde': 0}"
            ]
          },
          "metadata": {},
          "execution_count": 20
        }
      ]
    },
    {
      "cell_type": "code",
      "metadata": {
        "id": "9zogsdv9u0Qw"
      },
      "source": [
        "# incrementando a frequencia de cada dict\n",
        "for word in bow1:\n",
        "    wordDict1[word]+=1\n",
        "    \n",
        "for word in bow2:\n",
        "    wordDict2[word]+=1\n",
        "    \n",
        "for word in bow3:\n",
        "    wordDict3[word]+=1\n",
        "\n",
        "for word in bow4:\n",
        "    wordDict4[word]+=1"
      ],
      "execution_count": null,
      "outputs": []
    },
    {
      "cell_type": "code",
      "metadata": {
        "id": "xIrm4kl2u3L8",
        "colab": {
          "base_uri": "https://localhost:8080/"
        },
        "outputId": "bc36936b-9550-45ad-d161-7019e317ab77"
      },
      "source": [
        "wordDict1"
      ],
      "execution_count": null,
      "outputs": [
        {
          "output_type": "execute_result",
          "data": {
            "text/plain": [
              "{'come': 0, 'homem': 1, 'comida': 0, 'carne': 0, 'cachorro': 1, 'morde': 1}"
            ]
          },
          "metadata": {},
          "execution_count": 22
        }
      ]
    },
    {
      "cell_type": "code",
      "metadata": {
        "id": "r5pW2CJ8u7v_",
        "colab": {
          "base_uri": "https://localhost:8080/",
          "height": 175
        },
        "outputId": "53743398-cf44-42df-dc63-8c89327bc203"
      },
      "source": [
        "import pandas as pd\n",
        "\n",
        "pd.DataFrame([wordDict1, wordDict2, wordDict3, wordDict4])"
      ],
      "execution_count": null,
      "outputs": [
        {
          "output_type": "execute_result",
          "data": {
            "text/plain": [
              "   come  homem  comida  carne  cachorro  morde\n",
              "0     0      1       0      0         1      1\n",
              "1     0      1       0      0         1      1\n",
              "2     1      0       0      1         1      0\n",
              "3     1      1       1      0         0      0"
            ],
            "text/html": [
              "\n",
              "  <div id=\"df-a448298a-3009-4839-b1a4-aa88cb883662\">\n",
              "    <div class=\"colab-df-container\">\n",
              "      <div>\n",
              "<style scoped>\n",
              "    .dataframe tbody tr th:only-of-type {\n",
              "        vertical-align: middle;\n",
              "    }\n",
              "\n",
              "    .dataframe tbody tr th {\n",
              "        vertical-align: top;\n",
              "    }\n",
              "\n",
              "    .dataframe thead th {\n",
              "        text-align: right;\n",
              "    }\n",
              "</style>\n",
              "<table border=\"1\" class=\"dataframe\">\n",
              "  <thead>\n",
              "    <tr style=\"text-align: right;\">\n",
              "      <th></th>\n",
              "      <th>come</th>\n",
              "      <th>homem</th>\n",
              "      <th>comida</th>\n",
              "      <th>carne</th>\n",
              "      <th>cachorro</th>\n",
              "      <th>morde</th>\n",
              "    </tr>\n",
              "  </thead>\n",
              "  <tbody>\n",
              "    <tr>\n",
              "      <th>0</th>\n",
              "      <td>0</td>\n",
              "      <td>1</td>\n",
              "      <td>0</td>\n",
              "      <td>0</td>\n",
              "      <td>1</td>\n",
              "      <td>1</td>\n",
              "    </tr>\n",
              "    <tr>\n",
              "      <th>1</th>\n",
              "      <td>0</td>\n",
              "      <td>1</td>\n",
              "      <td>0</td>\n",
              "      <td>0</td>\n",
              "      <td>1</td>\n",
              "      <td>1</td>\n",
              "    </tr>\n",
              "    <tr>\n",
              "      <th>2</th>\n",
              "      <td>1</td>\n",
              "      <td>0</td>\n",
              "      <td>0</td>\n",
              "      <td>1</td>\n",
              "      <td>1</td>\n",
              "      <td>0</td>\n",
              "    </tr>\n",
              "    <tr>\n",
              "      <th>3</th>\n",
              "      <td>1</td>\n",
              "      <td>1</td>\n",
              "      <td>1</td>\n",
              "      <td>0</td>\n",
              "      <td>0</td>\n",
              "      <td>0</td>\n",
              "    </tr>\n",
              "  </tbody>\n",
              "</table>\n",
              "</div>\n",
              "      <button class=\"colab-df-convert\" onclick=\"convertToInteractive('df-a448298a-3009-4839-b1a4-aa88cb883662')\"\n",
              "              title=\"Convert this dataframe to an interactive table.\"\n",
              "              style=\"display:none;\">\n",
              "        \n",
              "  <svg xmlns=\"http://www.w3.org/2000/svg\" height=\"24px\"viewBox=\"0 0 24 24\"\n",
              "       width=\"24px\">\n",
              "    <path d=\"M0 0h24v24H0V0z\" fill=\"none\"/>\n",
              "    <path d=\"M18.56 5.44l.94 2.06.94-2.06 2.06-.94-2.06-.94-.94-2.06-.94 2.06-2.06.94zm-11 1L8.5 8.5l.94-2.06 2.06-.94-2.06-.94L8.5 2.5l-.94 2.06-2.06.94zm10 10l.94 2.06.94-2.06 2.06-.94-2.06-.94-.94-2.06-.94 2.06-2.06.94z\"/><path d=\"M17.41 7.96l-1.37-1.37c-.4-.4-.92-.59-1.43-.59-.52 0-1.04.2-1.43.59L10.3 9.45l-7.72 7.72c-.78.78-.78 2.05 0 2.83L4 21.41c.39.39.9.59 1.41.59.51 0 1.02-.2 1.41-.59l7.78-7.78 2.81-2.81c.8-.78.8-2.07 0-2.86zM5.41 20L4 18.59l7.72-7.72 1.47 1.35L5.41 20z\"/>\n",
              "  </svg>\n",
              "      </button>\n",
              "      \n",
              "  <style>\n",
              "    .colab-df-container {\n",
              "      display:flex;\n",
              "      flex-wrap:wrap;\n",
              "      gap: 12px;\n",
              "    }\n",
              "\n",
              "    .colab-df-convert {\n",
              "      background-color: #E8F0FE;\n",
              "      border: none;\n",
              "      border-radius: 50%;\n",
              "      cursor: pointer;\n",
              "      display: none;\n",
              "      fill: #1967D2;\n",
              "      height: 32px;\n",
              "      padding: 0 0 0 0;\n",
              "      width: 32px;\n",
              "    }\n",
              "\n",
              "    .colab-df-convert:hover {\n",
              "      background-color: #E2EBFA;\n",
              "      box-shadow: 0px 1px 2px rgba(60, 64, 67, 0.3), 0px 1px 3px 1px rgba(60, 64, 67, 0.15);\n",
              "      fill: #174EA6;\n",
              "    }\n",
              "\n",
              "    [theme=dark] .colab-df-convert {\n",
              "      background-color: #3B4455;\n",
              "      fill: #D2E3FC;\n",
              "    }\n",
              "\n",
              "    [theme=dark] .colab-df-convert:hover {\n",
              "      background-color: #434B5C;\n",
              "      box-shadow: 0px 1px 3px 1px rgba(0, 0, 0, 0.15);\n",
              "      filter: drop-shadow(0px 1px 2px rgba(0, 0, 0, 0.3));\n",
              "      fill: #FFFFFF;\n",
              "    }\n",
              "  </style>\n",
              "\n",
              "      <script>\n",
              "        const buttonEl =\n",
              "          document.querySelector('#df-a448298a-3009-4839-b1a4-aa88cb883662 button.colab-df-convert');\n",
              "        buttonEl.style.display =\n",
              "          google.colab.kernel.accessAllowed ? 'block' : 'none';\n",
              "\n",
              "        async function convertToInteractive(key) {\n",
              "          const element = document.querySelector('#df-a448298a-3009-4839-b1a4-aa88cb883662');\n",
              "          const dataTable =\n",
              "            await google.colab.kernel.invokeFunction('convertToInteractive',\n",
              "                                                     [key], {});\n",
              "          if (!dataTable) return;\n",
              "\n",
              "          const docLinkHtml = 'Like what you see? Visit the ' +\n",
              "            '<a target=\"_blank\" href=https://colab.research.google.com/notebooks/data_table.ipynb>data table notebook</a>'\n",
              "            + ' to learn more about interactive tables.';\n",
              "          element.innerHTML = '';\n",
              "          dataTable['output_type'] = 'display_data';\n",
              "          await google.colab.output.renderOutput(dataTable, element);\n",
              "          const docLink = document.createElement('div');\n",
              "          docLink.innerHTML = docLinkHtml;\n",
              "          element.appendChild(docLink);\n",
              "        }\n",
              "      </script>\n",
              "    </div>\n",
              "  </div>\n",
              "  "
            ]
          },
          "metadata": {},
          "execution_count": 23
        }
      ]
    },
    {
      "cell_type": "code",
      "metadata": {
        "id": "HlWlVn4WvBO_"
      },
      "source": [
        "def computeTF(wordDict, bow):\n",
        "    tfDict = {}\n",
        "    bowCount = len(bow)\n",
        "    for word, count in wordDict.items():\n",
        "        tfDict[word] = count/float(bowCount)\n",
        "    return tfDict"
      ],
      "execution_count": null,
      "outputs": []
    },
    {
      "cell_type": "code",
      "metadata": {
        "id": "iXJONwqmvEH8"
      },
      "source": [
        "# computando TF\n",
        "tfBow1 = computeTF(wordDict1, bow1)\n",
        "tfBow2 = computeTF(wordDict2, bow2)\n",
        "tfBow3 = computeTF(wordDict3, bow3)\n",
        "tfBow4 = computeTF(wordDict4, bow4)"
      ],
      "execution_count": null,
      "outputs": []
    },
    {
      "cell_type": "code",
      "metadata": {
        "id": "Jk2GTdVRvGcj",
        "colab": {
          "base_uri": "https://localhost:8080/"
        },
        "outputId": "069ef515-5094-4dbd-bf5e-4caa1cab931a"
      },
      "source": [
        "tfBow1"
      ],
      "execution_count": null,
      "outputs": [
        {
          "output_type": "execute_result",
          "data": {
            "text/plain": [
              "{'come': 0.0,\n",
              " 'homem': 0.3333333333333333,\n",
              " 'comida': 0.0,\n",
              " 'carne': 0.0,\n",
              " 'cachorro': 0.3333333333333333,\n",
              " 'morde': 0.3333333333333333}"
            ]
          },
          "metadata": {},
          "execution_count": 26
        }
      ]
    },
    {
      "cell_type": "code",
      "metadata": {
        "id": "hNxjLB9NfOkI"
      },
      "source": [
        "def termFrequency(term, document):\n",
        "    normalizeDocument = document.lower().split()\n",
        "    return normalizeDocument.count(term.lower()) / float(len(normalizeDocument))"
      ],
      "execution_count": null,
      "outputs": []
    },
    {
      "cell_type": "code",
      "metadata": {
        "id": "nKYkLTJQfQZ_",
        "colab": {
          "base_uri": "https://localhost:8080/"
        },
        "outputId": "dc5ce360-546f-4223-ac77-560b9bbb5e7f"
      },
      "source": [
        "termFrequency('cachorro', doc1)"
      ],
      "execution_count": null,
      "outputs": [
        {
          "output_type": "execute_result",
          "data": {
            "text/plain": [
              "0.3333333333333333"
            ]
          },
          "metadata": {},
          "execution_count": 14
        }
      ]
    },
    {
      "cell_type": "code",
      "metadata": {
        "id": "RQaVl1-mvKOB"
      },
      "source": [
        "# computando IDF\n",
        "def computeIDF(docList):\n",
        "    import math\n",
        "    idfDict = {}\n",
        "    N = len(docList)\n",
        "    \n",
        "    idfDict = dict.fromkeys(docList[0].keys(), 0)\n",
        "    for doc in docList:\n",
        "        for word, val in doc.items():\n",
        "            if val > 0:\n",
        "                idfDict[word] += 1\n",
        "    \n",
        "    # idfDict = {'come': 2, 'homem': 3, 'cachorro': 3, 'carne': 1, 'comida': 1, 'morde': 2}\n",
        "    for word, val in idfDict.items():\n",
        "        idfDict[word] = math.log10(N / float(val))\n",
        "\n",
        "    return idfDict"
      ],
      "execution_count": null,
      "outputs": []
    },
    {
      "cell_type": "code",
      "metadata": {
        "id": "FqUABfuMvN7l"
      },
      "source": [
        "idfs = computeIDF([wordDict1, wordDict2, wordDict3, wordDict4])"
      ],
      "execution_count": null,
      "outputs": []
    },
    {
      "cell_type": "code",
      "metadata": {
        "id": "qZ32WC5tvRdo"
      },
      "source": [
        "def computeTFIDF(tfBow, idfs):\n",
        "    tfidf = {}\n",
        "    for word, val in tfBow.items():\n",
        "        tfidf[word] = val*idfs[word]\n",
        "    return tfidf"
      ],
      "execution_count": null,
      "outputs": []
    },
    {
      "cell_type": "code",
      "metadata": {
        "id": "Jc6PkulgvUqr"
      },
      "source": [
        "# computando TF-IDF\n",
        "tfidfBow1 = computeTFIDF(tfBow1, idfs)\n",
        "tfidfBow2 = computeTFIDF(tfBow2, idfs)\n",
        "tfidfBow3 = computeTFIDF(tfBow3, idfs)\n",
        "tfidfBow4 = computeTFIDF(tfBow4, idfs)"
      ],
      "execution_count": null,
      "outputs": []
    },
    {
      "cell_type": "code",
      "metadata": {
        "id": "U1xDek1VvZk9",
        "colab": {
          "base_uri": "https://localhost:8080/",
          "height": 175
        },
        "outputId": "551a2f8d-790e-470f-8c6f-980d7fe94e54"
      },
      "source": [
        "import pandas as pd\n",
        "\n",
        "pd.DataFrame([tfidfBow1, tfidfBow2, tfidfBow3, tfidfBow4])"
      ],
      "execution_count": null,
      "outputs": [
        {
          "output_type": "execute_result",
          "data": {
            "text/plain": [
              "       come     homem    comida     carne  cachorro     morde\n",
              "0  0.000000  0.041646  0.000000  0.000000  0.041646  0.100343\n",
              "1  0.000000  0.041646  0.000000  0.000000  0.041646  0.100343\n",
              "2  0.100343  0.000000  0.000000  0.200687  0.041646  0.000000\n",
              "3  0.100343  0.041646  0.200687  0.000000  0.000000  0.000000"
            ],
            "text/html": [
              "\n",
              "  <div id=\"df-c1f62195-8cc6-429e-9943-e387c87ed6b8\">\n",
              "    <div class=\"colab-df-container\">\n",
              "      <div>\n",
              "<style scoped>\n",
              "    .dataframe tbody tr th:only-of-type {\n",
              "        vertical-align: middle;\n",
              "    }\n",
              "\n",
              "    .dataframe tbody tr th {\n",
              "        vertical-align: top;\n",
              "    }\n",
              "\n",
              "    .dataframe thead th {\n",
              "        text-align: right;\n",
              "    }\n",
              "</style>\n",
              "<table border=\"1\" class=\"dataframe\">\n",
              "  <thead>\n",
              "    <tr style=\"text-align: right;\">\n",
              "      <th></th>\n",
              "      <th>come</th>\n",
              "      <th>homem</th>\n",
              "      <th>comida</th>\n",
              "      <th>carne</th>\n",
              "      <th>cachorro</th>\n",
              "      <th>morde</th>\n",
              "    </tr>\n",
              "  </thead>\n",
              "  <tbody>\n",
              "    <tr>\n",
              "      <th>0</th>\n",
              "      <td>0.000000</td>\n",
              "      <td>0.041646</td>\n",
              "      <td>0.000000</td>\n",
              "      <td>0.000000</td>\n",
              "      <td>0.041646</td>\n",
              "      <td>0.100343</td>\n",
              "    </tr>\n",
              "    <tr>\n",
              "      <th>1</th>\n",
              "      <td>0.000000</td>\n",
              "      <td>0.041646</td>\n",
              "      <td>0.000000</td>\n",
              "      <td>0.000000</td>\n",
              "      <td>0.041646</td>\n",
              "      <td>0.100343</td>\n",
              "    </tr>\n",
              "    <tr>\n",
              "      <th>2</th>\n",
              "      <td>0.100343</td>\n",
              "      <td>0.000000</td>\n",
              "      <td>0.000000</td>\n",
              "      <td>0.200687</td>\n",
              "      <td>0.041646</td>\n",
              "      <td>0.000000</td>\n",
              "    </tr>\n",
              "    <tr>\n",
              "      <th>3</th>\n",
              "      <td>0.100343</td>\n",
              "      <td>0.041646</td>\n",
              "      <td>0.200687</td>\n",
              "      <td>0.000000</td>\n",
              "      <td>0.000000</td>\n",
              "      <td>0.000000</td>\n",
              "    </tr>\n",
              "  </tbody>\n",
              "</table>\n",
              "</div>\n",
              "      <button class=\"colab-df-convert\" onclick=\"convertToInteractive('df-c1f62195-8cc6-429e-9943-e387c87ed6b8')\"\n",
              "              title=\"Convert this dataframe to an interactive table.\"\n",
              "              style=\"display:none;\">\n",
              "        \n",
              "  <svg xmlns=\"http://www.w3.org/2000/svg\" height=\"24px\"viewBox=\"0 0 24 24\"\n",
              "       width=\"24px\">\n",
              "    <path d=\"M0 0h24v24H0V0z\" fill=\"none\"/>\n",
              "    <path d=\"M18.56 5.44l.94 2.06.94-2.06 2.06-.94-2.06-.94-.94-2.06-.94 2.06-2.06.94zm-11 1L8.5 8.5l.94-2.06 2.06-.94-2.06-.94L8.5 2.5l-.94 2.06-2.06.94zm10 10l.94 2.06.94-2.06 2.06-.94-2.06-.94-.94-2.06-.94 2.06-2.06.94z\"/><path d=\"M17.41 7.96l-1.37-1.37c-.4-.4-.92-.59-1.43-.59-.52 0-1.04.2-1.43.59L10.3 9.45l-7.72 7.72c-.78.78-.78 2.05 0 2.83L4 21.41c.39.39.9.59 1.41.59.51 0 1.02-.2 1.41-.59l7.78-7.78 2.81-2.81c.8-.78.8-2.07 0-2.86zM5.41 20L4 18.59l7.72-7.72 1.47 1.35L5.41 20z\"/>\n",
              "  </svg>\n",
              "      </button>\n",
              "      \n",
              "  <style>\n",
              "    .colab-df-container {\n",
              "      display:flex;\n",
              "      flex-wrap:wrap;\n",
              "      gap: 12px;\n",
              "    }\n",
              "\n",
              "    .colab-df-convert {\n",
              "      background-color: #E8F0FE;\n",
              "      border: none;\n",
              "      border-radius: 50%;\n",
              "      cursor: pointer;\n",
              "      display: none;\n",
              "      fill: #1967D2;\n",
              "      height: 32px;\n",
              "      padding: 0 0 0 0;\n",
              "      width: 32px;\n",
              "    }\n",
              "\n",
              "    .colab-df-convert:hover {\n",
              "      background-color: #E2EBFA;\n",
              "      box-shadow: 0px 1px 2px rgba(60, 64, 67, 0.3), 0px 1px 3px 1px rgba(60, 64, 67, 0.15);\n",
              "      fill: #174EA6;\n",
              "    }\n",
              "\n",
              "    [theme=dark] .colab-df-convert {\n",
              "      background-color: #3B4455;\n",
              "      fill: #D2E3FC;\n",
              "    }\n",
              "\n",
              "    [theme=dark] .colab-df-convert:hover {\n",
              "      background-color: #434B5C;\n",
              "      box-shadow: 0px 1px 3px 1px rgba(0, 0, 0, 0.15);\n",
              "      filter: drop-shadow(0px 1px 2px rgba(0, 0, 0, 0.3));\n",
              "      fill: #FFFFFF;\n",
              "    }\n",
              "  </style>\n",
              "\n",
              "      <script>\n",
              "        const buttonEl =\n",
              "          document.querySelector('#df-c1f62195-8cc6-429e-9943-e387c87ed6b8 button.colab-df-convert');\n",
              "        buttonEl.style.display =\n",
              "          google.colab.kernel.accessAllowed ? 'block' : 'none';\n",
              "\n",
              "        async function convertToInteractive(key) {\n",
              "          const element = document.querySelector('#df-c1f62195-8cc6-429e-9943-e387c87ed6b8');\n",
              "          const dataTable =\n",
              "            await google.colab.kernel.invokeFunction('convertToInteractive',\n",
              "                                                     [key], {});\n",
              "          if (!dataTable) return;\n",
              "\n",
              "          const docLinkHtml = 'Like what you see? Visit the ' +\n",
              "            '<a target=\"_blank\" href=https://colab.research.google.com/notebooks/data_table.ipynb>data table notebook</a>'\n",
              "            + ' to learn more about interactive tables.';\n",
              "          element.innerHTML = '';\n",
              "          dataTable['output_type'] = 'display_data';\n",
              "          await google.colab.output.renderOutput(dataTable, element);\n",
              "          const docLink = document.createElement('div');\n",
              "          docLink.innerHTML = docLinkHtml;\n",
              "          element.appendChild(docLink);\n",
              "        }\n",
              "      </script>\n",
              "    </div>\n",
              "  </div>\n",
              "  "
            ]
          },
          "metadata": {},
          "execution_count": 32
        }
      ]
    },
    {
      "cell_type": "markdown",
      "metadata": {
        "id": "k0M78uoZ53oz"
      },
      "source": [
        "**Importante**: quanto maior o valor do TF-IDF, mais raro é o termo. Quanto menor o TF-IDF, mais comum é o termo."
      ]
    },
    {
      "cell_type": "markdown",
      "source": [
        "Aqui está um exemplo de como usar a representação TF-IDF para identificar as palavras mais importantes em uma música:"
      ],
      "metadata": {
        "id": "8jBJKVM9rGzH"
      }
    },
    {
      "cell_type": "code",
      "source": [
        "from sklearn.feature_extraction.text import TfidfVectorizer\n",
        "\n",
        "# letra da música\n",
        "letra = \"\"\"É pau, é pedra, é o fim do caminho. É um resto de toco, é um pouco sozinho.\n",
        "           É um caco de vidro, é a vida, é o sol. É a noite, é a morte, é um laço, é o anzol.\"\"\"\n",
        "\n",
        "# criar um objeto TfidfVectorizer\n",
        "vectorizer = TfidfVectorizer(use_idf=True)\n",
        "\n",
        "# calcular o tf-idf da letra da música\n",
        "tfidf = vectorizer.fit_transform([letra])\n",
        "\n",
        "# criar um dicionário de palavras e seus pesos tf-idf\n",
        "palavras = vectorizer.get_feature_names_out()\n",
        "pesos = tfidf.toarray()[0]\n",
        "dicionario = dict(zip(palavras, pesos))\n",
        "\n",
        "# encontrar as 5 palavras mais importantes\n",
        "palavras_importantes = sorted(dicionario, key=dicionario.get, reverse=True)[:5]\n",
        "\n",
        "# imprimir as 5 palavras mais importantes e seus valores tf-idf correspondentes\n",
        "print(\"As 5 palavras mais importantes na letra da música são:\")\n",
        "for palavra in palavras_importantes:\n",
        "    print(f\"{palavra}: {dicionario[palavra]}\")"
      ],
      "metadata": {
        "colab": {
          "base_uri": "https://localhost:8080/"
        },
        "id": "yN7ZP4JxrNy0",
        "outputId": "e3777969-9edf-49a8-8dbc-85aa18ac44c6"
      },
      "execution_count": null,
      "outputs": [
        {
          "output_type": "stream",
          "name": "stdout",
          "text": [
            "As 5 palavras mais importantes na letra da música são:\n",
            "um: 0.6575959492214292\n",
            "de: 0.3287979746107146\n",
            "anzol: 0.1643989873053573\n",
            "caco: 0.1643989873053573\n",
            "caminho: 0.1643989873053573\n"
          ]
        }
      ]
    },
    {
      "cell_type": "markdown",
      "source": [
        "Neste exemplo, estamos imprimindo as 5 palavras mais importantes na letra da música \"Águas de Março\", de Tom Jobim,  juntamente com seus respectivos valores TF-IDF. Note que o valor TF-IDF é uma medida de importância relativa que leva em consideração tanto a frequência da palavra em relação ao documento quanto a frequência inversa da palavra em relação ao corpus. Quanto maior o valor TF-IDF de uma palavra, mais importante ela é em relação ao documento."
      ],
      "metadata": {
        "id": "qy9ybXwIsSSQ"
      }
    },
    {
      "cell_type": "markdown",
      "source": [
        "Este exemplo usa o TF-IDF para calcular a similaridade entre duas frases, permitindo determinar se elas se referem ao mesmo tópico:"
      ],
      "metadata": {
        "id": "ssSXqrNxtZLT"
      }
    },
    {
      "cell_type": "code",
      "source": [
        "from sklearn.feature_extraction.text import TfidfVectorizer\n",
        "from sklearn.metrics.pairwise import cosine_similarity\n",
        "\n",
        "# frases para comparar\n",
        "frase1 = \"O cachorro correu no parque.\"\n",
        "frase2 = \"O cão correu no jardim.\"\n",
        "\n",
        "# criar um objeto TfidfVectorizer\n",
        "vectorizer = TfidfVectorizer()\n",
        "\n",
        "# calcular o tf-idf para cada frase\n",
        "tfidf = vectorizer.fit_transform([frase1, frase2])\n",
        "\n",
        "# calcular a similaridade de cosseno entre as frases\n",
        "similarity = cosine_similarity(tfidf)\n",
        "\n",
        "# imprimir a similaridade\n",
        "print(similarity[0][1])\n"
      ],
      "metadata": {
        "colab": {
          "base_uri": "https://localhost:8080/"
        },
        "id": "jYy20IpBtT0Y",
        "outputId": "a3b47ee9-0b0c-4809-ff8c-a281c7760ae3"
      },
      "execution_count": null,
      "outputs": [
        {
          "output_type": "stream",
          "name": "stdout",
          "text": [
            "0.3360969272762575\n"
          ]
        }
      ]
    },
    {
      "cell_type": "markdown",
      "source": [
        "Neste exemplo, estamos usando a biblioteca `scikit-learn` para criar um objeto `TfidfVectorizer`, calcular o TF-IDF para cada frase e, em seguida, calcular a similaridade de cosseno entre elas. A similaridade será um valor entre 0 e 1, onde 1 significa que as frases são idênticas e 0 significa que são completamente diferentes."
      ],
      "metadata": {
        "id": "J-Z98KLlteyI"
      }
    },
    {
      "cell_type": "markdown",
      "source": [
        "No próximo exemplo, usaremos o TF-IDF para recomendar documentos semelhantes com base em um documento de entrada:"
      ],
      "metadata": {
        "id": "JNlXcshbuAO9"
      }
    },
    {
      "cell_type": "code",
      "source": [
        "from sklearn.feature_extraction.text import TfidfVectorizer\n",
        "from sklearn.metrics.pairwise import cosine_similarity\n",
        "\n",
        "# documentos de exemplo\n",
        "documentos = [\n",
        "    \"O rato roeu a roupa do rei de Roma.\",\n",
        "    \"Quem casa quer casa.\",\n",
        "    \"Água mole em pedra dura, tanto bate até que fura.\",\n",
        "    \"De grão em grão a galinha enche o papo.\"\n",
        "]\n",
        "\n",
        "# criar um objeto TfidfVectorizer\n",
        "vectorizer = TfidfVectorizer()\n",
        "\n",
        "# calcular o tf-idf para cada documento\n",
        "tfidf = vectorizer.fit_transform(documentos)\n",
        "\n",
        "# documento de entrada para comparar\n",
        "entrada = \"O rei casou com a rainha.\"\n",
        "\n",
        "# calcular o tf-idf para a entrada\n",
        "tfidf_entrada = vectorizer.transform([entrada])\n",
        "\n",
        "# calcular a similaridade de cosseno entre a entrada e os documentos existentes\n",
        "similaridade = cosine_similarity(tfidf_entrada, tfidf)\n",
        "\n",
        "# encontrar o documento mais semelhante\n",
        "index_documento = similaridade.argmax()\n",
        "\n",
        "# imprimir o documento recomendado\n",
        "print(documentos[index_documento])"
      ],
      "metadata": {
        "colab": {
          "base_uri": "https://localhost:8080/"
        },
        "id": "14useZ_rt7rc",
        "outputId": "433be762-60e1-4188-f747-8527258a0503"
      },
      "execution_count": null,
      "outputs": [
        {
          "output_type": "stream",
          "name": "stdout",
          "text": [
            "O rato roeu a roupa do rei de Roma.\n"
          ]
        }
      ]
    },
    {
      "cell_type": "markdown",
      "source": [
        "Neste exemplo, estamos usando a biblioteca `scikit-learn` para criar um objeto `TfidfVectorizer`, calcular o TF-IDF para cada documento, e em seguida, calcular a similaridade de cosseno entre um documento de entrada e os documentos existentes. Finalmente, estamos recomendando o documento mais semelhante com base na maior similaridade de cosseno."
      ],
      "metadata": {
        "id": "uOii42KruKey"
      }
    }
  ]
}