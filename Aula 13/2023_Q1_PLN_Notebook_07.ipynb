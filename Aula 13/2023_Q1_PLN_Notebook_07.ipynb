{
  "nbformat": 4,
  "nbformat_minor": 0,
  "metadata": {
    "colab": {
      "provenance": [],
      "authorship_tag": "ABX9TyO0rXUscwPXCjCpwfjUXJi2",
      "include_colab_link": true
    },
    "kernelspec": {
      "name": "python3",
      "display_name": "Python 3"
    }
  },
  "cells": [
    {
      "cell_type": "markdown",
      "metadata": {
        "id": "view-in-github",
        "colab_type": "text"
      },
      "source": [
        "<a href=\"https://colab.research.google.com/github/adalves-ufabc/2023.Q1-PLN/blob/main/2023_Q1_PLN_Notebook_07.ipynb\" target=\"_parent\"><img src=\"https://colab.research.google.com/assets/colab-badge.svg\" alt=\"Open In Colab\"/></a>"
      ]
    },
    {
      "cell_type": "markdown",
      "metadata": {
        "id": "Y6QILOdpOjwv"
      },
      "source": [
        "# **Processamento de Linguagem Natural [2023.Q1]**\n",
        "Prof. Alexandre Donizeti Alves"
      ]
    },
    {
      "cell_type": "markdown",
      "metadata": {
        "id": "nmK05FgcOzL2"
      },
      "source": [
        "## **Classificação de Textos**\n",
        "---\n",
        "\n"
      ]
    },
    {
      "cell_type": "markdown",
      "source": [
        "A **Classificação de Textos** é uma técnica de PLN que consiste em categorizar um texto em uma ou mais classes ou categorias pré-definidas. Essas categorias podem ser definidas de acordo com as necessidades do problema em questão, podendo variar desde categorias simples como \"positivo\" ou \"negativo\", até categorias mais complexas como \"política\", \"esportes\", \"entretenimento\", entre outras."
      ],
      "metadata": {
        "id": "YKeqSx2qOxPW"
      }
    },
    {
      "cell_type": "markdown",
      "source": [
        "Para realizar a classificação de textos, são utilizados algoritmos de aprendizado de máquina que aprendem a identificar padrões nos textos e a associá-los com as categorias pré-definidas. Esses algoritmos podem ser supervisionados, quando o modelo é treinado com um conjunto de dados rotulados, ou não supervisionados, quando o modelo tenta identificar padrões nos dados sem a necessidade de rótulos prévios.\n",
        "\n",
        "A classificação de textos é utilizada em diversas aplicações, como na análise de sentimentos de avaliações de produtos, na categorização de notícias e artigos, na detecção de spam em e-mails, entre outras."
      ],
      "metadata": {
        "id": "ZvWrh5x9cjux"
      }
    },
    {
      "cell_type": "markdown",
      "source": [
        "A classificação de textos apresenta diversas vantagens, algumas das quais são:\n",
        "\n",
        "   * Automação: a classificação de textos permite a automação do processo de categorização de textos em larga escala, o que seria inviável de ser feito manualmente. Isso aumenta a eficiência e a rapidez na tomada de decisões baseadas em informações contidas em textos.\n",
        "\n",
        "   * Precisão: a classificação de textos pode ser mais precisa do que a classificação manual, uma vez que algoritmos de aprendizado de máquina podem identificar padrões e nuances que seriam difíceis de serem identificados por humanos.\n",
        "\n",
        "   * Escalabilidade: a classificação de textos pode ser facilmente escalada para lidar com grandes volumes de textos, sem a necessidade de aumentar proporcionalmente o número de pessoas para realizar a tarefa.\n",
        "\n",
        "   * Personalização: a classificação de textos pode ser personalizada de acordo com as necessidades do problema em questão, permitindo a criação de categorias específicas e adaptadas para cada contexto.\n",
        "\n",
        "   * Redução de custos: a classificação de textos pode ajudar a reduzir os custos com mão de obra, uma vez que a automação permite que a tarefa seja realizada de forma mais eficiente e com menos recursos humanos."
      ],
      "metadata": {
        "id": "lAtUPtEMcq1N"
      }
    },
    {
      "cell_type": "markdown",
      "source": [
        "Embora a classificação de textos seja uma técnica bastante útil e amplamente utilizada, há alguns desafios e problemas que podem ser encontrados ao implementá-la. Alguns dos principais problemas são:\n",
        "\n",
        "   * Ambiguidade: muitas vezes, as palavras ou frases utilizadas em textos podem ter mais de um significado, o que pode tornar a classificação ambígua. Por exemplo, a palavra \"mouse\" pode se referir a um dispositivo de computador ou a um animal.\n",
        "\n",
        "   * Ruído nos dados: textos podem conter informações irrelevantes, erros de digitação, erros gramaticais, entre outros, o que pode dificultar a classificação e reduzir a precisão dos resultados.\n",
        "\n",
        "   * Diferentes contextos: palavras podem ter significados diferentes dependendo do contexto em que são utilizadas. Por exemplo, a palavra \"*apple*\" pode se referir a uma fruta ou a uma marca de computadores.\n",
        "\n",
        "   * Categorias mal definidas: as categorias utilizadas na classificação podem não ser bem definidas ou podem apresentar fronteiras tênues, o que pode levar a uma classificação imprecisa ou inconsistente.\n",
        "\n",
        "   * Viés: os dados utilizados para treinar o modelo podem apresentar algum tipo de viés, o que pode influenciar na classificação de textos futuros.\n",
        "\n",
        "   * Idioma e cultura: a classificação de textos pode ser influenciada pelo idioma e cultura em que o texto foi produzido, o que pode tornar a classificação mais difícil em contextos multiculturais e multilíngues.\n",
        "\n",
        "Esses problemas podem ser amenizados ou resolvidos através da aplicação de técnicas adequadas de pré-processamento de dados, seleção de algoritmos e ajuste de parâmetros, além de um cuidadoso processo de avaliação e validação do modelo."
      ],
      "metadata": {
        "id": "8woW-UKsdjQQ"
      }
    },
    {
      "cell_type": "markdown",
      "source": [
        "**Viés** é uma tendência ou inclinação para favorecer ou desfavorecer certos pontos de vista, ideias ou grupos, em detrimento de outros, sem considerar evidências ou fatos objetivos. O viés pode ocorrer de forma consciente ou inconsciente e pode ser influenciado por diversos fatores, como crenças pessoais, experiências prévias, cultura, contexto social, entre outros.\n"
      ],
      "metadata": {
        "id": "z7tsrv9zeT7e"
      }
    },
    {
      "cell_type": "markdown",
      "source": [
        "No contexto da classificação de textos, o viés pode ocorrer quando os dados utilizados para treinar o modelo apresentam alguma tendência que influencia a classificação dos textos. Por exemplo, se os dados utilizados para treinar o modelo apresentarem uma proporção desproporcional de textos de uma determinada categoria em relação às outras categorias, o modelo pode ter uma tendência a classificar textos nessa categoria com mais frequência, mesmo que eles não se encaixem perfeitamente na categoria.\n",
        "\n",
        "O viés pode ser um problema sério na classificação de textos, uma vez que pode levar a uma classificação imprecisa ou injusta, especialmente em casos em que as categorias têm implicações éticas ou sociais importantes, como em casos de discriminação. É importante, portanto, realizar uma avaliação cuidadosa dos dados utilizados para treinar o modelo, bem como da sua performance em situações diversas, a fim de garantir que a classificação seja justa e precisa."
      ],
      "metadata": {
        "id": "XQ_o4yE2e0UB"
      }
    },
    {
      "cell_type": "markdown",
      "source": [
        "A classificação de textos é uma técnica amplamente utilizada em diversas áreas, e há muitos exemplos de aplicação desta técnica em diferentes contextos. Abaixo, listo alguns exemplos:\n",
        "\n",
        "   * Análise de sentimentos em redes sociais: empresas podem utilizar a classificação de textos para analisar o sentimento de usuários em relação a sua marca ou produtos, com base em comentários e postagens em redes sociais, por exemplo.\n",
        "\n",
        "   * Categorização de emails: serviços de email podem utilizar a classificação de textos para categorizar emails automaticamente em pastas específicas, como \"trabalho\", \"pessoal\", \"spam\", entre outras.\n",
        "\n",
        "   * Detecção de spam: softwares de email ou mensagens podem utilizar a classificação de textos para detectar e filtrar mensagens de spam, com base em características do texto, como palavras-chave, formatação, entre outras.\n",
        "\n",
        "   * Categorização de notícias: empresas de notícias podem utilizar a classificação de textos para categorizar notícias automaticamente em seções específicas, como \"política\", \"esportes\", \"cultura\", entre outras.\n",
        "\n",
        "   * Identificação de tópicos em pesquisas de opinião: pesquisas de opinião podem utilizar a classificação de textos para identificar os principais tópicos mencionados pelos entrevistados em suas respostas, permitindo uma análise mais detalhada dos resultados.\n",
        "\n",
        "   * Diagnóstico médico: médicos podem utilizar a classificação de textos para auxiliar no diagnóstico de doenças, com base na análise de sintomas descritos pelos pacientes em seus registros médicos.\n",
        "\n",
        "   * Detecção de fraude: identificar se um texto contém evidências de fraude ou engano, com base em padrões de linguagem e conteúdo. Isso pode ser útil para empresas financeiras e de seguros que precisam detectar atividades fraudulentas.\n",
        "\n",
        "   * Análise de sentimento do cliente: classificar as respostas dos clientes em pesquisas de satisfação em categorias como \"satisfeito\", \"insatisfeito\" ou \"neutro\". Isso pode ajudar a entender a experiência do cliente e identificar áreas de melhoria.\n",
        "\n",
        "   * Análise de discurso político: classificar discursos políticos para identificar temas e estratégias retóricas usadas por políticos.\n",
        "\n",
        "   * Previsão do mercado de ações: classificar notícias financeiras e relatórios empresariais para prever o desempenho futuro do mercado de ações.\n",
        "\n",
        "   * Identificação de espécies de animais: classificar descrições de características físicas e comportamentais de animais para identificar espécies específicas.\n"
      ],
      "metadata": {
        "id": "xxy6rXZIe1b5"
      }
    },
    {
      "cell_type": "markdown",
      "source": [
        "**Conjunto de Dados**"
      ],
      "metadata": {
        "id": "z031ztwtNItt"
      }
    },
    {
      "cell_type": "markdown",
      "source": [
        "O conjunto de dados `20 Newsgroups` é um conjunto de documentos de texto que é frequentemente usado para avaliar algoritmos de classificação de texto. Ele contém cerca de 20.000 documentos de grupos de discussão em 20 categorias diferentes, como ciência, esportes, religião, política, tecnologia, entre outros. \n",
        "\n",
        "Cada documento no conjunto de dados é uma mensagem de texto, que pode conter informações como tópico, autor, data e conteúdo. O objetivo é classificar cada documento em uma das 20 categorias, com base no conteúdo do texto.\n",
        "\n",
        "O conjunto de dados `20 Newsgroups` está disponível publicamente e pode ser baixado a partir da biblioteca `scikit-learn` do Python, que contém uma função para carregar o conjunto de dados."
      ],
      "metadata": {
        "id": "TcRRTcIZM_xg"
      }
    },
    {
      "cell_type": "markdown",
      "source": [
        "Aqui está um exemplo de código para mostrar o número total de mensagens e os atributos do conjunto de dados `20 Newsgroups`:"
      ],
      "metadata": {
        "id": "e3u_JkJ1S-Sb"
      }
    },
    {
      "cell_type": "code",
      "source": [
        "from sklearn.datasets import fetch_20newsgroups\n",
        "\n",
        "# Carregar o conjunto de dados\n",
        "newsgroups = fetch_20newsgroups()\n",
        "\n",
        "# Mostrar o número total de mensagens\n",
        "print(\"Número total de mensagens: \", len(newsgroups.data))"
      ],
      "metadata": {
        "colab": {
          "base_uri": "https://localhost:8080/"
        },
        "id": "1lLBqGQfTDPE",
        "outputId": "0dc60e48-30ea-4d54-92e9-811cd35e4a84"
      },
      "execution_count": 31,
      "outputs": [
        {
          "output_type": "stream",
          "name": "stdout",
          "text": [
            "Número total de mensagens:  11314\n"
          ]
        }
      ]
    },
    {
      "cell_type": "markdown",
      "source": [
        "Aqui está um exemplo de como mostrar o número de mensagens em cada uma das categorias usando um gráfico de barras:"
      ],
      "metadata": {
        "id": "CvRhZqUJT_0F"
      }
    },
    {
      "cell_type": "code",
      "source": [
        "import matplotlib.pyplot as plt\n",
        "from sklearn.datasets import fetch_20newsgroups\n",
        "\n",
        "# Carregar o conjunto de dados\n",
        "newsgroups = fetch_20newsgroups()\n",
        "\n",
        "# Contar o número de mensagens em cada categoria (721 em cada categoria)\n",
        "counts = [len(newsgroups.data[newsgroups.target.tolist() == i]) for i in range(len(newsgroups.target_names))]\n",
        "\n",
        "# Mostrar o número de mensagens em cada categoria em um gráfico de barras\n",
        "plt.bar(newsgroups.target_names, counts)\n",
        "plt.xticks(rotation=90)\n",
        "plt.xlabel('Categoria')\n",
        "plt.ylabel('Número de mensagens')\n",
        "plt.show()"
      ],
      "metadata": {
        "colab": {
          "base_uri": "https://localhost:8080/",
          "height": 404
        },
        "id": "Q09BREKeQxcI",
        "outputId": "8381b577-c2e0-4117-8b08-a607a13aa4ce"
      },
      "execution_count": 33,
      "outputs": [
        {
          "output_type": "display_data",
          "data": {
            "text/plain": [
              "<Figure size 432x288 with 1 Axes>"
            ],
            "image/png": "[encoded data removed]"
          },
          "metadata": {
            "needs_background": "light"
          }
        }
      ]
    },
    {
      "cell_type": "markdown",
      "source": [
        "Aqui está um exemplo de como carregar o conjunto de dados `20 Newsgroups`, filtrar duas categorias (escolhidas aleatoriamente) e treinar um modelo de classificação de texto."
      ],
      "metadata": {
        "id": "T9pL_NPwPRyn"
      }
    },
    {
      "cell_type": "code",
      "source": [
        "import numpy as np\n",
        "import matplotlib.pyplot as plt\n",
        "from sklearn.datasets import fetch_20newsgroups\n",
        "from sklearn.feature_extraction.text import CountVectorizer\n",
        "from sklearn.naive_bayes import MultinomialNB\n",
        "from sklearn.metrics import confusion_matrix\n",
        "\n",
        "# Escolher as categorias que queremos classificar\n",
        "categories = ['sci.space', 'talk.politics.guns']\n",
        "\n",
        "# Carregar os dados de treino e teste\n",
        "newsgroups_train = fetch_20newsgroups(subset='train', categories=categories)\n",
        "newsgroups_test = fetch_20newsgroups(subset='test', categories=categories)\n",
        "\n",
        "# Criar o vetorizador e aplicá-lo aos dados\n",
        "vectorizer = CountVectorizer(stop_words='english')\n",
        "X_train = vectorizer.fit_transform(newsgroups_train.data)\n",
        "X_test = vectorizer.transform(newsgroups_test.data)\n",
        "\n",
        "# Treinar o modelo de classificação Naive Bayes\n",
        "clf = MultinomialNB()\n",
        "clf.fit(X_train, newsgroups_train.target)\n",
        "\n",
        "# Prever as classes dos dados de teste\n",
        "pred = clf.predict(X_test)"
      ],
      "metadata": {
        "id": "5DlTu1HgPBGE"
      },
      "execution_count": 49,
      "outputs": []
    },
    {
      "cell_type": "markdown",
      "source": [
        "A função `fit_transform` é usada para ajustar e transformar os dados de treinamento. Isso significa que ela calcula os parâmetros de ajuste (por exemplo, a frequência das palavras no corpus) nos dados de treinamento e, em seguida, aplica essa transformação aos próprios dados de treinamento. A saída é uma matriz de características - *features* (também conhecida como matriz de termos de documentos) que pode ser usada para treinar um modelo de aprendizado de máquina.\n",
        "\n",
        "Por outro lado, a função `transform` é usada para aplicar a mesma transformação (ou seja, os mesmos parâmetros de ajuste) aos dados de teste ou de validação."
      ],
      "metadata": {
        "id": "MBPb7xWWXCcv"
      }
    },
    {
      "cell_type": "markdown",
      "source": [
        "Em `scikit-learn`, o atributo `target` de um conjunto de dados é usado para armazenar as classes ou rótulos associados a cada amostra no conjunto de dados. Nesse caso, o atributo `target` contém as categorias das notícias associadas a cada amostra."
      ],
      "metadata": {
        "id": "9rYvdkyMXzrU"
      }
    },
    {
      "cell_type": "markdown",
      "source": [
        "O método `clf.predict(X_test)` é usado para fazer previsões do modelo treinado para um conjunto de dados de teste `X_test`.\n",
        "\n",
        "O parâmetro `X_test` é um array bidimensional que contém as amostras de teste, onde cada linha representa uma amostra e cada coluna representa uma característica (ou feature) da amostra.\n",
        "\n",
        "Ao chamar o método `clf.predict(X_test)`, o modelo treinado `clf` utiliza as informações contidas em `X_test` para prever a classe de cada amostra. O método retorna um array unidimensional com as previsões do modelo para cada amostra em `X_test`, onde cada elemento do array corresponde à previsão para a amostra correspondente em `X_test`.\n",
        "\n",
        "Por exemplo, se `X_test` tiver 100 amostras de teste, o método `clf.predict(X_test)` retornará um array unidimensional com 100 elementos, onde cada elemento é a previsão do modelo para a amostra correspondente em `X_test`. Cada elemento do array será um número inteiro que representa a classe prevista pelo modelo para a amostra correspondente."
      ],
      "metadata": {
        "id": "B1JTYWCzZzYI"
      }
    },
    {
      "cell_type": "markdown",
      "source": [
        "**Acurácia**"
      ],
      "metadata": {
        "id": "p64mJMAwYtUI"
      }
    },
    {
      "cell_type": "markdown",
      "source": [
        "A acurácia é uma métrica comum usada para avaliar o desempenho de um modelo de classificação. A acurácia é definida como a proporção de amostras classificadas corretamente pelo modelo em relação ao total de amostras.\n",
        "\n",
        "Em outras palavras, a acurácia é a razão entre o número de amostras classificadas corretamente e o número total de amostras no conjunto de dados. A acurácia é expressa como um valor entre 0 e 1, ou como uma porcentagem entre 0% e 100%, onde um valor mais alto indica um modelo mais preciso.\n",
        "\n",
        "A acurácia pode ser enganosa se as classes no conjunto de dados não estiverem balanceadas, ou seja, se houver muito mais amostras de uma classe do que de outras. Nesses casos, o modelo pode ter uma alta acurácia simplesmente porque está classificando a classe predominante corretamente, enquanto as outras classes têm uma performance muito ruim. Por essa razão, é importante avaliar outras métricas, como a precisão, a recall e a F1-score, para obter uma visão mais completa da performance do modelo."
      ],
      "metadata": {
        "id": "4IMfCK4QYvWO"
      }
    },
    {
      "cell_type": "code",
      "source": [
        "# Calcular a acurácia\n",
        "acc = accuracy_score(newsgroups_test.target, pred)\n",
        "print(\"Acurácia:\", acc)"
      ],
      "metadata": {
        "colab": {
          "base_uri": "https://localhost:8080/"
        },
        "id": "6tZc3xHVYru_",
        "outputId": "a8ffa471-cd02-4db6-913a-42da5a52cd75"
      },
      "execution_count": 50,
      "outputs": [
        {
          "output_type": "stream",
          "name": "stdout",
          "text": [
            "Acurácia: 0.9881266490765171\n"
          ]
        }
      ]
    },
    {
      "cell_type": "code",
      "source": [
        "# Fazer a predição de um novo post\n",
        "new_post = \"Space exploration is essential for the future of humanity\"\n",
        "\n",
        "X_new = vectorizer.transform([new_post])\n",
        "y_new = clf.predict(X_new)\n",
        "\n",
        "print(f\"A categoria prevista para o post é: {labels[y_new[0]]}\")"
      ],
      "metadata": {
        "colab": {
          "base_uri": "https://localhost:8080/"
        },
        "id": "62pe36NYUNav",
        "outputId": "bd808186-089e-42b8-a7b9-3cdbe2e43806"
      },
      "execution_count": 47,
      "outputs": [
        {
          "output_type": "stream",
          "name": "stdout",
          "text": [
            "A categoria prevista para o post é: sci.space\n"
          ]
        }
      ]
    },
    {
      "cell_type": "markdown",
      "source": [
        "O array `labels` é uma lista que contém os rótulos das classes do conjunto de dados. O índice de cada elemento da lista corresponde ao índice da classe no array `newsgroups_train.target`, ou seja, `labels[i]` é o rótulo da classe com índice i no array `newsgroups_train.target`.Assim, `labels[y_new[0]]` é usado para obter o rótulo da classe prevista para a nova amostra."
      ],
      "metadata": {
        "id": "yUmlZfeDZVJj"
      }
    },
    {
      "cell_type": "markdown",
      "source": [
        "**Matriz de Confusão**"
      ],
      "metadata": {
        "id": "cOI1aVRVcLLC"
      }
    },
    {
      "cell_type": "markdown",
      "source": [
        "A matriz de confusão é uma tabela que é usada para avaliar o desempenho de um modelo de classificação em termos de suas previsões corretas e incorretas. É uma maneira de comparar as previsões do modelo com as classes reais dos dados."
      ],
      "metadata": {
        "id": "ZdfAy1YLcNcE"
      }
    },
    {
      "cell_type": "code",
      "source": [
        "from sklearn.metrics import confusion_matrix\n",
        "import seaborn as sns\n",
        "\n",
        "y_test = newsgroups_test.target\n",
        "\n",
        "# Obter a matriz de confusão\n",
        "cm = confusion_matrix(y_test, pred)\n",
        "\n",
        "# Plotar a matriz de confusão usando seaborn\n",
        "sns.heatmap(cm, annot=True, fmt='d', cmap='Blues');"
      ],
      "metadata": {
        "colab": {
          "base_uri": "https://localhost:8080/",
          "height": 265
        },
        "id": "ZUpPzUYjbG5S",
        "outputId": "4cf2b1ee-ebed-4dc2-c7c4-c5497d4a78c0"
      },
      "execution_count": 56,
      "outputs": [
        {
          "output_type": "display_data",
          "data": {
            "text/plain": [
              "<Figure size 432x288 with 2 Axes>"
            ],
            "image/png": "[encoded data removed]"
          },
          "metadata": {
            "needs_background": "light"
          }
        }
      ]
    },
    {
      "cell_type": "code",
      "source": [
        "print(cm)"
      ],
      "metadata": {
        "colab": {
          "base_uri": "https://localhost:8080/"
        },
        "id": "tBAc6gVnb5py",
        "outputId": "31ad6a0c-780e-4084-a28a-4d8545e82b8e"
      },
      "execution_count": 57,
      "outputs": [
        {
          "output_type": "stream",
          "name": "stdout",
          "text": [
            "[[389   5]\n",
            " [  4 360]]\n"
          ]
        }
      ]
    },
    {
      "cell_type": "markdown",
      "source": [
        "As linhas representam as classes reais dos dados, enquanto as colunas representam as previsões do modelo. Os elementos na diagonal principal representam as previsões corretas do modelo, enquanto os elementos fora da diagonal principal representam as previsões incorretas. A matriz de confusão é usada para calcular várias métricas de avaliação do modelo, como a acurácia, a precisão, o recall e a F1-score."
      ],
      "metadata": {
        "id": "ltGrWdcncttx"
      }
    },
    {
      "cell_type": "markdown",
      "source": [
        "A precisão, o recall e a F1-score são métricas comuns usadas para avaliar a qualidade de um modelo de classificação.\n",
        "\n",
        "A **precisão** é definida como a proporção de exemplos classificados corretamente como positivos em relação a todos os exemplos classificados como positivos, ou seja, é a capacidade do modelo de classificar corretamente os exemplos positivos.\n",
        "\n",
        "O **recall** é definido como a proporção de exemplos classificados corretamente como positivos em relação a todos os exemplos que deveriam ter sido classificados como positivos, ou seja, é a capacidade do modelo de encontrar todos os exemplos positivos.\n",
        "\n",
        "A **F1-score** é uma média harmônica entre a precisão e o recall e é útil quando se deseja equilibrar a importância da precisão e do recall.\n",
        "\n",
        "Segue um exemplo de código para calcular a precisão, recall e F1-score em Python usando a biblioteca `scikit-learn`:"
      ],
      "metadata": {
        "id": "CooKu_TydjCw"
      }
    },
    {
      "cell_type": "code",
      "source": [
        "from sklearn.metrics import precision_score, recall_score, f1_score\n",
        "\n",
        "# Calcula as métricas de avaliação\n",
        "precision = precision_score(y_test, pred)\n",
        "recall = recall_score(y_test, pred)\n",
        "f1 = f1_score(y_test, pred)\n",
        "\n",
        "# Imprime as métricas de avaliação \n",
        "print(\"Precisão: {:.2f}\".format(precision))\n",
        "print(\"Recall: {:.2f}\".format(recall))\n",
        "print(\"F1-score: {:.2f}\".format(f1))"
      ],
      "metadata": {
        "colab": {
          "base_uri": "https://localhost:8080/"
        },
        "id": "mZ7IxM7ndGJL",
        "outputId": "7deb7616-b516-4bdf-d936-d93f1d6e78d5"
      },
      "execution_count": 58,
      "outputs": [
        {
          "output_type": "stream",
          "name": "stdout",
          "text": [
            "Precisão: 0.99\n",
            "Recall: 0.99\n",
            "F1-score: 0.99\n"
          ]
        }
      ]
    },
    {
      "cell_type": "markdown",
      "source": [
        "**Conjunto de Dados criado manualmente**"
      ],
      "metadata": {
        "id": "DM7jXW5xmHL3"
      }
    },
    {
      "cell_type": "code",
      "source": [
        "import pandas as pd\n",
        "import numpy as np\n",
        "import string\n",
        "import nltk\n",
        "from nltk.corpus import stopwords\n",
        "from sklearn.feature_extraction.text import CountVectorizer\n",
        "from sklearn.naive_bayes import MultinomialNB\n",
        "from sklearn.metrics import accuracy_score, precision_score, recall_score, f1_score\n",
        "from sklearn.model_selection import train_test_split\n",
        "\n",
        "# Download dos dados do NLTK\n",
        "nltk.download('stopwords')"
      ],
      "metadata": {
        "colab": {
          "base_uri": "https://localhost:8080/"
        },
        "id": "Dt_Ojg_tlc1g",
        "outputId": "bcf24516-fba4-4b9c-a029-71cdcf6556ce"
      },
      "execution_count": 66,
      "outputs": [
        {
          "output_type": "stream",
          "name": "stderr",
          "text": [
            "[nltk_data] Downloading package stopwords to /root/nltk_data...\n",
            "[nltk_data]   Package stopwords is already up-to-date!\n"
          ]
        },
        {
          "output_type": "execute_result",
          "data": {
            "text/plain": [
              "True"
            ]
          },
          "metadata": {},
          "execution_count": 66
        }
      ]
    },
    {
      "cell_type": "code",
      "source": [
        "dados = [\n",
        "    ('Política', 'O presidente da República esteve reunido com líderes do Congresso nesta tarde.'),\n",
        "    ('Política', 'A reforma tributária é uma das prioridades do governo para este ano.'),\n",
        "    ('Política', 'O governador do Estado anunciou hoje a construção de uma nova rodovia.'),\n",
        "    ('Política', 'A Câmara dos Deputados aprovou uma medida provisória que autoriza a venda de terras para estrangeiros.'),\n",
        "    ('Política', 'O prefeito da cidade anunciou a criação de um novo programa social.'),\n",
        "    ('Política', 'Presidente anuncia pacote de medidas econômicas para o país'),\n",
        "    ('Política', 'Câmara dos Deputados aprova reforma da previdência'),\n",
        "    ('Política', 'Supremo Tribunal Federal libera candidatura de político condenado por corrupção'),\n",
        "    ('Política', 'Deputado federal é cassado por envolvimento em esquema de corrupção'),\n",
        "    ('Tecnologia', 'A empresa Y lançou um novo smartphone com tela dobrável.'),\n",
        "    ('Tecnologia', 'O Google anunciou uma nova ferramenta de inteligência artificial para reconhecimento de imagens.'),\n",
        "    ('Tecnologia', 'O Facebook está desenvolvendo um novo aplicativo de mensagens.'),\n",
        "    ('Tecnologia', 'A Amazon anunciou uma nova linha de produtos para casa inteligente.'),\n",
        "    ('Tecnologia', 'A Apple lançou uma nova versão do seu sistema operacional para iPhone.'),\n",
        "    ('Tecnologia', 'A Microsoft apresentou sua nova linha de laptops com tecnologia de ponta.'),\n",
        "    ('Tecnologia', 'O Spotify lançou uma nova funcionalidade que permite compartilhar playlists com amigos.'),\n",
        "    ('Tecnologia', 'A Uber anunciou uma parceria com a empresa Z para fornecer transporte em bicicletas elétricas.'),\n",
        "    ('Tecnologia', 'Google anuncia lançamento de novo smartphone Pixel'),\n",
        "    ('Esportes', 'O time X venceu a final do campeonato estadual.'),\n",
        "    ('Esportes', 'O jogador Y marcou dois gols na partida de ontem.'),\n",
        "    ('Esportes', 'O técnico do time Z anunciou mudanças na escalação para o próximo jogo.'),\n",
        "    ('Esportes', 'A seleção brasileira está se preparando para a Copa do Mundo.'),\n",
        "    ('Esportes', 'O atleta A foi suspenso por doping no último campeonato.'),\n",
        "    ('Esportes', 'O Brasil vence a Argentina por 2 a 0 em amistoso internacional'), \n",
        "    ('Esportes', 'Neymar marca três gols e PSG vence por 4 a 0'),\n",
        "    ('Esportes', 'São Paulo empata em jogo emocionante contra o Flamengo'),\n",
        "    ('Esportes', 'Fórmula 1: Hamilton vence Grande Prêmio da Austrália') ]\n",
        "\n",
        "df = pd.DataFrame(dados, columns=['Categoria', 'Texto'])\n",
        "df.head()"
      ],
      "metadata": {
        "colab": {
          "base_uri": "https://localhost:8080/",
          "height": 206
        },
        "id": "cCYK1qP8mCfj",
        "outputId": "fa2a79ba-117a-429f-ed0b-84cb116ec176"
      },
      "execution_count": 80,
      "outputs": [
        {
          "output_type": "execute_result",
          "data": {
            "text/plain": [
              "  Categoria                                              Texto\n",
              "0  Política  O presidente da República esteve reunido com l...\n",
              "1  Política  A reforma tributária é uma das prioridades do ...\n",
              "2  Política  O governador do Estado anunciou hoje a constru...\n",
              "3  Política  A Câmara dos Deputados aprovou uma medida prov...\n",
              "4  Política  O prefeito da cidade anunciou a criação de um ..."
            ],
            "text/html": [
              "\n",
              "  <div id=\"df-48789a26-242e-47d0-9429-e014cafe186d\">\n",
              "    <div class=\"colab-df-container\">\n",
              "      <div>\n",
              "<style scoped>\n",
              "    .dataframe tbody tr th:only-of-type {\n",
              "        vertical-align: middle;\n",
              "    }\n",
              "\n",
              "    .dataframe tbody tr th {\n",
              "        vertical-align: top;\n",
              "    }\n",
              "\n",
              "    .dataframe thead th {\n",
              "        text-align: right;\n",
              "    }\n",
              "</style>\n",
              "<table border=\"1\" class=\"dataframe\">\n",
              "  <thead>\n",
              "    <tr style=\"text-align: right;\">\n",
              "      <th></th>\n",
              "      <th>Categoria</th>\n",
              "      <th>Texto</th>\n",
              "    </tr>\n",
              "  </thead>\n",
              "  <tbody>\n",
              "    <tr>\n",
              "      <th>0</th>\n",
              "      <td>Política</td>\n",
              "      <td>O presidente da República esteve reunido com l...</td>\n",
              "    </tr>\n",
              "    <tr>\n",
              "      <th>1</th>\n",
              "      <td>Política</td>\n",
              "      <td>A reforma tributária é uma das prioridades do ...</td>\n",
              "    </tr>\n",
              "    <tr>\n",
              "      <th>2</th>\n",
              "      <td>Política</td>\n",
              "      <td>O governador do Estado anunciou hoje a constru...</td>\n",
              "    </tr>\n",
              "    <tr>\n",
              "      <th>3</th>\n",
              "      <td>Política</td>\n",
              "      <td>A Câmara dos Deputados aprovou uma medida prov...</td>\n",
              "    </tr>\n",
              "    <tr>\n",
              "      <th>4</th>\n",
              "      <td>Política</td>\n",
              "      <td>O prefeito da cidade anunciou a criação de um ...</td>\n",
              "    </tr>\n",
              "  </tbody>\n",
              "</table>\n",
              "</div>\n",
              "      <button class=\"colab-df-convert\" onclick=\"convertToInteractive('df-48789a26-242e-47d0-9429-e014cafe186d')\"\n",
              "              title=\"Convert this dataframe to an interactive table.\"\n",
              "              style=\"display:none;\">\n",
              "        \n",
              "  <svg xmlns=\"http://www.w3.org/2000/svg\" height=\"24px\"viewBox=\"0 0 24 24\"\n",
              "       width=\"24px\">\n",
              "    <path d=\"M0 0h24v24H0V0z\" fill=\"none\"/>\n",
              "    <path d=\"M18.56 5.44l.94 2.06.94-2.06 2.06-.94-2.06-.94-.94-2.06-.94 2.06-2.06.94zm-11 1L8.5 8.5l.94-2.06 2.06-.94-2.06-.94L8.5 2.5l-.94 2.06-2.06.94zm10 10l.94 2.06.94-2.06 2.06-.94-2.06-.94-.94-2.06-.94 2.06-2.06.94z\"/><path d=\"M17.41 7.96l-1.37-1.37c-.4-.4-.92-.59-1.43-.59-.52 0-1.04.2-1.43.59L10.3 9.45l-7.72 7.72c-.78.78-.78 2.05 0 2.83L4 21.41c.39.39.9.59 1.41.59.51 0 1.02-.2 1.41-.59l7.78-7.78 2.81-2.81c.8-.78.8-2.07 0-2.86zM5.41 20L4 18.59l7.72-7.72 1.47 1.35L5.41 20z\"/>\n",
              "  </svg>\n",
              "      </button>\n",
              "      \n",
              "  <style>\n",
              "    .colab-df-container {\n",
              "      display:flex;\n",
              "      flex-wrap:wrap;\n",
              "      gap: 12px;\n",
              "    }\n",
              "\n",
              "    .colab-df-convert {\n",
              "      background-color: #E8F0FE;\n",
              "      border: none;\n",
              "      border-radius: 50%;\n",
              "      cursor: pointer;\n",
              "      display: none;\n",
              "      fill: #1967D2;\n",
              "      height: 32px;\n",
              "      padding: 0 0 0 0;\n",
              "      width: 32px;\n",
              "    }\n",
              "\n",
              "    .colab-df-convert:hover {\n",
              "      background-color: #E2EBFA;\n",
              "      box-shadow: 0px 1px 2px rgba(60, 64, 67, 0.3), 0px 1px 3px 1px rgba(60, 64, 67, 0.15);\n",
              "      fill: #174EA6;\n",
              "    }\n",
              "\n",
              "    [theme=dark] .colab-df-convert {\n",
              "      background-color: #3B4455;\n",
              "      fill: #D2E3FC;\n",
              "    }\n",
              "\n",
              "    [theme=dark] .colab-df-convert:hover {\n",
              "      background-color: #434B5C;\n",
              "      box-shadow: 0px 1px 3px 1px rgba(0, 0, 0, 0.15);\n",
              "      filter: drop-shadow(0px 1px 2px rgba(0, 0, 0, 0.3));\n",
              "      fill: #FFFFFF;\n",
              "    }\n",
              "  </style>\n",
              "\n",
              "      <script>\n",
              "        const buttonEl =\n",
              "          document.querySelector('#df-48789a26-242e-47d0-9429-e014cafe186d button.colab-df-convert');\n",
              "        buttonEl.style.display =\n",
              "          google.colab.kernel.accessAllowed ? 'block' : 'none';\n",
              "\n",
              "        async function convertToInteractive(key) {\n",
              "          const element = document.querySelector('#df-48789a26-242e-47d0-9429-e014cafe186d');\n",
              "          const dataTable =\n",
              "            await google.colab.kernel.invokeFunction('convertToInteractive',\n",
              "                                                     [key], {});\n",
              "          if (!dataTable) return;\n",
              "\n",
              "          const docLinkHtml = 'Like what you see? Visit the ' +\n",
              "            '<a target=\"_blank\" href=https://colab.research.google.com/notebooks/data_table.ipynb>data table notebook</a>'\n",
              "            + ' to learn more about interactive tables.';\n",
              "          element.innerHTML = '';\n",
              "          dataTable['output_type'] = 'display_data';\n",
              "          await google.colab.output.renderOutput(dataTable, element);\n",
              "          const docLink = document.createElement('div');\n",
              "          docLink.innerHTML = docLinkHtml;\n",
              "          element.appendChild(docLink);\n",
              "        }\n",
              "      </script>\n",
              "    </div>\n",
              "  </div>\n",
              "  "
            ]
          },
          "metadata": {},
          "execution_count": 80
        }
      ]
    },
    {
      "cell_type": "code",
      "source": [
        "# Remove pontuações e transforma os textos em minúsculas\n",
        "df['Texto'] = df['Texto'].apply(lambda x: x.translate(str.maketrans('', '', string.punctuation)))\n",
        "df['Texto'] = df['Texto'].apply(lambda x: x.lower())\n",
        "\n",
        "# Remove as stop words em português\n",
        "stop_words = stopwords.words('portuguese')\n",
        "df['Texto'] = df['Texto'].apply(lambda x: ' '.join([word for word in x.split() if word not in stop_words]))\n",
        "\n",
        "df.head()"
      ],
      "metadata": {
        "colab": {
          "base_uri": "https://localhost:8080/",
          "height": 206
        },
        "id": "Drp9J5KBl6cR",
        "outputId": "c36b20e3-eeb0-4c8a-b731-e5069b817c22"
      },
      "execution_count": 68,
      "outputs": [
        {
          "output_type": "execute_result",
          "data": {
            "text/plain": [
              "  Categoria                                              Texto\n",
              "0  Política  presidente república reunido líderes congresso...\n",
              "1  Política         reforma tributária prioridades governo ano\n",
              "2  Política  governador estado anunciou hoje construção nov...\n",
              "3  Política  câmara deputados aprovou medida provisória aut...\n",
              "4  Política  prefeito cidade anunciou criação novo programa..."
            ],
            "text/html": [
              "\n",
              "  <div id=\"df-c3b5ce90-4bb7-4f23-b7e6-b2cfc9989092\">\n",
              "    <div class=\"colab-df-container\">\n",
              "      <div>\n",
              "<style scoped>\n",
              "    .dataframe tbody tr th:only-of-type {\n",
              "        vertical-align: middle;\n",
              "    }\n",
              "\n",
              "    .dataframe tbody tr th {\n",
              "        vertical-align: top;\n",
              "    }\n",
              "\n",
              "    .dataframe thead th {\n",
              "        text-align: right;\n",
              "    }\n",
              "</style>\n",
              "<table border=\"1\" class=\"dataframe\">\n",
              "  <thead>\n",
              "    <tr style=\"text-align: right;\">\n",
              "      <th></th>\n",
              "      <th>Categoria</th>\n",
              "      <th>Texto</th>\n",
              "    </tr>\n",
              "  </thead>\n",
              "  <tbody>\n",
              "    <tr>\n",
              "      <th>0</th>\n",
              "      <td>Política</td>\n",
              "      <td>presidente república reunido líderes congresso...</td>\n",
              "    </tr>\n",
              "    <tr>\n",
              "      <th>1</th>\n",
              "      <td>Política</td>\n",
              "      <td>reforma tributária prioridades governo ano</td>\n",
              "    </tr>\n",
              "    <tr>\n",
              "      <th>2</th>\n",
              "      <td>Política</td>\n",
              "      <td>governador estado anunciou hoje construção nov...</td>\n",
              "    </tr>\n",
              "    <tr>\n",
              "      <th>3</th>\n",
              "      <td>Política</td>\n",
              "      <td>câmara deputados aprovou medida provisória aut...</td>\n",
              "    </tr>\n",
              "    <tr>\n",
              "      <th>4</th>\n",
              "      <td>Política</td>\n",
              "      <td>prefeito cidade anunciou criação novo programa...</td>\n",
              "    </tr>\n",
              "  </tbody>\n",
              "</table>\n",
              "</div>\n",
              "      <button class=\"colab-df-convert\" onclick=\"convertToInteractive('df-c3b5ce90-4bb7-4f23-b7e6-b2cfc9989092')\"\n",
              "              title=\"Convert this dataframe to an interactive table.\"\n",
              "              style=\"display:none;\">\n",
              "        \n",
              "  <svg xmlns=\"http://www.w3.org/2000/svg\" height=\"24px\"viewBox=\"0 0 24 24\"\n",
              "       width=\"24px\">\n",
              "    <path d=\"M0 0h24v24H0V0z\" fill=\"none\"/>\n",
              "    <path d=\"M18.56 5.44l.94 2.06.94-2.06 2.06-.94-2.06-.94-.94-2.06-.94 2.06-2.06.94zm-11 1L8.5 8.5l.94-2.06 2.06-.94-2.06-.94L8.5 2.5l-.94 2.06-2.06.94zm10 10l.94 2.06.94-2.06 2.06-.94-2.06-.94-.94-2.06-.94 2.06-2.06.94z\"/><path d=\"M17.41 7.96l-1.37-1.37c-.4-.4-.92-.59-1.43-.59-.52 0-1.04.2-1.43.59L10.3 9.45l-7.72 7.72c-.78.78-.78 2.05 0 2.83L4 21.41c.39.39.9.59 1.41.59.51 0 1.02-.2 1.41-.59l7.78-7.78 2.81-2.81c.8-.78.8-2.07 0-2.86zM5.41 20L4 18.59l7.72-7.72 1.47 1.35L5.41 20z\"/>\n",
              "  </svg>\n",
              "      </button>\n",
              "      \n",
              "  <style>\n",
              "    .colab-df-container {\n",
              "      display:flex;\n",
              "      flex-wrap:wrap;\n",
              "      gap: 12px;\n",
              "    }\n",
              "\n",
              "    .colab-df-convert {\n",
              "      background-color: #E8F0FE;\n",
              "      border: none;\n",
              "      border-radius: 50%;\n",
              "      cursor: pointer;\n",
              "      display: none;\n",
              "      fill: #1967D2;\n",
              "      height: 32px;\n",
              "      padding: 0 0 0 0;\n",
              "      width: 32px;\n",
              "    }\n",
              "\n",
              "    .colab-df-convert:hover {\n",
              "      background-color: #E2EBFA;\n",
              "      box-shadow: 0px 1px 2px rgba(60, 64, 67, 0.3), 0px 1px 3px 1px rgba(60, 64, 67, 0.15);\n",
              "      fill: #174EA6;\n",
              "    }\n",
              "\n",
              "    [theme=dark] .colab-df-convert {\n",
              "      background-color: #3B4455;\n",
              "      fill: #D2E3FC;\n",
              "    }\n",
              "\n",
              "    [theme=dark] .colab-df-convert:hover {\n",
              "      background-color: #434B5C;\n",
              "      box-shadow: 0px 1px 3px 1px rgba(0, 0, 0, 0.15);\n",
              "      filter: drop-shadow(0px 1px 2px rgba(0, 0, 0, 0.3));\n",
              "      fill: #FFFFFF;\n",
              "    }\n",
              "  </style>\n",
              "\n",
              "      <script>\n",
              "        const buttonEl =\n",
              "          document.querySelector('#df-c3b5ce90-4bb7-4f23-b7e6-b2cfc9989092 button.colab-df-convert');\n",
              "        buttonEl.style.display =\n",
              "          google.colab.kernel.accessAllowed ? 'block' : 'none';\n",
              "\n",
              "        async function convertToInteractive(key) {\n",
              "          const element = document.querySelector('#df-c3b5ce90-4bb7-4f23-b7e6-b2cfc9989092');\n",
              "          const dataTable =\n",
              "            await google.colab.kernel.invokeFunction('convertToInteractive',\n",
              "                                                     [key], {});\n",
              "          if (!dataTable) return;\n",
              "\n",
              "          const docLinkHtml = 'Like what you see? Visit the ' +\n",
              "            '<a target=\"_blank\" href=https://colab.research.google.com/notebooks/data_table.ipynb>data table notebook</a>'\n",
              "            + ' to learn more about interactive tables.';\n",
              "          element.innerHTML = '';\n",
              "          dataTable['output_type'] = 'display_data';\n",
              "          await google.colab.output.renderOutput(dataTable, element);\n",
              "          const docLink = document.createElement('div');\n",
              "          docLink.innerHTML = docLinkHtml;\n",
              "          element.appendChild(docLink);\n",
              "        }\n",
              "      </script>\n",
              "    </div>\n",
              "  </div>\n",
              "  "
            ]
          },
          "metadata": {},
          "execution_count": 68
        }
      ]
    },
    {
      "cell_type": "code",
      "source": [
        "# Vetoriza os textos com CountVectorizer\n",
        "vectorizer = CountVectorizer()\n",
        "X = vectorizer.fit_transform(df['Texto'])\n",
        "\n",
        "# Cria o array de categorias\n",
        "y = df['Categoria']\n",
        "\n",
        "# Divide o dataset em conjunto de treinamento e teste\n",
        "X_train, X_test, y_train, y_test = train_test_split(X, y, test_size=0.2, random_state=42)"
      ],
      "metadata": {
        "id": "3UtjnRjfmoFB"
      },
      "execution_count": 69,
      "outputs": []
    },
    {
      "cell_type": "code",
      "source": [
        "# Cria o classificador Naive Bayes\n",
        "clf = MultinomialNB()\n",
        "\n",
        "# Treina o classificador\n",
        "clf.fit(X_train, y_train)\n",
        "\n",
        "# Faz a predição no conjunto de teste\n",
        "pred = clf.predict(X_test)"
      ],
      "metadata": {
        "id": "sEpxMyKTm4sa"
      },
      "execution_count": 72,
      "outputs": []
    },
    {
      "cell_type": "code",
      "source": [
        "# Calcula as métricas de avaliação\n",
        "accuracy = accuracy_score(y_test, pred)\n",
        "precision = precision_score(y_test, pred, average='macro')\n",
        "recall = recall_score(y_test, pred, average='macro')\n",
        "f1 = f1_score(y_test, pred, average='macro')\n",
        "\n",
        "# Imprime as métricas de avaliação\n",
        "print(f'Acurácia: {accuracy}')\n",
        "print(f'Precisão: {precision}')\n",
        "print(f'Recall: {recall}')\n",
        "print(f'F1-Score: {f1}')"
      ],
      "metadata": {
        "colab": {
          "base_uri": "https://localhost:8080/"
        },
        "id": "pivWHNgvnHoL",
        "outputId": "1ecf1d0b-3689-497b-a537-af7373ff13bf"
      },
      "execution_count": 73,
      "outputs": [
        {
          "output_type": "stream",
          "name": "stdout",
          "text": [
            "Acurácia: 0.8333333333333334\n",
            "Precisão: 0.8888888888888888\n",
            "Recall: 0.8888888888888888\n",
            "F1-Score: 0.8666666666666667\n"
          ]
        }
      ]
    },
    {
      "cell_type": "code",
      "source": [
        "# Fazer a predição de um novo texto\n",
        "texto = \"Palmeiras perde a final para o time do Água Santa\"\n",
        "\n",
        "X_new = vectorizer.transform([texto])\n",
        "y_new = clf.predict(X_new)\n",
        "\n",
        "print(f\"A categoria prevista para o texto é: {y_new[0]}\")"
      ],
      "metadata": {
        "colab": {
          "base_uri": "https://localhost:8080/"
        },
        "id": "mqLu7pI2no4B",
        "outputId": "da67c13e-7afb-4007-fe10-26cb41437df0"
      },
      "execution_count": 78,
      "outputs": [
        {
          "output_type": "stream",
          "name": "stdout",
          "text": [
            "A categoria prevista para o texto é: Esportes\n"
          ]
        }
      ]
    },
    {
      "cell_type": "code",
      "source": [
        "texto = \"O governo anunciou hoje um novo plano de investimentos na área de saúde.\"\n",
        "\n",
        "X_new = vectorizer.transform([texto])\n",
        "y_new = clf.predict(X_new)\n",
        "\n",
        "print(f\"A categoria prevista para o texto é: {y_new[0]}\")"
      ],
      "metadata": {
        "colab": {
          "base_uri": "https://localhost:8080/"
        },
        "id": "VlBOuVQIocsk",
        "outputId": "78aa4818-f1ff-431f-f0db-da9dd1ff13e4"
      },
      "execution_count": 79,
      "outputs": [
        {
          "output_type": "stream",
          "name": "stdout",
          "text": [
            "A categoria prevista para o texto é: Política\n"
          ]
        }
      ]
    }
  ]
}