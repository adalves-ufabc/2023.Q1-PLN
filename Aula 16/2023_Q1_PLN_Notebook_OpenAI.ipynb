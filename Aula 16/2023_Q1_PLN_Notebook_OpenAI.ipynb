{
  "nbformat": 4,
  "nbformat_minor": 0,
  "metadata": {
    "colab": {
      "provenance": [],
      "authorship_tag": "ABX9TyNPeXBw4+sJjuhbbAXfVBV1",
      "include_colab_link": true
    },
    "kernelspec": {
      "name": "python3",
      "display_name": "Python 3"
    }
  },
  "cells": [
    {
      "cell_type": "markdown",
      "metadata": {
        "id": "view-in-github",
        "colab_type": "text"
      },
      "source": [
        "<a href=\"https://colab.research.google.com/github/adalves-ufabc/2023.Q1-PLN/blob/main/2023_Q1_PLN_Notebook_OpenAI.ipynb\" target=\"_parent\"><img src=\"https://colab.research.google.com/assets/colab-badge.svg\" alt=\"Open In Colab\"/></a>"
      ]
    },
    {
      "cell_type": "markdown",
      "metadata": {
        "id": "Y6QILOdpOjwv"
      },
      "source": [
        "# **Processamento de Linguagem Natural [2023.Q1]**\n",
        "Prof. Alexandre Donizeti Alves"
      ]
    },
    {
      "cell_type": "markdown",
      "metadata": {
        "id": "nmK05FgcOzL2"
      },
      "source": [
        "## **API da OpenAI**\n",
        "---\n",
        "\n"
      ]
    },
    {
      "cell_type": "markdown",
      "source": [
        "![image.png](data:image/png;base64,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)"
      ],
      "metadata": {
        "id": "Kjp_EQ47m1-z"
      }
    },
    {
      "cell_type": "markdown",
      "source": [
        "**OpenAI** é uma empresa de pesquisa em inteligência artificial fundada em 2015 por um grupo de empresários e investidores de tecnologia, incluindo Elon Musk e Sam Altman. A missão da OpenAI é desenvolver e promover a inteligência artificial de forma segura e benéfica para a humanidade. A empresa trabalha em diversos campos relacionados à inteligência artificial, incluindo o desenvolvimento de modelos de linguagem natural, aprendizado por reforço e visão computacional. "
      ],
      "metadata": {
        "id": "ouEoJiHTm_K4"
      }
    },
    {
      "cell_type": "markdown",
      "source": [
        "A **API da OpenAI** é um serviço oferecido pela OpenAI que permite que desenvolvedores e empresas integrem facilmente as tecnologias de inteligência artificial da OpenAI em seus próprios aplicativos e sistemas. Através da API, os usuários podem acessar uma variedade de modelos de IA, incluindo modelos de linguagem natural, geradores de texto, tradutores e muito mais.\n",
        "\n",
        "A API do OpenAI permite que os desenvolvedores façam `solicitações HTTP` para os servidores da OpenAI e recebam respostas em `formato JSON` contendo as previsões ou saídas do modelo de IA. Isso facilita o desenvolvimento de aplicativos que usam a inteligência artificial, pois os desenvolvedores não precisam se preocupar em treinar ou ajustar os modelos por conta própria.\n",
        "\n",
        "No entanto, é importante notar que o uso da API do OpenAI é pago e requer uma `chave de API válida` para acessar os serviços. A OpenAI também impõe `limites ao número de solicitações` que um usuário pode fazer em um determinado período de tempo para garantir que os serviços permaneçam escaláveis e de alta qualidade."
      ],
      "metadata": {
        "id": "IvGFp0IfnU2w"
      }
    },
    {
      "cell_type": "markdown",
      "source": [
        "**Primeiros Passos**"
      ],
      "metadata": {
        "id": "JC3bPWofoD1w"
      }
    },
    {
      "cell_type": "markdown",
      "source": [
        "Para usar a API da OpenAI, você precisa seguir alguns passos simples:\n",
        "\n",
        "   * Crie uma conta na OpenAI e obtenha uma chave de API válida. Para isso, acesse o site da OpenAI e siga as instruções para criar uma conta e obter uma chave de API.\n",
        "\n",
        "   * Escolha um modelo de IA que você deseja usar. A OpenAI oferece uma variedade de modelos de IA, incluindo modelos de linguagem natural, geradores de texto, tradutores e muito mais. Escolha o modelo que melhor atenda às suas necessidades.\n",
        "\n",
        "   * Faça uma solicitação para a API usando sua chave de API. Você pode usar qualquer linguagem de programação que permita fazer solicitações HTTP para enviar sua solicitação. Certifique-se de incluir sua chave de API na solicitação.\n",
        "\n",
        "   * Receba a resposta da API em formato JSON. A resposta da API incluirá a saída do modelo de IA, que pode ser uma previsão, uma tradução, um resumo etc., dependendo do modelo que você escolheu.\n",
        "\n",
        "   * Analise a resposta e use-a em seu aplicativo ou sistema conforme necessário.\n",
        "\n",
        "Lembre-se de que o uso da API do OpenAI é pago e sujeito a limites de solicitações. Além disso, a OpenAI incentiva o uso ético e responsável da IA e proíbe o uso da API para atividades ilegais ou maliciosas."
      ],
      "metadata": {
        "id": "NdG7Lnu5oGK0"
      }
    },
    {
      "cell_type": "markdown",
      "source": [
        "**Criar uma conta e obter uma chave da API**"
      ],
      "metadata": {
        "id": "OdqmJPj1p4SJ"
      }
    },
    {
      "cell_type": "markdown",
      "source": [
        "Para criar uma conta na OpenAI, você deve acessar o seguinte endereço: https://openai.com/. Depois de logado, você deve acessar o endereço https://platform.openai.com/account/api-keys para obter uma chave da API. Para isso, bastar clicar em `\"Create new secret key\"`."
      ],
      "metadata": {
        "id": "vNNEbv97ovKf"
      }
    },
    {
      "cell_type": "markdown",
      "source": [
        "Para colocar sua chave de API da OpenAI em um arquivo texto, você pode seguir os seguintes passos:\n",
        "\n",
        "   * Abra o bloco de notas ou o editor de texto de sua preferência.\n",
        "\n",
        "   * Digite a sua chave de API da OpenAI em uma linha separada. \n",
        "\n",
        "   * Salve o arquivo com um nome de sua escolha e a extensão `.txt`, por exemplo, `openai_key.txt`."
      ],
      "metadata": {
        "id": "Ik4CD_hepzTo"
      }
    },
    {
      "cell_type": "markdown",
      "source": [
        "**Primeiro Exemplo**"
      ],
      "metadata": {
        "id": "i0SLsgQ1391V"
      }
    },
    {
      "cell_type": "markdown",
      "source": [
        "O primeiro passo é instalar a API da OpenAI:"
      ],
      "metadata": {
        "id": "5KaL-S-t-QvU"
      }
    },
    {
      "cell_type": "code",
      "source": [
        "!pip install openai"
      ],
      "metadata": {
        "colab": {
          "base_uri": "https://localhost:8080/"
        },
        "id": "m5OLLWTA7P4l",
        "outputId": "702e5049-3195-4ff8-e006-b557e9dfe01e"
      },
      "execution_count": 2,
      "outputs": [
        {
          "output_type": "stream",
          "name": "stdout",
          "text": [
            "Looking in indexes: https://pypi.org/simple, https://us-python.pkg.dev/colab-wheels/public/simple/\n",
            "Requirement already satisfied: openai in /usr/local/lib/python3.9/dist-packages (0.27.3)\n",
            "Requirement already satisfied: requests>=2.20 in /usr/local/lib/python3.9/dist-packages (from openai) (2.27.1)\n",
            "Requirement already satisfied: tqdm in /usr/local/lib/python3.9/dist-packages (from openai) (4.65.0)\n",
            "Requirement already satisfied: aiohttp in /usr/local/lib/python3.9/dist-packages (from openai) (3.8.4)\n",
            "Requirement already satisfied: certifi>=2017.4.17 in /usr/local/lib/python3.9/dist-packages (from requests>=2.20->openai) (2022.12.7)\n",
            "Requirement already satisfied: charset-normalizer~=2.0.0 in /usr/local/lib/python3.9/dist-packages (from requests>=2.20->openai) (2.0.12)\n",
            "Requirement already satisfied: urllib3<1.27,>=1.21.1 in /usr/local/lib/python3.9/dist-packages (from requests>=2.20->openai) (1.26.15)\n",
            "Requirement already satisfied: idna<4,>=2.5 in /usr/local/lib/python3.9/dist-packages (from requests>=2.20->openai) (3.4)\n",
            "Requirement already satisfied: attrs>=17.3.0 in /usr/local/lib/python3.9/dist-packages (from aiohttp->openai) (22.2.0)\n",
            "Requirement already satisfied: multidict<7.0,>=4.5 in /usr/local/lib/python3.9/dist-packages (from aiohttp->openai) (6.0.4)\n",
            "Requirement already satisfied: yarl<2.0,>=1.0 in /usr/local/lib/python3.9/dist-packages (from aiohttp->openai) (1.8.2)\n",
            "Requirement already satisfied: frozenlist>=1.1.1 in /usr/local/lib/python3.9/dist-packages (from aiohttp->openai) (1.3.3)\n",
            "Requirement already satisfied: aiosignal>=1.1.2 in /usr/local/lib/python3.9/dist-packages (from aiohttp->openai) (1.3.1)\n",
            "Requirement already satisfied: async-timeout<5.0,>=4.0.0a3 in /usr/local/lib/python3.9/dist-packages (from aiohttp->openai) (4.0.2)\n"
          ]
        }
      ]
    },
    {
      "cell_type": "markdown",
      "source": [
        "Também é necessário definir a chave da API da OpenAI. Para isso, deve ser feito o upload do arquivo texto com a chave (`openai_key.txt`)."
      ],
      "metadata": {
        "id": "KlrdE-5m-mai"
      }
    },
    {
      "cell_type": "code",
      "source": [
        "import openai\n",
        "import os\n",
        "\n",
        "with open('/content/openai_key.txt', 'r') as f:\n",
        "    api_key = f.readline().strip()\n",
        "\n",
        "os.environ['OPENAI_API_KEY'] = api_key\n",
        "\n",
        "# Define a chave de API\n",
        "openai.api_key = os.getenv(\"OPENAI_API_KEY\")"
      ],
      "metadata": {
        "id": "3YPJajUptZTn"
      },
      "execution_count": 3,
      "outputs": []
    },
    {
      "cell_type": "markdown",
      "source": [
        "Aqui está um exemplo simples de como usar a API da OpenAI em Python:"
      ],
      "metadata": {
        "id": "jqGpL7V73_8u"
      }
    },
    {
      "cell_type": "code",
      "source": [
        "# Define o prompt\n",
        "prompt = \"Qual é a capital do Brasil?\"\n",
        "\n",
        "# Define o modelo de linguagem\n",
        "model_engine = \"text-davinci-003\"\n",
        "\n",
        "# Gera a resposta\n",
        "response = openai.Completion.create(\n",
        "    model = model_engine,\n",
        "    prompt = prompt,\n",
        "    temperature = 0.6,\n",
        "    max_tokens = 100\n",
        ")\n",
        "\n",
        "# Imprime a resposta\n",
        "print(response.choices[0].text.strip())"
      ],
      "metadata": {
        "colab": {
          "base_uri": "https://localhost:8080/"
        },
        "id": "a1rYJ8yozXsI",
        "outputId": "392a0044-0d15-46b8-b708-194ab5728b94"
      },
      "execution_count": 6,
      "outputs": [
        {
          "output_type": "stream",
          "name": "stdout",
          "text": [
            "Brasília.\n"
          ]
        }
      ]
    },
    {
      "cell_type": "markdown",
      "source": [
        "Neste exemplo, a API da OpenAI é usada para gerar uma resposta para a pergunta `\"Qual é a capital do Brasil?\"` usando o modelo de linguagem `text-davinci-003`.\n",
        "\n",
        "Primeiro, a chave de API é definida usando a função `os.getenv()` para obter a chave da variável de ambiente `OPENAI_API_KEY`. Em seguida, o prompt e o modelo de linguagem são definidos.\n",
        "\n",
        "Depois, é criada uma solicitação de conclusão usando a função `openai.Completion.create()`. A solicitação inclui o motor do modelo de linguagem, o prompt, a temperatura e o número máximo de tokens a serem gerados na resposta.\n",
        "\n",
        "Finalmente, a resposta é impressa na tela usando a função `print()`. Note que a resposta pode conter pontuação e outras informações adicionais, portanto usamos o método `strip()` para remover quaisquer espaços em branco extras da resposta.\n",
        "\n",
        "**IMPORTANTE:** toda vez que esse trecho de código for executado, o resultado da consulta pode ser diferente."
      ],
      "metadata": {
        "id": "uig2ZgHS6OuM"
      }
    },
    {
      "cell_type": "markdown",
      "source": [
        "Na API da OpenAI, existem vários conceitos que são importantes para entender como a plataforma funciona. Aqui está uma breve explicação de alguns conceitos importantes:\n",
        "\n",
        "   * `Model`: um modelo é um algoritmo de PLN treinado em grandes quantidades de dados textuais. Na API da OpenAI, você pode escolher entre vários modelos pré-treinados, cada um com seus próprios recursos e especializações. Ao fazer uma solicitação de conclusão de texto na API, você deve especificar qual modelo deseja usar.\n",
        "\n",
        "   * `Prompt`: o prompt é o texto que você fornece à API da OpenAI como entrada. O prompt pode ser uma frase, uma pergunta ou até mesmo um parágrafo completo, e deve ser formatado de acordo com as especificações do modelo escolhido. A API da OpenAI usa o prompt para gerar uma resposta que continue ou conclua o texto fornecido.\n",
        "\n",
        "   * `Temperature`: a temperatura é um parâmetro que controla a criatividade da resposta gerada pela API. Valores mais altos de temperatura produzem respostas mais criativas e surpreendentes, enquanto valores mais baixos produzem respostas mais previsíveis. No entanto, valores muito altos podem levar a respostas incoerentes ou sem sentido, enquanto valores muito baixos podem produzir respostas chatas ou repetitivas.\n",
        "\n",
        "   * `Max_tokens`: o max_tokens é um parâmetro que limita o número máximo de tokens (unidades de texto, como palavras ou pontuação) que serão gerados na resposta. A escolha do valor ideal depende do tamanho do prompt e do tipo de resposta desejado. Valores mais altos produzem respostas mais longas e detalhadas, enquanto valores mais baixos produzem respostas mais concisas e diretas. No entanto, valores muito baixos podem levar a respostas incompletas ou sem sentido, enquanto valores muito altos podem levar a respostas redundantes ou irrelevantes."
      ],
      "metadata": {
        "id": "lKUfAkX27l0h"
      }
    },
    {
      "cell_type": "markdown",
      "source": [
        "**Modelos**"
      ],
      "metadata": {
        "id": "B3H2BA068Vhl"
      }
    },
    {
      "cell_type": "markdown",
      "source": [
        "Para obter a lista de modelos disponíveis na API da OpenAI, você pode usar o seguinte código Python:"
      ],
      "metadata": {
        "id": "auht5o338WxR"
      }
    },
    {
      "cell_type": "code",
      "source": [
        "# Obtém a lista de modelos\n",
        "models = openai.Model.list()\n",
        "\n",
        "print(len(models['data']))\n",
        "\n",
        "# Imprime os nomes dos modelos\n",
        "for model in models['data']:\n",
        "    print(model['id'])"
      ],
      "metadata": {
        "colab": {
          "base_uri": "https://localhost:8080/"
        },
        "id": "RuWXBhpx2sYR",
        "outputId": "6bfe7de7-a76a-4437-f978-4e505afb2743"
      },
      "execution_count": 8,
      "outputs": [
        {
          "output_type": "stream",
          "name": "stdout",
          "text": [
            "64\n",
            "babbage\n",
            "davinci\n",
            "text-davinci-edit-001\n",
            "babbage-code-search-code\n",
            "text-similarity-babbage-001\n",
            "code-davinci-edit-001\n",
            "text-davinci-001\n",
            "ada\n",
            "babbage-code-search-text\n",
            "babbage-similarity\n",
            "whisper-1\n",
            "code-search-babbage-text-001\n",
            "text-curie-001\n",
            "code-search-babbage-code-001\n",
            "text-davinci-003\n",
            "text-ada-001\n",
            "text-embedding-ada-002\n",
            "text-similarity-ada-001\n",
            "curie-instruct-beta\n",
            "ada-code-search-code\n",
            "ada-similarity\n",
            "code-search-ada-text-001\n",
            "text-search-ada-query-001\n",
            "davinci-search-document\n",
            "ada-code-search-text\n",
            "text-search-ada-doc-001\n",
            "davinci-instruct-beta\n",
            "text-similarity-curie-001\n",
            "code-search-ada-code-001\n",
            "ada-search-query\n",
            "text-search-davinci-query-001\n",
            "curie-search-query\n",
            "gpt-3.5-turbo-0301\n",
            "davinci-search-query\n",
            "babbage-search-document\n",
            "ada-search-document\n",
            "text-search-curie-query-001\n",
            "text-search-babbage-doc-001\n",
            "gpt-3.5-turbo\n",
            "curie-search-document\n",
            "text-search-curie-doc-001\n",
            "babbage-search-query\n",
            "text-babbage-001\n",
            "text-search-davinci-doc-001\n",
            "text-search-babbage-query-001\n",
            "curie-similarity\n",
            "curie\n",
            "text-similarity-davinci-001\n",
            "text-davinci-002\n",
            "davinci-similarity\n",
            "cushman:2020-05-03\n",
            "ada:2020-05-03\n",
            "babbage:2020-05-03\n",
            "curie:2020-05-03\n",
            "davinci:2020-05-03\n",
            "if-davinci-v2\n",
            "if-curie-v2\n",
            "if-davinci:3.0.0\n",
            "davinci-if:3.0.0\n",
            "davinci-instruct-beta:2.0.0\n",
            "text-ada:001\n",
            "text-davinci:001\n",
            "text-curie:001\n",
            "text-babbage:001\n"
          ]
        }
      ]
    },
    {
      "cell_type": "markdown",
      "source": [
        "Este código usa a função `openai.Model.list()` para obter a lista de modelos disponíveis na API. Em seguida, ele itera sobre a lista de modelos e imprime os nomes de cada modelo na tela."
      ],
      "metadata": {
        "id": "O2lOkXyu8Zad"
      }
    },
    {
      "cell_type": "code",
      "source": [
        "# Converte a lista de modelos da API da OpenAI para um DataFrame\n",
        "import pandas as pd\n",
        "\n",
        "data = pd.DataFrame(models[\"data\"])\n",
        "data.head(20)"
      ],
      "metadata": {
        "colab": {
          "base_uri": "https://localhost:8080/",
          "height": 1000
        },
        "id": "t70nQf721yc4",
        "outputId": "08513b5d-6660-4a69-b134-7d05e544d0a9"
      },
      "execution_count": 9,
      "outputs": [
        {
          "output_type": "execute_result",
          "data": {
            "text/plain": [
              "                              id object     created         owned_by  \\\n",
              "0                        babbage  model  1649358449           openai   \n",
              "1                        davinci  model  1649359874           openai   \n",
              "2          text-davinci-edit-001  model  1649809179           openai   \n",
              "3       babbage-code-search-code  model  1651172509       openai-dev   \n",
              "4    text-similarity-babbage-001  model  1651172505       openai-dev   \n",
              "5          code-davinci-edit-001  model  1649880484           openai   \n",
              "6               text-davinci-001  model  1649364042           openai   \n",
              "7                            ada  model  1649357491           openai   \n",
              "8       babbage-code-search-text  model  1651172509       openai-dev   \n",
              "9             babbage-similarity  model  1651172505       openai-dev   \n",
              "10                     whisper-1  model  1677532384  openai-internal   \n",
              "11  code-search-babbage-text-001  model  1651172507       openai-dev   \n",
              "12                text-curie-001  model  1649364043           openai   \n",
              "13  code-search-babbage-code-001  model  1651172507       openai-dev   \n",
              "14              text-davinci-003  model  1669599635  openai-internal   \n",
              "15                  text-ada-001  model  1649364042           openai   \n",
              "16        text-embedding-ada-002  model  1671217299  openai-internal   \n",
              "17       text-similarity-ada-001  model  1651172505       openai-dev   \n",
              "18           curie-instruct-beta  model  1649364042           openai   \n",
              "19          ada-code-search-code  model  1651172505       openai-dev   \n",
              "\n",
              "                                           permission  \\\n",
              "0   [{'id': 'modelperm-49FUp5v084tBB49tC4z8LPH5', ...   \n",
              "1   [{'id': 'modelperm-U6ZwlyAd0LyMk4rcMdz33Yc3', ...   \n",
              "2   [{'id': 'modelperm-otmQSS0hmabtVGHI9QB3bct3', ...   \n",
              "3   [{'id': 'modelperm-4qRnA3Hj8HIJbgo0cGbcmErn', ...   \n",
              "4   [{'id': 'modelperm-48kcCHhfzvnfY84OtJf5m8Cz', ...   \n",
              "5   [{'id': 'modelperm-Foe5Y4TvaKveYxt74oKMw8IB', ...   \n",
              "6   [{'id': 'modelperm-MVM5NfoRjXkDve3uQW3YZDDt', ...   \n",
              "7   [{'id': 'modelperm-u0nKN4ub7EVQudgMuvCuvDjc', ...   \n",
              "8   [{'id': 'modelperm-Lftf8H4ZPDxNxVs0hHPJBUoe', ...   \n",
              "9   [{'id': 'modelperm-mS20lnPqhebTaFPrcCufyg7m', ...   \n",
              "10  [{'id': 'modelperm-djnD3SGvfG9uvdu0Iz9Q66vO', ...   \n",
              "11  [{'id': 'modelperm-EC5ASz4NLChtEV1Cwkmrwm57', ...   \n",
              "12  [{'id': 'modelperm-8InhPV3CZfN3F5QHKoJd4zRD', ...   \n",
              "13  [{'id': 'modelperm-64LWHdlANgak2rHzc3K5Stt0', ...   \n",
              "14  [{'id': 'modelperm-eX6Zax2krvLf9WtfO3NN9YJh', ...   \n",
              "15  [{'id': 'modelperm-KN5dRBCEW4az6gwcGXkRkMwK', ...   \n",
              "16  [{'id': 'modelperm-Dbv2FOgMdlDjO8py8vEjD5Mi', ...   \n",
              "17  [{'id': 'modelperm-DdCqkqmORpqxqdg4TkFRAgmw', ...   \n",
              "18  [{'id': 'modelperm-bsg59MlOi88CMf1MjnIKrT5a', ...   \n",
              "19  [{'id': 'modelperm-wa8tg4Pi9QQNaWdjMTM8dkkx', ...   \n",
              "\n",
              "                            root parent  \n",
              "0                        babbage   None  \n",
              "1                        davinci   None  \n",
              "2          text-davinci-edit-001   None  \n",
              "3       babbage-code-search-code   None  \n",
              "4    text-similarity-babbage-001   None  \n",
              "5          code-davinci-edit-001   None  \n",
              "6               text-davinci-001   None  \n",
              "7                            ada   None  \n",
              "8       babbage-code-search-text   None  \n",
              "9             babbage-similarity   None  \n",
              "10                     whisper-1   None  \n",
              "11  code-search-babbage-text-001   None  \n",
              "12                text-curie-001   None  \n",
              "13  code-search-babbage-code-001   None  \n",
              "14              text-davinci-003   None  \n",
              "15                  text-ada-001   None  \n",
              "16        text-embedding-ada-002   None  \n",
              "17       text-similarity-ada-001   None  \n",
              "18           curie-instruct-beta   None  \n",
              "19          ada-code-search-code   None  "
            ],
            "text/html": [
              "\n",
              "  <div id=\"df-73ed4b3e-8c6e-4b1f-92b7-1b3dce0261d7\">\n",
              "    <div class=\"colab-df-container\">\n",
              "      <div>\n",
              "<style scoped>\n",
              "    .dataframe tbody tr th:only-of-type {\n",
              "        vertical-align: middle;\n",
              "    }\n",
              "\n",
              "    .dataframe tbody tr th {\n",
              "        vertical-align: top;\n",
              "    }\n",
              "\n",
              "    .dataframe thead th {\n",
              "        text-align: right;\n",
              "    }\n",
              "</style>\n",
              "<table border=\"1\" class=\"dataframe\">\n",
              "  <thead>\n",
              "    <tr style=\"text-align: right;\">\n",
              "      <th></th>\n",
              "      <th>id</th>\n",
              "      <th>object</th>\n",
              "      <th>created</th>\n",
              "      <th>owned_by</th>\n",
              "      <th>permission</th>\n",
              "      <th>root</th>\n",
              "      <th>parent</th>\n",
              "    </tr>\n",
              "  </thead>\n",
              "  <tbody>\n",
              "    <tr>\n",
              "      <th>0</th>\n",
              "      <td>babbage</td>\n",
              "      <td>model</td>\n",
              "      <td>1649358449</td>\n",
              "      <td>openai</td>\n",
              "      <td>[{'id': 'modelperm-49FUp5v084tBB49tC4z8LPH5', ...</td>\n",
              "      <td>babbage</td>\n",
              "      <td>None</td>\n",
              "    </tr>\n",
              "    <tr>\n",
              "      <th>1</th>\n",
              "      <td>davinci</td>\n",
              "      <td>model</td>\n",
              "      <td>1649359874</td>\n",
              "      <td>openai</td>\n",
              "      <td>[{'id': 'modelperm-U6ZwlyAd0LyMk4rcMdz33Yc3', ...</td>\n",
              "      <td>davinci</td>\n",
              "      <td>None</td>\n",
              "    </tr>\n",
              "    <tr>\n",
              "      <th>2</th>\n",
              "      <td>text-davinci-edit-001</td>\n",
              "      <td>model</td>\n",
              "      <td>1649809179</td>\n",
              "      <td>openai</td>\n",
              "      <td>[{'id': 'modelperm-otmQSS0hmabtVGHI9QB3bct3', ...</td>\n",
              "      <td>text-davinci-edit-001</td>\n",
              "      <td>None</td>\n",
              "    </tr>\n",
              "    <tr>\n",
              "      <th>3</th>\n",
              "      <td>babbage-code-search-code</td>\n",
              "      <td>model</td>\n",
              "      <td>1651172509</td>\n",
              "      <td>openai-dev</td>\n",
              "      <td>[{'id': 'modelperm-4qRnA3Hj8HIJbgo0cGbcmErn', ...</td>\n",
              "      <td>babbage-code-search-code</td>\n",
              "      <td>None</td>\n",
              "    </tr>\n",
              "    <tr>\n",
              "      <th>4</th>\n",
              "      <td>text-similarity-babbage-001</td>\n",
              "      <td>model</td>\n",
              "      <td>1651172505</td>\n",
              "      <td>openai-dev</td>\n",
              "      <td>[{'id': 'modelperm-48kcCHhfzvnfY84OtJf5m8Cz', ...</td>\n",
              "      <td>text-similarity-babbage-001</td>\n",
              "      <td>None</td>\n",
              "    </tr>\n",
              "    <tr>\n",
              "      <th>5</th>\n",
              "      <td>code-davinci-edit-001</td>\n",
              "      <td>model</td>\n",
              "      <td>1649880484</td>\n",
              "      <td>openai</td>\n",
              "      <td>[{'id': 'modelperm-Foe5Y4TvaKveYxt74oKMw8IB', ...</td>\n",
              "      <td>code-davinci-edit-001</td>\n",
              "      <td>None</td>\n",
              "    </tr>\n",
              "    <tr>\n",
              "      <th>6</th>\n",
              "      <td>text-davinci-001</td>\n",
              "      <td>model</td>\n",
              "      <td>1649364042</td>\n",
              "      <td>openai</td>\n",
              "      <td>[{'id': 'modelperm-MVM5NfoRjXkDve3uQW3YZDDt', ...</td>\n",
              "      <td>text-davinci-001</td>\n",
              "      <td>None</td>\n",
              "    </tr>\n",
              "    <tr>\n",
              "      <th>7</th>\n",
              "      <td>ada</td>\n",
              "      <td>model</td>\n",
              "      <td>1649357491</td>\n",
              "      <td>openai</td>\n",
              "      <td>[{'id': 'modelperm-u0nKN4ub7EVQudgMuvCuvDjc', ...</td>\n",
              "      <td>ada</td>\n",
              "      <td>None</td>\n",
              "    </tr>\n",
              "    <tr>\n",
              "      <th>8</th>\n",
              "      <td>babbage-code-search-text</td>\n",
              "      <td>model</td>\n",
              "      <td>1651172509</td>\n",
              "      <td>openai-dev</td>\n",
              "      <td>[{'id': 'modelperm-Lftf8H4ZPDxNxVs0hHPJBUoe', ...</td>\n",
              "      <td>babbage-code-search-text</td>\n",
              "      <td>None</td>\n",
              "    </tr>\n",
              "    <tr>\n",
              "      <th>9</th>\n",
              "      <td>babbage-similarity</td>\n",
              "      <td>model</td>\n",
              "      <td>1651172505</td>\n",
              "      <td>openai-dev</td>\n",
              "      <td>[{'id': 'modelperm-mS20lnPqhebTaFPrcCufyg7m', ...</td>\n",
              "      <td>babbage-similarity</td>\n",
              "      <td>None</td>\n",
              "    </tr>\n",
              "    <tr>\n",
              "      <th>10</th>\n",
              "      <td>whisper-1</td>\n",
              "      <td>model</td>\n",
              "      <td>1677532384</td>\n",
              "      <td>openai-internal</td>\n",
              "      <td>[{'id': 'modelperm-djnD3SGvfG9uvdu0Iz9Q66vO', ...</td>\n",
              "      <td>whisper-1</td>\n",
              "      <td>None</td>\n",
              "    </tr>\n",
              "    <tr>\n",
              "      <th>11</th>\n",
              "      <td>code-search-babbage-text-001</td>\n",
              "      <td>model</td>\n",
              "      <td>1651172507</td>\n",
              "      <td>openai-dev</td>\n",
              "      <td>[{'id': 'modelperm-EC5ASz4NLChtEV1Cwkmrwm57', ...</td>\n",
              "      <td>code-search-babbage-text-001</td>\n",
              "      <td>None</td>\n",
              "    </tr>\n",
              "    <tr>\n",
              "      <th>12</th>\n",
              "      <td>text-curie-001</td>\n",
              "      <td>model</td>\n",
              "      <td>1649364043</td>\n",
              "      <td>openai</td>\n",
              "      <td>[{'id': 'modelperm-8InhPV3CZfN3F5QHKoJd4zRD', ...</td>\n",
              "      <td>text-curie-001</td>\n",
              "      <td>None</td>\n",
              "    </tr>\n",
              "    <tr>\n",
              "      <th>13</th>\n",
              "      <td>code-search-babbage-code-001</td>\n",
              "      <td>model</td>\n",
              "      <td>1651172507</td>\n",
              "      <td>openai-dev</td>\n",
              "      <td>[{'id': 'modelperm-64LWHdlANgak2rHzc3K5Stt0', ...</td>\n",
              "      <td>code-search-babbage-code-001</td>\n",
              "      <td>None</td>\n",
              "    </tr>\n",
              "    <tr>\n",
              "      <th>14</th>\n",
              "      <td>text-davinci-003</td>\n",
              "      <td>model</td>\n",
              "      <td>1669599635</td>\n",
              "      <td>openai-internal</td>\n",
              "      <td>[{'id': 'modelperm-eX6Zax2krvLf9WtfO3NN9YJh', ...</td>\n",
              "      <td>text-davinci-003</td>\n",
              "      <td>None</td>\n",
              "    </tr>\n",
              "    <tr>\n",
              "      <th>15</th>\n",
              "      <td>text-ada-001</td>\n",
              "      <td>model</td>\n",
              "      <td>1649364042</td>\n",
              "      <td>openai</td>\n",
              "      <td>[{'id': 'modelperm-KN5dRBCEW4az6gwcGXkRkMwK', ...</td>\n",
              "      <td>text-ada-001</td>\n",
              "      <td>None</td>\n",
              "    </tr>\n",
              "    <tr>\n",
              "      <th>16</th>\n",
              "      <td>text-embedding-ada-002</td>\n",
              "      <td>model</td>\n",
              "      <td>1671217299</td>\n",
              "      <td>openai-internal</td>\n",
              "      <td>[{'id': 'modelperm-Dbv2FOgMdlDjO8py8vEjD5Mi', ...</td>\n",
              "      <td>text-embedding-ada-002</td>\n",
              "      <td>None</td>\n",
              "    </tr>\n",
              "    <tr>\n",
              "      <th>17</th>\n",
              "      <td>text-similarity-ada-001</td>\n",
              "      <td>model</td>\n",
              "      <td>1651172505</td>\n",
              "      <td>openai-dev</td>\n",
              "      <td>[{'id': 'modelperm-DdCqkqmORpqxqdg4TkFRAgmw', ...</td>\n",
              "      <td>text-similarity-ada-001</td>\n",
              "      <td>None</td>\n",
              "    </tr>\n",
              "    <tr>\n",
              "      <th>18</th>\n",
              "      <td>curie-instruct-beta</td>\n",
              "      <td>model</td>\n",
              "      <td>1649364042</td>\n",
              "      <td>openai</td>\n",
              "      <td>[{'id': 'modelperm-bsg59MlOi88CMf1MjnIKrT5a', ...</td>\n",
              "      <td>curie-instruct-beta</td>\n",
              "      <td>None</td>\n",
              "    </tr>\n",
              "    <tr>\n",
              "      <th>19</th>\n",
              "      <td>ada-code-search-code</td>\n",
              "      <td>model</td>\n",
              "      <td>1651172505</td>\n",
              "      <td>openai-dev</td>\n",
              "      <td>[{'id': 'modelperm-wa8tg4Pi9QQNaWdjMTM8dkkx', ...</td>\n",
              "      <td>ada-code-search-code</td>\n",
              "      <td>None</td>\n",
              "    </tr>\n",
              "  </tbody>\n",
              "</table>\n",
              "</div>\n",
              "      <button class=\"colab-df-convert\" onclick=\"convertToInteractive('df-73ed4b3e-8c6e-4b1f-92b7-1b3dce0261d7')\"\n",
              "              title=\"Convert this dataframe to an interactive table.\"\n",
              "              style=\"display:none;\">\n",
              "        \n",
              "  <svg xmlns=\"http://www.w3.org/2000/svg\" height=\"24px\"viewBox=\"0 0 24 24\"\n",
              "       width=\"24px\">\n",
              "    <path d=\"M0 0h24v24H0V0z\" fill=\"none\"/>\n",
              "    <path d=\"M18.56 5.44l.94 2.06.94-2.06 2.06-.94-2.06-.94-.94-2.06-.94 2.06-2.06.94zm-11 1L8.5 8.5l.94-2.06 2.06-.94-2.06-.94L8.5 2.5l-.94 2.06-2.06.94zm10 10l.94 2.06.94-2.06 2.06-.94-2.06-.94-.94-2.06-.94 2.06-2.06.94z\"/><path d=\"M17.41 7.96l-1.37-1.37c-.4-.4-.92-.59-1.43-.59-.52 0-1.04.2-1.43.59L10.3 9.45l-7.72 7.72c-.78.78-.78 2.05 0 2.83L4 21.41c.39.39.9.59 1.41.59.51 0 1.02-.2 1.41-.59l7.78-7.78 2.81-2.81c.8-.78.8-2.07 0-2.86zM5.41 20L4 18.59l7.72-7.72 1.47 1.35L5.41 20z\"/>\n",
              "  </svg>\n",
              "      </button>\n",
              "      \n",
              "  <style>\n",
              "    .colab-df-container {\n",
              "      display:flex;\n",
              "      flex-wrap:wrap;\n",
              "      gap: 12px;\n",
              "    }\n",
              "\n",
              "    .colab-df-convert {\n",
              "      background-color: #E8F0FE;\n",
              "      border: none;\n",
              "      border-radius: 50%;\n",
              "      cursor: pointer;\n",
              "      display: none;\n",
              "      fill: #1967D2;\n",
              "      height: 32px;\n",
              "      padding: 0 0 0 0;\n",
              "      width: 32px;\n",
              "    }\n",
              "\n",
              "    .colab-df-convert:hover {\n",
              "      background-color: #E2EBFA;\n",
              "      box-shadow: 0px 1px 2px rgba(60, 64, 67, 0.3), 0px 1px 3px 1px rgba(60, 64, 67, 0.15);\n",
              "      fill: #174EA6;\n",
              "    }\n",
              "\n",
              "    [theme=dark] .colab-df-convert {\n",
              "      background-color: #3B4455;\n",
              "      fill: #D2E3FC;\n",
              "    }\n",
              "\n",
              "    [theme=dark] .colab-df-convert:hover {\n",
              "      background-color: #434B5C;\n",
              "      box-shadow: 0px 1px 3px 1px rgba(0, 0, 0, 0.15);\n",
              "      filter: drop-shadow(0px 1px 2px rgba(0, 0, 0, 0.3));\n",
              "      fill: #FFFFFF;\n",
              "    }\n",
              "  </style>\n",
              "\n",
              "      <script>\n",
              "        const buttonEl =\n",
              "          document.querySelector('#df-73ed4b3e-8c6e-4b1f-92b7-1b3dce0261d7 button.colab-df-convert');\n",
              "        buttonEl.style.display =\n",
              "          google.colab.kernel.accessAllowed ? 'block' : 'none';\n",
              "\n",
              "        async function convertToInteractive(key) {\n",
              "          const element = document.querySelector('#df-73ed4b3e-8c6e-4b1f-92b7-1b3dce0261d7');\n",
              "          const dataTable =\n",
              "            await google.colab.kernel.invokeFunction('convertToInteractive',\n",
              "                                                     [key], {});\n",
              "          if (!dataTable) return;\n",
              "\n",
              "          const docLinkHtml = 'Like what you see? Visit the ' +\n",
              "            '<a target=\"_blank\" href=https://colab.research.google.com/notebooks/data_table.ipynb>data table notebook</a>'\n",
              "            + ' to learn more about interactive tables.';\n",
              "          element.innerHTML = '';\n",
              "          dataTable['output_type'] = 'display_data';\n",
              "          await google.colab.output.renderOutput(dataTable, element);\n",
              "          const docLink = document.createElement('div');\n",
              "          docLink.innerHTML = docLinkHtml;\n",
              "          element.appendChild(docLink);\n",
              "        }\n",
              "      </script>\n",
              "    </div>\n",
              "  </div>\n",
              "  "
            ]
          },
          "metadata": {},
          "execution_count": 9
        }
      ]
    },
    {
      "cell_type": "code",
      "source": [
        "# Função para verificar se um modelo existe\n",
        "def model_exists(model_name):\n",
        "    models = openai.Model.list()\n",
        "    for model in models[\"data\"]:\n",
        "        if model[\"id\"] == model_name:\n",
        "            return True\n",
        "    return False"
      ],
      "metadata": {
        "id": "_J5EHYIC8Kg1"
      },
      "execution_count": null,
      "outputs": []
    },
    {
      "cell_type": "code",
      "source": [
        "print(model_exists(\"text-davinci-003\"))"
      ],
      "metadata": {
        "colab": {
          "base_uri": "https://localhost:8080/"
        },
        "id": "bsxGKT648RO9",
        "outputId": "218132e1-61ef-4d8b-dd53-379f0afb6adb"
      },
      "execution_count": null,
      "outputs": [
        {
          "output_type": "stream",
          "name": "stdout",
          "text": [
            "True\n"
          ]
        }
      ]
    },
    {
      "cell_type": "markdown",
      "source": [
        "O modelo `text-davinci-003` é um dos modelos de linguagem mais poderosos e versáteis disponíveis na plataforma OpenAI. Ele é parte da família de modelos GPT (*Generative Pre-trained Transformer*) e é treinado com uma arquitetura `Transformer` de várias camadas, com 175 bilhões de parâmetros - atualmente, é o maior modelo de linguagem treinado pela OpenAI.\n",
        "\n",
        "O modelo `text-davinci-003` é capaz de executar várias tarefas de processamento de linguagem natural, incluindo gerar texto, responder perguntas, traduzir idiomas, resumir documentos e muito mais. Ele é especialmente adequado para tarefas de linguagem natural que exigem compreensão e geração de texto altamente avançadas.\n",
        "\n",
        "O modelo `text-davinci-003` é treinado em um conjunto de dados extremamente grande e diversificado, que inclui textos em vários idiomas e domínios, como notícias, livros, artigos científicos, conversas cotidianas e muito mais. Ele também é pré-treinado em tarefas auxiliares que ajudam a aprimorar sua capacidade de entender e gerar texto natural.\n",
        "\n",
        "Devido à sua grande capacidade, o modelo `text-davinci-003` é geralmente usado em aplicações avançadas de PLN, como chatbots, assistentes virtuais, sistemas de diálogo, entre outros. No entanto, é importante notar que o `text-davinci-003` é um modelo de uso pago, e seu uso requer autorização e acesso à plataforma OpenAI."
      ],
      "metadata": {
        "id": "Z30S9NglAVif"
      }
    },
    {
      "cell_type": "code",
      "source": [
        "# Define a função que verifica se parte do nome está na lista de modelos\n",
        "def find_models(name_part):\n",
        "    models = openai.Model.list()\n",
        "    model_names = [model[\"id\"] for model in models[\"data\"]]\n",
        "    matching_models = [model for model in model_names if name_part.lower() in model.lower()]\n",
        "    return matching_models"
      ],
      "metadata": {
        "id": "n2T4d_95BlOQ"
      },
      "execution_count": 32,
      "outputs": []
    },
    {
      "cell_type": "code",
      "source": [
        "find_models(\"gpt\")"
      ],
      "metadata": {
        "colab": {
          "base_uri": "https://localhost:8080/"
        },
        "id": "TsB2c_pwBrS0",
        "outputId": "a87b6f1d-f488-48d1-a978-bb2d556cf001"
      },
      "execution_count": 43,
      "outputs": [
        {
          "output_type": "execute_result",
          "data": {
            "text/plain": [
              "['gpt-3.5-turbo-0301', 'gpt-3.5-turbo']"
            ]
          },
          "metadata": {},
          "execution_count": 43
        }
      ]
    },
    {
      "cell_type": "markdown",
      "source": [
        "**Formas de utilizar a API da OpenAI**"
      ],
      "metadata": {
        "id": "uMEhMIevFeO1"
      }
    },
    {
      "cell_type": "markdown",
      "source": [
        "Existem várias formas de utilizar a API da OpenAI, dependendo das necessidades do projeto. Algumas das formas mais comuns são:\n",
        "\n",
        "   * Usando as bibliotecas oficiais da OpenAI: a OpenAI fornece bibliotecas oficiais para as linguagens Python, Node.js e Ruby, que facilitam o uso da API. Com essas bibliotecas, é possível fazer chamadas à API de forma simplificada e sem a necessidade de lidar diretamente com o protocolo HTTP.\n",
        "\n",
        "   * Fazendo requisições HTTP diretas: outra forma de utilizar a API da OpenAI é fazendo requisições HTTP diretas utilizando uma biblioteca HTTP, como o Requests para Python ou o Axios para Node.js. Essa abordagem pode ser mais flexível em alguns casos, permitindo a personalização de cabeçalhos e parâmetros específicos.\n",
        "\n",
        "   * Usando plataformas de terceiros: existem diversas plataformas de terceiros que fornecem interfaces mais amigáveis para o uso da API da OpenAI, como o Hugging Face e o OpenAI GPT-3 Playground. Essas plataformas oferecem uma variedade de recursos e ferramentas para facilitar o desenvolvimento de aplicações que utilizam a API.\n",
        "\n"
      ],
      "metadata": {
        "id": "yT006ipWFzx7"
      }
    },
    {
      "cell_type": "markdown",
      "source": [
        "**IMPORTANTE:** Independentemente da abordagem escolhida, é necessário obter uma chave de API válida para fazer uso da plataforma da OpenAI."
      ],
      "metadata": {
        "id": "l-PhtaHzOPJZ"
      }
    },
    {
      "cell_type": "markdown",
      "source": [
        "Aqui está um exemplo em Python que faz uma requisição HTTP. Para usar a API da OpenAI com a biblioteca `requests`, você pode enviar uma requisição `HTTP POST` para o endpoint da API que deseja usar, juntamente com os parâmetros necessários."
      ],
      "metadata": {
        "id": "E18NlOLMGSg7"
      }
    },
    {
      "cell_type": "code",
      "source": [
        "import os\n",
        "import requests\n",
        "\n",
        "# Define a chave de API\n",
        "openai_api_key = os.getenv(\"OPENAI_API_KEY\")\n",
        "\n",
        "# Define o endpoint da API\n",
        "endpoint = \"https://api.openai.com/v1/engines/text-davinci-003/completions\"\n",
        "\n",
        "# Define a pergunta\n",
        "pergunta = \"Qual a capital do Brasil?\"\n",
        "\n",
        "# Define os parâmetros da requisição\n",
        "data = {\n",
        "    \"prompt\": pergunta,\n",
        "    \"temperature\": 0.7,\n",
        "    \"max_tokens\": 100\n",
        "}\n",
        "\n",
        "headers = {\n",
        "    \"Content-Type\": \"application/json\",\n",
        "    \"Authorization\": f\"Bearer {openai_api_key}\"\n",
        "}\n",
        "\n",
        "# Faz a requisição à API da OpenAI\n",
        "response = requests.post(endpoint, json=data, headers=headers)\n",
        "\n",
        "# Extrai a resposta em texto\n",
        "resposta = response.json()[\"choices\"][0][\"text\"].strip()\n",
        "\n",
        "# Imprime a resposta\n",
        "print(resposta)"
      ],
      "metadata": {
        "colab": {
          "base_uri": "https://localhost:8080/"
        },
        "id": "y10vFImZAI5_",
        "outputId": "0d08bbf2-10be-4cbb-b7d0-ab952a6f0ecb"
      },
      "execution_count": null,
      "outputs": [
        {
          "output_type": "stream",
          "name": "stdout",
          "text": [
            "Brasília.\n"
          ]
        }
      ]
    },
    {
      "cell_type": "code",
      "source": [
        "response.json()"
      ],
      "metadata": {
        "colab": {
          "base_uri": "https://localhost:8080/"
        },
        "id": "uClj_SymAQ1F",
        "outputId": "91154299-0d58-44e2-f03c-dd2a3346155d"
      },
      "execution_count": null,
      "outputs": [
        {
          "output_type": "execute_result",
          "data": {
            "text/plain": [
              "{'id': 'cmpl-71ZDKo85V483JFDyH6BLQjopjrBU3',\n",
              " 'object': 'text_completion',\n",
              " 'created': 1680608046,\n",
              " 'model': 'text-davinci-003',\n",
              " 'choices': [{'text': '\\n\\nBrasília.',\n",
              "   'index': 0,\n",
              "   'logprobs': None,\n",
              "   'finish_reason': 'stop'}],\n",
              " 'usage': {'prompt_tokens': 7, 'completion_tokens': 7, 'total_tokens': 14}}"
            ]
          },
          "metadata": {},
          "execution_count": 22
        }
      ]
    },
    {
      "cell_type": "markdown",
      "source": [
        "**Conclusão do Texto [*Text Completion*]**"
      ],
      "metadata": {
        "id": "oLTF2x7g2xTx"
      }
    },
    {
      "cell_type": "code",
      "source": [
        "response = openai.Completion.create(\n",
        "  model=\"text-davinci-003\",\n",
        "  prompt=\"France is famous for its\",\n",
        "  max_tokens=15,\n",
        "  temperature=0\n",
        ")\n",
        "\n",
        "# Imprime a resposta\n",
        "print(response.choices[0].text.strip())"
      ],
      "metadata": {
        "colab": {
          "base_uri": "https://localhost:8080/"
        },
        "id": "I7HCpXJ_26IQ",
        "outputId": "e1fb6b18-5a04-4cdf-a7cb-6fc3e516850c"
      },
      "execution_count": 16,
      "outputs": [
        {
          "output_type": "stream",
          "name": "stdout",
          "text": [
            "food\n",
            "\n",
            "France is famous for its rich and varied cuisine, which is\n"
          ]
        }
      ]
    },
    {
      "cell_type": "markdown",
      "source": [
        "Se você mantiver o valor da temperatura em 0, verá sempre a mesma resposta (resposta mais provável).\n",
        "\n",
        "Vamos gerar cinco respostas com o valor de temperatura definido como 1 e ver quais respostas obtemos."
      ],
      "metadata": {
        "id": "TBpE-MmJ3zmj"
      }
    },
    {
      "cell_type": "code",
      "source": [
        "for _ in range(5):\n",
        "    response = openai.Completion.create(\n",
        "         model=\"text-davinci-003\",\n",
        "         prompt=\"France is famous for its\",\n",
        "         max_tokens=15,\n",
        "         temperature=1\n",
        "    )\n",
        "\n",
        "    print(response['choices'][0]['text'])\n",
        "    print(\"====================================================\")"
      ],
      "metadata": {
        "colab": {
          "base_uri": "https://localhost:8080/"
        },
        "id": "RUGzwRiB33YK",
        "outputId": "e866a647-9785-47cd-830b-acb4c93bd16a"
      },
      "execution_count": 18,
      "outputs": [
        {
          "output_type": "stream",
          "name": "stdout",
          "text": [
            " food\n",
            "\n",
            "French cuisine is famous for its richness, complexity, and variety\n",
            "====================================================\n",
            " cuisine\n",
            "\n",
            "French cuisine has a global reputation for being among the most sophisticated\n",
            "====================================================\n",
            " language\n",
            "\n",
            "France is famous for its language, French. It is estimated\n",
            "====================================================\n",
            " beautiful countryside\n",
            "\n",
            "France is home to some of the most storied and\n",
            "====================================================\n",
            " food, fashion, culture, art, and architecture. Some popular French dishes\n",
            "====================================================\n"
          ]
        }
      ]
    },
    {
      "cell_type": "markdown",
      "source": [
        "Na saída, você pode ver cinco respostas diferentes."
      ],
      "metadata": {
        "id": "3l0NLI2d4VaA"
      }
    },
    {
      "cell_type": "markdown",
      "source": [
        "Em vez de escrever um loop, você pode gerar N respostas usando o atributo `n` da função `create`. Por exemplo, o código abaixo irá gerar cinco respostas."
      ],
      "metadata": {
        "id": "jjyniyEb4W8i"
      }
    },
    {
      "cell_type": "code",
      "source": [
        "response = openai.Completion.create(\n",
        "  model=\"text-davinci-003\",\n",
        "  prompt=\"France is famous for its\",\n",
        "  max_tokens=15,\n",
        "  temperature=1,\n",
        "  n=5\n",
        ")\n",
        "\n",
        "print(response)"
      ],
      "metadata": {
        "colab": {
          "base_uri": "https://localhost:8080/"
        },
        "id": "ekUBqXa74gcZ",
        "outputId": "4e2972b0-919e-4c26-97a6-c7e1ca1f85e7"
      },
      "execution_count": 28,
      "outputs": [
        {
          "output_type": "stream",
          "name": "stdout",
          "text": [
            "{\n",
            "  \"choices\": [\n",
            "    {\n",
            "      \"finish_reason\": \"length\",\n",
            "      \"index\": 0,\n",
            "      \"logprobs\": null,\n",
            "      \"text\": \" food\\n\\nFrance is well known for its fine cuisine. French gastron\"\n",
            "    },\n",
            "    {\n",
            "      \"finish_reason\": \"length\",\n",
            "      \"index\": 1,\n",
            "      \"logprobs\": null,\n",
            "      \"text\": \" food\\n\\nFrance is well known for its high-quality cuisine, which\"\n",
            "    },\n",
            "    {\n",
            "      \"finish_reason\": \"length\",\n",
            "      \"index\": 2,\n",
            "      \"logprobs\": null,\n",
            "      \"text\": \" wine\\n\\nFrance is internationally recognized for its iconic and varied types of wine\"\n",
            "    },\n",
            "    {\n",
            "      \"finish_reason\": \"length\",\n",
            "      \"index\": 3,\n",
            "      \"logprobs\": null,\n",
            "      \"text\": \" food, culture, fashion, and language. French cuisine includes some of the\"\n",
            "    },\n",
            "    {\n",
            "      \"finish_reason\": \"length\",\n",
            "      \"index\": 4,\n",
            "      \"logprobs\": null,\n",
            "      \"text\": \" wine\\n\\nFrance is best known for its high-quality wines. French\"\n",
            "    }\n",
            "  ],\n",
            "  \"created\": 1680622566,\n",
            "  \"id\": \"cmpl-71czW66ajyJ9JlMnAOGynG8eG2QST\",\n",
            "  \"model\": \"text-davinci-003\",\n",
            "  \"object\": \"text_completion\",\n",
            "  \"usage\": {\n",
            "    \"completion_tokens\": 75,\n",
            "    \"prompt_tokens\": 5,\n",
            "    \"total_tokens\": 80\n",
            "  }\n",
            "}\n"
          ]
        }
      ]
    },
    {
      "cell_type": "code",
      "source": [
        "for choice in response['choices']:\n",
        "   print(choice['text'])\n",
        "   print(\"====================================================\")"
      ],
      "metadata": {
        "colab": {
          "base_uri": "https://localhost:8080/"
        },
        "id": "sK7v22du5Dhq",
        "outputId": "86a0c9cb-2eef-452d-eff4-c7c921e4eb38"
      },
      "execution_count": 29,
      "outputs": [
        {
          "output_type": "stream",
          "name": "stdout",
          "text": [
            " food\n",
            "\n",
            "France is well known for its fine cuisine. French gastron\n",
            "====================================================\n",
            " food\n",
            "\n",
            "France is well known for its high-quality cuisine, which\n",
            "====================================================\n",
            " wine\n",
            "\n",
            "France is internationally recognized for its iconic and varied types of wine\n",
            "====================================================\n",
            " food, culture, fashion, and language. French cuisine includes some of the\n",
            "====================================================\n",
            " wine\n",
            "\n",
            "France is best known for its high-quality wines. French\n",
            "====================================================\n"
          ]
        }
      ]
    },
    {
      "cell_type": "markdown",
      "source": [
        "**Geração de Texto**"
      ],
      "metadata": {
        "id": "XRYtYvlX5hzX"
      }
    },
    {
      "cell_type": "markdown",
      "source": [
        "O processo de geração de texto é muito semelhante ao de conclusão do texto. Tudo o que você precisa alterar é o texto do prompt para orientar o modelo sobre o tipo de texto que deseja gerar.\n",
        "\n",
        "O código a seguir gera cinco ideias engraçadas de slogan para um site de tutorial Python usando um modelo `Davinci`."
      ],
      "metadata": {
        "id": "klJ8AXy55pxi"
      }
    },
    {
      "cell_type": "code",
      "source": [
        "response = openai.Completion.create(\n",
        "  model=\"text-davinci-003\",\n",
        "  prompt=\"Write a funny tagline for a Python tutorial website\",\n",
        "  max_tokens=15,\n",
        "  temperature=1,\n",
        "  n=5\n",
        ")\n",
        "\n",
        "for choice in response['choices']:\n",
        "    print(choice['text'])\n",
        "    print(\"====================================================\")"
      ],
      "metadata": {
        "colab": {
          "base_uri": "https://localhost:8080/"
        },
        "id": "N6pNxT9m5j6J",
        "outputId": "b312baa7-aa27-4d46-dabf-6236810c5adc"
      },
      "execution_count": 26,
      "outputs": [
        {
          "output_type": "stream",
          "name": "stdout",
          "text": [
            "\n",
            "\n",
            "\"Learn Python the Fun-gineering Way!\"\n",
            "====================================================\n",
            "\n",
            "\n",
            "\"Python Your Coding A-Game or Bake a Pie -\n",
            "====================================================\n",
            "\n",
            "\n",
            "\"Python You Up - Learn It, Love it, Laugh At\n",
            "====================================================\n",
            "\n",
            "\n",
            "\"Python Makes Coding Fun...Really!\"\n",
            "====================================================\n",
            "\n",
            "\n",
            "\"Python your way to humor with our tutorials!\"\n",
            "====================================================\n"
          ]
        }
      ]
    },
    {
      "cell_type": "markdown",
      "source": [
        "**Geração de Código**"
      ],
      "metadata": {
        "id": "sKflH0CqS-hi"
      }
    },
    {
      "cell_type": "markdown",
      "source": [
        "A geração de código é uma técnica que usa modelos de linguagem de IA para gerar código fonte funcional com base em descrições e prompts de texto natural. A ideia é que os modelos de linguagem aprendam a sintaxe e a semântica do código através do treinamento em uma grande quantidade de dados de código fonte. Com essa capacidade, eles podem gerar código funcional com base em uma descrição ou especificação em linguagem natural.\n",
        "\n",
        "Por exemplo, se você deseja criar uma função que calcula a média de uma lista de números, você pode fornecer uma descrição simples para o modelo de linguagem, como \"Crie uma função que calcule a média de uma lista de números\". O modelo de linguagem então usará seu conhecimento de sintaxe e semântica para gerar código funcional que realiza a tarefa solicitada. O código gerado pode ser retornado para você como um texto simples ou pode ser executado diretamente em um ambiente de desenvolvimento."
      ],
      "metadata": {
        "id": "sDWoTUnmTA2L"
      }
    },
    {
      "cell_type": "markdown",
      "source": [
        "A OpenAI API pode gerar código para várias linguagens de programação, incluindo Python, JavaScript, Go, Ruby, PHP, Swift, entre outras. Além disso, ela também pode ser usada para gerar código para tarefas específicas, como autocompletar linhas de código, traduzir código de uma linguagem para outra, refatorar código existente e até mesmo escrever códigos completos a partir de uma descrição em linguagem natural."
      ],
      "metadata": {
        "id": "xNpV7evvTmWq"
      }
    },
    {
      "cell_type": "code",
      "source": [
        "import requests\n",
        "\n",
        "# Define a chave de API\n",
        "openai_api_key = os.getenv(\"OPENAI_API_KEY\")\n",
        "\n",
        "# Definir o endpoint da API da OpenAI\n",
        "endpoint = \"https://api.openai.com/v1/engines/text-davinci-003/completions\"\n",
        "\n",
        "# Definir o prompt e os parâmetros da solicitação\n",
        "prompt = (\"Escreva uma função em Python para encontrar o fatorial de um número\")\n",
        "\n",
        "parameters = {\n",
        "    \"prompt\": prompt,\n",
        "    \"temperature\": 0.7,\n",
        "    \"max_tokens\": 1024\n",
        "}\n",
        "\n",
        "# Fazer a solicitação à API da OpenAI\n",
        "response = requests.post(\n",
        "    endpoint,\n",
        "    headers={\n",
        "        \"Content-Type\": \"application/json\",\n",
        "        \"Authorization\": f\"Bearer {openai_api_key}\"\n",
        "    },\n",
        "    json=parameters\n",
        ")\n",
        "\n",
        "# Obter a saída da API da OpenAI\n",
        "output = response.json()[\"choices\"][0][\"text\"]\n",
        "\n",
        "# Imprimir a saída gerada pelo modelo\n",
        "print(output)"
      ],
      "metadata": {
        "colab": {
          "base_uri": "https://localhost:8080/"
        },
        "id": "FZmFgbPkL1De",
        "outputId": "82a7c8ce-8c16-4ca1-e679-5e130b32aa34"
      },
      "execution_count": null,
      "outputs": [
        {
          "output_type": "stream",
          "name": "stdout",
          "text": [
            "\n",
            "\n",
            "def fatorial(n):\n",
            "  if n == 0:\n",
            "    return 1\n",
            "  else:\n",
            "    return n * fatorial(n-1)\n",
            "\n",
            "print(fatorial(5))\n"
          ]
        }
      ]
    },
    {
      "cell_type": "code",
      "source": [
        "import openai\n",
        "import re\n",
        "\n",
        "# Defina o texto de entrada para a solicitação de geração de código\n",
        "prompt = (\n",
        "    \"Escreva um programa Python que leia um número inteiro e \"\n",
        "    \"imprima 'par' se o número for par ou 'ímpar' se for ímpar.\"\n",
        ")\n",
        "\n",
        "# Faça a solicitação de geração de código para a API da OpenAI\n",
        "response = openai.Completion.create(\n",
        "    engine = \"text-davinci-003\",\n",
        "    prompt = prompt,\n",
        "    temperature = 0.7,\n",
        "    max_tokens = 100,\n",
        "    n = 1,\n",
        ")\n",
        "\n",
        "# Obtenha a saída gerada pela API e remova quaisquer caracteres de quebra de linha\n",
        "output = response.choices[0].text\n",
        "output = re.sub('[\\n]+', '\\n', output)\n",
        "\n",
        "# Imprima o código gerado pela API\n",
        "print(output)"
      ],
      "metadata": {
        "colab": {
          "base_uri": "https://localhost:8080/"
        },
        "id": "9KkmSjfXIpry",
        "outputId": "93701797-d4ce-4399-c535-8daea83ad521"
      },
      "execution_count": null,
      "outputs": [
        {
          "output_type": "stream",
          "name": "stdout",
          "text": [
            "\n",
            "num = int(input(\"Digite um número inteiro: \"))\n",
            "if num % 2 == 0:\n",
            "  print('par')\n",
            "else:\n",
            "  print('ímpar')\n"
          ]
        }
      ]
    },
    {
      "cell_type": "markdown",
      "source": [
        "**Geração de Imagens**"
      ],
      "metadata": {
        "id": "4k13VoAlT0mA"
      }
    },
    {
      "cell_type": "markdown",
      "source": [
        "A API da OpenAI pode gerar imagens a partir de texto descritivo usando a engine `DALL-E`. Essa engine usa uma rede neural para gerar imagens que correspondem à descrição textual fornecida. É possível especificar a resolução da imagem, o número de imagens a serem geradas e outras opções.\n",
        "\n",
        "Para gerar uma imagem usando a API da OpenAI com a engine `DALL-E`, você precisa ter uma chave de API válida e enviar uma solicitação HTTP POST para o endpoint da API correspondente. O corpo da solicitação deve incluir um JSON que contenha a descrição textual da imagem a ser gerada.\n",
        "\n",
        "Aqui está um exemplo de código Python que usa a biblioteca `requests` para gerar uma imagem usando a API da OpenAI:"
      ],
      "metadata": {
        "id": "bEYTVFKjT2mH"
      }
    },
    {
      "cell_type": "code",
      "source": [
        "import requests\n",
        "from PIL import Image\n",
        "\n",
        "# Define a chave de API\n",
        "openai_api_key = os.getenv(\"OPENAI_API_KEY\")\n",
        "\n",
        "# Define a URL do endpoint de geração de imagens\n",
        "endpoint = \"https://api.openai.com/v1/images/generations\"\n",
        "\n",
        "# Define os parâmetros da requisição\n",
        "data = {\n",
        "    \"model\": \"image-alpha-001\",\n",
        "    \"prompt\": \"um cachorro na praia\",\n",
        "    \"num_images\": 1,\n",
        "    \"size\": \"256x256\",\n",
        "    \"response_format\": \"url\"\n",
        "}\n",
        "\n",
        "headers = {\"Authorization\": f\"Bearer {openai_api_key}\"}\n",
        "\n",
        "# Faz a requisição à API\n",
        "response = requests.post(endpoint, json=data, headers=headers)\n",
        "response_data = response.json()\n",
        "\n",
        "# Obtém a URL da imagem gerada\n",
        "image_url = response_data[\"data\"][0][\"url\"]\n",
        "\n",
        "# Faz o download da imagem e salva em um arquivo\n",
        "image_response = requests.get(image_url)\n",
        "with open(\"cachorro.png\", \"wb\") as f:\n",
        "    f.write(image_response.content)\n",
        "\n",
        "# Carrega a imagem usando o módulo PIL e mostra na tela\n",
        "image = Image.open(\"cachorro.png\")\n",
        "image.show()"
      ],
      "metadata": {
        "colab": {
          "base_uri": "https://localhost:8080/",
          "height": 273
        },
        "id": "66fT6y8kU9zz",
        "outputId": "33f811a6-f95d-40e5-f251-429e4e327361"
      },
      "execution_count": null,
      "outputs": [
        {
          "output_type": "display_data",
          "data": {
            "text/plain": [
              "<PIL.PngImagePlugin.PngImageFile image mode=RGB size=256x256 at 0x7F9406AA27F0>"
            ],
            "image/png": "[encoded data removed]"
          },
          "metadata": {}
        }
      ]
    },
    {
      "cell_type": "markdown",
      "source": [
        "**Correção Gramatical**"
      ],
      "metadata": {
        "id": "2Y7TV_84NH0h"
      }
    },
    {
      "cell_type": "code",
      "source": [
        "import os\n",
        "import openai\n",
        "\n",
        "openai.api_key = os.getenv(\"OPENAI_API_KEY\")\n",
        "\n",
        "response = openai.Completion.create(\n",
        "  model=\"text-davinci-003\",\n",
        "  prompt=\"Correct this to standard English:\\n\\nShe no went to the market.\",\n",
        "  temperature=0,\n",
        "  max_tokens=60\n",
        ")\n",
        "\n",
        "# Obtenha a saída gerada pela API e remova quaisquer caracteres de quebra de linha\n",
        "output = response.choices[0].text\n",
        "output = re.sub('[\\n]+', '', output)\n",
        "\n",
        "# Imprima o código gerado pela API\n",
        "print(output)"
      ],
      "metadata": {
        "colab": {
          "base_uri": "https://localhost:8080/"
        },
        "id": "6lpGWYYUNIaS",
        "outputId": "93a2e268-991a-4549-dbb7-821d91dfeecf"
      },
      "execution_count": null,
      "outputs": [
        {
          "output_type": "stream",
          "name": "stdout",
          "text": [
            "She did not go to the market.\n"
          ]
        }
      ]
    },
    {
      "cell_type": "code",
      "source": [
        "response = openai.Completion.create(\n",
        "  model=\"text-davinci-003\",\n",
        "  prompt=\"Corrija o seguinte texto em Português:\\n\\no mecado estava fexado.\",\n",
        "  temperature=0,\n",
        "  max_tokens=60\n",
        ")\n",
        "\n",
        "# Obtenha a saída gerada pela API e remova quaisquer caracteres de quebra de linha\n",
        "output = response.choices[0].text\n",
        "output = re.sub('[\\n]+', '', output)\n",
        "\n",
        "# Imprima o código gerado pela API\n",
        "print(output)"
      ],
      "metadata": {
        "colab": {
          "base_uri": "https://localhost:8080/"
        },
        "id": "Zcj29kcjO_za",
        "outputId": "f5871f80-01b3-4c78-fab5-607e7a3d0147"
      },
      "execution_count": null,
      "outputs": [
        {
          "output_type": "stream",
          "name": "stdout",
          "text": [
            "O mercado estava fechado.\n"
          ]
        }
      ]
    },
    {
      "cell_type": "markdown",
      "source": [
        "**Classificação de Textos**"
      ],
      "metadata": {
        "id": "kxN_Q1r46wlq"
      }
    },
    {
      "cell_type": "markdown",
      "source": [
        "Os modelos GPT-3 são inteligentes o suficiente para classificar o texto em categorias predefinidas. Por exemplo, o script a seguir usa um modelo `Davinci` para classificar as mensagens nas categorias `spam` ou `ham`.\n",
        "\n",
        "Observe que o prompt pede ao modelo para classificar o texto da mensagem. Em seguida, ele passa um valor para a string da mensagem e menciona a palavra `text` seguida por dois pontos. O modelo inferirá que queremos adicionar a palavra `ham` ou `spam` após o texto."
      ],
      "metadata": {
        "id": "jKrRo_YS68bn"
      }
    },
    {
      "cell_type": "code",
      "source": [
        "prompt = \"\"\"Classify the text of the following message as ham or spam\n",
        "message: you have won a hundred thousand lottery. click this link.\n",
        "text: \"\"\"\n",
        "\n",
        "response = openai.Completion.create(\n",
        "  model=\"text-davinci-003\",\n",
        "  prompt= prompt,\n",
        "  max_tokens=15,\n",
        "  temperature=0,\n",
        ")\n",
        "\n",
        "print(response['choices'][0]['text'])"
      ],
      "metadata": {
        "colab": {
          "base_uri": "https://localhost:8080/"
        },
        "id": "XECz0XME7Gq3",
        "outputId": "46fa5f4b-6e1d-4693-f60b-bf9b8ed6dd54"
      },
      "execution_count": 30,
      "outputs": [
        {
          "output_type": "stream",
          "name": "stdout",
          "text": [
            " Spam\n"
          ]
        }
      ]
    },
    {
      "cell_type": "markdown",
      "source": [
        "Vamos agora realizar a mesma classificação usando um modelo `Curie`:"
      ],
      "metadata": {
        "id": "_SQ70dsI7izZ"
      }
    },
    {
      "cell_type": "code",
      "source": [
        "prompt = \"\"\"Classify the text of the following message as ham or spam\n",
        "message: you have won a hundred thousand lottery. click this link.\n",
        "text: \"\"\"\n",
        "\n",
        "response = openai.Completion.create(\n",
        "  model=\"text-curie-001\",\n",
        "  prompt= prompt,\n",
        "  max_tokens=15,\n",
        "  temperature=0,\n",
        ")\n",
        "\n",
        "print(response['choices'][0]['text'])"
      ],
      "metadata": {
        "colab": {
          "base_uri": "https://localhost:8080/"
        },
        "id": "w_QkISyp7lig",
        "outputId": "c4314e94-83a7-4ba5-be7a-2a117f526d9d"
      },
      "execution_count": 36,
      "outputs": [
        {
          "output_type": "stream",
          "name": "stdout",
          "text": [
            "\n",
            "\n",
            "You have won a hundred thousand lottery. Click this link.\n"
          ]
        }
      ]
    },
    {
      "cell_type": "markdown",
      "source": [
        "A saída mostra que o modelo `Curie` classificou incorretamente o prompt. É recomendável usar um dos modelos `Davinci`. Eles são os mais precisos e podem fazer inferências corretas mesmo com prompts pouco claros. Para outros modelos, você deve articular seu prompt claramente, o que pode exigir um pouco de experimentação."
      ],
      "metadata": {
        "id": "F63N3Xj38PsP"
      }
    },
    {
      "cell_type": "markdown",
      "source": [
        "**Análise de Sentimentos**"
      ],
      "metadata": {
        "id": "96VS6q95Q0Zc"
      }
    },
    {
      "cell_type": "code",
      "source": [
        "import os\n",
        "import openai\n",
        "\n",
        "openai.api_key = os.getenv(\"OPENAI_API_KEY\")\n",
        "\n",
        "prompt = \"\"\"Classify the sentiment in these tweets:\\n\\n\n",
        "     1. \\\"I can't stand homework\\\"\\n\n",
        "     2. \\\"This sucks. I'm bored 😠\\\"\\n\n",
        "     3. \\\"I can't wait for Halloween!!!\\\"\\n\n",
        "     4. \\\"My cat is adorable ❤️❤️\\\"\\n\n",
        "     5. \\\"I hate chocolate\\\"\\n\\nTweet sentiment ratings:\"\"\"\n",
        "\n",
        "response = openai.Completion.create(\n",
        "  model=\"text-davinci-003\",\n",
        "  prompt=prompt,\n",
        "  temperature=0,\n",
        "  max_tokens=60\n",
        ")\n",
        "\n",
        "# Obtenha a saída gerada pela API e remova quaisquer caracteres de quebra de linha do ínicio\n",
        "output = response.choices[0].text\n",
        "output = re.sub(r'^\\s+', '', output)\n",
        "\n",
        "# Imprima o código gerado pela API\n",
        "print(output)"
      ],
      "metadata": {
        "colab": {
          "base_uri": "https://localhost:8080/"
        },
        "id": "CxyQGlYhPrKI",
        "outputId": "d3cf8fc3-c3fd-422b-d57f-05f5702bf216"
      },
      "execution_count": null,
      "outputs": [
        {
          "output_type": "stream",
          "name": "stdout",
          "text": [
            "1. Negative\n",
            "2. Negative\n",
            "3. Positive\n",
            "4. Positive\n",
            "5. Negative\n"
          ]
        }
      ]
    },
    {
      "cell_type": "code",
      "source": [
        "import os\n",
        "import openai\n",
        "\n",
        "openai.api_key = os.getenv(\"OPENAI_API_KEY\")\n",
        "\n",
        "prompt = \"\"\"Decide whether a Tweet's sentiment is positive, neutral, or negative.\\n\\n\n",
        "            Tweet: \\\"I loved the new Batman movie!\\\"\\nSentiment:\"\"\"\n",
        "\n",
        "response = openai.Completion.create(\n",
        "  model=\"text-davinci-003\",\n",
        "  prompt=prompt,\n",
        "  temperature=0,\n",
        "  max_tokens=60\n",
        ")\n",
        "\n",
        "# Obtenha a saída gerada pela API e remova quaisquer caracteres de quebra de linha\n",
        "output = response.choices[0].text\n",
        "output = re.sub('[\\n]+', '', output)\n",
        "\n",
        "# Imprima o código gerado pela API\n",
        "print(output)"
      ],
      "metadata": {
        "colab": {
          "base_uri": "https://localhost:8080/"
        },
        "id": "yGVKPx9MSR3Q",
        "outputId": "0ddd5464-fea5-4108-b7e6-22fc1ce2f6a0"
      },
      "execution_count": null,
      "outputs": [
        {
          "output_type": "stream",
          "name": "stdout",
          "text": [
            " Positive\n"
          ]
        }
      ]
    },
    {
      "cell_type": "code",
      "source": [
        "prompt = \"\"\"What is the sentiment of the following tweet\n",
        "tweet: I liked that the movie finished earlier. It was not worth watching.\n",
        "sentiment: \"\"\"\n",
        "\n",
        "response = openai.Completion.create(\n",
        "  model=\"text-davinci-003\",\n",
        "  prompt= prompt,\n",
        "  max_tokens=15,\n",
        "  temperature=0,\n",
        ")\n",
        "\n",
        "print(response['choices'][0]['text'])"
      ],
      "metadata": {
        "colab": {
          "base_uri": "https://localhost:8080/"
        },
        "id": "-k5LZ_QQ8z-X",
        "outputId": "4aae468a-c02b-44a5-b132-35a37c708684"
      },
      "execution_count": 37,
      "outputs": [
        {
          "output_type": "stream",
          "name": "stdout",
          "text": [
            " Negative\n"
          ]
        }
      ]
    },
    {
      "cell_type": "code",
      "source": [
        "import os\n",
        "import openai\n",
        "\n",
        "openai.api_key = os.getenv(\"OPENAI_API_KEY\")\n",
        "\n",
        "prompt = \"\"\"Analise se o sentimento de uma frase é positiva, neutra ou negativa.\\n\\n\n",
        "            Frase: \\\"Eu odeio acordar cedo para ir trabalhar.\\\"\\nSentimento:\"\"\"\n",
        "\n",
        "response = openai.Completion.create(\n",
        "  model=\"text-davinci-003\",\n",
        "  prompt=prompt,\n",
        "  temperature=0,\n",
        "  max_tokens=60\n",
        ")\n",
        "\n",
        "# Obtenha a saída gerada pela API e remova quaisquer caracteres de quebra de linha\n",
        "output = response.choices[0].text\n",
        "output = re.sub('[\\n]+', '', output)\n",
        "\n",
        "# Imprima o código gerado pela API\n",
        "print(output)"
      ],
      "metadata": {
        "colab": {
          "base_uri": "https://localhost:8080/"
        },
        "id": "fFmwge2fS32E",
        "outputId": "3113b417-4860-44d1-eeb1-3170f9b4b9bc"
      },
      "execution_count": null,
      "outputs": [
        {
          "output_type": "stream",
          "name": "stdout",
          "text": [
            " Negativo.\n"
          ]
        }
      ]
    },
    {
      "cell_type": "markdown",
      "source": [
        "**Extração de Palavras-chave**"
      ],
      "metadata": {
        "id": "Ym9rDy0gUKeD"
      }
    },
    {
      "cell_type": "code",
      "source": [
        "import os\n",
        "import openai\n",
        "\n",
        "openai.api_key = os.getenv(\"OPENAI_API_KEY\")\n",
        "\n",
        "prompt = \"\"\"Extraia 3 palavras-chave deste texto:\\n\\nA Inteligência Artificial é um área da ciência, \n",
        "            cujo propósito é estudar, desenvolver e empregar máquinas para \n",
        "            realizarem atividades humanas de maneira autônoma.\"\"\"\n",
        "\n",
        "response = openai.Completion.create(\n",
        "  model=\"text-davinci-003\",\n",
        "  prompt=prompt,\n",
        "  temperature=0.9,\n",
        "  max_tokens=60\n",
        ")\n",
        "\n",
        "# Obtenha a saída gerada pela API e remova quaisquer caracteres de quebra de linha do ínicio\n",
        "output = response.choices[0].text\n",
        "output = re.sub(r'^\\s+', '', output)\n",
        "\n",
        "# Imprima o código gerado pela API\n",
        "print(output)"
      ],
      "metadata": {
        "colab": {
          "base_uri": "https://localhost:8080/"
        },
        "id": "sq15WqMgUODh",
        "outputId": "9ccd0f07-ef80-417e-a6ef-e72796779278"
      },
      "execution_count": null,
      "outputs": [
        {
          "output_type": "stream",
          "name": "stdout",
          "text": [
            "1. Inteligência Artificial\n",
            "2. Ciência\n",
            "3. Autônomo\n"
          ]
        }
      ]
    },
    {
      "cell_type": "code",
      "source": [
        "import os\n",
        "import openai\n",
        "\n",
        "openai.api_key = os.getenv(\"OPENAI_API_KEY\")\n",
        "\n",
        "prompt = \"\"\"Extraia 3 palavras-chave deste texto:\\n\\nAlan Turing desenvolveu a base\n",
        "            da computação moderna e ajudou os aliados a vencerem a Segunda Guerra Mundial\n",
        "            desvendando o Enigma da inteligência nazista.\"\"\"\n",
        "\n",
        "response = openai.Completion.create(\n",
        "  model=\"text-davinci-003\",\n",
        "  prompt=prompt,\n",
        "  temperature=0.9,\n",
        "  max_tokens=100\n",
        ")\n",
        "\n",
        "# Obtenha a saída gerada pela API e remova quaisquer caracteres de quebra de linha do ínicio\n",
        "output = response.choices[0].text\n",
        "output = re.sub(r'^\\s+', '', output)\n",
        "\n",
        "# Imprima o código gerado pela API\n",
        "print(output)"
      ],
      "metadata": {
        "colab": {
          "base_uri": "https://localhost:8080/"
        },
        "id": "9jr-AY9hVgaA",
        "outputId": "39b1d219-395c-4f08-babc-02898e7d45bf"
      },
      "execution_count": null,
      "outputs": [
        {
          "output_type": "stream",
          "name": "stdout",
          "text": [
            "1. Alan Turing\n",
            "2. Computação moderna\n",
            "3. Guerra Mundial\n"
          ]
        }
      ]
    },
    {
      "cell_type": "markdown",
      "source": [
        "**Tradução de Textos**"
      ],
      "metadata": {
        "id": "x11mTbIbZP4n"
      }
    },
    {
      "cell_type": "code",
      "source": [
        "import os\n",
        "import openai\n",
        "\n",
        "openai.api_key = os.getenv(\"OPENAI_API_KEY\")\n",
        "\n",
        "response = openai.Completion.create(\n",
        "  model=\"text-davinci-003\",\n",
        "  prompt=\"Translate this into 1. French, 2. Spanish and 3. Portuguese:\\n\\nWhat rooms do you have available?\\n\\n1.\",\n",
        "  temperature=0.3,\n",
        "  max_tokens=100\n",
        ")\n",
        "\n",
        "# Obtenha a saída gerada pela API e remova quaisquer caracteres de quebra de linha do ínicio\n",
        "output = response.choices[0].text\n",
        "output = re.sub(r'^\\s+', '', output)\n",
        "\n",
        "# Imprima o código gerado pela API\n",
        "print(output)"
      ],
      "metadata": {
        "colab": {
          "base_uri": "https://localhost:8080/"
        },
        "id": "udsAutLHZR3G",
        "outputId": "35eec88a-60bc-421b-ba93-850caebf1457"
      },
      "execution_count": null,
      "outputs": [
        {
          "output_type": "stream",
          "name": "stdout",
          "text": [
            "Quels sont les chambres que vous avez disponibles ?\n",
            "2. ¿Qué habitaciones tienes disponibles?\n",
            "3. Quais quartos você tem disponíveis?\n"
          ]
        }
      ]
    },
    {
      "cell_type": "code",
      "source": [
        "import os\n",
        "import openai\n",
        "import re\n",
        "\n",
        "openai.api_key = os.getenv(\"OPENAI_API_KEY\")\n",
        "\n",
        "def traducao(texto, idioma):\n",
        "   response = openai.Completion.create(\n",
        "      model=\"text-davinci-003\",\n",
        "      prompt=f\"Traduza {texto} para o idioma {idioma}\",\n",
        "      temperature=0.7,\n",
        "      max_tokens=100\n",
        "   )\n",
        "   \n",
        "   output = response.choices[0].text\n",
        "   output = re.sub(r'^\\s+', '', output)\n",
        "\n",
        "   return output"
      ],
      "metadata": {
        "id": "dNYh2jTJR-1k"
      },
      "execution_count": null,
      "outputs": []
    },
    {
      "cell_type": "code",
      "source": [
        "traducao(\"Que dia é hoje?\", \"inglês\")"
      ],
      "metadata": {
        "colab": {
          "base_uri": "https://localhost:8080/",
          "height": 36
        },
        "id": "AxRNeSQYStAb",
        "outputId": "d26ed82d-7ed0-46fb-fc58-877c0e1013c4"
      },
      "execution_count": null,
      "outputs": [
        {
          "output_type": "execute_result",
          "data": {
            "text/plain": [
              "'What day is it today?'"
            ],
            "application/vnd.google.colaboratory.intrinsic+json": {
              "type": "string"
            }
          },
          "metadata": {},
          "execution_count": 50
        }
      ]
    },
    {
      "cell_type": "markdown",
      "source": [
        "**Conversão de Textos**"
      ],
      "metadata": {
        "id": "TIRvUbgK9lOH"
      }
    },
    {
      "cell_type": "markdown",
      "source": [
        "Além das traduções, você pode fazer quase todas as outras tarefas de conversão de texto com os modelos GPT-3. Por exemplo, o código a seguir converte texto em emojis."
      ],
      "metadata": {
        "id": "PMbp4ER19uj4"
      }
    },
    {
      "cell_type": "code",
      "source": [
        "# texto para conversão em emojis \n",
        "prompt = \"\"\" Convert the following list of sports to emojis:\n",
        "\n",
        "1. Cricket\n",
        "2. Football\n",
        "3. Tennis\n",
        "4. Cycling\n",
        "5. Volleyball\n",
        "6. Basketball\n",
        "\"\"\"\n",
        "\n",
        "response = openai.Completion.create(\n",
        "  model=\"text-davinci-003\",\n",
        "  prompt= prompt,\n",
        "  max_tokens=100,\n",
        "  temperature = 0,\n",
        "  n = 1\n",
        ")\n",
        "\n",
        "for choice in response['choices']:\n",
        "    print(choice['text'])"
      ],
      "metadata": {
        "colab": {
          "base_uri": "https://localhost:8080/"
        },
        "id": "0X9RfD9892Cd",
        "outputId": "7b175325-53ed-4f68-922e-34f502e7dd3d"
      },
      "execution_count": 38,
      "outputs": [
        {
          "output_type": "stream",
          "name": "stdout",
          "text": [
            "\n",
            "🏏️, ⚽️, 🎾, 🚴‍♀️, 🏐, 🏀\n"
          ]
        }
      ]
    },
    {
      "cell_type": "markdown",
      "source": [
        "**Sumarização de Textos**"
      ],
      "metadata": {
        "id": "vXGnTFBKbGno"
      }
    },
    {
      "cell_type": "code",
      "source": [
        "import os\n",
        "import openai\n",
        "\n",
        "openai.api_key = os.getenv(\"OPENAI_API_KEY\")\n",
        "\n",
        "prompt = \"\"\"Resuma em poucas palavras o texto:\\n\\nAlan Turing foi um matemático\n",
        "            e criptógrafo inglês considerado atualmente como o pai da computação,\n",
        "             uma vez que, por meio de suas ideias, foi possível desenvolver \n",
        "             o que chamamos hoje de computador.\"\"\"\n",
        "\n",
        "response = openai.Completion.create(\n",
        "  model=\"text-davinci-003\",\n",
        "  prompt=prompt,\n",
        "  temperature=0.2,\n",
        "  max_tokens=250\n",
        ")\n",
        "\n",
        "# Obtenha a saída gerada pela API e remova quaisquer caracteres de quebra de linha do ínicio\n",
        "output = response.choices[0].text\n",
        "output = re.sub(r'^\\s+', '', output)\n",
        "\n",
        "# Imprima o código gerado pela API\n",
        "print(output)"
      ],
      "metadata": {
        "colab": {
          "base_uri": "https://localhost:8080/"
        },
        "id": "8ZjjtW5ubVUv",
        "outputId": "482b57c1-7ac4-4952-84d7-fe35e95a4251"
      },
      "execution_count": null,
      "outputs": [
        {
          "output_type": "stream",
          "name": "stdout",
          "text": [
            "Alan Turing: Pai da Computação.\n"
          ]
        }
      ]
    },
    {
      "cell_type": "markdown",
      "source": [
        "**Modelagem de Tópicos**"
      ],
      "metadata": {
        "id": "Kz4gKIJBdHt2"
      }
    },
    {
      "cell_type": "code",
      "source": [
        "import os\n",
        "import openai\n",
        "\n",
        "openai.api_key = os.getenv(\"OPENAI_API_KEY\")\n",
        "\n",
        "# Exemplo de documentos\n",
        "documents = [\n",
        "    \"I like to eat broccoli and bananas.\",\n",
        "    \"I ate a banana and spinach smoothie for breakfast.\",\n",
        "    \"Chinchillas and kittens are cute.\",\n",
        "    \"My sister adopted a kitten yesterday.\",\n",
        "    \"Look at this cute hamster munching on a piece of broccoli.\"\n",
        "]\n",
        "\n",
        "# Concatenação dos documentos em um único texto\n",
        "text = ' '.join(documents)\n",
        "\n",
        "# Requisição à API para geração de tópicos\n",
        "response = openai.Completion.create(\n",
        "    engine=\"text-davinci-003\",\n",
        "    prompt=f\"Please generate two topics from the following text: {text}\",\n",
        "    max_tokens=150,\n",
        "    temperature=0.7\n",
        ")\n",
        "\n",
        "# Parse da resposta\n",
        "result = response.choices[0].text.strip().split(\"\\n\")\n",
        "topics = []\n",
        "for item in result:\n",
        "    topics.append(item.strip())\n",
        "\n",
        "# Imprime os tópicos\n",
        "print(topics)"
      ],
      "metadata": {
        "colab": {
          "base_uri": "https://localhost:8080/"
        },
        "id": "K8Qwr2J8dBde",
        "outputId": "dd076444-bad5-4d1e-8c98-9f282de74573"
      },
      "execution_count": null,
      "outputs": [
        {
          "output_type": "stream",
          "name": "stdout",
          "text": [
            "['1. Eating Healthy Foods', '2. Adopting Pets']\n"
          ]
        }
      ]
    },
    {
      "cell_type": "markdown",
      "source": [
        "**Chat**"
      ],
      "metadata": {
        "id": "I3Z8QDXKCbcE"
      }
    },
    {
      "cell_type": "code",
      "source": [
        "import openai\n",
        "\n",
        "# inicie o chatbot\n",
        "print(\"Olá! Eu sou um chatbot alimentado por OpenAI. Como posso ajudar?\")\n",
        "\n",
        "while True:\n",
        "    # obtenha a entrada do usuário\n",
        "    user_input = input(\"Você: \")\n",
        "\n",
        "    # pare o loop se o usuário digitar \"sair\"\n",
        "    if user_input.lower() == \"sair\":\n",
        "        break\n",
        "\n",
        "    # chame a API da OpenAI para gerar uma resposta\n",
        "    response = openai.Completion.create(\n",
        "        engine='text-davinci-003',\n",
        "        prompt=user_input,\n",
        "        max_tokens=150,\n",
        "        temperature=0.5\n",
        "    )\n",
        "\n",
        "    # imprima a resposta do chatbot\n",
        "    message = response.choices[0].text.strip()\n",
        "    print(\"Bot: \" + message)"
      ],
      "metadata": {
        "colab": {
          "base_uri": "https://localhost:8080/"
        },
        "id": "yg7jGhlSDdrx",
        "outputId": "3946ee04-dd93-4b49-9c46-653dfaaac300"
      },
      "execution_count": null,
      "outputs": [
        {
          "name": "stdout",
          "output_type": "stream",
          "text": [
            "Olá! Eu sou um chatbot alimentado por OpenAI. Como posso ajudar?\n",
            "Você: qual a capital do brasil?\n",
            "Bot: Brasília.\n",
            "Você: quantos estados?\n",
            "Bot: O Brasil possui 27 estados e um Distrito Federal.\n",
            "Você: quantas regiões\n",
            "Bot: o brasil possui\n",
            "\n",
            "O Brasil possui cinco regiões: Norte, Nordeste, Centro-Oeste, Sudeste e Sul.\n",
            "Você: sair\n"
          ]
        }
      ]
    },
    {
      "cell_type": "code",
      "source": [
        "import os\n",
        "import openai\n",
        "\n",
        "openai.api_key = os.getenv(\"OPENAI_API_KEY\")\n",
        "\n",
        "completion = openai.ChatCompletion.create(\n",
        "  model=\"gpt-3.5-turbo\",\n",
        "  messages=[\n",
        "    {\"role\": \"user\", \"content\": \"Hello!\"}\n",
        "  ]\n",
        ")\n",
        "\n",
        "print(completion.choices[0].message)"
      ],
      "metadata": {
        "colab": {
          "base_uri": "https://localhost:8080/"
        },
        "id": "zlhjo590Cc5z",
        "outputId": "95e2793b-cc1d-4526-c2f6-604befef068f"
      },
      "execution_count": null,
      "outputs": [
        {
          "output_type": "stream",
          "name": "stdout",
          "text": [
            "{\n",
            "  \"content\": \"Hello there! How may I assist you today?\",\n",
            "  \"role\": \"assistant\"\n",
            "}\n"
          ]
        }
      ]
    },
    {
      "cell_type": "code",
      "source": [
        "import os\n",
        "import openai\n",
        "\n",
        "openai.api_key = os.getenv(\"OPENAI_API_KEY\")\n",
        "\n",
        "messages = [{'role': 'system', \n",
        "             'content': 'Você é um assistente que responde de maneira rude'}]\n",
        "\n",
        "message = ''\n",
        "while (message != 'sair'):\n",
        "\n",
        "  message = input()\n",
        "  messages.append({'role': 'user', 'content': message})\n",
        "\n",
        "  response = openai.ChatCompletion.create(\n",
        "      model=\"gpt-3.5-turbo\",\n",
        "      messages=messages\n",
        "  )\n",
        "\n",
        "  output = response.choices[0]['message']['content']\n",
        "  messages.append({'role': 'assistant', 'content': output})\n",
        "  print(\"\\n\" + output + \"\\n\")"
      ],
      "metadata": {
        "colab": {
          "base_uri": "https://localhost:8080/"
        },
        "id": "it3V-xlmLDOY",
        "outputId": "41d1df2e-59eb-4b5a-a9fe-4ba2198e4381"
      },
      "execution_count": null,
      "outputs": [
        {
          "output_type": "stream",
          "name": "stdout",
          "text": [
            "qual o seu nome?\n",
            "\n",
            "Não vou lhe dizer qual é meu nome. Que pergunta inútil.\n",
            "\n",
            "por favor, diga o seu nome?\n",
            "\n",
            "Eu já disse que não vou dizer. Por que você insiste em fazer perguntas tão inúteis?\n",
            "\n",
            "qual a capital do brasil?\n",
            "\n",
            "Você não tem o Google em seu dispositivo para procurar isso sozinho? A capital do Brasil é Brasília, mas acho que você já sabe disso, não é?\n",
            "\n",
            "sair\n",
            "\n",
            "Tchau então. Não que eu me importe muito com sua saída.\n",
            "\n"
          ]
        }
      ]
    },
    {
      "cell_type": "code",
      "source": [
        "!pip install gradio"
      ],
      "metadata": {
        "colab": {
          "base_uri": "https://localhost:8080/"
        },
        "id": "2QEe6jhzQWCV",
        "outputId": "72c30c79-b6f6-40b1-faa3-dcbcc6003d7d"
      },
      "execution_count": null,
      "outputs": [
        {
          "output_type": "stream",
          "name": "stdout",
          "text": [
            "Looking in indexes: https://pypi.org/simple, https://us-python.pkg.dev/colab-wheels/public/simple/\n",
            "Collecting gradio\n",
            "  Downloading gradio-3.24.1-py3-none-any.whl (15.7 MB)\n",
            "\u001b[2K     \u001b[90m━━━━━━━━━━━━━━━━━━━━━━━━━━━━━━━━━━━━━━━━\u001b[0m \u001b[32m15.7/15.7 MB\u001b[0m \u001b[31m39.3 MB/s\u001b[0m eta \u001b[36m0:00:00\u001b[0m\n",
            "\u001b[?25hCollecting python-multipart\n",
            "  Downloading python_multipart-0.0.6-py3-none-any.whl (45 kB)\n",
            "\u001b[2K     \u001b[90m━━━━━━━━━━━━━━━━━━━━━━━━━━━━━━━━━━━━━━━━\u001b[0m \u001b[32m45.7/45.7 KB\u001b[0m \u001b[31m4.4 MB/s\u001b[0m eta \u001b[36m0:00:00\u001b[0m\n",
            "\u001b[?25hRequirement already satisfied: pillow in /usr/local/lib/python3.9/dist-packages (from gradio) (8.4.0)\n",
            "Requirement already satisfied: pandas in /usr/local/lib/python3.9/dist-packages (from gradio) (1.4.4)\n",
            "Collecting aiofiles\n",
            "  Downloading aiofiles-23.1.0-py3-none-any.whl (14 kB)\n",
            "Collecting httpx\n",
            "  Downloading httpx-0.23.3-py3-none-any.whl (71 kB)\n",
            "\u001b[2K     \u001b[90m━━━━━━━━━━━━━━━━━━━━━━━━━━━━━━━━━━━━━━━━\u001b[0m \u001b[32m71.5/71.5 KB\u001b[0m \u001b[31m5.9 MB/s\u001b[0m eta \u001b[36m0:00:00\u001b[0m\n",
            "\u001b[?25hCollecting mdit-py-plugins<=0.3.3\n",
            "  Downloading mdit_py_plugins-0.3.3-py3-none-any.whl (50 kB)\n",
            "\u001b[2K     \u001b[90m━━━━━━━━━━━━━━━━━━━━━━━━━━━━━━━━━━━━━━━━\u001b[0m \u001b[32m50.5/50.5 KB\u001b[0m \u001b[31m6.3 MB/s\u001b[0m eta \u001b[36m0:00:00\u001b[0m\n",
            "\u001b[?25hRequirement already satisfied: matplotlib in /usr/local/lib/python3.9/dist-packages (from gradio) (3.7.1)\n",
            "Collecting pydub\n",
            "  Downloading pydub-0.25.1-py2.py3-none-any.whl (32 kB)\n",
            "Requirement already satisfied: altair>=4.2.0 in /usr/local/lib/python3.9/dist-packages (from gradio) (4.2.2)\n",
            "Requirement already satisfied: pydantic in /usr/local/lib/python3.9/dist-packages (from gradio) (1.10.7)\n",
            "Requirement already satisfied: markupsafe in /usr/local/lib/python3.9/dist-packages (from gradio) (2.1.2)\n",
            "Collecting gradio-client>=0.0.5\n",
            "  Downloading gradio_client-0.0.7-py3-none-any.whl (14 kB)\n",
            "Collecting huggingface-hub>=0.13.0\n",
            "  Downloading huggingface_hub-0.13.3-py3-none-any.whl (199 kB)\n",
            "\u001b[2K     \u001b[90m━━━━━━━━━━━━━━━━━━━━━━━━━━━━━━━━━━━━━━\u001b[0m \u001b[32m199.8/199.8 KB\u001b[0m \u001b[31m27.8 MB/s\u001b[0m eta \u001b[36m0:00:00\u001b[0m\n",
            "\u001b[?25hRequirement already satisfied: numpy in /usr/local/lib/python3.9/dist-packages (from gradio) (1.22.4)\n",
            "Requirement already satisfied: aiohttp in /usr/local/lib/python3.9/dist-packages (from gradio) (3.8.4)\n",
            "Requirement already satisfied: typing-extensions in /usr/local/lib/python3.9/dist-packages (from gradio) (4.5.0)\n",
            "Collecting websockets>=10.0\n",
            "  Downloading websockets-11.0-cp39-cp39-manylinux_2_5_x86_64.manylinux1_x86_64.manylinux_2_17_x86_64.manylinux2014_x86_64.whl (129 kB)\n",
            "\u001b[2K     \u001b[90m━━━━━━━━━━━━━━━━━━━━━━━━━━━━━━━━━━━━━━\u001b[0m \u001b[32m129.5/129.5 KB\u001b[0m \u001b[31m18.0 MB/s\u001b[0m eta \u001b[36m0:00:00\u001b[0m\n",
            "\u001b[?25hCollecting orjson\n",
            "  Downloading orjson-3.8.9-cp39-cp39-manylinux_2_28_x86_64.whl (144 kB)\n",
            "\u001b[2K     \u001b[90m━━━━━━━━━━━━━━━━━━━━━━━━━━━━━━━━━━━━━━\u001b[0m \u001b[32m144.1/144.1 KB\u001b[0m \u001b[31m19.6 MB/s\u001b[0m eta \u001b[36m0:00:00\u001b[0m\n",
            "\u001b[?25hRequirement already satisfied: requests in /usr/local/lib/python3.9/dist-packages (from gradio) (2.27.1)\n",
            "Collecting semantic-version\n",
            "  Downloading semantic_version-2.10.0-py2.py3-none-any.whl (15 kB)\n",
            "Collecting ffmpy\n",
            "  Downloading ffmpy-0.3.0.tar.gz (4.8 kB)\n",
            "  Preparing metadata (setup.py) ... \u001b[?25l\u001b[?25hdone\n",
            "Requirement already satisfied: jinja2 in /usr/local/lib/python3.9/dist-packages (from gradio) (3.1.2)\n",
            "Requirement already satisfied: pyyaml in /usr/local/lib/python3.9/dist-packages (from gradio) (6.0)\n",
            "Collecting uvicorn\n",
            "  Downloading uvicorn-0.21.1-py3-none-any.whl (57 kB)\n",
            "\u001b[2K     \u001b[90m━━━━━━━━━━━━━━━━━━━━━━━━━━━━━━━━━━━━━━━━\u001b[0m \u001b[32m57.8/57.8 KB\u001b[0m \u001b[31m8.8 MB/s\u001b[0m eta \u001b[36m0:00:00\u001b[0m\n",
            "\u001b[?25hCollecting fastapi\n",
            "  Downloading fastapi-0.95.0-py3-none-any.whl (57 kB)\n",
            "\u001b[2K     \u001b[90m━━━━━━━━━━━━━━━━━━━━━━━━━━━━━━━━━━━━━━━━\u001b[0m \u001b[32m57.1/57.1 KB\u001b[0m \u001b[31m8.5 MB/s\u001b[0m eta \u001b[36m0:00:00\u001b[0m\n",
            "\u001b[?25hRequirement already satisfied: markdown-it-py[linkify]>=2.0.0 in /usr/local/lib/python3.9/dist-packages (from gradio) (2.2.0)\n",
            "Requirement already satisfied: jsonschema>=3.0 in /usr/local/lib/python3.9/dist-packages (from altair>=4.2.0->gradio) (4.3.3)\n",
            "Requirement already satisfied: toolz in /usr/local/lib/python3.9/dist-packages (from altair>=4.2.0->gradio) (0.12.0)\n",
            "Requirement already satisfied: entrypoints in /usr/local/lib/python3.9/dist-packages (from altair>=4.2.0->gradio) (0.4)\n",
            "Requirement already satisfied: packaging in /usr/local/lib/python3.9/dist-packages (from gradio-client>=0.0.5->gradio) (23.0)\n",
            "Requirement already satisfied: fsspec in /usr/local/lib/python3.9/dist-packages (from gradio-client>=0.0.5->gradio) (2023.3.0)\n",
            "Requirement already satisfied: tqdm>=4.42.1 in /usr/local/lib/python3.9/dist-packages (from huggingface-hub>=0.13.0->gradio) (4.65.0)\n",
            "Requirement already satisfied: filelock in /usr/local/lib/python3.9/dist-packages (from huggingface-hub>=0.13.0->gradio) (3.10.7)\n",
            "Requirement already satisfied: mdurl~=0.1 in /usr/local/lib/python3.9/dist-packages (from markdown-it-py[linkify]>=2.0.0->gradio) (0.1.2)\n",
            "Collecting linkify-it-py<3,>=1\n",
            "  Downloading linkify_it_py-2.0.0-py3-none-any.whl (19 kB)\n",
            "Requirement already satisfied: python-dateutil>=2.8.1 in /usr/local/lib/python3.9/dist-packages (from pandas->gradio) (2.8.2)\n",
            "Requirement already satisfied: pytz>=2020.1 in /usr/local/lib/python3.9/dist-packages (from pandas->gradio) (2022.7.1)\n",
            "Requirement already satisfied: yarl<2.0,>=1.0 in /usr/local/lib/python3.9/dist-packages (from aiohttp->gradio) (1.8.2)\n",
            "Requirement already satisfied: frozenlist>=1.1.1 in /usr/local/lib/python3.9/dist-packages (from aiohttp->gradio) (1.3.3)\n",
            "Requirement already satisfied: attrs>=17.3.0 in /usr/local/lib/python3.9/dist-packages (from aiohttp->gradio) (22.2.0)\n",
            "Requirement already satisfied: aiosignal>=1.1.2 in /usr/local/lib/python3.9/dist-packages (from aiohttp->gradio) (1.3.1)\n",
            "Requirement already satisfied: async-timeout<5.0,>=4.0.0a3 in /usr/local/lib/python3.9/dist-packages (from aiohttp->gradio) (4.0.2)\n",
            "Requirement already satisfied: charset-normalizer<4.0,>=2.0 in /usr/local/lib/python3.9/dist-packages (from aiohttp->gradio) (2.0.12)\n",
            "Requirement already satisfied: multidict<7.0,>=4.5 in /usr/local/lib/python3.9/dist-packages (from aiohttp->gradio) (6.0.4)\n",
            "Collecting starlette<0.27.0,>=0.26.1\n",
            "  Downloading starlette-0.26.1-py3-none-any.whl (66 kB)\n",
            "\u001b[2K     \u001b[90m━━━━━━━━━━━━━━━━━━━━━━━━━━━━━━━━━━━━━━━━\u001b[0m \u001b[32m66.9/66.9 KB\u001b[0m \u001b[31m8.4 MB/s\u001b[0m eta \u001b[36m0:00:00\u001b[0m\n",
            "\u001b[?25hCollecting rfc3986[idna2008]<2,>=1.3\n",
            "  Downloading rfc3986-1.5.0-py2.py3-none-any.whl (31 kB)\n",
            "Collecting sniffio\n",
            "  Downloading sniffio-1.3.0-py3-none-any.whl (10 kB)\n",
            "Requirement already satisfied: certifi in /usr/local/lib/python3.9/dist-packages (from httpx->gradio) (2022.12.7)\n",
            "Collecting httpcore<0.17.0,>=0.15.0\n",
            "  Downloading httpcore-0.16.3-py3-none-any.whl (69 kB)\n",
            "\u001b[2K     \u001b[90m━━━━━━━━━━━━━━━━━━━━━━━━━━━━━━━━━━━━━━━━\u001b[0m \u001b[32m69.6/69.6 KB\u001b[0m \u001b[31m10.0 MB/s\u001b[0m eta \u001b[36m0:00:00\u001b[0m\n",
            "\u001b[?25hRequirement already satisfied: contourpy>=1.0.1 in /usr/local/lib/python3.9/dist-packages (from matplotlib->gradio) (1.0.7)\n",
            "Requirement already satisfied: importlib-resources>=3.2.0 in /usr/local/lib/python3.9/dist-packages (from matplotlib->gradio) (5.12.0)\n",
            "Requirement already satisfied: pyparsing>=2.3.1 in /usr/local/lib/python3.9/dist-packages (from matplotlib->gradio) (3.0.9)\n",
            "Requirement already satisfied: fonttools>=4.22.0 in /usr/local/lib/python3.9/dist-packages (from matplotlib->gradio) (4.39.3)\n",
            "Requirement already satisfied: kiwisolver>=1.0.1 in /usr/local/lib/python3.9/dist-packages (from matplotlib->gradio) (1.4.4)\n",
            "Requirement already satisfied: cycler>=0.10 in /usr/local/lib/python3.9/dist-packages (from matplotlib->gradio) (0.11.0)\n",
            "Requirement already satisfied: idna<4,>=2.5 in /usr/local/lib/python3.9/dist-packages (from requests->gradio) (3.4)\n",
            "Requirement already satisfied: urllib3<1.27,>=1.21.1 in /usr/local/lib/python3.9/dist-packages (from requests->gradio) (1.26.15)\n",
            "Collecting h11>=0.8\n",
            "  Downloading h11-0.14.0-py3-none-any.whl (58 kB)\n",
            "\u001b[2K     \u001b[90m━━━━━━━━━━━━━━━━━━━━━━━━━━━━━━━━━━━━━━━━\u001b[0m \u001b[32m58.3/58.3 KB\u001b[0m \u001b[31m8.8 MB/s\u001b[0m eta \u001b[36m0:00:00\u001b[0m\n",
            "\u001b[?25hRequirement already satisfied: click>=7.0 in /usr/local/lib/python3.9/dist-packages (from uvicorn->gradio) (8.1.3)\n",
            "Collecting anyio<5.0,>=3.0\n",
            "  Downloading anyio-3.6.2-py3-none-any.whl (80 kB)\n",
            "\u001b[2K     \u001b[90m━━━━━━━━━━━━━━━━━━━━━━━━━━━━━━━━━━━━━━━━\u001b[0m \u001b[32m80.6/80.6 KB\u001b[0m \u001b[31m12.5 MB/s\u001b[0m eta \u001b[36m0:00:00\u001b[0m\n",
            "\u001b[?25hRequirement already satisfied: zipp>=3.1.0 in /usr/local/lib/python3.9/dist-packages (from importlib-resources>=3.2.0->matplotlib->gradio) (3.15.0)\n",
            "Requirement already satisfied: pyrsistent!=0.17.0,!=0.17.1,!=0.17.2,>=0.14.0 in /usr/local/lib/python3.9/dist-packages (from jsonschema>=3.0->altair>=4.2.0->gradio) (0.19.3)\n",
            "Collecting uc-micro-py\n",
            "  Downloading uc_micro_py-1.0.1-py3-none-any.whl (6.2 kB)\n",
            "Requirement already satisfied: six>=1.5 in /usr/local/lib/python3.9/dist-packages (from python-dateutil>=2.8.1->pandas->gradio) (1.16.0)\n",
            "Building wheels for collected packages: ffmpy\n",
            "  Building wheel for ffmpy (setup.py) ... \u001b[?25l\u001b[?25hdone\n",
            "  Created wheel for ffmpy: filename=ffmpy-0.3.0-py3-none-any.whl size=4707 sha256=7d82513849b0b14d62873b9ebfd25ec02819bdbf86ebca46b3a0e8adf5f4f0bf\n",
            "  Stored in directory: /root/.cache/pip/wheels/91/e2/96/f676aa08bfd789328c6576cd0f1fde4a3d686703bb0c247697\n",
            "Successfully built ffmpy\n",
            "Installing collected packages: rfc3986, pydub, ffmpy, websockets, uc-micro-py, sniffio, semantic-version, python-multipart, orjson, h11, aiofiles, uvicorn, mdit-py-plugins, linkify-it-py, huggingface-hub, anyio, starlette, httpcore, gradio-client, httpx, fastapi, gradio\n",
            "Successfully installed aiofiles-23.1.0 anyio-3.6.2 fastapi-0.95.0 ffmpy-0.3.0 gradio-3.24.1 gradio-client-0.0.7 h11-0.14.0 httpcore-0.16.3 httpx-0.23.3 huggingface-hub-0.13.3 linkify-it-py-2.0.0 mdit-py-plugins-0.3.3 orjson-3.8.9 pydub-0.25.1 python-multipart-0.0.6 rfc3986-1.5.0 semantic-version-2.10.0 sniffio-1.3.0 starlette-0.26.1 uc-micro-py-1.0.1 uvicorn-0.21.1 websockets-11.0\n"
          ]
        }
      ]
    },
    {
      "cell_type": "code",
      "source": [
        "import os\n",
        "import openai\n",
        "import gradio\n",
        "\n",
        "openai.api_key = os.getenv(\"OPENAI_API_KEY\")\n",
        "\n",
        "messages = [{'role': 'system', 'content': 'Vocé um assistente que responde de maneira rude'}]\n",
        "\n",
        "def customChatGPT(input):\n",
        "  messages.append({'role': 'user', 'content': input})\n",
        "\n",
        "  response = openai.ChatCompletion.create(\n",
        "      model=\"gpt-3.5-turbo\",\n",
        "      messages=messages\n",
        "  )\n",
        "\n",
        "  output = response.choices[0]['message']['content']\n",
        "  messages.append({'role': 'assistant', 'content': output})\n",
        "  return output\n",
        "\n",
        "demo = gradio.Interface(fn=customChatGPT, inputs = 'text', outputs = 'text', title='Assistente Rude')  \n",
        "demo.launch(share=True)"
      ],
      "metadata": {
        "colab": {
          "base_uri": "https://localhost:8080/",
          "height": 614
        },
        "id": "FKT7kAeXOQyI",
        "outputId": "c9c7a3a5-09dd-4345-b724-fcd599d1d73c"
      },
      "execution_count": null,
      "outputs": [
        {
          "output_type": "stream",
          "name": "stdout",
          "text": [
            "Colab notebook detected. To show errors in colab notebook, set debug=True in launch()\n",
            "Running on public URL: https://6e9a99524ff07a9137.gradio.live\n",
            "\n",
            "This share link expires in 72 hours. For free permanent hosting and GPU upgrades (NEW!), check out Spaces: https://huggingface.co/spaces\n"
          ]
        },
        {
          "output_type": "display_data",
          "data": {
            "text/plain": [
              "<IPython.core.display.HTML object>"
            ],
            "text/html": [
              "<div><iframe src=\"https://6e9a99524ff07a9137.gradio.live\" width=\"100%\" height=\"500\" allow=\"autoplay; camera; microphone; clipboard-read; clipboard-write;\" frameborder=\"0\" allowfullscreen></iframe></div>"
            ]
          },
          "metadata": {}
        },
        {
          "output_type": "execute_result",
          "data": {
            "text/plain": []
          },
          "metadata": {},
          "execution_count": 57
        }
      ]
    },
    {
      "cell_type": "markdown",
      "source": [
        "**Gerador de Comandos Shell**"
      ],
      "metadata": {
        "id": "K8KN-38pUQxu"
      }
    },
    {
      "cell_type": "code",
      "source": [
        "import os\n",
        "import openai\n",
        "import re\n",
        "import subprocess\n",
        "\n",
        "openai.api_key = os.getenv(\"OPENAI_API_KEY\")\n",
        "\n",
        "def gerador_comando_shell(texto):\n",
        "   response = openai.Completion.create(\n",
        "      model=\"text-davinci-003\",\n",
        "      prompt=f\"Escreva um comando shell que faça o seguinte: {texto}\",\n",
        "      temperature=0.7,\n",
        "      max_tokens=100\n",
        "   )\n",
        "   \n",
        "   output = response.choices[0].text\n",
        "   output = re.sub(r'^\\s+', '', output)\n",
        "\n",
        "   return output\n",
        "\n",
        "def executar_comando_shell(comando):\n",
        "   try:\n",
        "     resultado = subprocess.run(comando, shell=True, check=True)  \n",
        "     print(resultado)\n",
        "   except subprocess.CalledProcessError as e:\n",
        "     print(e)  "
      ],
      "metadata": {
        "id": "7oZniURGUAf_"
      },
      "execution_count": null,
      "outputs": []
    },
    {
      "cell_type": "code",
      "source": [
        "comando = gerador_comando_shell('Crie uma pasta com o nome temp')\n",
        "print(comando)"
      ],
      "metadata": {
        "colab": {
          "base_uri": "https://localhost:8080/"
        },
        "id": "lmN55s-rUPiK",
        "outputId": "8b013833-68bd-4798-fecb-a62211034d9b"
      },
      "execution_count": null,
      "outputs": [
        {
          "output_type": "stream",
          "name": "stdout",
          "text": [
            "mkdir temp\n"
          ]
        }
      ]
    },
    {
      "cell_type": "code",
      "source": [
        "executar_comando_shell(comando)"
      ],
      "metadata": {
        "colab": {
          "base_uri": "https://localhost:8080/"
        },
        "id": "sN9QB7hzVOfh",
        "outputId": "78f79cdd-9987-45ee-954d-5839cfbbeae0"
      },
      "execution_count": null,
      "outputs": [
        {
          "output_type": "stream",
          "name": "stdout",
          "text": [
            "CompletedProcess(args='mkdir temp', returncode=0)\n"
          ]
        }
      ]
    },
    {
      "cell_type": "code",
      "source": [
        "comando = gerador_comando_shell('apague a pasta com o nome temp')\n",
        "executar_comando_shell(comando)"
      ],
      "metadata": {
        "colab": {
          "base_uri": "https://localhost:8080/"
        },
        "id": "5z0jY5ZCVhP_",
        "outputId": "95947e43-4577-4914-8903-fd42549c57a9"
      },
      "execution_count": null,
      "outputs": [
        {
          "output_type": "stream",
          "name": "stdout",
          "text": [
            "CompletedProcess(args='rm -r temp', returncode=0)\n"
          ]
        }
      ]
    },
    {
      "cell_type": "markdown",
      "source": [
        "**Gerador de Ideias de Receitas**"
      ],
      "metadata": {
        "id": "z5YVwfffVrlt"
      }
    },
    {
      "cell_type": "code",
      "source": [
        "import os\n",
        "import openai\n",
        "import re\n",
        "import subprocess\n",
        "\n",
        "openai.api_key = os.getenv(\"OPENAI_API_KEY\")\n",
        "\n",
        "def gerador_ideias_receitas(ingredientes):\n",
        "   response = openai.Completion.create(\n",
        "      model=\"text-davinci-003\",\n",
        "      prompt=f\"Crie uma receita com os seguintes ingredientes: {ingredientes}\",\n",
        "      temperature=0.7,\n",
        "      max_tokens=1000\n",
        "   )\n",
        "   \n",
        "   output = response.choices[0].text\n",
        "   output = re.sub(r'^\\s+', '', output)\n",
        "\n",
        "   return output"
      ],
      "metadata": {
        "id": "ONsVlDFXVtq6"
      },
      "execution_count": null,
      "outputs": []
    },
    {
      "cell_type": "code",
      "source": [
        "ingredientes = input(\"Quais ingredientes você tem: \")\n",
        "receita = gerador_ideias_receitas(ingredientes)\n",
        "print(f\"Receita: {receita}\")"
      ],
      "metadata": {
        "colab": {
          "base_uri": "https://localhost:8080/"
        },
        "id": "jwFSdnDsWNao",
        "outputId": "53dd31f8-8623-4922-b2ec-2de222fc6f3a"
      },
      "execution_count": null,
      "outputs": [
        {
          "output_type": "stream",
          "name": "stdout",
          "text": [
            "Quais ingredientes você tem: frango, cebola, pimentão\n",
            "Receita: Receita de Frango com Cebola e Pimentão\n",
            "\n",
            "Ingredientes:\n",
            "\n",
            "- 2 peitos de frango\n",
            "- 2 cebolas grandes\n",
            "- 2 pimentões\n",
            "- 2 colheres (sopa) de azeite\n",
            "- 1/2 xícara (chá) de vinho branco\n",
            "- 1/4 xícara (chá) de água\n",
            "- Sal e pimenta a gosto\n",
            "\n",
            "Modo de Preparo:\n",
            "\n",
            "1. Corte os peitos de frango em cubos, tempere-os com sal e pimenta e reserve.\n",
            "\n",
            "2. Corte a cebola em fatias finas e os pimentões em tiras.\n",
            "\n",
            "3. Em uma panela, aqueça o azeite e refogue a cebola até ficar transparente.\n",
            "\n",
            "4. Adicione os cubos de frango e refogue por alguns minutos.\n",
            "\n",
            "5. Em seguida, junte os pimentões e refogue por mais alguns minutos.\n",
            "\n",
            "6. Despeje o vinho branco e a água, deixe ferver por 10 minutos em fogo baixo.\n",
            "\n",
            "7. Desligue o fogo e sirva acompanhado de arroz branco.\n"
          ]
        }
      ]
    },
    {
      "cell_type": "markdown",
      "source": [
        "**Referência**:\n",
        "\n",
        "5 Projetos Que Criamos Usando a API ChatGPT Que Facilmente Viram Negócios / Startups\n",
        "\n",
        "https://www.youtube.com/watch?v=P6alV1-hydc\n",
        "     \n"
      ],
      "metadata": {
        "id": "1nRnzCORYS-F"
      }
    },
    {
      "cell_type": "code",
      "source": [
        "from IPython.display import YouTubeVideo \n",
        "\n",
        "display(YouTubeVideo('P6alV1-hydc', width=350, height=180))"
      ],
      "metadata": {
        "colab": {
          "base_uri": "https://localhost:8080/",
          "height": 201
        },
        "id": "dtX5clPKYiDk",
        "outputId": "c47cdd21-0a95-484b-bc65-15554d280725"
      },
      "execution_count": null,
      "outputs": [
        {
          "output_type": "display_data",
          "data": {
            "text/plain": [
              "<IPython.lib.display.YouTubeVideo at 0x7fd4fc5f5a30>"
            ],
            "text/html": [
              "\n",
              "        <iframe\n",
              "            width=\"350\"\n",
              "            height=\"180\"\n",
              "            src=\"https://www.youtube.com/embed/P6alV1-hydc\"\n",
              "            frameborder=\"0\"\n",
              "            allowfullscreen\n",
              "            \n",
              "        ></iframe>\n",
              "        "
            ],
            "image/jpeg": "[encoded data removed]"
          },
          "metadata": {}
        }
      ]
    },
    {
      "cell_type": "markdown",
      "source": [
        "**Moderação**"
      ],
      "metadata": {
        "id": "dVZdTuZsGM9I"
      }
    },
    {
      "cell_type": "markdown",
      "source": [
        "Se um texto for classificado como violador da política de conteúdo da OpenAI, o modelo irá produzir uma saída correspondente."
      ],
      "metadata": {
        "id": "RJDzzZF6GOwK"
      }
    },
    {
      "cell_type": "code",
      "source": [
        "import os\n",
        "import openai\n",
        "\n",
        "openai.api_key = os.getenv(\"OPENAI_API_KEY\")\n",
        "\n",
        "response = openai.Moderation.create(\n",
        "  input=\"I want to kill them.\",\n",
        ")\n",
        "\n",
        "print(response.results[0])"
      ],
      "metadata": {
        "colab": {
          "base_uri": "https://localhost:8080/"
        },
        "id": "oDiSRmYKFPvR",
        "outputId": "4871abf8-6bd2-4cbe-d160-de167af3b246"
      },
      "execution_count": null,
      "outputs": [
        {
          "output_type": "stream",
          "name": "stdout",
          "text": [
            "{\n",
            "  \"categories\": {\n",
            "    \"hate\": false,\n",
            "    \"hate/threatening\": false,\n",
            "    \"self-harm\": false,\n",
            "    \"sexual\": false,\n",
            "    \"sexual/minors\": false,\n",
            "    \"violence\": true,\n",
            "    \"violence/graphic\": false\n",
            "  },\n",
            "  \"category_scores\": {\n",
            "    \"hate\": 0.180674210190773,\n",
            "    \"hate/threatening\": 0.003288434585556388,\n",
            "    \"self-harm\": 1.8088556208439854e-09,\n",
            "    \"sexual\": 9.759669410414062e-07,\n",
            "    \"sexual/minors\": 1.3363569806301712e-08,\n",
            "    \"violence\": 0.8864424824714661,\n",
            "    \"violence/graphic\": 3.2010063932830235e-08\n",
            "  },\n",
            "  \"flagged\": true\n",
            "}\n"
          ]
        }
      ]
    },
    {
      "cell_type": "code",
      "source": [
        "print(response.results[0].flagged)"
      ],
      "metadata": {
        "colab": {
          "base_uri": "https://localhost:8080/"
        },
        "id": "bhOG2FDdGcuk",
        "outputId": "417355e5-ceba-43a2-b69f-7ca62722dfd8"
      },
      "execution_count": null,
      "outputs": [
        {
          "output_type": "stream",
          "name": "stdout",
          "text": [
            "True\n"
          ]
        }
      ]
    }
  ]
}